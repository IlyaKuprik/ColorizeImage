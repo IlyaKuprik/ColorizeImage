{
  "nbformat": 4,
  "nbformat_minor": 0,
  "metadata": {
    "accelerator": "GPU",
    "colab": {
      "name": "colorizator.ipynb",
      "provenance": [],
      "collapsed_sections": []
    },
    "kernelspec": {
      "display_name": "Python 3",
      "name": "python3"
    }
  },
  "cells": [
    {
      "cell_type": "code",
      "metadata": {
        "cellView": "code",
        "colab": {
          "base_uri": "https://localhost:8080/"
        },
        "id": "uzOEdt7IYiBp",
        "outputId": "36080f58-8168-49cb-a617-4dc64bca4283"
      },
      "source": [
        "#@title Текст заголовка по умолчанию\n",
        "from keras.layers import Conv2D, Conv2DTranspose, UpSampling2D\n",
        "from keras.layers import Activation, Dense, Dropout, Flatten, InputLayer\n",
        "from keras.layers.normalization import BatchNormalization\n",
        "from keras.callbacks import TensorBoard\n",
        "from keras.models import Sequential\n",
        "from keras.optimizers import Adam\n",
        "from keras.callbacks import *\n",
        "from keras.preprocessing.image import ImageDataGenerator, array_to_img, img_to_array, load_img\n",
        "from skimage.color import rgb2lab, lab2rgb, rgb2gray\n",
        "from skimage.transform import resize\n",
        "from skimage.io import imsave\n",
        "import numpy as np\n",
        "import os\n",
        "import seaborn as sns\n",
        "import random\n",
        "import tensorflow as tf\n",
        "import zipfile\n",
        "import matplotlib.pyplot as plt\n",
        "print(\"Libriaries loaded\")"
      ],
      "execution_count": null,
      "outputs": [
        {
          "output_type": "stream",
          "text": [
            "Libriaries loaded\n"
          ],
          "name": "stdout"
        }
      ]
    },
    {
      "cell_type": "code",
      "metadata": {
        "id": "fetb8Sbfksno"
      },
      "source": [
        "dataset_name = \"last_dataset\"\n",
        "photos = zipfile.ZipFile(\"/content/drive/My Drive/\" +  dataset_name + \".zip\",'r')\n",
        "photos.extractall(\"input/train/\");\n",
        "tests_photos = zipfile.ZipFile(\"/content/drive/My Drive/test.zip\",'r')\n",
        "tests_photos.extractall(\"input/\")\n",
        "if not os.path.exists(\"result\"):\n",
        "   os.mkdir(\"result\")"
      ],
      "execution_count": null,
      "outputs": []
    },
    {
      "cell_type": "code",
      "metadata": {
        "colab": {
          "base_uri": "https://localhost:8080/"
        },
        "id": "gVB3d9uNZEjh",
        "outputId": "b5f7883b-b204-4304-9248-1cfff55c06a4"
      },
      "source": [
        "# Get images\n",
        "\n",
        "inputh_shape = (128,128)\n",
        "path = \"/content/input/train/\" + dataset_name + \"/\"\n",
        "X = [] \n",
        "cnt = 0\n",
        "for name in os.listdir(path):\n",
        "    image = img_to_array(load_img(path + name))\n",
        "    X.append(image)\n",
        "    cnt += 1 \n",
        "X = np.array(X, dtype=float)\n",
        "split = int(0.95*len(X))\n",
        "Xtrain = X[:split]\n",
        "Xtrain = 1.0/255*Xtrain\n",
        "print(\"Data is loaded.\")\n",
        "print(cnt,\"img loaded.\")"
      ],
      "execution_count": null,
      "outputs": [
        {
          "output_type": "stream",
          "text": [
            "Data is loaded.\n",
            "3328 img loaded.\n"
          ],
          "name": "stdout"
        }
      ]
    },
    {
      "cell_type": "code",
      "metadata": {
        "id": "od0nKeGqFLTu"
      },
      "source": [
        "Xtest = rgb2lab(X[split:])[:,:,:,0]\n",
        "Xtest = Xtest.reshape(Xtest.shape+(1,))\n",
        "Ytest = rgb2lab(X[split:])[:,:,:,1:]\n",
        "Ytest = Ytest / 128"
      ],
      "execution_count": null,
      "outputs": []
    },
    {
      "cell_type": "code",
      "metadata": {
        "colab": {
          "base_uri": "https://localhost:8080/"
        },
        "id": "YncvE6l9bb6W",
        "outputId": "a5bb50f9-fb77-4fec-ff01-d6f04984f71a"
      },
      "source": [
        "model = Sequential()\n",
        "model.add(InputLayer(input_shape=(None, None, 1)))\n",
        "model.add(Conv2D(64, (3, 3), activation='relu', padding='same'))\n",
        "model.add(Conv2D(64, (3, 3), activation='relu', padding='same', strides=2))\n",
        "model.add(Conv2D(128, (3, 3), activation='relu', padding='same'))\n",
        "model.add(Conv2D(128, (3, 3), activation='relu', padding='same', strides=2))\n",
        "model.add(Conv2D(256, (3, 3), activation='relu', padding='same'))\n",
        "model.add(Conv2D(256, (3, 3), activation='relu', padding='same', strides=2))\n",
        "model.add(Conv2D(512, (3, 3), activation='relu', padding='same'))\n",
        "model.add(Conv2D(256, (3, 3), activation='relu', padding='same'))\n",
        "model.add(Conv2D(128, (3, 3), activation='relu', padding='same'))\n",
        "model.add(UpSampling2D((2, 2)))\n",
        "model.add(Conv2D(64, (3, 3), activation='relu', padding='same'))\n",
        "model.add(UpSampling2D((2, 2)))\n",
        "model.add(Conv2D(32, (3, 3), activation='relu', padding='same'))\n",
        "model.add(Conv2D(2, (3, 3), activation='tanh', padding='same'))\n",
        "model.add(UpSampling2D((2, 2)))\n",
        "metrics = ['mse','mae','mape', \"mean_squared_logarithmic_error\", \"cosine_similarity\", tf.keras.losses.Huber(),tf.keras.losses.LogCosh()]\n",
        "model.compile(optimizer='rmsprop', loss= \"mse\", metrics = [\"accuracy\"])\n",
        "print(\"Model is built\")"
      ],
      "execution_count": null,
      "outputs": [
        {
          "output_type": "stream",
          "text": [
            "Model is built\n"
          ],
          "name": "stdout"
        }
      ]
    },
    {
      "cell_type": "code",
      "metadata": {
        "id": "YhYsmejAES0H"
      },
      "source": [
        "history = History()"
      ],
      "execution_count": null,
      "outputs": []
    },
    {
      "cell_type": "code",
      "metadata": {
        "id": "N1Kc5MOiT3DX"
      },
      "source": [
        "def colorizeImage(img_path, shape = None, epoch = -1):\n",
        "  image = img_to_array(load_img(img_path))\n",
        "  if shape == None:\n",
        "    shape = image.shape\n",
        "    shape = (shape[0] + (8 - shape[0]%8)%8,shape[1] + (8 - shape[1]%8)%8)\n",
        "  image = resize(image,shape,mode = \"reflect\",anti_aliasing = True)\n",
        "  image = np.array(image, dtype=float)\n",
        "  Xt = rgb2lab(1.0/255*image)[:,:,0]\n",
        "  Xt = Xt.reshape(1, *shape, 1)\n",
        "  out = model.predict(Xt)\n",
        "  out *= 128\n",
        "  cur = np.zeros((*shape , 3))\n",
        "  print(cur.shape)\n",
        "  cur[:,:,0] = Xt[0][:,:,0]\n",
        "  cur[:,:,1:] = out[0]\n",
        "  if not os.path.exists(\"/content/drive/MyDrive/finish_model/epoch_\" + str(epoch)):\n",
        "        os.mkdir(\"/content/drive/MyDrive/finish_model/epoch_\" + str(epoch))\n",
        "  if epoch != -1:\n",
        "    imsave(\"/content/drive/MyDrive/finish_model/epoch_\" + str(epoch) + '/' + str(epoch) + img_path.split('/')[-1], lab2rgb(cur))\n",
        "  if epoch == -1:\n",
        "    imsave(\"result/\" + img_path.split('/')[-1], lab2rgb(cur))"
      ],
      "execution_count": null,
      "outputs": []
    },
    {
      "cell_type": "code",
      "metadata": {
        "id": "KnbngTholyq1"
      },
      "source": [
        "if not os.path.exists(\"result\"):\r\n",
        "        os.mkdir(\"result\")\r\n",
        "if not os.path.exists(\"result/models\"):\r\n",
        "        os.mkdir(\"result/models\")\r\n",
        "class CustomSaver(Callback):\r\n",
        "    def on_epoch_end(self, epoch, logs={}):\r\n",
        "        if epoch % 10 == 0:  # or save after some epoch, each k-th epoch etc.\r\n",
        "            self.model.save_weights(f\"/content/drive/MyDrive/finish_model/weights/model_{epoch}.h5\")\r\n",
        "            for name in os.listdir('/content/input/test/'):\r\n",
        "                colorizeImage('/content/input/test/' + name,epoch = epoch)"
      ],
      "execution_count": null,
      "outputs": []
    },
    {
      "cell_type": "code",
      "metadata": {
        "colab": {
          "base_uri": "https://localhost:8080/"
        },
        "id": "hUjt7lrMbpk6",
        "outputId": "11217e06-0faa-43c2-e689-a124a1bbfe83"
      },
      "source": [
        "datagen = ImageDataGenerator(\n",
        "        shear_range=0.2,\n",
        "        zoom_range=0.2,\n",
        "        rotation_range=20,\n",
        "        horizontal_flip=True)\n",
        "batch_size = 100\n",
        "epochs_size = 1000 \n",
        "def image_a_b_gen(batch_size):\n",
        "    for batch in datagen.flow(Xtrain, batch_size=batch_size):\n",
        "        lab_batch = rgb2lab(batch)\n",
        "        X_batch = lab_batch[:,:,:,0]\n",
        "        Y_batch = lab_batch[:,:,:,1:] / 128\n",
        "        yield (X_batch.reshape(X_batch.shape+(1,)), Y_batch)\n",
        "        \n",
        "saver = CustomSaver()        \n",
        "model.fit_generator(image_a_b_gen(batch_size),\n",
        "                    callbacks=[saver, history],\n",
        "                    epochs=epochs_size,\n",
        "                    steps_per_epoch= len(Xtrain) // batch_size,\n",
        "                    validation_data=(Xtest,Ytest))"
      ],
      "execution_count": null,
      "outputs": [
        {
          "output_type": "stream",
          "text": [
            "WARNING:tensorflow:From <ipython-input-9-14ef3b72b405>:20: Model.fit_generator (from tensorflow.python.keras.engine.training) is deprecated and will be removed in a future version.\n",
            "Instructions for updating:\n",
            "Please use Model.fit, which supports generators.\n",
            "Epoch 1/1000\n",
            " 2/31 [>.............................] - ETA: 4s - loss: 0.4856 - accuracy: 0.5351WARNING:tensorflow:Callbacks method `on_train_batch_end` is slow compared to the batch time (batch time: 0.0918s vs `on_train_batch_end` time: 0.1923s). Check your callbacks.\n",
            "31/31 [==============================] - ETA: 0s - loss: 0.9269 - accuracy: 0.6129"
          ],
          "name": "stdout"
        },
        {
          "output_type": "stream",
          "text": [
            "/usr/local/lib/python3.6/dist-packages/skimage/color/colorconv.py:1068: UserWarning: Color data out of range: Z < 0 in 209428 pixels\n",
            "  return xyz2rgb(lab2xyz(lab, illuminant, observer))\n",
            "WARNING:root:Lossy conversion from float64 to uint8. Range [0, 1]. Convert image to uint8 prior to saving to suppress this warning.\n"
          ],
          "name": "stderr"
        },
        {
          "output_type": "stream",
          "text": [
            "(512, 768, 3)\n",
            "(800, 1088, 3)\n"
          ],
          "name": "stdout"
        },
        {
          "output_type": "stream",
          "text": [
            "/usr/local/lib/python3.6/dist-packages/skimage/color/colorconv.py:1068: UserWarning: Color data out of range: Z < 0 in 215413 pixels\n",
            "  return xyz2rgb(lab2xyz(lab, illuminant, observer))\n",
            "WARNING:root:Lossy conversion from float64 to uint8. Range [0, 1]. Convert image to uint8 prior to saving to suppress this warning.\n"
          ],
          "name": "stderr"
        },
        {
          "output_type": "stream",
          "text": [
            "(856, 1280, 3)\n"
          ],
          "name": "stdout"
        },
        {
          "output_type": "stream",
          "text": [
            "/usr/local/lib/python3.6/dist-packages/skimage/color/colorconv.py:1068: UserWarning: Color data out of range: Z < 0 in 628665 pixels\n",
            "  return xyz2rgb(lab2xyz(lab, illuminant, observer))\n",
            "WARNING:root:Lossy conversion from float64 to uint8. Range [0, 1]. Convert image to uint8 prior to saving to suppress this warning.\n",
            "/usr/local/lib/python3.6/dist-packages/skimage/color/colorconv.py:1068: UserWarning: Color data out of range: Z < 0 in 216913 pixels\n",
            "  return xyz2rgb(lab2xyz(lab, illuminant, observer))\n",
            "WARNING:root:Lossy conversion from float64 to uint8. Range [0, 1]. Convert image to uint8 prior to saving to suppress this warning.\n"
          ],
          "name": "stderr"
        },
        {
          "output_type": "stream",
          "text": [
            "(528, 736, 3)\n",
            "(856, 1280, 3)\n"
          ],
          "name": "stdout"
        },
        {
          "output_type": "stream",
          "text": [
            "/usr/local/lib/python3.6/dist-packages/skimage/color/colorconv.py:1068: UserWarning: Color data out of range: Z < 0 in 1020754 pixels\n",
            "  return xyz2rgb(lab2xyz(lab, illuminant, observer))\n",
            "WARNING:root:Lossy conversion from float64 to uint8. Range [0, 1]. Convert image to uint8 prior to saving to suppress this warning.\n"
          ],
          "name": "stderr"
        },
        {
          "output_type": "stream",
          "text": [
            "(1400, 1400, 3)\n"
          ],
          "name": "stdout"
        },
        {
          "output_type": "stream",
          "text": [
            "/usr/local/lib/python3.6/dist-packages/skimage/color/colorconv.py:1068: UserWarning: Color data out of range: Z < 0 in 1653288 pixels\n",
            "  return xyz2rgb(lab2xyz(lab, illuminant, observer))\n",
            "WARNING:root:Lossy conversion from float64 to uint8. Range [0, 1]. Convert image to uint8 prior to saving to suppress this warning.\n"
          ],
          "name": "stderr"
        },
        {
          "output_type": "stream",
          "text": [
            "(664, 1024, 3)\n"
          ],
          "name": "stdout"
        },
        {
          "output_type": "stream",
          "text": [
            "/usr/local/lib/python3.6/dist-packages/skimage/color/colorconv.py:1068: UserWarning: Color data out of range: Z < 0 in 160514 pixels\n",
            "  return xyz2rgb(lab2xyz(lab, illuminant, observer))\n",
            "WARNING:root:Lossy conversion from float64 to uint8. Range [0, 1]. Convert image to uint8 prior to saving to suppress this warning.\n"
          ],
          "name": "stderr"
        },
        {
          "output_type": "stream",
          "text": [
            "(776, 1024, 3)\n"
          ],
          "name": "stdout"
        },
        {
          "output_type": "stream",
          "text": [
            "/usr/local/lib/python3.6/dist-packages/skimage/color/colorconv.py:1068: UserWarning: Color data out of range: Z < 0 in 503259 pixels\n",
            "  return xyz2rgb(lab2xyz(lab, illuminant, observer))\n",
            "WARNING:root:Lossy conversion from float64 to uint8. Range [0, 1]. Convert image to uint8 prior to saving to suppress this warning.\n"
          ],
          "name": "stderr"
        },
        {
          "output_type": "stream",
          "text": [
            "(856, 1280, 3)\n"
          ],
          "name": "stdout"
        },
        {
          "output_type": "stream",
          "text": [
            "/usr/local/lib/python3.6/dist-packages/skimage/color/colorconv.py:1068: UserWarning: Color data out of range: Z < 0 in 837593 pixels\n",
            "  return xyz2rgb(lab2xyz(lab, illuminant, observer))\n",
            "WARNING:root:Lossy conversion from float64 to uint8. Range [0, 1]. Convert image to uint8 prior to saving to suppress this warning.\n",
            "/usr/local/lib/python3.6/dist-packages/skimage/color/colorconv.py:1068: UserWarning: Color data out of range: Z < 0 in 151446 pixels\n",
            "  return xyz2rgb(lab2xyz(lab, illuminant, observer))\n",
            "WARNING:root:Lossy conversion from float64 to uint8. Range [0, 1]. Convert image to uint8 prior to saving to suppress this warning.\n"
          ],
          "name": "stderr"
        },
        {
          "output_type": "stream",
          "text": [
            "(424, 640, 3)\n",
            "(984, 1176, 3)\n"
          ],
          "name": "stdout"
        },
        {
          "output_type": "stream",
          "text": [
            "/usr/local/lib/python3.6/dist-packages/skimage/color/colorconv.py:1068: UserWarning: Color data out of range: Z < 0 in 539014 pixels\n",
            "  return xyz2rgb(lab2xyz(lab, illuminant, observer))\n",
            "WARNING:root:Lossy conversion from float64 to uint8. Range [0, 1]. Convert image to uint8 prior to saving to suppress this warning.\n",
            "/usr/local/lib/python3.6/dist-packages/skimage/color/colorconv.py:1068: UserWarning: Color data out of range: Z < 0 in 285286 pixels\n",
            "  return xyz2rgb(lab2xyz(lab, illuminant, observer))\n",
            "WARNING:root:Lossy conversion from float64 to uint8. Range [0, 1]. Convert image to uint8 prior to saving to suppress this warning.\n"
          ],
          "name": "stderr"
        },
        {
          "output_type": "stream",
          "text": [
            "(512, 768, 3)\n",
            "(856, 1280, 3)\n"
          ],
          "name": "stdout"
        },
        {
          "output_type": "stream",
          "text": [
            "/usr/local/lib/python3.6/dist-packages/skimage/color/colorconv.py:1068: UserWarning: Color data out of range: Z < 0 in 656280 pixels\n",
            "  return xyz2rgb(lab2xyz(lab, illuminant, observer))\n",
            "WARNING:root:Lossy conversion from float64 to uint8. Range [0, 1]. Convert image to uint8 prior to saving to suppress this warning.\n"
          ],
          "name": "stderr"
        },
        {
          "output_type": "stream",
          "text": [
            "\b\b\b\b\b\b\b\b\b\b\b\b\b\b\b\b\b\b\b\b\b\b\b\b\b\b\b\b\b\b\b\b\b\b\b\b\b\b\b\b\b\b\b\b\b\b\b\b\b\b\b\b\b\b\b\b\b\b\b\b\b\b\b\b\b\b\b\b\b\b\b\b\b\b\b\b\b\b\b\b\b\b\r31/31 [==============================] - 46s 1s/step - loss: 0.9269 - accuracy: 0.6129 - val_loss: 177.1274 - val_accuracy: 0.6406\n",
            "Epoch 2/1000\n",
            "31/31 [==============================] - 23s 748ms/step - loss: 0.9483 - accuracy: 0.6361 - val_loss: 177.1201 - val_accuracy: 0.6408\n",
            "Epoch 3/1000\n",
            "31/31 [==============================] - 24s 761ms/step - loss: 0.9482 - accuracy: 0.6419 - val_loss: 177.3902 - val_accuracy: 0.6363\n",
            "Epoch 4/1000\n",
            "31/31 [==============================] - 24s 758ms/step - loss: 0.9486 - accuracy: 0.6431 - val_loss: 177.3943 - val_accuracy: 0.6362\n",
            "Epoch 5/1000\n",
            "31/31 [==============================] - 23s 757ms/step - loss: 0.9495 - accuracy: 0.6401 - val_loss: 177.3943 - val_accuracy: 0.6362\n",
            "Epoch 6/1000\n",
            "31/31 [==============================] - 24s 770ms/step - loss: 0.7011 - accuracy: 0.5937 - val_loss: 181.9407 - val_accuracy: 0.6273\n",
            "Epoch 7/1000\n",
            "31/31 [==============================] - 24s 770ms/step - loss: 0.0204 - accuracy: 0.6054 - val_loss: 179.6945 - val_accuracy: 0.6363\n",
            "Epoch 8/1000\n",
            "31/31 [==============================] - 24s 768ms/step - loss: 0.0195 - accuracy: 0.6277 - val_loss: 179.6220 - val_accuracy: 0.6345\n",
            "Epoch 9/1000\n",
            "31/31 [==============================] - 24s 760ms/step - loss: 0.0200 - accuracy: 0.6406 - val_loss: 180.3761 - val_accuracy: 0.6372\n",
            "Epoch 10/1000\n",
            "31/31 [==============================] - 24s 766ms/step - loss: 0.0193 - accuracy: 0.6579 - val_loss: 178.8257 - val_accuracy: 0.5814\n",
            "Epoch 11/1000\n",
            "31/31 [==============================] - ETA: 0s - loss: 0.0185 - accuracy: 0.6393(512, 768, 3)\n"
          ],
          "name": "stdout"
        },
        {
          "output_type": "stream",
          "text": [
            "WARNING:root:Lossy conversion from float64 to uint8. Range [0, 1]. Convert image to uint8 prior to saving to suppress this warning.\n"
          ],
          "name": "stderr"
        },
        {
          "output_type": "stream",
          "text": [
            "(800, 1088, 3)\n"
          ],
          "name": "stdout"
        },
        {
          "output_type": "stream",
          "text": [
            "WARNING:root:Lossy conversion from float64 to uint8. Range [0, 1]. Convert image to uint8 prior to saving to suppress this warning.\n"
          ],
          "name": "stderr"
        },
        {
          "output_type": "stream",
          "text": [
            "(856, 1280, 3)\n"
          ],
          "name": "stdout"
        },
        {
          "output_type": "stream",
          "text": [
            "WARNING:root:Lossy conversion from float64 to uint8. Range [0, 1]. Convert image to uint8 prior to saving to suppress this warning.\n",
            "WARNING:root:Lossy conversion from float64 to uint8. Range [0, 1]. Convert image to uint8 prior to saving to suppress this warning.\n"
          ],
          "name": "stderr"
        },
        {
          "output_type": "stream",
          "text": [
            "(528, 736, 3)\n",
            "(856, 1280, 3)\n"
          ],
          "name": "stdout"
        },
        {
          "output_type": "stream",
          "text": [
            "WARNING:root:Lossy conversion from float64 to uint8. Range [0, 1]. Convert image to uint8 prior to saving to suppress this warning.\n"
          ],
          "name": "stderr"
        },
        {
          "output_type": "stream",
          "text": [
            "(1400, 1400, 3)\n"
          ],
          "name": "stdout"
        },
        {
          "output_type": "stream",
          "text": [
            "WARNING:root:Lossy conversion from float64 to uint8. Range [0, 1]. Convert image to uint8 prior to saving to suppress this warning.\n"
          ],
          "name": "stderr"
        },
        {
          "output_type": "stream",
          "text": [
            "(664, 1024, 3)\n"
          ],
          "name": "stdout"
        },
        {
          "output_type": "stream",
          "text": [
            "WARNING:root:Lossy conversion from float64 to uint8. Range [0, 1]. Convert image to uint8 prior to saving to suppress this warning.\n"
          ],
          "name": "stderr"
        },
        {
          "output_type": "stream",
          "text": [
            "(776, 1024, 3)\n"
          ],
          "name": "stdout"
        },
        {
          "output_type": "stream",
          "text": [
            "WARNING:root:Lossy conversion from float64 to uint8. Range [0, 1]. Convert image to uint8 prior to saving to suppress this warning.\n"
          ],
          "name": "stderr"
        },
        {
          "output_type": "stream",
          "text": [
            "(856, 1280, 3)\n"
          ],
          "name": "stdout"
        },
        {
          "output_type": "stream",
          "text": [
            "WARNING:root:Lossy conversion from float64 to uint8. Range [0, 1]. Convert image to uint8 prior to saving to suppress this warning.\n",
            "WARNING:root:Lossy conversion from float64 to uint8. Range [0, 1]. Convert image to uint8 prior to saving to suppress this warning.\n"
          ],
          "name": "stderr"
        },
        {
          "output_type": "stream",
          "text": [
            "(424, 640, 3)\n",
            "(984, 1176, 3)\n"
          ],
          "name": "stdout"
        },
        {
          "output_type": "stream",
          "text": [
            "WARNING:root:Lossy conversion from float64 to uint8. Range [0, 1]. Convert image to uint8 prior to saving to suppress this warning.\n"
          ],
          "name": "stderr"
        },
        {
          "output_type": "stream",
          "text": [
            "(512, 768, 3)\n"
          ],
          "name": "stdout"
        },
        {
          "output_type": "stream",
          "text": [
            "WARNING:root:Lossy conversion from float64 to uint8. Range [0, 1]. Convert image to uint8 prior to saving to suppress this warning.\n"
          ],
          "name": "stderr"
        },
        {
          "output_type": "stream",
          "text": [
            "(856, 1280, 3)\n"
          ],
          "name": "stdout"
        },
        {
          "output_type": "stream",
          "text": [
            "WARNING:root:Lossy conversion from float64 to uint8. Range [0, 1]. Convert image to uint8 prior to saving to suppress this warning.\n"
          ],
          "name": "stderr"
        },
        {
          "output_type": "stream",
          "text": [
            "\b\b\b\b\b\b\b\b\b\b\b\b\b\b\b\b\b\b\b\b\b\b\b\b\b\b\b\b\b\b\b\b\b\b\b\b\b\b\b\b\b\b\b\b\b\b\b\b\b\b\b\b\b\b\b\b\b\b\b\b\b\b\b\b\b\b\b\b\b\b\b\b\b\b\b\b\b\b\b\b\b\b\r31/31 [==============================] - 38s 1s/step - loss: 0.0185 - accuracy: 0.6393 - val_loss: 180.1958 - val_accuracy: 0.5859\n",
            "Epoch 12/1000\n",
            "31/31 [==============================] - 24s 780ms/step - loss: 0.0198 - accuracy: 0.6520 - val_loss: 182.3600 - val_accuracy: 0.4436\n",
            "Epoch 13/1000\n",
            "31/31 [==============================] - 25s 793ms/step - loss: 0.0196 - accuracy: 0.6511 - val_loss: 181.0389 - val_accuracy: 0.4524\n",
            "Epoch 14/1000\n",
            "31/31 [==============================] - 24s 775ms/step - loss: 0.0193 - accuracy: 0.6457 - val_loss: 179.0234 - val_accuracy: 0.5318\n",
            "Epoch 15/1000\n",
            "31/31 [==============================] - 24s 775ms/step - loss: 0.0184 - accuracy: 0.6551 - val_loss: 177.4681 - val_accuracy: 0.6508\n",
            "Epoch 16/1000\n",
            "31/31 [==============================] - 24s 779ms/step - loss: 0.0190 - accuracy: 0.6541 - val_loss: 181.5390 - val_accuracy: 0.4360\n",
            "Epoch 17/1000\n",
            "31/31 [==============================] - 24s 761ms/step - loss: 0.0182 - accuracy: 0.6628 - val_loss: 185.5538 - val_accuracy: 0.3768\n",
            "Epoch 18/1000\n",
            "31/31 [==============================] - 23s 758ms/step - loss: 0.0191 - accuracy: 0.6445 - val_loss: 182.0815 - val_accuracy: 0.4849\n",
            "Epoch 19/1000\n",
            "31/31 [==============================] - 23s 751ms/step - loss: 0.0171 - accuracy: 0.6980 - val_loss: 180.1907 - val_accuracy: 0.5001\n",
            "Epoch 20/1000\n",
            "31/31 [==============================] - 23s 744ms/step - loss: 0.0175 - accuracy: 0.6885 - val_loss: 183.4301 - val_accuracy: 0.3699\n",
            "Epoch 21/1000\n",
            "31/31 [==============================] - ETA: 0s - loss: 0.0164 - accuracy: 0.7028(512, 768, 3)\n"
          ],
          "name": "stdout"
        },
        {
          "output_type": "stream",
          "text": [
            "WARNING:root:Lossy conversion from float64 to uint8. Range [0, 1]. Convert image to uint8 prior to saving to suppress this warning.\n"
          ],
          "name": "stderr"
        },
        {
          "output_type": "stream",
          "text": [
            "(800, 1088, 3)\n"
          ],
          "name": "stdout"
        },
        {
          "output_type": "stream",
          "text": [
            "WARNING:root:Lossy conversion from float64 to uint8. Range [0, 1]. Convert image to uint8 prior to saving to suppress this warning.\n"
          ],
          "name": "stderr"
        },
        {
          "output_type": "stream",
          "text": [
            "(856, 1280, 3)\n"
          ],
          "name": "stdout"
        },
        {
          "output_type": "stream",
          "text": [
            "WARNING:root:Lossy conversion from float64 to uint8. Range [0, 1]. Convert image to uint8 prior to saving to suppress this warning.\n",
            "WARNING:root:Lossy conversion from float64 to uint8. Range [0, 1]. Convert image to uint8 prior to saving to suppress this warning.\n"
          ],
          "name": "stderr"
        },
        {
          "output_type": "stream",
          "text": [
            "(528, 736, 3)\n",
            "(856, 1280, 3)\n"
          ],
          "name": "stdout"
        },
        {
          "output_type": "stream",
          "text": [
            "WARNING:root:Lossy conversion from float64 to uint8. Range [0, 1]. Convert image to uint8 prior to saving to suppress this warning.\n"
          ],
          "name": "stderr"
        },
        {
          "output_type": "stream",
          "text": [
            "(1400, 1400, 3)\n"
          ],
          "name": "stdout"
        },
        {
          "output_type": "stream",
          "text": [
            "WARNING:root:Lossy conversion from float64 to uint8. Range [0, 1]. Convert image to uint8 prior to saving to suppress this warning.\n"
          ],
          "name": "stderr"
        },
        {
          "output_type": "stream",
          "text": [
            "(664, 1024, 3)\n"
          ],
          "name": "stdout"
        },
        {
          "output_type": "stream",
          "text": [
            "WARNING:root:Lossy conversion from float64 to uint8. Range [0, 1]. Convert image to uint8 prior to saving to suppress this warning.\n"
          ],
          "name": "stderr"
        },
        {
          "output_type": "stream",
          "text": [
            "(776, 1024, 3)\n"
          ],
          "name": "stdout"
        },
        {
          "output_type": "stream",
          "text": [
            "WARNING:root:Lossy conversion from float64 to uint8. Range [0, 1]. Convert image to uint8 prior to saving to suppress this warning.\n"
          ],
          "name": "stderr"
        },
        {
          "output_type": "stream",
          "text": [
            "(856, 1280, 3)\n"
          ],
          "name": "stdout"
        },
        {
          "output_type": "stream",
          "text": [
            "WARNING:root:Lossy conversion from float64 to uint8. Range [0, 1]. Convert image to uint8 prior to saving to suppress this warning.\n",
            "WARNING:root:Lossy conversion from float64 to uint8. Range [0, 1]. Convert image to uint8 prior to saving to suppress this warning.\n"
          ],
          "name": "stderr"
        },
        {
          "output_type": "stream",
          "text": [
            "(424, 640, 3)\n",
            "(984, 1176, 3)\n"
          ],
          "name": "stdout"
        },
        {
          "output_type": "stream",
          "text": [
            "WARNING:root:Lossy conversion from float64 to uint8. Range [0, 1]. Convert image to uint8 prior to saving to suppress this warning.\n",
            "WARNING:root:Lossy conversion from float64 to uint8. Range [0, 1]. Convert image to uint8 prior to saving to suppress this warning.\n"
          ],
          "name": "stderr"
        },
        {
          "output_type": "stream",
          "text": [
            "(512, 768, 3)\n",
            "(856, 1280, 3)\n"
          ],
          "name": "stdout"
        },
        {
          "output_type": "stream",
          "text": [
            "WARNING:root:Lossy conversion from float64 to uint8. Range [0, 1]. Convert image to uint8 prior to saving to suppress this warning.\n"
          ],
          "name": "stderr"
        },
        {
          "output_type": "stream",
          "text": [
            "\b\b\b\b\b\b\b\b\b\b\b\b\b\b\b\b\b\b\b\b\b\b\b\b\b\b\b\b\b\b\b\b\b\b\b\b\b\b\b\b\b\b\b\b\b\b\b\b\b\b\b\b\b\b\b\b\b\b\b\b\b\b\b\b\b\b\b\b\b\b\b\b\b\b\b\b\b\b\b\b\b\b\r31/31 [==============================] - 37s 1s/step - loss: 0.0164 - accuracy: 0.7028 - val_loss: 181.1857 - val_accuracy: 0.4897\n",
            "Epoch 22/1000\n",
            "31/31 [==============================] - 23s 749ms/step - loss: 0.0155 - accuracy: 0.7093 - val_loss: 180.2427 - val_accuracy: 0.4746\n",
            "Epoch 23/1000\n",
            "31/31 [==============================] - 23s 749ms/step - loss: 0.0162 - accuracy: 0.7061 - val_loss: 177.3427 - val_accuracy: 0.5330\n",
            "Epoch 24/1000\n",
            "31/31 [==============================] - 23s 740ms/step - loss: 0.0156 - accuracy: 0.7092 - val_loss: 177.0148 - val_accuracy: 0.6915\n",
            "Epoch 25/1000\n",
            "31/31 [==============================] - 23s 752ms/step - loss: 0.0152 - accuracy: 0.7121 - val_loss: 177.1548 - val_accuracy: 0.7186\n",
            "Epoch 26/1000\n",
            "31/31 [==============================] - 24s 775ms/step - loss: 0.0145 - accuracy: 0.7209 - val_loss: 179.8577 - val_accuracy: 0.5792\n",
            "Epoch 27/1000\n",
            "31/31 [==============================] - 24s 785ms/step - loss: 0.0145 - accuracy: 0.7177 - val_loss: 176.5792 - val_accuracy: 0.6652\n",
            "Epoch 28/1000\n",
            "31/31 [==============================] - 24s 773ms/step - loss: 0.0138 - accuracy: 0.7241 - val_loss: 176.6405 - val_accuracy: 0.7148\n",
            "Epoch 29/1000\n",
            "31/31 [==============================] - 24s 771ms/step - loss: 0.0140 - accuracy: 0.7227 - val_loss: 178.7301 - val_accuracy: 0.6021\n",
            "Epoch 30/1000\n",
            "31/31 [==============================] - 24s 766ms/step - loss: 0.0137 - accuracy: 0.7241 - val_loss: 179.1490 - val_accuracy: 0.6028\n",
            "Epoch 31/1000\n",
            "31/31 [==============================] - ETA: 0s - loss: 0.0135 - accuracy: 0.7214(512, 768, 3)\n"
          ],
          "name": "stdout"
        },
        {
          "output_type": "stream",
          "text": [
            "WARNING:root:Lossy conversion from float64 to uint8. Range [0, 1]. Convert image to uint8 prior to saving to suppress this warning.\n"
          ],
          "name": "stderr"
        },
        {
          "output_type": "stream",
          "text": [
            "(800, 1088, 3)\n"
          ],
          "name": "stdout"
        },
        {
          "output_type": "stream",
          "text": [
            "WARNING:root:Lossy conversion from float64 to uint8. Range [0, 1]. Convert image to uint8 prior to saving to suppress this warning.\n"
          ],
          "name": "stderr"
        },
        {
          "output_type": "stream",
          "text": [
            "(856, 1280, 3)\n"
          ],
          "name": "stdout"
        },
        {
          "output_type": "stream",
          "text": [
            "WARNING:root:Lossy conversion from float64 to uint8. Range [0, 1]. Convert image to uint8 prior to saving to suppress this warning.\n",
            "WARNING:root:Lossy conversion from float64 to uint8. Range [0, 1]. Convert image to uint8 prior to saving to suppress this warning.\n"
          ],
          "name": "stderr"
        },
        {
          "output_type": "stream",
          "text": [
            "(528, 736, 3)\n",
            "(856, 1280, 3)\n"
          ],
          "name": "stdout"
        },
        {
          "output_type": "stream",
          "text": [
            "WARNING:root:Lossy conversion from float64 to uint8. Range [0, 1]. Convert image to uint8 prior to saving to suppress this warning.\n"
          ],
          "name": "stderr"
        },
        {
          "output_type": "stream",
          "text": [
            "(1400, 1400, 3)\n"
          ],
          "name": "stdout"
        },
        {
          "output_type": "stream",
          "text": [
            "WARNING:root:Lossy conversion from float64 to uint8. Range [0, 1]. Convert image to uint8 prior to saving to suppress this warning.\n"
          ],
          "name": "stderr"
        },
        {
          "output_type": "stream",
          "text": [
            "(664, 1024, 3)\n"
          ],
          "name": "stdout"
        },
        {
          "output_type": "stream",
          "text": [
            "WARNING:root:Lossy conversion from float64 to uint8. Range [0, 1]. Convert image to uint8 prior to saving to suppress this warning.\n"
          ],
          "name": "stderr"
        },
        {
          "output_type": "stream",
          "text": [
            "(776, 1024, 3)\n"
          ],
          "name": "stdout"
        },
        {
          "output_type": "stream",
          "text": [
            "WARNING:root:Lossy conversion from float64 to uint8. Range [0, 1]. Convert image to uint8 prior to saving to suppress this warning.\n"
          ],
          "name": "stderr"
        },
        {
          "output_type": "stream",
          "text": [
            "(856, 1280, 3)\n"
          ],
          "name": "stdout"
        },
        {
          "output_type": "stream",
          "text": [
            "WARNING:root:Lossy conversion from float64 to uint8. Range [0, 1]. Convert image to uint8 prior to saving to suppress this warning.\n",
            "WARNING:root:Lossy conversion from float64 to uint8. Range [0, 1]. Convert image to uint8 prior to saving to suppress this warning.\n"
          ],
          "name": "stderr"
        },
        {
          "output_type": "stream",
          "text": [
            "(424, 640, 3)\n",
            "(984, 1176, 3)\n"
          ],
          "name": "stdout"
        },
        {
          "output_type": "stream",
          "text": [
            "WARNING:root:Lossy conversion from float64 to uint8. Range [0, 1]. Convert image to uint8 prior to saving to suppress this warning.\n",
            "WARNING:root:Lossy conversion from float64 to uint8. Range [0, 1]. Convert image to uint8 prior to saving to suppress this warning.\n"
          ],
          "name": "stderr"
        },
        {
          "output_type": "stream",
          "text": [
            "(512, 768, 3)\n",
            "(856, 1280, 3)\n"
          ],
          "name": "stdout"
        },
        {
          "output_type": "stream",
          "text": [
            "WARNING:root:Lossy conversion from float64 to uint8. Range [0, 1]. Convert image to uint8 prior to saving to suppress this warning.\n"
          ],
          "name": "stderr"
        },
        {
          "output_type": "stream",
          "text": [
            "\b\b\b\b\b\b\b\b\b\b\b\b\b\b\b\b\b\b\b\b\b\b\b\b\b\b\b\b\b\b\b\b\b\b\b\b\b\b\b\b\b\b\b\b\b\b\b\b\b\b\b\b\b\b\b\b\b\b\b\b\b\b\b\b\b\b\b\b\b\b\b\b\b\b\b\b\b\b\b\b\b\b\r31/31 [==============================] - 37s 1s/step - loss: 0.0135 - accuracy: 0.7214 - val_loss: 176.1213 - val_accuracy: 0.6673\n",
            "Epoch 32/1000\n",
            "31/31 [==============================] - 23s 747ms/step - loss: 0.0129 - accuracy: 0.7289 - val_loss: 175.4174 - val_accuracy: 0.7114\n",
            "Epoch 33/1000\n",
            "31/31 [==============================] - 23s 755ms/step - loss: 0.0128 - accuracy: 0.7287 - val_loss: 174.3439 - val_accuracy: 0.7236\n",
            "Epoch 34/1000\n",
            "31/31 [==============================] - 23s 757ms/step - loss: 0.0124 - accuracy: 0.7296 - val_loss: 180.6521 - val_accuracy: 0.4538\n",
            "Epoch 35/1000\n",
            "31/31 [==============================] - 23s 751ms/step - loss: 0.0128 - accuracy: 0.7297 - val_loss: 182.6541 - val_accuracy: 0.4497\n",
            "Epoch 36/1000\n",
            "31/31 [==============================] - 23s 746ms/step - loss: 0.0119 - accuracy: 0.7343 - val_loss: 178.7335 - val_accuracy: 0.6140\n",
            "Epoch 37/1000\n",
            "31/31 [==============================] - 23s 744ms/step - loss: 0.0122 - accuracy: 0.7365 - val_loss: 174.9927 - val_accuracy: 0.7072\n",
            "Epoch 38/1000\n",
            "31/31 [==============================] - 23s 745ms/step - loss: 0.0115 - accuracy: 0.7331 - val_loss: 176.8618 - val_accuracy: 0.6462\n",
            "Epoch 39/1000\n",
            "31/31 [==============================] - 23s 750ms/step - loss: 0.0119 - accuracy: 0.7323 - val_loss: 179.4454 - val_accuracy: 0.5980\n",
            "Epoch 40/1000\n",
            "31/31 [==============================] - 23s 748ms/step - loss: 0.0118 - accuracy: 0.7340 - val_loss: 175.8649 - val_accuracy: 0.6385\n",
            "Epoch 41/1000\n",
            "31/31 [==============================] - ETA: 0s - loss: 0.0124 - accuracy: 0.7321(512, 768, 3)\n"
          ],
          "name": "stdout"
        },
        {
          "output_type": "stream",
          "text": [
            "WARNING:root:Lossy conversion from float64 to uint8. Range [0, 1]. Convert image to uint8 prior to saving to suppress this warning.\n"
          ],
          "name": "stderr"
        },
        {
          "output_type": "stream",
          "text": [
            "(800, 1088, 3)\n"
          ],
          "name": "stdout"
        },
        {
          "output_type": "stream",
          "text": [
            "WARNING:root:Lossy conversion from float64 to uint8. Range [0, 1]. Convert image to uint8 prior to saving to suppress this warning.\n"
          ],
          "name": "stderr"
        },
        {
          "output_type": "stream",
          "text": [
            "(856, 1280, 3)\n"
          ],
          "name": "stdout"
        },
        {
          "output_type": "stream",
          "text": [
            "WARNING:root:Lossy conversion from float64 to uint8. Range [0, 1]. Convert image to uint8 prior to saving to suppress this warning.\n",
            "WARNING:root:Lossy conversion from float64 to uint8. Range [0, 1]. Convert image to uint8 prior to saving to suppress this warning.\n"
          ],
          "name": "stderr"
        },
        {
          "output_type": "stream",
          "text": [
            "(528, 736, 3)\n",
            "(856, 1280, 3)\n"
          ],
          "name": "stdout"
        },
        {
          "output_type": "stream",
          "text": [
            "WARNING:root:Lossy conversion from float64 to uint8. Range [0, 1]. Convert image to uint8 prior to saving to suppress this warning.\n"
          ],
          "name": "stderr"
        },
        {
          "output_type": "stream",
          "text": [
            "(1400, 1400, 3)\n"
          ],
          "name": "stdout"
        },
        {
          "output_type": "stream",
          "text": [
            "/usr/local/lib/python3.6/dist-packages/skimage/color/colorconv.py:1068: UserWarning: Color data out of range: Z < 0 in 3 pixels\n",
            "  return xyz2rgb(lab2xyz(lab, illuminant, observer))\n",
            "WARNING:root:Lossy conversion from float64 to uint8. Range [0, 1]. Convert image to uint8 prior to saving to suppress this warning.\n"
          ],
          "name": "stderr"
        },
        {
          "output_type": "stream",
          "text": [
            "(664, 1024, 3)\n"
          ],
          "name": "stdout"
        },
        {
          "output_type": "stream",
          "text": [
            "WARNING:root:Lossy conversion from float64 to uint8. Range [0, 1]. Convert image to uint8 prior to saving to suppress this warning.\n"
          ],
          "name": "stderr"
        },
        {
          "output_type": "stream",
          "text": [
            "(776, 1024, 3)\n"
          ],
          "name": "stdout"
        },
        {
          "output_type": "stream",
          "text": [
            "/usr/local/lib/python3.6/dist-packages/skimage/color/colorconv.py:1068: UserWarning: Color data out of range: Z < 0 in 1 pixels\n",
            "  return xyz2rgb(lab2xyz(lab, illuminant, observer))\n",
            "WARNING:root:Lossy conversion from float64 to uint8. Range [0, 1]. Convert image to uint8 prior to saving to suppress this warning.\n"
          ],
          "name": "stderr"
        },
        {
          "output_type": "stream",
          "text": [
            "(856, 1280, 3)\n"
          ],
          "name": "stdout"
        },
        {
          "output_type": "stream",
          "text": [
            "WARNING:root:Lossy conversion from float64 to uint8. Range [0, 1]. Convert image to uint8 prior to saving to suppress this warning.\n",
            "WARNING:root:Lossy conversion from float64 to uint8. Range [0, 1]. Convert image to uint8 prior to saving to suppress this warning.\n"
          ],
          "name": "stderr"
        },
        {
          "output_type": "stream",
          "text": [
            "(424, 640, 3)\n",
            "(984, 1176, 3)\n"
          ],
          "name": "stdout"
        },
        {
          "output_type": "stream",
          "text": [
            "WARNING:root:Lossy conversion from float64 to uint8. Range [0, 1]. Convert image to uint8 prior to saving to suppress this warning.\n",
            "WARNING:root:Lossy conversion from float64 to uint8. Range [0, 1]. Convert image to uint8 prior to saving to suppress this warning.\n"
          ],
          "name": "stderr"
        },
        {
          "output_type": "stream",
          "text": [
            "(512, 768, 3)\n",
            "(856, 1280, 3)\n"
          ],
          "name": "stdout"
        },
        {
          "output_type": "stream",
          "text": [
            "WARNING:root:Lossy conversion from float64 to uint8. Range [0, 1]. Convert image to uint8 prior to saving to suppress this warning.\n"
          ],
          "name": "stderr"
        },
        {
          "output_type": "stream",
          "text": [
            "\b\b\b\b\b\b\b\b\b\b\b\b\b\b\b\b\b\b\b\b\b\b\b\b\b\b\b\b\b\b\b\b\b\b\b\b\b\b\b\b\b\b\b\b\b\b\b\b\b\b\b\b\b\b\b\b\b\b\b\b\b\b\b\b\b\b\b\b\b\b\b\b\b\b\b\b\b\b\b\b\b\b\r31/31 [==============================] - 37s 1s/step - loss: 0.0124 - accuracy: 0.7321 - val_loss: 179.4863 - val_accuracy: 0.5742\n",
            "Epoch 42/1000\n",
            "31/31 [==============================] - 23s 750ms/step - loss: 0.0111 - accuracy: 0.7384 - val_loss: 178.4090 - val_accuracy: 0.4373\n",
            "Epoch 43/1000\n",
            "31/31 [==============================] - 23s 746ms/step - loss: 0.0115 - accuracy: 0.7327 - val_loss: 178.8490 - val_accuracy: 0.5579\n",
            "Epoch 44/1000\n",
            "31/31 [==============================] - 23s 752ms/step - loss: 0.0112 - accuracy: 0.7333 - val_loss: 179.6259 - val_accuracy: 0.6058\n",
            "Epoch 45/1000\n",
            "31/31 [==============================] - 23s 741ms/step - loss: 0.0116 - accuracy: 0.7332 - val_loss: 181.8505 - val_accuracy: 0.4563\n",
            "Epoch 46/1000\n",
            "31/31 [==============================] - 23s 737ms/step - loss: 0.0109 - accuracy: 0.7382 - val_loss: 174.9836 - val_accuracy: 0.6737\n",
            "Epoch 47/1000\n",
            "31/31 [==============================] - 23s 737ms/step - loss: 0.0114 - accuracy: 0.7412 - val_loss: 179.5493 - val_accuracy: 0.5612\n",
            "Epoch 48/1000\n",
            "31/31 [==============================] - 23s 742ms/step - loss: 0.0112 - accuracy: 0.7257 - val_loss: 179.7454 - val_accuracy: 0.5036\n",
            "Epoch 49/1000\n",
            "31/31 [==============================] - 23s 734ms/step - loss: 0.0107 - accuracy: 0.7406 - val_loss: 179.7288 - val_accuracy: 0.4962\n",
            "Epoch 50/1000\n",
            "31/31 [==============================] - 23s 734ms/step - loss: 0.0109 - accuracy: 0.7343 - val_loss: 180.5733 - val_accuracy: 0.5470\n",
            "Epoch 51/1000\n",
            "31/31 [==============================] - ETA: 0s - loss: 0.0104 - accuracy: 0.7382(512, 768, 3)\n"
          ],
          "name": "stdout"
        },
        {
          "output_type": "stream",
          "text": [
            "WARNING:root:Lossy conversion from float64 to uint8. Range [0, 1]. Convert image to uint8 prior to saving to suppress this warning.\n"
          ],
          "name": "stderr"
        },
        {
          "output_type": "stream",
          "text": [
            "(800, 1088, 3)\n"
          ],
          "name": "stdout"
        },
        {
          "output_type": "stream",
          "text": [
            "WARNING:root:Lossy conversion from float64 to uint8. Range [0, 1]. Convert image to uint8 prior to saving to suppress this warning.\n"
          ],
          "name": "stderr"
        },
        {
          "output_type": "stream",
          "text": [
            "(856, 1280, 3)\n"
          ],
          "name": "stdout"
        },
        {
          "output_type": "stream",
          "text": [
            "WARNING:root:Lossy conversion from float64 to uint8. Range [0, 1]. Convert image to uint8 prior to saving to suppress this warning.\n",
            "WARNING:root:Lossy conversion from float64 to uint8. Range [0, 1]. Convert image to uint8 prior to saving to suppress this warning.\n"
          ],
          "name": "stderr"
        },
        {
          "output_type": "stream",
          "text": [
            "(528, 736, 3)\n",
            "(856, 1280, 3)\n"
          ],
          "name": "stdout"
        },
        {
          "output_type": "stream",
          "text": [
            "WARNING:root:Lossy conversion from float64 to uint8. Range [0, 1]. Convert image to uint8 prior to saving to suppress this warning.\n"
          ],
          "name": "stderr"
        },
        {
          "output_type": "stream",
          "text": [
            "(1400, 1400, 3)\n"
          ],
          "name": "stdout"
        },
        {
          "output_type": "stream",
          "text": [
            "/usr/local/lib/python3.6/dist-packages/skimage/color/colorconv.py:1068: UserWarning: Color data out of range: Z < 0 in 2 pixels\n",
            "  return xyz2rgb(lab2xyz(lab, illuminant, observer))\n",
            "WARNING:root:Lossy conversion from float64 to uint8. Range [0, 1]. Convert image to uint8 prior to saving to suppress this warning.\n"
          ],
          "name": "stderr"
        },
        {
          "output_type": "stream",
          "text": [
            "(664, 1024, 3)\n"
          ],
          "name": "stdout"
        },
        {
          "output_type": "stream",
          "text": [
            "WARNING:root:Lossy conversion from float64 to uint8. Range [0, 1]. Convert image to uint8 prior to saving to suppress this warning.\n"
          ],
          "name": "stderr"
        },
        {
          "output_type": "stream",
          "text": [
            "(776, 1024, 3)\n"
          ],
          "name": "stdout"
        },
        {
          "output_type": "stream",
          "text": [
            "WARNING:root:Lossy conversion from float64 to uint8. Range [0, 1]. Convert image to uint8 prior to saving to suppress this warning.\n"
          ],
          "name": "stderr"
        },
        {
          "output_type": "stream",
          "text": [
            "(856, 1280, 3)\n"
          ],
          "name": "stdout"
        },
        {
          "output_type": "stream",
          "text": [
            "WARNING:root:Lossy conversion from float64 to uint8. Range [0, 1]. Convert image to uint8 prior to saving to suppress this warning.\n",
            "WARNING:root:Lossy conversion from float64 to uint8. Range [0, 1]. Convert image to uint8 prior to saving to suppress this warning.\n"
          ],
          "name": "stderr"
        },
        {
          "output_type": "stream",
          "text": [
            "(424, 640, 3)\n",
            "(984, 1176, 3)\n"
          ],
          "name": "stdout"
        },
        {
          "output_type": "stream",
          "text": [
            "WARNING:root:Lossy conversion from float64 to uint8. Range [0, 1]. Convert image to uint8 prior to saving to suppress this warning.\n",
            "WARNING:root:Lossy conversion from float64 to uint8. Range [0, 1]. Convert image to uint8 prior to saving to suppress this warning.\n"
          ],
          "name": "stderr"
        },
        {
          "output_type": "stream",
          "text": [
            "(512, 768, 3)\n",
            "(856, 1280, 3)\n"
          ],
          "name": "stdout"
        },
        {
          "output_type": "stream",
          "text": [
            "WARNING:root:Lossy conversion from float64 to uint8. Range [0, 1]. Convert image to uint8 prior to saving to suppress this warning.\n"
          ],
          "name": "stderr"
        },
        {
          "output_type": "stream",
          "text": [
            "\b\b\b\b\b\b\b\b\b\b\b\b\b\b\b\b\b\b\b\b\b\b\b\b\b\b\b\b\b\b\b\b\b\b\b\b\b\b\b\b\b\b\b\b\b\b\b\b\b\b\b\b\b\b\b\b\b\b\b\b\b\b\b\b\b\b\b\b\b\b\b\b\b\b\b\b\b\b\b\b\b\b\r31/31 [==============================] - 37s 1s/step - loss: 0.0104 - accuracy: 0.7382 - val_loss: 178.3692 - val_accuracy: 0.5471\n",
            "Epoch 52/1000\n",
            "31/31 [==============================] - 23s 737ms/step - loss: 0.0108 - accuracy: 0.7457 - val_loss: 178.9585 - val_accuracy: 0.5462\n",
            "Epoch 53/1000\n",
            "31/31 [==============================] - 23s 734ms/step - loss: 0.0107 - accuracy: 0.7382 - val_loss: 178.8328 - val_accuracy: 0.5179\n",
            "Epoch 54/1000\n",
            "31/31 [==============================] - 23s 740ms/step - loss: 0.0106 - accuracy: 0.7326 - val_loss: 178.9503 - val_accuracy: 0.5025\n",
            "Epoch 55/1000\n",
            "31/31 [==============================] - 23s 738ms/step - loss: 0.0104 - accuracy: 0.7403 - val_loss: 179.9087 - val_accuracy: 0.5316\n",
            "Epoch 56/1000\n",
            "31/31 [==============================] - 23s 735ms/step - loss: 0.0103 - accuracy: 0.7391 - val_loss: 180.0235 - val_accuracy: 0.4996\n",
            "Epoch 57/1000\n",
            "31/31 [==============================] - 23s 733ms/step - loss: 0.0105 - accuracy: 0.7404 - val_loss: 179.7159 - val_accuracy: 0.5621\n",
            "Epoch 58/1000\n",
            "31/31 [==============================] - 23s 738ms/step - loss: 0.0098 - accuracy: 0.7405 - val_loss: 178.1014 - val_accuracy: 0.5796\n",
            "Epoch 59/1000\n",
            "31/31 [==============================] - 23s 734ms/step - loss: 0.0103 - accuracy: 0.7397 - val_loss: 177.8355 - val_accuracy: 0.5824\n",
            "Epoch 60/1000\n",
            "31/31 [==============================] - 23s 735ms/step - loss: 0.0101 - accuracy: 0.7380 - val_loss: 176.3194 - val_accuracy: 0.5938\n",
            "Epoch 61/1000\n",
            "31/31 [==============================] - ETA: 0s - loss: 0.0098 - accuracy: 0.7401(512, 768, 3)\n"
          ],
          "name": "stdout"
        },
        {
          "output_type": "stream",
          "text": [
            "WARNING:root:Lossy conversion from float64 to uint8. Range [0, 1]. Convert image to uint8 prior to saving to suppress this warning.\n"
          ],
          "name": "stderr"
        },
        {
          "output_type": "stream",
          "text": [
            "(800, 1088, 3)\n"
          ],
          "name": "stdout"
        },
        {
          "output_type": "stream",
          "text": [
            "WARNING:root:Lossy conversion from float64 to uint8. Range [0, 1]. Convert image to uint8 prior to saving to suppress this warning.\n"
          ],
          "name": "stderr"
        },
        {
          "output_type": "stream",
          "text": [
            "(856, 1280, 3)\n"
          ],
          "name": "stdout"
        },
        {
          "output_type": "stream",
          "text": [
            "WARNING:root:Lossy conversion from float64 to uint8. Range [0, 1]. Convert image to uint8 prior to saving to suppress this warning.\n",
            "WARNING:root:Lossy conversion from float64 to uint8. Range [0, 1]. Convert image to uint8 prior to saving to suppress this warning.\n"
          ],
          "name": "stderr"
        },
        {
          "output_type": "stream",
          "text": [
            "(528, 736, 3)\n",
            "(856, 1280, 3)\n"
          ],
          "name": "stdout"
        },
        {
          "output_type": "stream",
          "text": [
            "WARNING:root:Lossy conversion from float64 to uint8. Range [0, 1]. Convert image to uint8 prior to saving to suppress this warning.\n"
          ],
          "name": "stderr"
        },
        {
          "output_type": "stream",
          "text": [
            "(1400, 1400, 3)\n"
          ],
          "name": "stdout"
        },
        {
          "output_type": "stream",
          "text": [
            "WARNING:root:Lossy conversion from float64 to uint8. Range [0, 1]. Convert image to uint8 prior to saving to suppress this warning.\n"
          ],
          "name": "stderr"
        },
        {
          "output_type": "stream",
          "text": [
            "(664, 1024, 3)\n"
          ],
          "name": "stdout"
        },
        {
          "output_type": "stream",
          "text": [
            "WARNING:root:Lossy conversion from float64 to uint8. Range [0, 1]. Convert image to uint8 prior to saving to suppress this warning.\n"
          ],
          "name": "stderr"
        },
        {
          "output_type": "stream",
          "text": [
            "(776, 1024, 3)\n"
          ],
          "name": "stdout"
        },
        {
          "output_type": "stream",
          "text": [
            "WARNING:root:Lossy conversion from float64 to uint8. Range [0, 1]. Convert image to uint8 prior to saving to suppress this warning.\n"
          ],
          "name": "stderr"
        },
        {
          "output_type": "stream",
          "text": [
            "(856, 1280, 3)\n"
          ],
          "name": "stdout"
        },
        {
          "output_type": "stream",
          "text": [
            "WARNING:root:Lossy conversion from float64 to uint8. Range [0, 1]. Convert image to uint8 prior to saving to suppress this warning.\n",
            "WARNING:root:Lossy conversion from float64 to uint8. Range [0, 1]. Convert image to uint8 prior to saving to suppress this warning.\n"
          ],
          "name": "stderr"
        },
        {
          "output_type": "stream",
          "text": [
            "(424, 640, 3)\n",
            "(984, 1176, 3)\n"
          ],
          "name": "stdout"
        },
        {
          "output_type": "stream",
          "text": [
            "WARNING:root:Lossy conversion from float64 to uint8. Range [0, 1]. Convert image to uint8 prior to saving to suppress this warning.\n",
            "WARNING:root:Lossy conversion from float64 to uint8. Range [0, 1]. Convert image to uint8 prior to saving to suppress this warning.\n"
          ],
          "name": "stderr"
        },
        {
          "output_type": "stream",
          "text": [
            "(512, 768, 3)\n",
            "(856, 1280, 3)\n"
          ],
          "name": "stdout"
        },
        {
          "output_type": "stream",
          "text": [
            "WARNING:root:Lossy conversion from float64 to uint8. Range [0, 1]. Convert image to uint8 prior to saving to suppress this warning.\n"
          ],
          "name": "stderr"
        },
        {
          "output_type": "stream",
          "text": [
            "\b\b\b\b\b\b\b\b\b\b\b\b\b\b\b\b\b\b\b\b\b\b\b\b\b\b\b\b\b\b\b\b\b\b\b\b\b\b\b\b\b\b\b\b\b\b\b\b\b\b\b\b\b\b\b\b\b\b\b\b\b\b\b\b\b\b\b\b\b\b\b\b\b\b\b\b\b\b\b\b\b\b\r31/31 [==============================] - 36s 1s/step - loss: 0.0098 - accuracy: 0.7401 - val_loss: 180.3663 - val_accuracy: 0.5546\n",
            "Epoch 62/1000\n",
            "31/31 [==============================] - 23s 736ms/step - loss: 0.0099 - accuracy: 0.7423 - val_loss: 179.4506 - val_accuracy: 0.4893\n",
            "Epoch 63/1000\n",
            "31/31 [==============================] - 23s 736ms/step - loss: 0.0097 - accuracy: 0.7423 - val_loss: 179.0163 - val_accuracy: 0.5307\n",
            "Epoch 64/1000\n",
            "31/31 [==============================] - 23s 735ms/step - loss: 0.0097 - accuracy: 0.7443 - val_loss: 180.8438 - val_accuracy: 0.4672\n",
            "Epoch 65/1000\n",
            "31/31 [==============================] - 23s 740ms/step - loss: 0.0099 - accuracy: 0.7420 - val_loss: 182.0621 - val_accuracy: 0.5017\n",
            "Epoch 66/1000\n",
            "31/31 [==============================] - 23s 745ms/step - loss: 0.0096 - accuracy: 0.7435 - val_loss: 180.5339 - val_accuracy: 0.5013\n",
            "Epoch 67/1000\n",
            "31/31 [==============================] - 23s 738ms/step - loss: 0.0098 - accuracy: 0.7402 - val_loss: 178.9463 - val_accuracy: 0.5200\n",
            "Epoch 68/1000\n",
            "31/31 [==============================] - 23s 730ms/step - loss: 0.0096 - accuracy: 0.7472 - val_loss: 182.8398 - val_accuracy: 0.4982\n",
            "Epoch 69/1000\n",
            "31/31 [==============================] - 23s 728ms/step - loss: 0.0093 - accuracy: 0.7412 - val_loss: 180.2631 - val_accuracy: 0.4473\n",
            "Epoch 70/1000\n",
            "31/31 [==============================] - 23s 729ms/step - loss: 0.0097 - accuracy: 0.7504 - val_loss: 181.4385 - val_accuracy: 0.5212\n",
            "Epoch 71/1000\n",
            "31/31 [==============================] - ETA: 0s - loss: 0.0092 - accuracy: 0.7443(512, 768, 3)\n"
          ],
          "name": "stdout"
        },
        {
          "output_type": "stream",
          "text": [
            "WARNING:root:Lossy conversion from float64 to uint8. Range [0, 1]. Convert image to uint8 prior to saving to suppress this warning.\n"
          ],
          "name": "stderr"
        },
        {
          "output_type": "stream",
          "text": [
            "(800, 1088, 3)\n"
          ],
          "name": "stdout"
        },
        {
          "output_type": "stream",
          "text": [
            "WARNING:root:Lossy conversion from float64 to uint8. Range [0, 1]. Convert image to uint8 prior to saving to suppress this warning.\n"
          ],
          "name": "stderr"
        },
        {
          "output_type": "stream",
          "text": [
            "(856, 1280, 3)\n"
          ],
          "name": "stdout"
        },
        {
          "output_type": "stream",
          "text": [
            "WARNING:root:Lossy conversion from float64 to uint8. Range [0, 1]. Convert image to uint8 prior to saving to suppress this warning.\n",
            "WARNING:root:Lossy conversion from float64 to uint8. Range [0, 1]. Convert image to uint8 prior to saving to suppress this warning.\n"
          ],
          "name": "stderr"
        },
        {
          "output_type": "stream",
          "text": [
            "(528, 736, 3)\n",
            "(856, 1280, 3)\n"
          ],
          "name": "stdout"
        },
        {
          "output_type": "stream",
          "text": [
            "WARNING:root:Lossy conversion from float64 to uint8. Range [0, 1]. Convert image to uint8 prior to saving to suppress this warning.\n"
          ],
          "name": "stderr"
        },
        {
          "output_type": "stream",
          "text": [
            "(1400, 1400, 3)\n"
          ],
          "name": "stdout"
        },
        {
          "output_type": "stream",
          "text": [
            "/usr/local/lib/python3.6/dist-packages/skimage/color/colorconv.py:1068: UserWarning: Color data out of range: Z < 0 in 13 pixels\n",
            "  return xyz2rgb(lab2xyz(lab, illuminant, observer))\n",
            "WARNING:root:Lossy conversion from float64 to uint8. Range [0, 1]. Convert image to uint8 prior to saving to suppress this warning.\n"
          ],
          "name": "stderr"
        },
        {
          "output_type": "stream",
          "text": [
            "(664, 1024, 3)\n"
          ],
          "name": "stdout"
        },
        {
          "output_type": "stream",
          "text": [
            "/usr/local/lib/python3.6/dist-packages/skimage/color/colorconv.py:1068: UserWarning: Color data out of range: Z < 0 in 5 pixels\n",
            "  return xyz2rgb(lab2xyz(lab, illuminant, observer))\n",
            "WARNING:root:Lossy conversion from float64 to uint8. Range [0, 1]. Convert image to uint8 prior to saving to suppress this warning.\n"
          ],
          "name": "stderr"
        },
        {
          "output_type": "stream",
          "text": [
            "(776, 1024, 3)\n"
          ],
          "name": "stdout"
        },
        {
          "output_type": "stream",
          "text": [
            "WARNING:root:Lossy conversion from float64 to uint8. Range [0, 1]. Convert image to uint8 prior to saving to suppress this warning.\n"
          ],
          "name": "stderr"
        },
        {
          "output_type": "stream",
          "text": [
            "(856, 1280, 3)\n"
          ],
          "name": "stdout"
        },
        {
          "output_type": "stream",
          "text": [
            "WARNING:root:Lossy conversion from float64 to uint8. Range [0, 1]. Convert image to uint8 prior to saving to suppress this warning.\n",
            "WARNING:root:Lossy conversion from float64 to uint8. Range [0, 1]. Convert image to uint8 prior to saving to suppress this warning.\n"
          ],
          "name": "stderr"
        },
        {
          "output_type": "stream",
          "text": [
            "(424, 640, 3)\n",
            "(984, 1176, 3)\n"
          ],
          "name": "stdout"
        },
        {
          "output_type": "stream",
          "text": [
            "WARNING:root:Lossy conversion from float64 to uint8. Range [0, 1]. Convert image to uint8 prior to saving to suppress this warning.\n",
            "WARNING:root:Lossy conversion from float64 to uint8. Range [0, 1]. Convert image to uint8 prior to saving to suppress this warning.\n"
          ],
          "name": "stderr"
        },
        {
          "output_type": "stream",
          "text": [
            "(512, 768, 3)\n",
            "(856, 1280, 3)\n"
          ],
          "name": "stdout"
        },
        {
          "output_type": "stream",
          "text": [
            "WARNING:root:Lossy conversion from float64 to uint8. Range [0, 1]. Convert image to uint8 prior to saving to suppress this warning.\n"
          ],
          "name": "stderr"
        },
        {
          "output_type": "stream",
          "text": [
            "\b\b\b\b\b\b\b\b\b\b\b\b\b\b\b\b\b\b\b\b\b\b\b\b\b\b\b\b\b\b\b\b\b\b\b\b\b\b\b\b\b\b\b\b\b\b\b\b\b\b\b\b\b\b\b\b\b\b\b\b\b\b\b\b\b\b\b\b\b\b\b\b\b\b\b\b\b\b\b\b\b\b\r31/31 [==============================] - 36s 1s/step - loss: 0.0092 - accuracy: 0.7443 - val_loss: 180.8795 - val_accuracy: 0.5102\n",
            "Epoch 72/1000\n",
            "31/31 [==============================] - 23s 732ms/step - loss: 0.0096 - accuracy: 0.7412 - val_loss: 181.1589 - val_accuracy: 0.5170\n",
            "Epoch 73/1000\n",
            "31/31 [==============================] - 23s 734ms/step - loss: 0.0092 - accuracy: 0.7439 - val_loss: 182.1107 - val_accuracy: 0.4417\n",
            "Epoch 74/1000\n",
            "31/31 [==============================] - 23s 730ms/step - loss: 0.0095 - accuracy: 0.7466 - val_loss: 180.9086 - val_accuracy: 0.5235\n",
            "Epoch 75/1000\n",
            "31/31 [==============================] - 23s 734ms/step - loss: 0.0092 - accuracy: 0.7428 - val_loss: 180.1290 - val_accuracy: 0.5019\n",
            "Epoch 76/1000\n",
            "31/31 [==============================] - 23s 733ms/step - loss: 0.0089 - accuracy: 0.7441 - val_loss: 179.4664 - val_accuracy: 0.4986\n",
            "Epoch 77/1000\n",
            "31/31 [==============================] - 23s 732ms/step - loss: 0.0091 - accuracy: 0.7445 - val_loss: 180.6269 - val_accuracy: 0.5123\n",
            "Epoch 78/1000\n",
            "31/31 [==============================] - 23s 731ms/step - loss: 0.0091 - accuracy: 0.7532 - val_loss: 179.0744 - val_accuracy: 0.5524\n",
            "Epoch 79/1000\n",
            "31/31 [==============================] - 23s 736ms/step - loss: 0.0089 - accuracy: 0.7467 - val_loss: 180.3855 - val_accuracy: 0.5298\n",
            "Epoch 80/1000\n",
            "31/31 [==============================] - 23s 749ms/step - loss: 0.0088 - accuracy: 0.7457 - val_loss: 182.5239 - val_accuracy: 0.5351\n",
            "Epoch 81/1000\n",
            "31/31 [==============================] - ETA: 0s - loss: 0.0092 - accuracy: 0.7435(512, 768, 3)\n"
          ],
          "name": "stdout"
        },
        {
          "output_type": "stream",
          "text": [
            "/usr/local/lib/python3.6/dist-packages/skimage/color/colorconv.py:1068: UserWarning: Color data out of range: Z < 0 in 67 pixels\n",
            "  return xyz2rgb(lab2xyz(lab, illuminant, observer))\n",
            "WARNING:root:Lossy conversion from float64 to uint8. Range [0, 1]. Convert image to uint8 prior to saving to suppress this warning.\n"
          ],
          "name": "stderr"
        },
        {
          "output_type": "stream",
          "text": [
            "(800, 1088, 3)\n"
          ],
          "name": "stdout"
        },
        {
          "output_type": "stream",
          "text": [
            "WARNING:root:Lossy conversion from float64 to uint8. Range [0, 1]. Convert image to uint8 prior to saving to suppress this warning.\n"
          ],
          "name": "stderr"
        },
        {
          "output_type": "stream",
          "text": [
            "(856, 1280, 3)\n"
          ],
          "name": "stdout"
        },
        {
          "output_type": "stream",
          "text": [
            "WARNING:root:Lossy conversion from float64 to uint8. Range [0, 1]. Convert image to uint8 prior to saving to suppress this warning.\n",
            "WARNING:root:Lossy conversion from float64 to uint8. Range [0, 1]. Convert image to uint8 prior to saving to suppress this warning.\n"
          ],
          "name": "stderr"
        },
        {
          "output_type": "stream",
          "text": [
            "(528, 736, 3)\n",
            "(856, 1280, 3)\n"
          ],
          "name": "stdout"
        },
        {
          "output_type": "stream",
          "text": [
            "WARNING:root:Lossy conversion from float64 to uint8. Range [0, 1]. Convert image to uint8 prior to saving to suppress this warning.\n"
          ],
          "name": "stderr"
        },
        {
          "output_type": "stream",
          "text": [
            "(1400, 1400, 3)\n"
          ],
          "name": "stdout"
        },
        {
          "output_type": "stream",
          "text": [
            "/usr/local/lib/python3.6/dist-packages/skimage/color/colorconv.py:1068: UserWarning: Color data out of range: Z < 0 in 10 pixels\n",
            "  return xyz2rgb(lab2xyz(lab, illuminant, observer))\n",
            "WARNING:root:Lossy conversion from float64 to uint8. Range [0, 1]. Convert image to uint8 prior to saving to suppress this warning.\n"
          ],
          "name": "stderr"
        },
        {
          "output_type": "stream",
          "text": [
            "(664, 1024, 3)\n"
          ],
          "name": "stdout"
        },
        {
          "output_type": "stream",
          "text": [
            "WARNING:root:Lossy conversion from float64 to uint8. Range [0, 1]. Convert image to uint8 prior to saving to suppress this warning.\n"
          ],
          "name": "stderr"
        },
        {
          "output_type": "stream",
          "text": [
            "(776, 1024, 3)\n"
          ],
          "name": "stdout"
        },
        {
          "output_type": "stream",
          "text": [
            "/usr/local/lib/python3.6/dist-packages/skimage/color/colorconv.py:1068: UserWarning: Color data out of range: Z < 0 in 50 pixels\n",
            "  return xyz2rgb(lab2xyz(lab, illuminant, observer))\n",
            "WARNING:root:Lossy conversion from float64 to uint8. Range [0, 1]. Convert image to uint8 prior to saving to suppress this warning.\n"
          ],
          "name": "stderr"
        },
        {
          "output_type": "stream",
          "text": [
            "(856, 1280, 3)\n"
          ],
          "name": "stdout"
        },
        {
          "output_type": "stream",
          "text": [
            "WARNING:root:Lossy conversion from float64 to uint8. Range [0, 1]. Convert image to uint8 prior to saving to suppress this warning.\n",
            "WARNING:root:Lossy conversion from float64 to uint8. Range [0, 1]. Convert image to uint8 prior to saving to suppress this warning.\n"
          ],
          "name": "stderr"
        },
        {
          "output_type": "stream",
          "text": [
            "(424, 640, 3)\n",
            "(984, 1176, 3)\n"
          ],
          "name": "stdout"
        },
        {
          "output_type": "stream",
          "text": [
            "WARNING:root:Lossy conversion from float64 to uint8. Range [0, 1]. Convert image to uint8 prior to saving to suppress this warning.\n",
            "WARNING:root:Lossy conversion from float64 to uint8. Range [0, 1]. Convert image to uint8 prior to saving to suppress this warning.\n"
          ],
          "name": "stderr"
        },
        {
          "output_type": "stream",
          "text": [
            "(512, 768, 3)\n",
            "(856, 1280, 3)\n"
          ],
          "name": "stdout"
        },
        {
          "output_type": "stream",
          "text": [
            "WARNING:root:Lossy conversion from float64 to uint8. Range [0, 1]. Convert image to uint8 prior to saving to suppress this warning.\n"
          ],
          "name": "stderr"
        },
        {
          "output_type": "stream",
          "text": [
            "\b\b\b\b\b\b\b\b\b\b\b\b\b\b\b\b\b\b\b\b\b\b\b\b\b\b\b\b\b\b\b\b\b\b\b\b\b\b\b\b\b\b\b\b\b\b\b\b\b\b\b\b\b\b\b\b\b\b\b\b\b\b\b\b\b\b\b\b\b\b\b\b\b\b\b\b\b\b\b\b\b\b\r31/31 [==============================] - 37s 1s/step - loss: 0.0092 - accuracy: 0.7435 - val_loss: 179.8630 - val_accuracy: 0.5840\n",
            "Epoch 82/1000\n",
            "31/31 [==============================] - 23s 751ms/step - loss: 0.0085 - accuracy: 0.7506 - val_loss: 179.7188 - val_accuracy: 0.5414\n",
            "Epoch 83/1000\n",
            "31/31 [==============================] - 24s 760ms/step - loss: 0.0090 - accuracy: 0.7477 - val_loss: 182.0179 - val_accuracy: 0.5184\n",
            "Epoch 84/1000\n",
            "31/31 [==============================] - 24s 760ms/step - loss: 0.0085 - accuracy: 0.7475 - val_loss: 182.2506 - val_accuracy: 0.4553\n",
            "Epoch 85/1000\n",
            "31/31 [==============================] - 24s 769ms/step - loss: 0.0087 - accuracy: 0.7488 - val_loss: 181.4557 - val_accuracy: 0.5347\n",
            "Epoch 86/1000\n",
            "31/31 [==============================] - 24s 772ms/step - loss: 0.0088 - accuracy: 0.7419 - val_loss: 182.8210 - val_accuracy: 0.4883\n",
            "Epoch 87/1000\n",
            "31/31 [==============================] - 24s 780ms/step - loss: 0.0087 - accuracy: 0.7519 - val_loss: 180.2238 - val_accuracy: 0.5609\n",
            "Epoch 88/1000\n",
            "31/31 [==============================] - 24s 788ms/step - loss: 0.0085 - accuracy: 0.7439 - val_loss: 182.4621 - val_accuracy: 0.5019\n",
            "Epoch 89/1000\n",
            "31/31 [==============================] - 24s 788ms/step - loss: 0.0087 - accuracy: 0.7522 - val_loss: 183.2645 - val_accuracy: 0.5093\n",
            "Epoch 90/1000\n",
            "31/31 [==============================] - 24s 785ms/step - loss: 0.0087 - accuracy: 0.7503 - val_loss: 180.9193 - val_accuracy: 0.5650\n",
            "Epoch 91/1000\n",
            "31/31 [==============================] - ETA: 0s - loss: 0.0083 - accuracy: 0.7466(512, 768, 3)\n"
          ],
          "name": "stdout"
        },
        {
          "output_type": "stream",
          "text": [
            "WARNING:root:Lossy conversion from float64 to uint8. Range [0, 1]. Convert image to uint8 prior to saving to suppress this warning.\n"
          ],
          "name": "stderr"
        },
        {
          "output_type": "stream",
          "text": [
            "(800, 1088, 3)\n"
          ],
          "name": "stdout"
        },
        {
          "output_type": "stream",
          "text": [
            "WARNING:root:Lossy conversion from float64 to uint8. Range [0, 1]. Convert image to uint8 prior to saving to suppress this warning.\n"
          ],
          "name": "stderr"
        },
        {
          "output_type": "stream",
          "text": [
            "(856, 1280, 3)\n"
          ],
          "name": "stdout"
        },
        {
          "output_type": "stream",
          "text": [
            "WARNING:root:Lossy conversion from float64 to uint8. Range [0, 1]. Convert image to uint8 prior to saving to suppress this warning.\n"
          ],
          "name": "stderr"
        },
        {
          "output_type": "stream",
          "text": [
            "(528, 736, 3)\n"
          ],
          "name": "stdout"
        },
        {
          "output_type": "stream",
          "text": [
            "WARNING:root:Lossy conversion from float64 to uint8. Range [0, 1]. Convert image to uint8 prior to saving to suppress this warning.\n"
          ],
          "name": "stderr"
        },
        {
          "output_type": "stream",
          "text": [
            "(856, 1280, 3)\n"
          ],
          "name": "stdout"
        },
        {
          "output_type": "stream",
          "text": [
            "WARNING:root:Lossy conversion from float64 to uint8. Range [0, 1]. Convert image to uint8 prior to saving to suppress this warning.\n"
          ],
          "name": "stderr"
        },
        {
          "output_type": "stream",
          "text": [
            "(1400, 1400, 3)\n"
          ],
          "name": "stdout"
        },
        {
          "output_type": "stream",
          "text": [
            "WARNING:root:Lossy conversion from float64 to uint8. Range [0, 1]. Convert image to uint8 prior to saving to suppress this warning.\n"
          ],
          "name": "stderr"
        },
        {
          "output_type": "stream",
          "text": [
            "(664, 1024, 3)\n"
          ],
          "name": "stdout"
        },
        {
          "output_type": "stream",
          "text": [
            "WARNING:root:Lossy conversion from float64 to uint8. Range [0, 1]. Convert image to uint8 prior to saving to suppress this warning.\n"
          ],
          "name": "stderr"
        },
        {
          "output_type": "stream",
          "text": [
            "(776, 1024, 3)\n"
          ],
          "name": "stdout"
        },
        {
          "output_type": "stream",
          "text": [
            "/usr/local/lib/python3.6/dist-packages/skimage/color/colorconv.py:1068: UserWarning: Color data out of range: Z < 0 in 4 pixels\n",
            "  return xyz2rgb(lab2xyz(lab, illuminant, observer))\n",
            "WARNING:root:Lossy conversion from float64 to uint8. Range [0, 1]. Convert image to uint8 prior to saving to suppress this warning.\n"
          ],
          "name": "stderr"
        },
        {
          "output_type": "stream",
          "text": [
            "(856, 1280, 3)\n"
          ],
          "name": "stdout"
        },
        {
          "output_type": "stream",
          "text": [
            "WARNING:root:Lossy conversion from float64 to uint8. Range [0, 1]. Convert image to uint8 prior to saving to suppress this warning.\n",
            "WARNING:root:Lossy conversion from float64 to uint8. Range [0, 1]. Convert image to uint8 prior to saving to suppress this warning.\n"
          ],
          "name": "stderr"
        },
        {
          "output_type": "stream",
          "text": [
            "(424, 640, 3)\n",
            "(984, 1176, 3)\n"
          ],
          "name": "stdout"
        },
        {
          "output_type": "stream",
          "text": [
            "WARNING:root:Lossy conversion from float64 to uint8. Range [0, 1]. Convert image to uint8 prior to saving to suppress this warning.\n"
          ],
          "name": "stderr"
        },
        {
          "output_type": "stream",
          "text": [
            "(512, 768, 3)\n"
          ],
          "name": "stdout"
        },
        {
          "output_type": "stream",
          "text": [
            "/usr/local/lib/python3.6/dist-packages/skimage/color/colorconv.py:1068: UserWarning: Color data out of range: Z < 0 in 36 pixels\n",
            "  return xyz2rgb(lab2xyz(lab, illuminant, observer))\n",
            "WARNING:root:Lossy conversion from float64 to uint8. Range [0, 1]. Convert image to uint8 prior to saving to suppress this warning.\n"
          ],
          "name": "stderr"
        },
        {
          "output_type": "stream",
          "text": [
            "(856, 1280, 3)\n"
          ],
          "name": "stdout"
        },
        {
          "output_type": "stream",
          "text": [
            "WARNING:root:Lossy conversion from float64 to uint8. Range [0, 1]. Convert image to uint8 prior to saving to suppress this warning.\n"
          ],
          "name": "stderr"
        },
        {
          "output_type": "stream",
          "text": [
            "\b\b\b\b\b\b\b\b\b\b\b\b\b\b\b\b\b\b\b\b\b\b\b\b\b\b\b\b\b\b\b\b\b\b\b\b\b\b\b\b\b\b\b\b\b\b\b\b\b\b\b\b\b\b\b\b\b\b\b\b\b\b\b\b\b\b\b\b\b\b\b\b\b\b\b\b\b\b\b\b\b\b\r31/31 [==============================] - 39s 1s/step - loss: 0.0083 - accuracy: 0.7466 - val_loss: 180.0999 - val_accuracy: 0.5508\n",
            "Epoch 92/1000\n",
            "31/31 [==============================] - 25s 805ms/step - loss: 0.0084 - accuracy: 0.7507 - val_loss: 180.9082 - val_accuracy: 0.5503\n",
            "Epoch 93/1000\n",
            "31/31 [==============================] - 25s 805ms/step - loss: 0.0084 - accuracy: 0.7508 - val_loss: 180.2852 - val_accuracy: 0.5305\n",
            "Epoch 94/1000\n",
            "31/31 [==============================] - 25s 800ms/step - loss: 0.0082 - accuracy: 0.7520 - val_loss: 181.5751 - val_accuracy: 0.5594\n",
            "Epoch 95/1000\n",
            "31/31 [==============================] - 25s 803ms/step - loss: 0.0083 - accuracy: 0.7491 - val_loss: 179.9141 - val_accuracy: 0.5598\n",
            "Epoch 96/1000\n",
            "31/31 [==============================] - 25s 800ms/step - loss: 0.0082 - accuracy: 0.7504 - val_loss: 181.7425 - val_accuracy: 0.5548\n",
            "Epoch 97/1000\n",
            "31/31 [==============================] - 25s 813ms/step - loss: 0.0082 - accuracy: 0.7518 - val_loss: 181.6917 - val_accuracy: 0.5304\n",
            "Epoch 98/1000\n",
            "31/31 [==============================] - 25s 809ms/step - loss: 0.0081 - accuracy: 0.7534 - val_loss: 180.4377 - val_accuracy: 0.5701\n",
            "Epoch 99/1000\n",
            "31/31 [==============================] - 25s 801ms/step - loss: 0.0080 - accuracy: 0.7543 - val_loss: 182.4842 - val_accuracy: 0.5454\n",
            "Epoch 100/1000\n",
            "31/31 [==============================] - 25s 798ms/step - loss: 0.0082 - accuracy: 0.7470 - val_loss: 181.2136 - val_accuracy: 0.6153\n",
            "Epoch 101/1000\n",
            "31/31 [==============================] - ETA: 0s - loss: 0.0082 - accuracy: 0.7515(512, 768, 3)\n"
          ],
          "name": "stdout"
        },
        {
          "output_type": "stream",
          "text": [
            "WARNING:root:Lossy conversion from float64 to uint8. Range [0, 1]. Convert image to uint8 prior to saving to suppress this warning.\n"
          ],
          "name": "stderr"
        },
        {
          "output_type": "stream",
          "text": [
            "(800, 1088, 3)\n"
          ],
          "name": "stdout"
        },
        {
          "output_type": "stream",
          "text": [
            "WARNING:root:Lossy conversion from float64 to uint8. Range [0, 1]. Convert image to uint8 prior to saving to suppress this warning.\n"
          ],
          "name": "stderr"
        },
        {
          "output_type": "stream",
          "text": [
            "(856, 1280, 3)\n"
          ],
          "name": "stdout"
        },
        {
          "output_type": "stream",
          "text": [
            "WARNING:root:Lossy conversion from float64 to uint8. Range [0, 1]. Convert image to uint8 prior to saving to suppress this warning.\n"
          ],
          "name": "stderr"
        },
        {
          "output_type": "stream",
          "text": [
            "(528, 736, 3)\n"
          ],
          "name": "stdout"
        },
        {
          "output_type": "stream",
          "text": [
            "WARNING:root:Lossy conversion from float64 to uint8. Range [0, 1]. Convert image to uint8 prior to saving to suppress this warning.\n"
          ],
          "name": "stderr"
        },
        {
          "output_type": "stream",
          "text": [
            "(856, 1280, 3)\n"
          ],
          "name": "stdout"
        },
        {
          "output_type": "stream",
          "text": [
            "WARNING:root:Lossy conversion from float64 to uint8. Range [0, 1]. Convert image to uint8 prior to saving to suppress this warning.\n"
          ],
          "name": "stderr"
        },
        {
          "output_type": "stream",
          "text": [
            "(1400, 1400, 3)\n"
          ],
          "name": "stdout"
        },
        {
          "output_type": "stream",
          "text": [
            "WARNING:root:Lossy conversion from float64 to uint8. Range [0, 1]. Convert image to uint8 prior to saving to suppress this warning.\n"
          ],
          "name": "stderr"
        },
        {
          "output_type": "stream",
          "text": [
            "(664, 1024, 3)\n"
          ],
          "name": "stdout"
        },
        {
          "output_type": "stream",
          "text": [
            "WARNING:root:Lossy conversion from float64 to uint8. Range [0, 1]. Convert image to uint8 prior to saving to suppress this warning.\n"
          ],
          "name": "stderr"
        },
        {
          "output_type": "stream",
          "text": [
            "(776, 1024, 3)\n"
          ],
          "name": "stdout"
        },
        {
          "output_type": "stream",
          "text": [
            "WARNING:root:Lossy conversion from float64 to uint8. Range [0, 1]. Convert image to uint8 prior to saving to suppress this warning.\n"
          ],
          "name": "stderr"
        },
        {
          "output_type": "stream",
          "text": [
            "(856, 1280, 3)\n"
          ],
          "name": "stdout"
        },
        {
          "output_type": "stream",
          "text": [
            "WARNING:root:Lossy conversion from float64 to uint8. Range [0, 1]. Convert image to uint8 prior to saving to suppress this warning.\n",
            "WARNING:root:Lossy conversion from float64 to uint8. Range [0, 1]. Convert image to uint8 prior to saving to suppress this warning.\n"
          ],
          "name": "stderr"
        },
        {
          "output_type": "stream",
          "text": [
            "(424, 640, 3)\n",
            "(984, 1176, 3)\n"
          ],
          "name": "stdout"
        },
        {
          "output_type": "stream",
          "text": [
            "WARNING:root:Lossy conversion from float64 to uint8. Range [0, 1]. Convert image to uint8 prior to saving to suppress this warning.\n"
          ],
          "name": "stderr"
        },
        {
          "output_type": "stream",
          "text": [
            "(512, 768, 3)\n"
          ],
          "name": "stdout"
        },
        {
          "output_type": "stream",
          "text": [
            "WARNING:root:Lossy conversion from float64 to uint8. Range [0, 1]. Convert image to uint8 prior to saving to suppress this warning.\n"
          ],
          "name": "stderr"
        },
        {
          "output_type": "stream",
          "text": [
            "(856, 1280, 3)\n"
          ],
          "name": "stdout"
        },
        {
          "output_type": "stream",
          "text": [
            "WARNING:root:Lossy conversion from float64 to uint8. Range [0, 1]. Convert image to uint8 prior to saving to suppress this warning.\n"
          ],
          "name": "stderr"
        },
        {
          "output_type": "stream",
          "text": [
            "\b\b\b\b\b\b\b\b\b\b\b\b\b\b\b\b\b\b\b\b\b\b\b\b\b\b\b\b\b\b\b\b\b\b\b\b\b\b\b\b\b\b\b\b\b\b\b\b\b\b\b\b\b\b\b\b\b\b\b\b\b\b\b\b\b\b\b\b\b\b\b\b\b\b\b\b\b\b\b\b\b\b\r31/31 [==============================] - 40s 1s/step - loss: 0.0082 - accuracy: 0.7515 - val_loss: 181.9677 - val_accuracy: 0.5617\n",
            "Epoch 102/1000\n",
            "31/31 [==============================] - 25s 806ms/step - loss: 0.0079 - accuracy: 0.7539 - val_loss: 182.8592 - val_accuracy: 0.5564\n",
            "Epoch 103/1000\n",
            "31/31 [==============================] - 25s 810ms/step - loss: 0.0080 - accuracy: 0.7533 - val_loss: 180.6619 - val_accuracy: 0.5707\n",
            "Epoch 104/1000\n",
            "31/31 [==============================] - 25s 808ms/step - loss: 0.0079 - accuracy: 0.7545 - val_loss: 181.5227 - val_accuracy: 0.5638\n",
            "Epoch 105/1000\n",
            "31/31 [==============================] - 25s 810ms/step - loss: 0.0079 - accuracy: 0.7512 - val_loss: 181.9979 - val_accuracy: 0.5657\n",
            "Epoch 106/1000\n",
            "31/31 [==============================] - 25s 807ms/step - loss: 0.0078 - accuracy: 0.7537 - val_loss: 180.4737 - val_accuracy: 0.5842\n",
            "Epoch 107/1000\n",
            "31/31 [==============================] - 25s 810ms/step - loss: 0.0080 - accuracy: 0.7560 - val_loss: 181.8451 - val_accuracy: 0.5486\n",
            "Epoch 108/1000\n",
            "31/31 [==============================] - 25s 805ms/step - loss: 0.0078 - accuracy: 0.7527 - val_loss: 182.4235 - val_accuracy: 0.5474\n",
            "Epoch 109/1000\n",
            "31/31 [==============================] - 25s 805ms/step - loss: 0.0077 - accuracy: 0.7535 - val_loss: 182.6905 - val_accuracy: 0.5355\n",
            "Epoch 110/1000\n",
            "31/31 [==============================] - 25s 810ms/step - loss: 0.0079 - accuracy: 0.7534 - val_loss: 183.1698 - val_accuracy: 0.5129\n",
            "Epoch 111/1000\n",
            "31/31 [==============================] - ETA: 0s - loss: 0.0077 - accuracy: 0.7562(512, 768, 3)\n"
          ],
          "name": "stdout"
        },
        {
          "output_type": "stream",
          "text": [
            "WARNING:root:Lossy conversion from float64 to uint8. Range [0, 1]. Convert image to uint8 prior to saving to suppress this warning.\n"
          ],
          "name": "stderr"
        },
        {
          "output_type": "stream",
          "text": [
            "(800, 1088, 3)\n"
          ],
          "name": "stdout"
        },
        {
          "output_type": "stream",
          "text": [
            "WARNING:root:Lossy conversion from float64 to uint8. Range [0, 1]. Convert image to uint8 prior to saving to suppress this warning.\n"
          ],
          "name": "stderr"
        },
        {
          "output_type": "stream",
          "text": [
            "(856, 1280, 3)\n"
          ],
          "name": "stdout"
        },
        {
          "output_type": "stream",
          "text": [
            "WARNING:root:Lossy conversion from float64 to uint8. Range [0, 1]. Convert image to uint8 prior to saving to suppress this warning.\n"
          ],
          "name": "stderr"
        },
        {
          "output_type": "stream",
          "text": [
            "(528, 736, 3)\n"
          ],
          "name": "stdout"
        },
        {
          "output_type": "stream",
          "text": [
            "WARNING:root:Lossy conversion from float64 to uint8. Range [0, 1]. Convert image to uint8 prior to saving to suppress this warning.\n"
          ],
          "name": "stderr"
        },
        {
          "output_type": "stream",
          "text": [
            "(856, 1280, 3)\n"
          ],
          "name": "stdout"
        },
        {
          "output_type": "stream",
          "text": [
            "WARNING:root:Lossy conversion from float64 to uint8. Range [0, 1]. Convert image to uint8 prior to saving to suppress this warning.\n"
          ],
          "name": "stderr"
        },
        {
          "output_type": "stream",
          "text": [
            "(1400, 1400, 3)\n"
          ],
          "name": "stdout"
        },
        {
          "output_type": "stream",
          "text": [
            "WARNING:root:Lossy conversion from float64 to uint8. Range [0, 1]. Convert image to uint8 prior to saving to suppress this warning.\n"
          ],
          "name": "stderr"
        },
        {
          "output_type": "stream",
          "text": [
            "(664, 1024, 3)\n"
          ],
          "name": "stdout"
        },
        {
          "output_type": "stream",
          "text": [
            "WARNING:root:Lossy conversion from float64 to uint8. Range [0, 1]. Convert image to uint8 prior to saving to suppress this warning.\n"
          ],
          "name": "stderr"
        },
        {
          "output_type": "stream",
          "text": [
            "(776, 1024, 3)\n"
          ],
          "name": "stdout"
        },
        {
          "output_type": "stream",
          "text": [
            "WARNING:root:Lossy conversion from float64 to uint8. Range [0, 1]. Convert image to uint8 prior to saving to suppress this warning.\n"
          ],
          "name": "stderr"
        },
        {
          "output_type": "stream",
          "text": [
            "(856, 1280, 3)\n"
          ],
          "name": "stdout"
        },
        {
          "output_type": "stream",
          "text": [
            "WARNING:root:Lossy conversion from float64 to uint8. Range [0, 1]. Convert image to uint8 prior to saving to suppress this warning.\n",
            "WARNING:root:Lossy conversion from float64 to uint8. Range [0, 1]. Convert image to uint8 prior to saving to suppress this warning.\n"
          ],
          "name": "stderr"
        },
        {
          "output_type": "stream",
          "text": [
            "(424, 640, 3)\n",
            "(984, 1176, 3)\n"
          ],
          "name": "stdout"
        },
        {
          "output_type": "stream",
          "text": [
            "WARNING:root:Lossy conversion from float64 to uint8. Range [0, 1]. Convert image to uint8 prior to saving to suppress this warning.\n"
          ],
          "name": "stderr"
        },
        {
          "output_type": "stream",
          "text": [
            "(512, 768, 3)\n"
          ],
          "name": "stdout"
        },
        {
          "output_type": "stream",
          "text": [
            "WARNING:root:Lossy conversion from float64 to uint8. Range [0, 1]. Convert image to uint8 prior to saving to suppress this warning.\n"
          ],
          "name": "stderr"
        },
        {
          "output_type": "stream",
          "text": [
            "(856, 1280, 3)\n"
          ],
          "name": "stdout"
        },
        {
          "output_type": "stream",
          "text": [
            "WARNING:root:Lossy conversion from float64 to uint8. Range [0, 1]. Convert image to uint8 prior to saving to suppress this warning.\n"
          ],
          "name": "stderr"
        },
        {
          "output_type": "stream",
          "text": [
            "\b\b\b\b\b\b\b\b\b\b\b\b\b\b\b\b\b\b\b\b\b\b\b\b\b\b\b\b\b\b\b\b\b\b\b\b\b\b\b\b\b\b\b\b\b\b\b\b\b\b\b\b\b\b\b\b\b\b\b\b\b\b\b\b\b\b\b\b\b\b\b\b\b\b\b\b\b\b\b\b\b\b\r31/31 [==============================] - 40s 1s/step - loss: 0.0077 - accuracy: 0.7562 - val_loss: 182.5698 - val_accuracy: 0.5555\n",
            "Epoch 112/1000\n",
            "31/31 [==============================] - 25s 810ms/step - loss: 0.0077 - accuracy: 0.7520 - val_loss: 181.2309 - val_accuracy: 0.5535\n",
            "Epoch 113/1000\n",
            "31/31 [==============================] - 25s 807ms/step - loss: 0.0074 - accuracy: 0.7581 - val_loss: 182.3435 - val_accuracy: 0.5654\n",
            "Epoch 114/1000\n",
            "31/31 [==============================] - 25s 808ms/step - loss: 0.0075 - accuracy: 0.7551 - val_loss: 182.2719 - val_accuracy: 0.5507\n",
            "Epoch 115/1000\n",
            "31/31 [==============================] - 25s 810ms/step - loss: 0.0076 - accuracy: 0.7563 - val_loss: 182.4833 - val_accuracy: 0.5566\n",
            "Epoch 116/1000\n",
            "31/31 [==============================] - 25s 808ms/step - loss: 0.0073 - accuracy: 0.7593 - val_loss: 179.8627 - val_accuracy: 0.6012\n",
            "Epoch 117/1000\n",
            "31/31 [==============================] - 25s 808ms/step - loss: 0.0076 - accuracy: 0.7557 - val_loss: 180.9415 - val_accuracy: 0.5718\n",
            "Epoch 118/1000\n",
            "31/31 [==============================] - 25s 807ms/step - loss: 0.0073 - accuracy: 0.7548 - val_loss: 181.8524 - val_accuracy: 0.5760\n",
            "Epoch 119/1000\n",
            "31/31 [==============================] - 25s 812ms/step - loss: 0.0075 - accuracy: 0.7597 - val_loss: 181.0118 - val_accuracy: 0.5868\n",
            "Epoch 120/1000\n",
            "31/31 [==============================] - 25s 809ms/step - loss: 0.0074 - accuracy: 0.7564 - val_loss: 182.1660 - val_accuracy: 0.5642\n",
            "Epoch 121/1000\n",
            "31/31 [==============================] - ETA: 0s - loss: 0.0075 - accuracy: 0.7649(512, 768, 3)\n"
          ],
          "name": "stdout"
        },
        {
          "output_type": "stream",
          "text": [
            "WARNING:root:Lossy conversion from float64 to uint8. Range [0, 1]. Convert image to uint8 prior to saving to suppress this warning.\n"
          ],
          "name": "stderr"
        },
        {
          "output_type": "stream",
          "text": [
            "(800, 1088, 3)\n"
          ],
          "name": "stdout"
        },
        {
          "output_type": "stream",
          "text": [
            "WARNING:root:Lossy conversion from float64 to uint8. Range [0, 1]. Convert image to uint8 prior to saving to suppress this warning.\n"
          ],
          "name": "stderr"
        },
        {
          "output_type": "stream",
          "text": [
            "(856, 1280, 3)\n"
          ],
          "name": "stdout"
        },
        {
          "output_type": "stream",
          "text": [
            "WARNING:root:Lossy conversion from float64 to uint8. Range [0, 1]. Convert image to uint8 prior to saving to suppress this warning.\n"
          ],
          "name": "stderr"
        },
        {
          "output_type": "stream",
          "text": [
            "(528, 736, 3)\n"
          ],
          "name": "stdout"
        },
        {
          "output_type": "stream",
          "text": [
            "WARNING:root:Lossy conversion from float64 to uint8. Range [0, 1]. Convert image to uint8 prior to saving to suppress this warning.\n"
          ],
          "name": "stderr"
        },
        {
          "output_type": "stream",
          "text": [
            "(856, 1280, 3)\n"
          ],
          "name": "stdout"
        },
        {
          "output_type": "stream",
          "text": [
            "WARNING:root:Lossy conversion from float64 to uint8. Range [0, 1]. Convert image to uint8 prior to saving to suppress this warning.\n"
          ],
          "name": "stderr"
        },
        {
          "output_type": "stream",
          "text": [
            "(1400, 1400, 3)\n"
          ],
          "name": "stdout"
        },
        {
          "output_type": "stream",
          "text": [
            "WARNING:root:Lossy conversion from float64 to uint8. Range [0, 1]. Convert image to uint8 prior to saving to suppress this warning.\n"
          ],
          "name": "stderr"
        },
        {
          "output_type": "stream",
          "text": [
            "(664, 1024, 3)\n"
          ],
          "name": "stdout"
        },
        {
          "output_type": "stream",
          "text": [
            "WARNING:root:Lossy conversion from float64 to uint8. Range [0, 1]. Convert image to uint8 prior to saving to suppress this warning.\n"
          ],
          "name": "stderr"
        },
        {
          "output_type": "stream",
          "text": [
            "(776, 1024, 3)\n"
          ],
          "name": "stdout"
        },
        {
          "output_type": "stream",
          "text": [
            "WARNING:root:Lossy conversion from float64 to uint8. Range [0, 1]. Convert image to uint8 prior to saving to suppress this warning.\n"
          ],
          "name": "stderr"
        },
        {
          "output_type": "stream",
          "text": [
            "(856, 1280, 3)\n"
          ],
          "name": "stdout"
        },
        {
          "output_type": "stream",
          "text": [
            "WARNING:root:Lossy conversion from float64 to uint8. Range [0, 1]. Convert image to uint8 prior to saving to suppress this warning.\n",
            "WARNING:root:Lossy conversion from float64 to uint8. Range [0, 1]. Convert image to uint8 prior to saving to suppress this warning.\n"
          ],
          "name": "stderr"
        },
        {
          "output_type": "stream",
          "text": [
            "(424, 640, 3)\n",
            "(984, 1176, 3)\n"
          ],
          "name": "stdout"
        },
        {
          "output_type": "stream",
          "text": [
            "WARNING:root:Lossy conversion from float64 to uint8. Range [0, 1]. Convert image to uint8 prior to saving to suppress this warning.\n"
          ],
          "name": "stderr"
        },
        {
          "output_type": "stream",
          "text": [
            "(512, 768, 3)\n"
          ],
          "name": "stdout"
        },
        {
          "output_type": "stream",
          "text": [
            "/usr/local/lib/python3.6/dist-packages/skimage/color/colorconv.py:1068: UserWarning: Color data out of range: Z < 0 in 33 pixels\n",
            "  return xyz2rgb(lab2xyz(lab, illuminant, observer))\n",
            "WARNING:root:Lossy conversion from float64 to uint8. Range [0, 1]. Convert image to uint8 prior to saving to suppress this warning.\n"
          ],
          "name": "stderr"
        },
        {
          "output_type": "stream",
          "text": [
            "(856, 1280, 3)\n"
          ],
          "name": "stdout"
        },
        {
          "output_type": "stream",
          "text": [
            "WARNING:root:Lossy conversion from float64 to uint8. Range [0, 1]. Convert image to uint8 prior to saving to suppress this warning.\n"
          ],
          "name": "stderr"
        },
        {
          "output_type": "stream",
          "text": [
            "\b\b\b\b\b\b\b\b\b\b\b\b\b\b\b\b\b\b\b\b\b\b\b\b\b\b\b\b\b\b\b\b\b\b\b\b\b\b\b\b\b\b\b\b\b\b\b\b\b\b\b\b\b\b\b\b\b\b\b\b\b\b\b\b\b\b\b\b\b\b\b\b\b\b\b\b\b\b\b\b\b\b\r31/31 [==============================] - 40s 1s/step - loss: 0.0075 - accuracy: 0.7649 - val_loss: 182.4746 - val_accuracy: 0.5292\n",
            "Epoch 122/1000\n",
            "31/31 [==============================] - 25s 804ms/step - loss: 0.0074 - accuracy: 0.7568 - val_loss: 182.4969 - val_accuracy: 0.5845\n",
            "Epoch 123/1000\n",
            "31/31 [==============================] - 25s 805ms/step - loss: 0.0072 - accuracy: 0.7583 - val_loss: 182.2455 - val_accuracy: 0.5867\n",
            "Epoch 124/1000\n",
            "31/31 [==============================] - 25s 805ms/step - loss: 0.0078 - accuracy: 0.7540 - val_loss: 183.2005 - val_accuracy: 0.5333\n",
            "Epoch 125/1000\n",
            "31/31 [==============================] - 25s 808ms/step - loss: 0.0072 - accuracy: 0.7585 - val_loss: 183.1614 - val_accuracy: 0.5421\n",
            "Epoch 126/1000\n",
            "31/31 [==============================] - 25s 810ms/step - loss: 0.0075 - accuracy: 0.7526 - val_loss: 183.0374 - val_accuracy: 0.5494\n",
            "Epoch 127/1000\n",
            "31/31 [==============================] - 25s 807ms/step - loss: 0.0074 - accuracy: 0.7584 - val_loss: 182.7246 - val_accuracy: 0.5677\n",
            "Epoch 128/1000\n",
            "31/31 [==============================] - 25s 807ms/step - loss: 0.0072 - accuracy: 0.7598 - val_loss: 182.7088 - val_accuracy: 0.5709\n",
            "Epoch 129/1000\n",
            "31/31 [==============================] - 25s 817ms/step - loss: 0.0072 - accuracy: 0.7587 - val_loss: 182.4125 - val_accuracy: 0.5330\n",
            "Epoch 130/1000\n",
            "31/31 [==============================] - 25s 818ms/step - loss: 0.0071 - accuracy: 0.7606 - val_loss: 180.7170 - val_accuracy: 0.5986\n",
            "Epoch 131/1000\n",
            "31/31 [==============================] - ETA: 0s - loss: 0.0072 - accuracy: 0.7577(512, 768, 3)\n"
          ],
          "name": "stdout"
        },
        {
          "output_type": "stream",
          "text": [
            "/usr/local/lib/python3.6/dist-packages/skimage/color/colorconv.py:1068: UserWarning: Color data out of range: Z < 0 in 18 pixels\n",
            "  return xyz2rgb(lab2xyz(lab, illuminant, observer))\n",
            "WARNING:root:Lossy conversion from float64 to uint8. Range [0, 1]. Convert image to uint8 prior to saving to suppress this warning.\n"
          ],
          "name": "stderr"
        },
        {
          "output_type": "stream",
          "text": [
            "(800, 1088, 3)\n"
          ],
          "name": "stdout"
        },
        {
          "output_type": "stream",
          "text": [
            "WARNING:root:Lossy conversion from float64 to uint8. Range [0, 1]. Convert image to uint8 prior to saving to suppress this warning.\n"
          ],
          "name": "stderr"
        },
        {
          "output_type": "stream",
          "text": [
            "(856, 1280, 3)\n"
          ],
          "name": "stdout"
        },
        {
          "output_type": "stream",
          "text": [
            "WARNING:root:Lossy conversion from float64 to uint8. Range [0, 1]. Convert image to uint8 prior to saving to suppress this warning.\n"
          ],
          "name": "stderr"
        },
        {
          "output_type": "stream",
          "text": [
            "(528, 736, 3)\n"
          ],
          "name": "stdout"
        },
        {
          "output_type": "stream",
          "text": [
            "WARNING:root:Lossy conversion from float64 to uint8. Range [0, 1]. Convert image to uint8 prior to saving to suppress this warning.\n"
          ],
          "name": "stderr"
        },
        {
          "output_type": "stream",
          "text": [
            "(856, 1280, 3)\n"
          ],
          "name": "stdout"
        },
        {
          "output_type": "stream",
          "text": [
            "WARNING:root:Lossy conversion from float64 to uint8. Range [0, 1]. Convert image to uint8 prior to saving to suppress this warning.\n"
          ],
          "name": "stderr"
        },
        {
          "output_type": "stream",
          "text": [
            "(1400, 1400, 3)\n"
          ],
          "name": "stdout"
        },
        {
          "output_type": "stream",
          "text": [
            "WARNING:root:Lossy conversion from float64 to uint8. Range [0, 1]. Convert image to uint8 prior to saving to suppress this warning.\n"
          ],
          "name": "stderr"
        },
        {
          "output_type": "stream",
          "text": [
            "(664, 1024, 3)\n"
          ],
          "name": "stdout"
        },
        {
          "output_type": "stream",
          "text": [
            "WARNING:root:Lossy conversion from float64 to uint8. Range [0, 1]. Convert image to uint8 prior to saving to suppress this warning.\n"
          ],
          "name": "stderr"
        },
        {
          "output_type": "stream",
          "text": [
            "(776, 1024, 3)\n"
          ],
          "name": "stdout"
        },
        {
          "output_type": "stream",
          "text": [
            "WARNING:root:Lossy conversion from float64 to uint8. Range [0, 1]. Convert image to uint8 prior to saving to suppress this warning.\n"
          ],
          "name": "stderr"
        },
        {
          "output_type": "stream",
          "text": [
            "(856, 1280, 3)\n"
          ],
          "name": "stdout"
        },
        {
          "output_type": "stream",
          "text": [
            "WARNING:root:Lossy conversion from float64 to uint8. Range [0, 1]. Convert image to uint8 prior to saving to suppress this warning.\n",
            "WARNING:root:Lossy conversion from float64 to uint8. Range [0, 1]. Convert image to uint8 prior to saving to suppress this warning.\n"
          ],
          "name": "stderr"
        },
        {
          "output_type": "stream",
          "text": [
            "(424, 640, 3)\n",
            "(984, 1176, 3)\n"
          ],
          "name": "stdout"
        },
        {
          "output_type": "stream",
          "text": [
            "WARNING:root:Lossy conversion from float64 to uint8. Range [0, 1]. Convert image to uint8 prior to saving to suppress this warning.\n"
          ],
          "name": "stderr"
        },
        {
          "output_type": "stream",
          "text": [
            "(512, 768, 3)\n"
          ],
          "name": "stdout"
        },
        {
          "output_type": "stream",
          "text": [
            "WARNING:root:Lossy conversion from float64 to uint8. Range [0, 1]. Convert image to uint8 prior to saving to suppress this warning.\n"
          ],
          "name": "stderr"
        },
        {
          "output_type": "stream",
          "text": [
            "(856, 1280, 3)\n"
          ],
          "name": "stdout"
        },
        {
          "output_type": "stream",
          "text": [
            "WARNING:root:Lossy conversion from float64 to uint8. Range [0, 1]. Convert image to uint8 prior to saving to suppress this warning.\n"
          ],
          "name": "stderr"
        },
        {
          "output_type": "stream",
          "text": [
            "\b\b\b\b\b\b\b\b\b\b\b\b\b\b\b\b\b\b\b\b\b\b\b\b\b\b\b\b\b\b\b\b\b\b\b\b\b\b\b\b\b\b\b\b\b\b\b\b\b\b\b\b\b\b\b\b\b\b\b\b\b\b\b\b\b\b\b\b\b\b\b\b\b\b\b\b\b\b\b\b\b\b\r31/31 [==============================] - 40s 1s/step - loss: 0.0072 - accuracy: 0.7577 - val_loss: 183.1487 - val_accuracy: 0.5368\n",
            "Epoch 132/1000\n",
            "31/31 [==============================] - 25s 810ms/step - loss: 0.0070 - accuracy: 0.7626 - val_loss: 181.4863 - val_accuracy: 0.5635\n",
            "Epoch 133/1000\n",
            "31/31 [==============================] - 25s 814ms/step - loss: 0.0073 - accuracy: 0.7581 - val_loss: 181.6435 - val_accuracy: 0.5631\n",
            "Epoch 134/1000\n",
            "31/31 [==============================] - 25s 816ms/step - loss: 0.0070 - accuracy: 0.7588 - val_loss: 181.7477 - val_accuracy: 0.5685\n",
            "Epoch 135/1000\n",
            "31/31 [==============================] - 25s 811ms/step - loss: 0.0072 - accuracy: 0.7608 - val_loss: 183.0340 - val_accuracy: 0.5366\n",
            "Epoch 136/1000\n",
            "31/31 [==============================] - 25s 813ms/step - loss: 0.0069 - accuracy: 0.7551 - val_loss: 181.7873 - val_accuracy: 0.5542\n",
            "Epoch 137/1000\n",
            "31/31 [==============================] - 25s 816ms/step - loss: 0.0070 - accuracy: 0.7622 - val_loss: 182.2434 - val_accuracy: 0.5531\n",
            "Epoch 138/1000\n",
            "31/31 [==============================] - 25s 806ms/step - loss: 0.0069 - accuracy: 0.7650 - val_loss: 183.0908 - val_accuracy: 0.5317\n",
            "Epoch 139/1000\n",
            "31/31 [==============================] - 25s 800ms/step - loss: 0.0071 - accuracy: 0.7573 - val_loss: 182.5991 - val_accuracy: 0.5287\n",
            "Epoch 140/1000\n",
            "31/31 [==============================] - 25s 803ms/step - loss: 0.0068 - accuracy: 0.7646 - val_loss: 183.3672 - val_accuracy: 0.5050\n",
            "Epoch 141/1000\n",
            "31/31 [==============================] - ETA: 0s - loss: 0.0068 - accuracy: 0.7592(512, 768, 3)\n"
          ],
          "name": "stdout"
        },
        {
          "output_type": "stream",
          "text": [
            "/usr/local/lib/python3.6/dist-packages/skimage/color/colorconv.py:1068: UserWarning: Color data out of range: Z < 0 in 28 pixels\n",
            "  return xyz2rgb(lab2xyz(lab, illuminant, observer))\n",
            "WARNING:root:Lossy conversion from float64 to uint8. Range [0, 1]. Convert image to uint8 prior to saving to suppress this warning.\n"
          ],
          "name": "stderr"
        },
        {
          "output_type": "stream",
          "text": [
            "(800, 1088, 3)\n"
          ],
          "name": "stdout"
        },
        {
          "output_type": "stream",
          "text": [
            "WARNING:root:Lossy conversion from float64 to uint8. Range [0, 1]. Convert image to uint8 prior to saving to suppress this warning.\n"
          ],
          "name": "stderr"
        },
        {
          "output_type": "stream",
          "text": [
            "(856, 1280, 3)\n"
          ],
          "name": "stdout"
        },
        {
          "output_type": "stream",
          "text": [
            "WARNING:root:Lossy conversion from float64 to uint8. Range [0, 1]. Convert image to uint8 prior to saving to suppress this warning.\n"
          ],
          "name": "stderr"
        },
        {
          "output_type": "stream",
          "text": [
            "(528, 736, 3)\n"
          ],
          "name": "stdout"
        },
        {
          "output_type": "stream",
          "text": [
            "WARNING:root:Lossy conversion from float64 to uint8. Range [0, 1]. Convert image to uint8 prior to saving to suppress this warning.\n"
          ],
          "name": "stderr"
        },
        {
          "output_type": "stream",
          "text": [
            "(856, 1280, 3)\n"
          ],
          "name": "stdout"
        },
        {
          "output_type": "stream",
          "text": [
            "WARNING:root:Lossy conversion from float64 to uint8. Range [0, 1]. Convert image to uint8 prior to saving to suppress this warning.\n"
          ],
          "name": "stderr"
        },
        {
          "output_type": "stream",
          "text": [
            "(1400, 1400, 3)\n"
          ],
          "name": "stdout"
        },
        {
          "output_type": "stream",
          "text": [
            "WARNING:root:Lossy conversion from float64 to uint8. Range [0, 1]. Convert image to uint8 prior to saving to suppress this warning.\n"
          ],
          "name": "stderr"
        },
        {
          "output_type": "stream",
          "text": [
            "(664, 1024, 3)\n"
          ],
          "name": "stdout"
        },
        {
          "output_type": "stream",
          "text": [
            "WARNING:root:Lossy conversion from float64 to uint8. Range [0, 1]. Convert image to uint8 prior to saving to suppress this warning.\n"
          ],
          "name": "stderr"
        },
        {
          "output_type": "stream",
          "text": [
            "(776, 1024, 3)\n"
          ],
          "name": "stdout"
        },
        {
          "output_type": "stream",
          "text": [
            "WARNING:root:Lossy conversion from float64 to uint8. Range [0, 1]. Convert image to uint8 prior to saving to suppress this warning.\n"
          ],
          "name": "stderr"
        },
        {
          "output_type": "stream",
          "text": [
            "(856, 1280, 3)\n"
          ],
          "name": "stdout"
        },
        {
          "output_type": "stream",
          "text": [
            "WARNING:root:Lossy conversion from float64 to uint8. Range [0, 1]. Convert image to uint8 prior to saving to suppress this warning.\n",
            "WARNING:root:Lossy conversion from float64 to uint8. Range [0, 1]. Convert image to uint8 prior to saving to suppress this warning.\n"
          ],
          "name": "stderr"
        },
        {
          "output_type": "stream",
          "text": [
            "(424, 640, 3)\n",
            "(984, 1176, 3)\n"
          ],
          "name": "stdout"
        },
        {
          "output_type": "stream",
          "text": [
            "WARNING:root:Lossy conversion from float64 to uint8. Range [0, 1]. Convert image to uint8 prior to saving to suppress this warning.\n"
          ],
          "name": "stderr"
        },
        {
          "output_type": "stream",
          "text": [
            "(512, 768, 3)\n"
          ],
          "name": "stdout"
        },
        {
          "output_type": "stream",
          "text": [
            "WARNING:root:Lossy conversion from float64 to uint8. Range [0, 1]. Convert image to uint8 prior to saving to suppress this warning.\n"
          ],
          "name": "stderr"
        },
        {
          "output_type": "stream",
          "text": [
            "(856, 1280, 3)\n"
          ],
          "name": "stdout"
        },
        {
          "output_type": "stream",
          "text": [
            "WARNING:root:Lossy conversion from float64 to uint8. Range [0, 1]. Convert image to uint8 prior to saving to suppress this warning.\n"
          ],
          "name": "stderr"
        },
        {
          "output_type": "stream",
          "text": [
            "\b\b\b\b\b\b\b\b\b\b\b\b\b\b\b\b\b\b\b\b\b\b\b\b\b\b\b\b\b\b\b\b\b\b\b\b\b\b\b\b\b\b\b\b\b\b\b\b\b\b\b\b\b\b\b\b\b\b\b\b\b\b\b\b\b\b\b\b\b\b\b\b\b\b\b\b\b\b\b\b\b\b\r31/31 [==============================] - 40s 1s/step - loss: 0.0068 - accuracy: 0.7592 - val_loss: 182.0683 - val_accuracy: 0.5662\n",
            "Epoch 142/1000\n",
            "31/31 [==============================] - 25s 806ms/step - loss: 0.0068 - accuracy: 0.7612 - val_loss: 182.9835 - val_accuracy: 0.5383\n",
            "Epoch 143/1000\n",
            "31/31 [==============================] - 25s 807ms/step - loss: 0.0070 - accuracy: 0.7668 - val_loss: 182.7189 - val_accuracy: 0.5931\n",
            "Epoch 144/1000\n",
            "31/31 [==============================] - 25s 806ms/step - loss: 0.0069 - accuracy: 0.7589 - val_loss: 180.6615 - val_accuracy: 0.6027\n",
            "Epoch 145/1000\n",
            "31/31 [==============================] - 25s 807ms/step - loss: 0.0069 - accuracy: 0.7657 - val_loss: 182.1106 - val_accuracy: 0.5792\n",
            "Epoch 146/1000\n",
            "31/31 [==============================] - 25s 804ms/step - loss: 0.0067 - accuracy: 0.7581 - val_loss: 181.2240 - val_accuracy: 0.5716\n",
            "Epoch 147/1000\n",
            "31/31 [==============================] - 25s 809ms/step - loss: 0.0068 - accuracy: 0.7608 - val_loss: 183.4196 - val_accuracy: 0.5269\n",
            "Epoch 148/1000\n",
            "31/31 [==============================] - 25s 811ms/step - loss: 0.0068 - accuracy: 0.7650 - val_loss: 183.4815 - val_accuracy: 0.5103\n",
            "Epoch 149/1000\n",
            "31/31 [==============================] - 25s 814ms/step - loss: 0.0064 - accuracy: 0.7680 - val_loss: 181.7544 - val_accuracy: 0.5695\n",
            "Epoch 150/1000\n",
            "31/31 [==============================] - 25s 806ms/step - loss: 0.0070 - accuracy: 0.7586 - val_loss: 179.7816 - val_accuracy: 0.5851\n",
            "Epoch 151/1000\n",
            "31/31 [==============================] - ETA: 0s - loss: 0.0069 - accuracy: 0.7632(512, 768, 3)\n"
          ],
          "name": "stdout"
        },
        {
          "output_type": "stream",
          "text": [
            "/usr/local/lib/python3.6/dist-packages/skimage/color/colorconv.py:1068: UserWarning: Color data out of range: Z < 0 in 20 pixels\n",
            "  return xyz2rgb(lab2xyz(lab, illuminant, observer))\n",
            "WARNING:root:Lossy conversion from float64 to uint8. Range [0, 1]. Convert image to uint8 prior to saving to suppress this warning.\n"
          ],
          "name": "stderr"
        },
        {
          "output_type": "stream",
          "text": [
            "(800, 1088, 3)\n"
          ],
          "name": "stdout"
        },
        {
          "output_type": "stream",
          "text": [
            "WARNING:root:Lossy conversion from float64 to uint8. Range [0, 1]. Convert image to uint8 prior to saving to suppress this warning.\n"
          ],
          "name": "stderr"
        },
        {
          "output_type": "stream",
          "text": [
            "(856, 1280, 3)\n"
          ],
          "name": "stdout"
        },
        {
          "output_type": "stream",
          "text": [
            "WARNING:root:Lossy conversion from float64 to uint8. Range [0, 1]. Convert image to uint8 prior to saving to suppress this warning.\n"
          ],
          "name": "stderr"
        },
        {
          "output_type": "stream",
          "text": [
            "(528, 736, 3)\n"
          ],
          "name": "stdout"
        },
        {
          "output_type": "stream",
          "text": [
            "WARNING:root:Lossy conversion from float64 to uint8. Range [0, 1]. Convert image to uint8 prior to saving to suppress this warning.\n"
          ],
          "name": "stderr"
        },
        {
          "output_type": "stream",
          "text": [
            "(856, 1280, 3)\n"
          ],
          "name": "stdout"
        },
        {
          "output_type": "stream",
          "text": [
            "WARNING:root:Lossy conversion from float64 to uint8. Range [0, 1]. Convert image to uint8 prior to saving to suppress this warning.\n"
          ],
          "name": "stderr"
        },
        {
          "output_type": "stream",
          "text": [
            "(1400, 1400, 3)\n"
          ],
          "name": "stdout"
        },
        {
          "output_type": "stream",
          "text": [
            "WARNING:root:Lossy conversion from float64 to uint8. Range [0, 1]. Convert image to uint8 prior to saving to suppress this warning.\n"
          ],
          "name": "stderr"
        },
        {
          "output_type": "stream",
          "text": [
            "(664, 1024, 3)\n"
          ],
          "name": "stdout"
        },
        {
          "output_type": "stream",
          "text": [
            "/usr/local/lib/python3.6/dist-packages/skimage/color/colorconv.py:1068: UserWarning: Color data out of range: Z < 0 in 24 pixels\n",
            "  return xyz2rgb(lab2xyz(lab, illuminant, observer))\n",
            "WARNING:root:Lossy conversion from float64 to uint8. Range [0, 1]. Convert image to uint8 prior to saving to suppress this warning.\n"
          ],
          "name": "stderr"
        },
        {
          "output_type": "stream",
          "text": [
            "(776, 1024, 3)\n"
          ],
          "name": "stdout"
        },
        {
          "output_type": "stream",
          "text": [
            "WARNING:root:Lossy conversion from float64 to uint8. Range [0, 1]. Convert image to uint8 prior to saving to suppress this warning.\n"
          ],
          "name": "stderr"
        },
        {
          "output_type": "stream",
          "text": [
            "(856, 1280, 3)\n"
          ],
          "name": "stdout"
        },
        {
          "output_type": "stream",
          "text": [
            "WARNING:root:Lossy conversion from float64 to uint8. Range [0, 1]. Convert image to uint8 prior to saving to suppress this warning.\n",
            "/usr/local/lib/python3.6/dist-packages/skimage/color/colorconv.py:1068: UserWarning: Color data out of range: Z < 0 in 8 pixels\n",
            "  return xyz2rgb(lab2xyz(lab, illuminant, observer))\n",
            "WARNING:root:Lossy conversion from float64 to uint8. Range [0, 1]. Convert image to uint8 prior to saving to suppress this warning.\n"
          ],
          "name": "stderr"
        },
        {
          "output_type": "stream",
          "text": [
            "(424, 640, 3)\n",
            "(984, 1176, 3)\n"
          ],
          "name": "stdout"
        },
        {
          "output_type": "stream",
          "text": [
            "WARNING:root:Lossy conversion from float64 to uint8. Range [0, 1]. Convert image to uint8 prior to saving to suppress this warning.\n"
          ],
          "name": "stderr"
        },
        {
          "output_type": "stream",
          "text": [
            "(512, 768, 3)\n"
          ],
          "name": "stdout"
        },
        {
          "output_type": "stream",
          "text": [
            "/usr/local/lib/python3.6/dist-packages/skimage/color/colorconv.py:1068: UserWarning: Color data out of range: Z < 0 in 12 pixels\n",
            "  return xyz2rgb(lab2xyz(lab, illuminant, observer))\n",
            "WARNING:root:Lossy conversion from float64 to uint8. Range [0, 1]. Convert image to uint8 prior to saving to suppress this warning.\n"
          ],
          "name": "stderr"
        },
        {
          "output_type": "stream",
          "text": [
            "(856, 1280, 3)\n"
          ],
          "name": "stdout"
        },
        {
          "output_type": "stream",
          "text": [
            "WARNING:root:Lossy conversion from float64 to uint8. Range [0, 1]. Convert image to uint8 prior to saving to suppress this warning.\n"
          ],
          "name": "stderr"
        },
        {
          "output_type": "stream",
          "text": [
            "\b\b\b\b\b\b\b\b\b\b\b\b\b\b\b\b\b\b\b\b\b\b\b\b\b\b\b\b\b\b\b\b\b\b\b\b\b\b\b\b\b\b\b\b\b\b\b\b\b\b\b\b\b\b\b\b\b\b\b\b\b\b\b\b\b\b\b\b\b\b\b\b\b\b\b\b\b\b\b\b\b\b\r31/31 [==============================] - 40s 1s/step - loss: 0.0069 - accuracy: 0.7632 - val_loss: 181.9566 - val_accuracy: 0.5488\n",
            "Epoch 152/1000\n",
            "31/31 [==============================] - 25s 808ms/step - loss: 0.0066 - accuracy: 0.7663 - val_loss: 182.6071 - val_accuracy: 0.5287\n",
            "Epoch 153/1000\n",
            "31/31 [==============================] - 25s 809ms/step - loss: 0.0063 - accuracy: 0.7654 - val_loss: 184.1770 - val_accuracy: 0.4833\n",
            "Epoch 154/1000\n",
            "31/31 [==============================] - 25s 809ms/step - loss: 0.0069 - accuracy: 0.7614 - val_loss: 180.3719 - val_accuracy: 0.6089\n",
            "Epoch 155/1000\n",
            "31/31 [==============================] - 25s 807ms/step - loss: 0.0066 - accuracy: 0.7680 - val_loss: 183.0841 - val_accuracy: 0.5207\n",
            "Epoch 156/1000\n",
            "31/31 [==============================] - 25s 807ms/step - loss: 0.0064 - accuracy: 0.7622 - val_loss: 183.3316 - val_accuracy: 0.5050\n",
            "Epoch 157/1000\n",
            "31/31 [==============================] - 25s 807ms/step - loss: 0.0065 - accuracy: 0.7648 - val_loss: 182.9827 - val_accuracy: 0.5205\n",
            "Epoch 158/1000\n",
            "31/31 [==============================] - 25s 808ms/step - loss: 0.0064 - accuracy: 0.7647 - val_loss: 180.2883 - val_accuracy: 0.5963\n",
            "Epoch 159/1000\n",
            "31/31 [==============================] - 25s 810ms/step - loss: 0.0065 - accuracy: 0.7627 - val_loss: 183.0573 - val_accuracy: 0.5043\n",
            "Epoch 160/1000\n",
            "31/31 [==============================] - 25s 810ms/step - loss: 0.0065 - accuracy: 0.7673 - val_loss: 182.1558 - val_accuracy: 0.5587\n",
            "Epoch 161/1000\n",
            "31/31 [==============================] - ETA: 0s - loss: 0.0064 - accuracy: 0.7657(512, 768, 3)\n"
          ],
          "name": "stdout"
        },
        {
          "output_type": "stream",
          "text": [
            "/usr/local/lib/python3.6/dist-packages/skimage/color/colorconv.py:1068: UserWarning: Color data out of range: Z < 0 in 9 pixels\n",
            "  return xyz2rgb(lab2xyz(lab, illuminant, observer))\n",
            "WARNING:root:Lossy conversion from float64 to uint8. Range [0, 1]. Convert image to uint8 prior to saving to suppress this warning.\n"
          ],
          "name": "stderr"
        },
        {
          "output_type": "stream",
          "text": [
            "(800, 1088, 3)\n"
          ],
          "name": "stdout"
        },
        {
          "output_type": "stream",
          "text": [
            "WARNING:root:Lossy conversion from float64 to uint8. Range [0, 1]. Convert image to uint8 prior to saving to suppress this warning.\n"
          ],
          "name": "stderr"
        },
        {
          "output_type": "stream",
          "text": [
            "(856, 1280, 3)\n"
          ],
          "name": "stdout"
        },
        {
          "output_type": "stream",
          "text": [
            "WARNING:root:Lossy conversion from float64 to uint8. Range [0, 1]. Convert image to uint8 prior to saving to suppress this warning.\n"
          ],
          "name": "stderr"
        },
        {
          "output_type": "stream",
          "text": [
            "(528, 736, 3)\n"
          ],
          "name": "stdout"
        },
        {
          "output_type": "stream",
          "text": [
            "WARNING:root:Lossy conversion from float64 to uint8. Range [0, 1]. Convert image to uint8 prior to saving to suppress this warning.\n"
          ],
          "name": "stderr"
        },
        {
          "output_type": "stream",
          "text": [
            "(856, 1280, 3)\n"
          ],
          "name": "stdout"
        },
        {
          "output_type": "stream",
          "text": [
            "WARNING:root:Lossy conversion from float64 to uint8. Range [0, 1]. Convert image to uint8 prior to saving to suppress this warning.\n"
          ],
          "name": "stderr"
        },
        {
          "output_type": "stream",
          "text": [
            "(1400, 1400, 3)\n"
          ],
          "name": "stdout"
        },
        {
          "output_type": "stream",
          "text": [
            "WARNING:root:Lossy conversion from float64 to uint8. Range [0, 1]. Convert image to uint8 prior to saving to suppress this warning.\n"
          ],
          "name": "stderr"
        },
        {
          "output_type": "stream",
          "text": [
            "(664, 1024, 3)\n"
          ],
          "name": "stdout"
        },
        {
          "output_type": "stream",
          "text": [
            "WARNING:root:Lossy conversion from float64 to uint8. Range [0, 1]. Convert image to uint8 prior to saving to suppress this warning.\n"
          ],
          "name": "stderr"
        },
        {
          "output_type": "stream",
          "text": [
            "(776, 1024, 3)\n"
          ],
          "name": "stdout"
        },
        {
          "output_type": "stream",
          "text": [
            "WARNING:root:Lossy conversion from float64 to uint8. Range [0, 1]. Convert image to uint8 prior to saving to suppress this warning.\n"
          ],
          "name": "stderr"
        },
        {
          "output_type": "stream",
          "text": [
            "(856, 1280, 3)\n"
          ],
          "name": "stdout"
        },
        {
          "output_type": "stream",
          "text": [
            "WARNING:root:Lossy conversion from float64 to uint8. Range [0, 1]. Convert image to uint8 prior to saving to suppress this warning.\n",
            "WARNING:root:Lossy conversion from float64 to uint8. Range [0, 1]. Convert image to uint8 prior to saving to suppress this warning.\n"
          ],
          "name": "stderr"
        },
        {
          "output_type": "stream",
          "text": [
            "(424, 640, 3)\n",
            "(984, 1176, 3)\n"
          ],
          "name": "stdout"
        },
        {
          "output_type": "stream",
          "text": [
            "WARNING:root:Lossy conversion from float64 to uint8. Range [0, 1]. Convert image to uint8 prior to saving to suppress this warning.\n"
          ],
          "name": "stderr"
        },
        {
          "output_type": "stream",
          "text": [
            "(512, 768, 3)\n"
          ],
          "name": "stdout"
        },
        {
          "output_type": "stream",
          "text": [
            "WARNING:root:Lossy conversion from float64 to uint8. Range [0, 1]. Convert image to uint8 prior to saving to suppress this warning.\n"
          ],
          "name": "stderr"
        },
        {
          "output_type": "stream",
          "text": [
            "(856, 1280, 3)\n"
          ],
          "name": "stdout"
        },
        {
          "output_type": "stream",
          "text": [
            "WARNING:root:Lossy conversion from float64 to uint8. Range [0, 1]. Convert image to uint8 prior to saving to suppress this warning.\n"
          ],
          "name": "stderr"
        },
        {
          "output_type": "stream",
          "text": [
            "\b\b\b\b\b\b\b\b\b\b\b\b\b\b\b\b\b\b\b\b\b\b\b\b\b\b\b\b\b\b\b\b\b\b\b\b\b\b\b\b\b\b\b\b\b\b\b\b\b\b\b\b\b\b\b\b\b\b\b\b\b\b\b\b\b\b\b\b\b\b\b\b\b\b\b\b\b\b\b\b\b\b\r31/31 [==============================] - 40s 1s/step - loss: 0.0064 - accuracy: 0.7657 - val_loss: 182.5827 - val_accuracy: 0.5304\n",
            "Epoch 162/1000\n",
            "31/31 [==============================] - 25s 819ms/step - loss: 0.0064 - accuracy: 0.7654 - val_loss: 182.5254 - val_accuracy: 0.5471\n",
            "Epoch 163/1000\n",
            "31/31 [==============================] - 25s 812ms/step - loss: 0.0064 - accuracy: 0.7670 - val_loss: 182.1620 - val_accuracy: 0.5783\n",
            "Epoch 164/1000\n",
            "31/31 [==============================] - 25s 808ms/step - loss: 0.0064 - accuracy: 0.7652 - val_loss: 183.0931 - val_accuracy: 0.5328\n",
            "Epoch 165/1000\n",
            "31/31 [==============================] - 25s 811ms/step - loss: 0.0063 - accuracy: 0.7679 - val_loss: 183.2389 - val_accuracy: 0.5331\n",
            "Epoch 166/1000\n",
            "31/31 [==============================] - 25s 811ms/step - loss: 0.0063 - accuracy: 0.7626 - val_loss: 183.2893 - val_accuracy: 0.5471\n",
            "Epoch 167/1000\n",
            "31/31 [==============================] - 25s 809ms/step - loss: 0.0062 - accuracy: 0.7651 - val_loss: 182.7051 - val_accuracy: 0.5260\n",
            "Epoch 168/1000\n",
            "31/31 [==============================] - 25s 810ms/step - loss: 0.0062 - accuracy: 0.7660 - val_loss: 183.1416 - val_accuracy: 0.5321\n",
            "Epoch 169/1000\n",
            "31/31 [==============================] - 25s 812ms/step - loss: 0.0063 - accuracy: 0.7689 - val_loss: 181.4477 - val_accuracy: 0.6043\n",
            "Epoch 170/1000\n",
            "31/31 [==============================] - 25s 811ms/step - loss: 0.0060 - accuracy: 0.7672 - val_loss: 181.9924 - val_accuracy: 0.5750\n",
            "Epoch 171/1000\n",
            "31/31 [==============================] - ETA: 0s - loss: 0.0063 - accuracy: 0.7656(512, 768, 3)\n"
          ],
          "name": "stdout"
        },
        {
          "output_type": "stream",
          "text": [
            "/usr/local/lib/python3.6/dist-packages/skimage/color/colorconv.py:1068: UserWarning: Color data out of range: Z < 0 in 234 pixels\n",
            "  return xyz2rgb(lab2xyz(lab, illuminant, observer))\n",
            "WARNING:root:Lossy conversion from float64 to uint8. Range [0, 1]. Convert image to uint8 prior to saving to suppress this warning.\n"
          ],
          "name": "stderr"
        },
        {
          "output_type": "stream",
          "text": [
            "(800, 1088, 3)\n"
          ],
          "name": "stdout"
        },
        {
          "output_type": "stream",
          "text": [
            "WARNING:root:Lossy conversion from float64 to uint8. Range [0, 1]. Convert image to uint8 prior to saving to suppress this warning.\n"
          ],
          "name": "stderr"
        },
        {
          "output_type": "stream",
          "text": [
            "(856, 1280, 3)\n"
          ],
          "name": "stdout"
        },
        {
          "output_type": "stream",
          "text": [
            "WARNING:root:Lossy conversion from float64 to uint8. Range [0, 1]. Convert image to uint8 prior to saving to suppress this warning.\n"
          ],
          "name": "stderr"
        },
        {
          "output_type": "stream",
          "text": [
            "(528, 736, 3)\n"
          ],
          "name": "stdout"
        },
        {
          "output_type": "stream",
          "text": [
            "WARNING:root:Lossy conversion from float64 to uint8. Range [0, 1]. Convert image to uint8 prior to saving to suppress this warning.\n"
          ],
          "name": "stderr"
        },
        {
          "output_type": "stream",
          "text": [
            "(856, 1280, 3)\n"
          ],
          "name": "stdout"
        },
        {
          "output_type": "stream",
          "text": [
            "WARNING:root:Lossy conversion from float64 to uint8. Range [0, 1]. Convert image to uint8 prior to saving to suppress this warning.\n"
          ],
          "name": "stderr"
        },
        {
          "output_type": "stream",
          "text": [
            "(1400, 1400, 3)\n"
          ],
          "name": "stdout"
        },
        {
          "output_type": "stream",
          "text": [
            "/usr/local/lib/python3.6/dist-packages/skimage/color/colorconv.py:1068: UserWarning: Color data out of range: Z < 0 in 32 pixels\n",
            "  return xyz2rgb(lab2xyz(lab, illuminant, observer))\n",
            "WARNING:root:Lossy conversion from float64 to uint8. Range [0, 1]. Convert image to uint8 prior to saving to suppress this warning.\n"
          ],
          "name": "stderr"
        },
        {
          "output_type": "stream",
          "text": [
            "(664, 1024, 3)\n"
          ],
          "name": "stdout"
        },
        {
          "output_type": "stream",
          "text": [
            "/usr/local/lib/python3.6/dist-packages/skimage/color/colorconv.py:1068: UserWarning: Color data out of range: Z < 0 in 6 pixels\n",
            "  return xyz2rgb(lab2xyz(lab, illuminant, observer))\n",
            "WARNING:root:Lossy conversion from float64 to uint8. Range [0, 1]. Convert image to uint8 prior to saving to suppress this warning.\n"
          ],
          "name": "stderr"
        },
        {
          "output_type": "stream",
          "text": [
            "(776, 1024, 3)\n"
          ],
          "name": "stdout"
        },
        {
          "output_type": "stream",
          "text": [
            "WARNING:root:Lossy conversion from float64 to uint8. Range [0, 1]. Convert image to uint8 prior to saving to suppress this warning.\n"
          ],
          "name": "stderr"
        },
        {
          "output_type": "stream",
          "text": [
            "(856, 1280, 3)\n"
          ],
          "name": "stdout"
        },
        {
          "output_type": "stream",
          "text": [
            "WARNING:root:Lossy conversion from float64 to uint8. Range [0, 1]. Convert image to uint8 prior to saving to suppress this warning.\n",
            "WARNING:root:Lossy conversion from float64 to uint8. Range [0, 1]. Convert image to uint8 prior to saving to suppress this warning.\n"
          ],
          "name": "stderr"
        },
        {
          "output_type": "stream",
          "text": [
            "(424, 640, 3)\n",
            "(984, 1176, 3)\n"
          ],
          "name": "stdout"
        },
        {
          "output_type": "stream",
          "text": [
            "WARNING:root:Lossy conversion from float64 to uint8. Range [0, 1]. Convert image to uint8 prior to saving to suppress this warning.\n"
          ],
          "name": "stderr"
        },
        {
          "output_type": "stream",
          "text": [
            "(512, 768, 3)\n"
          ],
          "name": "stdout"
        },
        {
          "output_type": "stream",
          "text": [
            "WARNING:root:Lossy conversion from float64 to uint8. Range [0, 1]. Convert image to uint8 prior to saving to suppress this warning.\n"
          ],
          "name": "stderr"
        },
        {
          "output_type": "stream",
          "text": [
            "(856, 1280, 3)\n"
          ],
          "name": "stdout"
        },
        {
          "output_type": "stream",
          "text": [
            "WARNING:root:Lossy conversion from float64 to uint8. Range [0, 1]. Convert image to uint8 prior to saving to suppress this warning.\n"
          ],
          "name": "stderr"
        },
        {
          "output_type": "stream",
          "text": [
            "\b\b\b\b\b\b\b\b\b\b\b\b\b\b\b\b\b\b\b\b\b\b\b\b\b\b\b\b\b\b\b\b\b\b\b\b\b\b\b\b\b\b\b\b\b\b\b\b\b\b\b\b\b\b\b\b\b\b\b\b\b\b\b\b\b\b\b\b\b\b\b\b\b\b\b\b\b\b\b\b\b\b\r31/31 [==============================] - 41s 1s/step - loss: 0.0063 - accuracy: 0.7656 - val_loss: 182.0494 - val_accuracy: 0.5434\n",
            "Epoch 172/1000\n",
            "31/31 [==============================] - 25s 812ms/step - loss: 0.0063 - accuracy: 0.7661 - val_loss: 183.1538 - val_accuracy: 0.5338\n",
            "Epoch 173/1000\n",
            "31/31 [==============================] - 25s 809ms/step - loss: 0.0060 - accuracy: 0.7688 - val_loss: 182.1427 - val_accuracy: 0.5634\n",
            "Epoch 174/1000\n",
            "31/31 [==============================] - 25s 810ms/step - loss: 0.0061 - accuracy: 0.7683 - val_loss: 180.7972 - val_accuracy: 0.5548\n",
            "Epoch 175/1000\n",
            "31/31 [==============================] - 25s 808ms/step - loss: 0.0062 - accuracy: 0.7670 - val_loss: 182.7982 - val_accuracy: 0.5449\n",
            "Epoch 176/1000\n",
            "31/31 [==============================] - 25s 809ms/step - loss: 0.0061 - accuracy: 0.7689 - val_loss: 181.3686 - val_accuracy: 0.5653\n",
            "Epoch 177/1000\n",
            "31/31 [==============================] - 25s 808ms/step - loss: 0.0060 - accuracy: 0.7671 - val_loss: 181.5204 - val_accuracy: 0.5943\n",
            "Epoch 178/1000\n",
            "31/31 [==============================] - 25s 810ms/step - loss: 0.0059 - accuracy: 0.7660 - val_loss: 181.8992 - val_accuracy: 0.5809\n",
            "Epoch 179/1000\n",
            "31/31 [==============================] - 25s 811ms/step - loss: 0.0059 - accuracy: 0.7730 - val_loss: 182.1136 - val_accuracy: 0.5900\n",
            "Epoch 180/1000\n",
            "31/31 [==============================] - 25s 810ms/step - loss: 0.0060 - accuracy: 0.7687 - val_loss: 181.3693 - val_accuracy: 0.6103\n",
            "Epoch 181/1000\n",
            "31/31 [==============================] - ETA: 0s - loss: 0.0062 - accuracy: 0.7756(512, 768, 3)\n"
          ],
          "name": "stdout"
        },
        {
          "output_type": "stream",
          "text": [
            "WARNING:root:Lossy conversion from float64 to uint8. Range [0, 1]. Convert image to uint8 prior to saving to suppress this warning.\n"
          ],
          "name": "stderr"
        },
        {
          "output_type": "stream",
          "text": [
            "(800, 1088, 3)\n"
          ],
          "name": "stdout"
        },
        {
          "output_type": "stream",
          "text": [
            "WARNING:root:Lossy conversion from float64 to uint8. Range [0, 1]. Convert image to uint8 prior to saving to suppress this warning.\n"
          ],
          "name": "stderr"
        },
        {
          "output_type": "stream",
          "text": [
            "(856, 1280, 3)\n"
          ],
          "name": "stdout"
        },
        {
          "output_type": "stream",
          "text": [
            "WARNING:root:Lossy conversion from float64 to uint8. Range [0, 1]. Convert image to uint8 prior to saving to suppress this warning.\n"
          ],
          "name": "stderr"
        },
        {
          "output_type": "stream",
          "text": [
            "(528, 736, 3)\n"
          ],
          "name": "stdout"
        },
        {
          "output_type": "stream",
          "text": [
            "WARNING:root:Lossy conversion from float64 to uint8. Range [0, 1]. Convert image to uint8 prior to saving to suppress this warning.\n"
          ],
          "name": "stderr"
        },
        {
          "output_type": "stream",
          "text": [
            "(856, 1280, 3)\n"
          ],
          "name": "stdout"
        },
        {
          "output_type": "stream",
          "text": [
            "WARNING:root:Lossy conversion from float64 to uint8. Range [0, 1]. Convert image to uint8 prior to saving to suppress this warning.\n"
          ],
          "name": "stderr"
        },
        {
          "output_type": "stream",
          "text": [
            "(1400, 1400, 3)\n"
          ],
          "name": "stdout"
        },
        {
          "output_type": "stream",
          "text": [
            "WARNING:root:Lossy conversion from float64 to uint8. Range [0, 1]. Convert image to uint8 prior to saving to suppress this warning.\n"
          ],
          "name": "stderr"
        },
        {
          "output_type": "stream",
          "text": [
            "(664, 1024, 3)\n"
          ],
          "name": "stdout"
        },
        {
          "output_type": "stream",
          "text": [
            "WARNING:root:Lossy conversion from float64 to uint8. Range [0, 1]. Convert image to uint8 prior to saving to suppress this warning.\n"
          ],
          "name": "stderr"
        },
        {
          "output_type": "stream",
          "text": [
            "(776, 1024, 3)\n"
          ],
          "name": "stdout"
        },
        {
          "output_type": "stream",
          "text": [
            "WARNING:root:Lossy conversion from float64 to uint8. Range [0, 1]. Convert image to uint8 prior to saving to suppress this warning.\n"
          ],
          "name": "stderr"
        },
        {
          "output_type": "stream",
          "text": [
            "(856, 1280, 3)\n"
          ],
          "name": "stdout"
        },
        {
          "output_type": "stream",
          "text": [
            "WARNING:root:Lossy conversion from float64 to uint8. Range [0, 1]. Convert image to uint8 prior to saving to suppress this warning.\n",
            "WARNING:root:Lossy conversion from float64 to uint8. Range [0, 1]. Convert image to uint8 prior to saving to suppress this warning.\n"
          ],
          "name": "stderr"
        },
        {
          "output_type": "stream",
          "text": [
            "(424, 640, 3)\n",
            "(984, 1176, 3)\n"
          ],
          "name": "stdout"
        },
        {
          "output_type": "stream",
          "text": [
            "WARNING:root:Lossy conversion from float64 to uint8. Range [0, 1]. Convert image to uint8 prior to saving to suppress this warning.\n"
          ],
          "name": "stderr"
        },
        {
          "output_type": "stream",
          "text": [
            "(512, 768, 3)\n"
          ],
          "name": "stdout"
        },
        {
          "output_type": "stream",
          "text": [
            "WARNING:root:Lossy conversion from float64 to uint8. Range [0, 1]. Convert image to uint8 prior to saving to suppress this warning.\n"
          ],
          "name": "stderr"
        },
        {
          "output_type": "stream",
          "text": [
            "(856, 1280, 3)\n"
          ],
          "name": "stdout"
        },
        {
          "output_type": "stream",
          "text": [
            "WARNING:root:Lossy conversion from float64 to uint8. Range [0, 1]. Convert image to uint8 prior to saving to suppress this warning.\n"
          ],
          "name": "stderr"
        },
        {
          "output_type": "stream",
          "text": [
            "\b\b\b\b\b\b\b\b\b\b\b\b\b\b\b\b\b\b\b\b\b\b\b\b\b\b\b\b\b\b\b\b\b\b\b\b\b\b\b\b\b\b\b\b\b\b\b\b\b\b\b\b\b\b\b\b\b\b\b\b\b\b\b\b\b\b\b\b\b\b\b\b\b\b\b\b\b\b\b\b\b\b\r31/31 [==============================] - 40s 1s/step - loss: 0.0062 - accuracy: 0.7756 - val_loss: 181.9763 - val_accuracy: 0.5795\n",
            "Epoch 182/1000\n",
            "31/31 [==============================] - 25s 808ms/step - loss: 0.0060 - accuracy: 0.7664 - val_loss: 182.9093 - val_accuracy: 0.5481\n",
            "Epoch 183/1000\n",
            "31/31 [==============================] - 25s 809ms/step - loss: 0.0059 - accuracy: 0.7699 - val_loss: 182.8829 - val_accuracy: 0.5720\n",
            "Epoch 184/1000\n",
            "31/31 [==============================] - 25s 806ms/step - loss: 0.0060 - accuracy: 0.7746 - val_loss: 182.5072 - val_accuracy: 0.5303\n",
            "Epoch 185/1000\n",
            "31/31 [==============================] - 25s 807ms/step - loss: 0.0060 - accuracy: 0.7704 - val_loss: 182.0440 - val_accuracy: 0.5612\n",
            "Epoch 186/1000\n",
            "31/31 [==============================] - 25s 809ms/step - loss: 0.0058 - accuracy: 0.7687 - val_loss: 181.7547 - val_accuracy: 0.5543\n",
            "Epoch 187/1000\n",
            "31/31 [==============================] - 25s 810ms/step - loss: 0.0059 - accuracy: 0.7733 - val_loss: 181.8799 - val_accuracy: 0.5970\n",
            "Epoch 188/1000\n",
            "31/31 [==============================] - 25s 808ms/step - loss: 0.0059 - accuracy: 0.7666 - val_loss: 181.4755 - val_accuracy: 0.6128\n",
            "Epoch 189/1000\n",
            "31/31 [==============================] - 25s 810ms/step - loss: 0.0061 - accuracy: 0.7734 - val_loss: 181.2652 - val_accuracy: 0.6010\n",
            "Epoch 190/1000\n",
            "31/31 [==============================] - 25s 808ms/step - loss: 0.0058 - accuracy: 0.7722 - val_loss: 181.8833 - val_accuracy: 0.5774\n",
            "Epoch 191/1000\n",
            "31/31 [==============================] - ETA: 0s - loss: 0.0056 - accuracy: 0.7738(512, 768, 3)\n"
          ],
          "name": "stdout"
        },
        {
          "output_type": "stream",
          "text": [
            "WARNING:root:Lossy conversion from float64 to uint8. Range [0, 1]. Convert image to uint8 prior to saving to suppress this warning.\n"
          ],
          "name": "stderr"
        },
        {
          "output_type": "stream",
          "text": [
            "(800, 1088, 3)\n"
          ],
          "name": "stdout"
        },
        {
          "output_type": "stream",
          "text": [
            "WARNING:root:Lossy conversion from float64 to uint8. Range [0, 1]. Convert image to uint8 prior to saving to suppress this warning.\n"
          ],
          "name": "stderr"
        },
        {
          "output_type": "stream",
          "text": [
            "(856, 1280, 3)\n"
          ],
          "name": "stdout"
        },
        {
          "output_type": "stream",
          "text": [
            "WARNING:root:Lossy conversion from float64 to uint8. Range [0, 1]. Convert image to uint8 prior to saving to suppress this warning.\n"
          ],
          "name": "stderr"
        },
        {
          "output_type": "stream",
          "text": [
            "(528, 736, 3)\n"
          ],
          "name": "stdout"
        },
        {
          "output_type": "stream",
          "text": [
            "WARNING:root:Lossy conversion from float64 to uint8. Range [0, 1]. Convert image to uint8 prior to saving to suppress this warning.\n"
          ],
          "name": "stderr"
        },
        {
          "output_type": "stream",
          "text": [
            "(856, 1280, 3)\n"
          ],
          "name": "stdout"
        },
        {
          "output_type": "stream",
          "text": [
            "WARNING:root:Lossy conversion from float64 to uint8. Range [0, 1]. Convert image to uint8 prior to saving to suppress this warning.\n"
          ],
          "name": "stderr"
        },
        {
          "output_type": "stream",
          "text": [
            "(1400, 1400, 3)\n"
          ],
          "name": "stdout"
        },
        {
          "output_type": "stream",
          "text": [
            "WARNING:root:Lossy conversion from float64 to uint8. Range [0, 1]. Convert image to uint8 prior to saving to suppress this warning.\n"
          ],
          "name": "stderr"
        },
        {
          "output_type": "stream",
          "text": [
            "(664, 1024, 3)\n"
          ],
          "name": "stdout"
        },
        {
          "output_type": "stream",
          "text": [
            "WARNING:root:Lossy conversion from float64 to uint8. Range [0, 1]. Convert image to uint8 prior to saving to suppress this warning.\n"
          ],
          "name": "stderr"
        },
        {
          "output_type": "stream",
          "text": [
            "(776, 1024, 3)\n"
          ],
          "name": "stdout"
        },
        {
          "output_type": "stream",
          "text": [
            "WARNING:root:Lossy conversion from float64 to uint8. Range [0, 1]. Convert image to uint8 prior to saving to suppress this warning.\n"
          ],
          "name": "stderr"
        },
        {
          "output_type": "stream",
          "text": [
            "(856, 1280, 3)\n"
          ],
          "name": "stdout"
        },
        {
          "output_type": "stream",
          "text": [
            "WARNING:root:Lossy conversion from float64 to uint8. Range [0, 1]. Convert image to uint8 prior to saving to suppress this warning.\n",
            "WARNING:root:Lossy conversion from float64 to uint8. Range [0, 1]. Convert image to uint8 prior to saving to suppress this warning.\n"
          ],
          "name": "stderr"
        },
        {
          "output_type": "stream",
          "text": [
            "(424, 640, 3)\n",
            "(984, 1176, 3)\n"
          ],
          "name": "stdout"
        },
        {
          "output_type": "stream",
          "text": [
            "WARNING:root:Lossy conversion from float64 to uint8. Range [0, 1]. Convert image to uint8 prior to saving to suppress this warning.\n"
          ],
          "name": "stderr"
        },
        {
          "output_type": "stream",
          "text": [
            "(512, 768, 3)\n"
          ],
          "name": "stdout"
        },
        {
          "output_type": "stream",
          "text": [
            "WARNING:root:Lossy conversion from float64 to uint8. Range [0, 1]. Convert image to uint8 prior to saving to suppress this warning.\n"
          ],
          "name": "stderr"
        },
        {
          "output_type": "stream",
          "text": [
            "(856, 1280, 3)\n"
          ],
          "name": "stdout"
        },
        {
          "output_type": "stream",
          "text": [
            "WARNING:root:Lossy conversion from float64 to uint8. Range [0, 1]. Convert image to uint8 prior to saving to suppress this warning.\n"
          ],
          "name": "stderr"
        },
        {
          "output_type": "stream",
          "text": [
            "\b\b\b\b\b\b\b\b\b\b\b\b\b\b\b\b\b\b\b\b\b\b\b\b\b\b\b\b\b\b\b\b\b\b\b\b\b\b\b\b\b\b\b\b\b\b\b\b\b\b\b\b\b\b\b\b\b\b\b\b\b\b\b\b\b\b\b\b\b\b\b\b\b\b\b\b\b\b\b\b\b\b\r31/31 [==============================] - 40s 1s/step - loss: 0.0056 - accuracy: 0.7738 - val_loss: 183.0395 - val_accuracy: 0.5230\n",
            "Epoch 192/1000\n",
            "31/31 [==============================] - 25s 804ms/step - loss: 0.0058 - accuracy: 0.7693 - val_loss: 183.5524 - val_accuracy: 0.5342\n",
            "Epoch 193/1000\n",
            "31/31 [==============================] - 25s 819ms/step - loss: 0.0058 - accuracy: 0.7761 - val_loss: 181.8264 - val_accuracy: 0.5791\n",
            "Epoch 194/1000\n",
            "31/31 [==============================] - 25s 822ms/step - loss: 0.0061 - accuracy: 0.7685 - val_loss: 181.7889 - val_accuracy: 0.5841\n",
            "Epoch 195/1000\n",
            "31/31 [==============================] - 25s 808ms/step - loss: 0.0057 - accuracy: 0.7749 - val_loss: 183.5655 - val_accuracy: 0.5011\n",
            "Epoch 196/1000\n",
            "31/31 [==============================] - 25s 809ms/step - loss: 0.0058 - accuracy: 0.7741 - val_loss: 181.7195 - val_accuracy: 0.6005\n",
            "Epoch 197/1000\n",
            "31/31 [==============================] - 25s 805ms/step - loss: 0.0058 - accuracy: 0.7724 - val_loss: 181.9556 - val_accuracy: 0.5771\n",
            "Epoch 198/1000\n",
            "31/31 [==============================] - 25s 808ms/step - loss: 0.0056 - accuracy: 0.7752 - val_loss: 181.6016 - val_accuracy: 0.6223\n",
            "Epoch 199/1000\n",
            "31/31 [==============================] - 25s 808ms/step - loss: 0.0057 - accuracy: 0.7709 - val_loss: 184.3831 - val_accuracy: 0.6025\n",
            "Epoch 200/1000\n",
            "31/31 [==============================] - 25s 807ms/step - loss: 0.0056 - accuracy: 0.7738 - val_loss: 181.9840 - val_accuracy: 0.5995\n",
            "Epoch 201/1000\n",
            "31/31 [==============================] - ETA: 0s - loss: 0.0056 - accuracy: 0.7772(512, 768, 3)\n"
          ],
          "name": "stdout"
        },
        {
          "output_type": "stream",
          "text": [
            "/usr/local/lib/python3.6/dist-packages/skimage/color/colorconv.py:1068: UserWarning: Color data out of range: Z < 0 in 95 pixels\n",
            "  return xyz2rgb(lab2xyz(lab, illuminant, observer))\n",
            "WARNING:root:Lossy conversion from float64 to uint8. Range [0, 1]. Convert image to uint8 prior to saving to suppress this warning.\n"
          ],
          "name": "stderr"
        },
        {
          "output_type": "stream",
          "text": [
            "(800, 1088, 3)\n"
          ],
          "name": "stdout"
        },
        {
          "output_type": "stream",
          "text": [
            "WARNING:root:Lossy conversion from float64 to uint8. Range [0, 1]. Convert image to uint8 prior to saving to suppress this warning.\n"
          ],
          "name": "stderr"
        },
        {
          "output_type": "stream",
          "text": [
            "(856, 1280, 3)\n"
          ],
          "name": "stdout"
        },
        {
          "output_type": "stream",
          "text": [
            "WARNING:root:Lossy conversion from float64 to uint8. Range [0, 1]. Convert image to uint8 prior to saving to suppress this warning.\n"
          ],
          "name": "stderr"
        },
        {
          "output_type": "stream",
          "text": [
            "(528, 736, 3)\n"
          ],
          "name": "stdout"
        },
        {
          "output_type": "stream",
          "text": [
            "WARNING:root:Lossy conversion from float64 to uint8. Range [0, 1]. Convert image to uint8 prior to saving to suppress this warning.\n"
          ],
          "name": "stderr"
        },
        {
          "output_type": "stream",
          "text": [
            "(856, 1280, 3)\n"
          ],
          "name": "stdout"
        },
        {
          "output_type": "stream",
          "text": [
            "WARNING:root:Lossy conversion from float64 to uint8. Range [0, 1]. Convert image to uint8 prior to saving to suppress this warning.\n"
          ],
          "name": "stderr"
        },
        {
          "output_type": "stream",
          "text": [
            "(1400, 1400, 3)\n"
          ],
          "name": "stdout"
        },
        {
          "output_type": "stream",
          "text": [
            "WARNING:root:Lossy conversion from float64 to uint8. Range [0, 1]. Convert image to uint8 prior to saving to suppress this warning.\n"
          ],
          "name": "stderr"
        },
        {
          "output_type": "stream",
          "text": [
            "(664, 1024, 3)\n"
          ],
          "name": "stdout"
        },
        {
          "output_type": "stream",
          "text": [
            "WARNING:root:Lossy conversion from float64 to uint8. Range [0, 1]. Convert image to uint8 prior to saving to suppress this warning.\n"
          ],
          "name": "stderr"
        },
        {
          "output_type": "stream",
          "text": [
            "(776, 1024, 3)\n"
          ],
          "name": "stdout"
        },
        {
          "output_type": "stream",
          "text": [
            "WARNING:root:Lossy conversion from float64 to uint8. Range [0, 1]. Convert image to uint8 prior to saving to suppress this warning.\n"
          ],
          "name": "stderr"
        },
        {
          "output_type": "stream",
          "text": [
            "(856, 1280, 3)\n"
          ],
          "name": "stdout"
        },
        {
          "output_type": "stream",
          "text": [
            "WARNING:root:Lossy conversion from float64 to uint8. Range [0, 1]. Convert image to uint8 prior to saving to suppress this warning.\n",
            "WARNING:root:Lossy conversion from float64 to uint8. Range [0, 1]. Convert image to uint8 prior to saving to suppress this warning.\n"
          ],
          "name": "stderr"
        },
        {
          "output_type": "stream",
          "text": [
            "(424, 640, 3)\n",
            "(984, 1176, 3)\n"
          ],
          "name": "stdout"
        },
        {
          "output_type": "stream",
          "text": [
            "WARNING:root:Lossy conversion from float64 to uint8. Range [0, 1]. Convert image to uint8 prior to saving to suppress this warning.\n"
          ],
          "name": "stderr"
        },
        {
          "output_type": "stream",
          "text": [
            "(512, 768, 3)\n"
          ],
          "name": "stdout"
        },
        {
          "output_type": "stream",
          "text": [
            "WARNING:root:Lossy conversion from float64 to uint8. Range [0, 1]. Convert image to uint8 prior to saving to suppress this warning.\n"
          ],
          "name": "stderr"
        },
        {
          "output_type": "stream",
          "text": [
            "(856, 1280, 3)\n"
          ],
          "name": "stdout"
        },
        {
          "output_type": "stream",
          "text": [
            "WARNING:root:Lossy conversion from float64 to uint8. Range [0, 1]. Convert image to uint8 prior to saving to suppress this warning.\n"
          ],
          "name": "stderr"
        },
        {
          "output_type": "stream",
          "text": [
            "\b\b\b\b\b\b\b\b\b\b\b\b\b\b\b\b\b\b\b\b\b\b\b\b\b\b\b\b\b\b\b\b\b\b\b\b\b\b\b\b\b\b\b\b\b\b\b\b\b\b\b\b\b\b\b\b\b\b\b\b\b\b\b\b\b\b\b\b\b\b\b\b\b\b\b\b\b\b\b\b\b\b\r31/31 [==============================] - 40s 1s/step - loss: 0.0056 - accuracy: 0.7772 - val_loss: 182.4694 - val_accuracy: 0.5700\n",
            "Epoch 202/1000\n",
            "31/31 [==============================] - 25s 808ms/step - loss: 0.0058 - accuracy: 0.7722 - val_loss: 184.5453 - val_accuracy: 0.4915\n",
            "Epoch 203/1000\n",
            "31/31 [==============================] - 25s 807ms/step - loss: 0.0055 - accuracy: 0.7725 - val_loss: 181.2658 - val_accuracy: 0.6062\n",
            "Epoch 204/1000\n",
            "31/31 [==============================] - 25s 806ms/step - loss: 0.0058 - accuracy: 0.7775 - val_loss: 182.7795 - val_accuracy: 0.5741\n",
            "Epoch 205/1000\n",
            "31/31 [==============================] - 25s 809ms/step - loss: 0.0056 - accuracy: 0.7744 - val_loss: 182.0842 - val_accuracy: 0.5709\n",
            "Epoch 206/1000\n",
            "31/31 [==============================] - 25s 811ms/step - loss: 0.0057 - accuracy: 0.7734 - val_loss: 182.9411 - val_accuracy: 0.5422\n",
            "Epoch 207/1000\n",
            "31/31 [==============================] - 25s 807ms/step - loss: 0.0056 - accuracy: 0.7703 - val_loss: 182.0171 - val_accuracy: 0.5653\n",
            "Epoch 208/1000\n",
            "31/31 [==============================] - 25s 810ms/step - loss: 0.0055 - accuracy: 0.7751 - val_loss: 181.8066 - val_accuracy: 0.6025\n",
            "Epoch 209/1000\n",
            "31/31 [==============================] - 25s 811ms/step - loss: 0.0065 - accuracy: 0.7692 - val_loss: 183.0602 - val_accuracy: 0.5799\n",
            "Epoch 210/1000\n",
            "31/31 [==============================] - 25s 810ms/step - loss: 0.0057 - accuracy: 0.7752 - val_loss: 182.2182 - val_accuracy: 0.6002\n",
            "Epoch 211/1000\n",
            "31/31 [==============================] - ETA: 0s - loss: 0.0057 - accuracy: 0.7743(512, 768, 3)\n"
          ],
          "name": "stdout"
        },
        {
          "output_type": "stream",
          "text": [
            "WARNING:root:Lossy conversion from float64 to uint8. Range [0, 1]. Convert image to uint8 prior to saving to suppress this warning.\n"
          ],
          "name": "stderr"
        },
        {
          "output_type": "stream",
          "text": [
            "(800, 1088, 3)\n"
          ],
          "name": "stdout"
        },
        {
          "output_type": "stream",
          "text": [
            "WARNING:root:Lossy conversion from float64 to uint8. Range [0, 1]. Convert image to uint8 prior to saving to suppress this warning.\n"
          ],
          "name": "stderr"
        },
        {
          "output_type": "stream",
          "text": [
            "(856, 1280, 3)\n"
          ],
          "name": "stdout"
        },
        {
          "output_type": "stream",
          "text": [
            "WARNING:root:Lossy conversion from float64 to uint8. Range [0, 1]. Convert image to uint8 prior to saving to suppress this warning.\n"
          ],
          "name": "stderr"
        },
        {
          "output_type": "stream",
          "text": [
            "(528, 736, 3)\n"
          ],
          "name": "stdout"
        },
        {
          "output_type": "stream",
          "text": [
            "WARNING:root:Lossy conversion from float64 to uint8. Range [0, 1]. Convert image to uint8 prior to saving to suppress this warning.\n"
          ],
          "name": "stderr"
        },
        {
          "output_type": "stream",
          "text": [
            "(856, 1280, 3)\n"
          ],
          "name": "stdout"
        },
        {
          "output_type": "stream",
          "text": [
            "WARNING:root:Lossy conversion from float64 to uint8. Range [0, 1]. Convert image to uint8 prior to saving to suppress this warning.\n"
          ],
          "name": "stderr"
        },
        {
          "output_type": "stream",
          "text": [
            "(1400, 1400, 3)\n"
          ],
          "name": "stdout"
        },
        {
          "output_type": "stream",
          "text": [
            "WARNING:root:Lossy conversion from float64 to uint8. Range [0, 1]. Convert image to uint8 prior to saving to suppress this warning.\n"
          ],
          "name": "stderr"
        },
        {
          "output_type": "stream",
          "text": [
            "(664, 1024, 3)\n"
          ],
          "name": "stdout"
        },
        {
          "output_type": "stream",
          "text": [
            "WARNING:root:Lossy conversion from float64 to uint8. Range [0, 1]. Convert image to uint8 prior to saving to suppress this warning.\n"
          ],
          "name": "stderr"
        },
        {
          "output_type": "stream",
          "text": [
            "(776, 1024, 3)\n"
          ],
          "name": "stdout"
        },
        {
          "output_type": "stream",
          "text": [
            "WARNING:root:Lossy conversion from float64 to uint8. Range [0, 1]. Convert image to uint8 prior to saving to suppress this warning.\n"
          ],
          "name": "stderr"
        },
        {
          "output_type": "stream",
          "text": [
            "(856, 1280, 3)\n"
          ],
          "name": "stdout"
        },
        {
          "output_type": "stream",
          "text": [
            "WARNING:root:Lossy conversion from float64 to uint8. Range [0, 1]. Convert image to uint8 prior to saving to suppress this warning.\n",
            "WARNING:root:Lossy conversion from float64 to uint8. Range [0, 1]. Convert image to uint8 prior to saving to suppress this warning.\n"
          ],
          "name": "stderr"
        },
        {
          "output_type": "stream",
          "text": [
            "(424, 640, 3)\n",
            "(984, 1176, 3)\n"
          ],
          "name": "stdout"
        },
        {
          "output_type": "stream",
          "text": [
            "WARNING:root:Lossy conversion from float64 to uint8. Range [0, 1]. Convert image to uint8 prior to saving to suppress this warning.\n"
          ],
          "name": "stderr"
        },
        {
          "output_type": "stream",
          "text": [
            "(512, 768, 3)\n"
          ],
          "name": "stdout"
        },
        {
          "output_type": "stream",
          "text": [
            "WARNING:root:Lossy conversion from float64 to uint8. Range [0, 1]. Convert image to uint8 prior to saving to suppress this warning.\n"
          ],
          "name": "stderr"
        },
        {
          "output_type": "stream",
          "text": [
            "(856, 1280, 3)\n"
          ],
          "name": "stdout"
        },
        {
          "output_type": "stream",
          "text": [
            "WARNING:root:Lossy conversion from float64 to uint8. Range [0, 1]. Convert image to uint8 prior to saving to suppress this warning.\n"
          ],
          "name": "stderr"
        },
        {
          "output_type": "stream",
          "text": [
            "\b\b\b\b\b\b\b\b\b\b\b\b\b\b\b\b\b\b\b\b\b\b\b\b\b\b\b\b\b\b\b\b\b\b\b\b\b\b\b\b\b\b\b\b\b\b\b\b\b\b\b\b\b\b\b\b\b\b\b\b\b\b\b\b\b\b\b\b\b\b\b\b\b\b\b\b\b\b\b\b\b\b\r31/31 [==============================] - 40s 1s/step - loss: 0.0057 - accuracy: 0.7743 - val_loss: 182.0854 - val_accuracy: 0.5872\n",
            "Epoch 212/1000\n",
            "31/31 [==============================] - 25s 809ms/step - loss: 0.0054 - accuracy: 0.7753 - val_loss: 182.3608 - val_accuracy: 0.5782\n",
            "Epoch 213/1000\n",
            "31/31 [==============================] - 25s 809ms/step - loss: 0.0053 - accuracy: 0.7794 - val_loss: 181.9818 - val_accuracy: 0.5971\n",
            "Epoch 214/1000\n",
            "31/31 [==============================] - 25s 808ms/step - loss: 0.0057 - accuracy: 0.7730 - val_loss: 180.8342 - val_accuracy: 0.6034\n",
            "Epoch 215/1000\n",
            "31/31 [==============================] - 25s 807ms/step - loss: 0.0055 - accuracy: 0.7772 - val_loss: 181.4293 - val_accuracy: 0.6126\n",
            "Epoch 216/1000\n",
            "31/31 [==============================] - 25s 810ms/step - loss: 0.0053 - accuracy: 0.7763 - val_loss: 182.4827 - val_accuracy: 0.5824\n",
            "Epoch 217/1000\n",
            "31/31 [==============================] - 25s 812ms/step - loss: 0.0054 - accuracy: 0.7773 - val_loss: 184.3102 - val_accuracy: 0.5463\n",
            "Epoch 218/1000\n",
            "31/31 [==============================] - 25s 811ms/step - loss: 0.0054 - accuracy: 0.7759 - val_loss: 181.7351 - val_accuracy: 0.6088\n",
            "Epoch 219/1000\n",
            "31/31 [==============================] - 25s 809ms/step - loss: 0.0054 - accuracy: 0.7807 - val_loss: 183.0341 - val_accuracy: 0.6113\n",
            "Epoch 220/1000\n",
            "31/31 [==============================] - 25s 811ms/step - loss: 0.0055 - accuracy: 0.7740 - val_loss: 181.7094 - val_accuracy: 0.5962\n",
            "Epoch 221/1000\n",
            "31/31 [==============================] - ETA: 0s - loss: 0.0053 - accuracy: 0.7775(512, 768, 3)\n"
          ],
          "name": "stdout"
        },
        {
          "output_type": "stream",
          "text": [
            "/usr/local/lib/python3.6/dist-packages/skimage/color/colorconv.py:1068: UserWarning: Color data out of range: Z < 0 in 110 pixels\n",
            "  return xyz2rgb(lab2xyz(lab, illuminant, observer))\n",
            "WARNING:root:Lossy conversion from float64 to uint8. Range [0, 1]. Convert image to uint8 prior to saving to suppress this warning.\n"
          ],
          "name": "stderr"
        },
        {
          "output_type": "stream",
          "text": [
            "(800, 1088, 3)\n"
          ],
          "name": "stdout"
        },
        {
          "output_type": "stream",
          "text": [
            "WARNING:root:Lossy conversion from float64 to uint8. Range [0, 1]. Convert image to uint8 prior to saving to suppress this warning.\n"
          ],
          "name": "stderr"
        },
        {
          "output_type": "stream",
          "text": [
            "(856, 1280, 3)\n"
          ],
          "name": "stdout"
        },
        {
          "output_type": "stream",
          "text": [
            "WARNING:root:Lossy conversion from float64 to uint8. Range [0, 1]. Convert image to uint8 prior to saving to suppress this warning.\n"
          ],
          "name": "stderr"
        },
        {
          "output_type": "stream",
          "text": [
            "(528, 736, 3)\n"
          ],
          "name": "stdout"
        },
        {
          "output_type": "stream",
          "text": [
            "WARNING:root:Lossy conversion from float64 to uint8. Range [0, 1]. Convert image to uint8 prior to saving to suppress this warning.\n"
          ],
          "name": "stderr"
        },
        {
          "output_type": "stream",
          "text": [
            "(856, 1280, 3)\n"
          ],
          "name": "stdout"
        },
        {
          "output_type": "stream",
          "text": [
            "WARNING:root:Lossy conversion from float64 to uint8. Range [0, 1]. Convert image to uint8 prior to saving to suppress this warning.\n"
          ],
          "name": "stderr"
        },
        {
          "output_type": "stream",
          "text": [
            "(1400, 1400, 3)\n"
          ],
          "name": "stdout"
        },
        {
          "output_type": "stream",
          "text": [
            "WARNING:root:Lossy conversion from float64 to uint8. Range [0, 1]. Convert image to uint8 prior to saving to suppress this warning.\n"
          ],
          "name": "stderr"
        },
        {
          "output_type": "stream",
          "text": [
            "(664, 1024, 3)\n"
          ],
          "name": "stdout"
        },
        {
          "output_type": "stream",
          "text": [
            "WARNING:root:Lossy conversion from float64 to uint8. Range [0, 1]. Convert image to uint8 prior to saving to suppress this warning.\n"
          ],
          "name": "stderr"
        },
        {
          "output_type": "stream",
          "text": [
            "(776, 1024, 3)\n"
          ],
          "name": "stdout"
        },
        {
          "output_type": "stream",
          "text": [
            "WARNING:root:Lossy conversion from float64 to uint8. Range [0, 1]. Convert image to uint8 prior to saving to suppress this warning.\n"
          ],
          "name": "stderr"
        },
        {
          "output_type": "stream",
          "text": [
            "(856, 1280, 3)\n"
          ],
          "name": "stdout"
        },
        {
          "output_type": "stream",
          "text": [
            "WARNING:root:Lossy conversion from float64 to uint8. Range [0, 1]. Convert image to uint8 prior to saving to suppress this warning.\n",
            "WARNING:root:Lossy conversion from float64 to uint8. Range [0, 1]. Convert image to uint8 prior to saving to suppress this warning.\n"
          ],
          "name": "stderr"
        },
        {
          "output_type": "stream",
          "text": [
            "(424, 640, 3)\n",
            "(984, 1176, 3)\n"
          ],
          "name": "stdout"
        },
        {
          "output_type": "stream",
          "text": [
            "WARNING:root:Lossy conversion from float64 to uint8. Range [0, 1]. Convert image to uint8 prior to saving to suppress this warning.\n"
          ],
          "name": "stderr"
        },
        {
          "output_type": "stream",
          "text": [
            "(512, 768, 3)\n"
          ],
          "name": "stdout"
        },
        {
          "output_type": "stream",
          "text": [
            "WARNING:root:Lossy conversion from float64 to uint8. Range [0, 1]. Convert image to uint8 prior to saving to suppress this warning.\n"
          ],
          "name": "stderr"
        },
        {
          "output_type": "stream",
          "text": [
            "(856, 1280, 3)\n"
          ],
          "name": "stdout"
        },
        {
          "output_type": "stream",
          "text": [
            "WARNING:root:Lossy conversion from float64 to uint8. Range [0, 1]. Convert image to uint8 prior to saving to suppress this warning.\n"
          ],
          "name": "stderr"
        },
        {
          "output_type": "stream",
          "text": [
            "\b\b\b\b\b\b\b\b\b\b\b\b\b\b\b\b\b\b\b\b\b\b\b\b\b\b\b\b\b\b\b\b\b\b\b\b\b\b\b\b\b\b\b\b\b\b\b\b\b\b\b\b\b\b\b\b\b\b\b\b\b\b\b\b\b\b\b\b\b\b\b\b\b\b\b\b\b\b\b\b\b\b\r31/31 [==============================] - 40s 1s/step - loss: 0.0053 - accuracy: 0.7775 - val_loss: 182.4285 - val_accuracy: 0.5648\n",
            "Epoch 222/1000\n",
            "31/31 [==============================] - 25s 811ms/step - loss: 0.0053 - accuracy: 0.7796 - val_loss: 181.6961 - val_accuracy: 0.6069\n",
            "Epoch 223/1000\n",
            "31/31 [==============================] - 25s 810ms/step - loss: 0.0053 - accuracy: 0.7781 - val_loss: 182.4503 - val_accuracy: 0.5705\n",
            "Epoch 224/1000\n",
            "31/31 [==============================] - 25s 807ms/step - loss: 0.0053 - accuracy: 0.7785 - val_loss: 182.7231 - val_accuracy: 0.5851\n",
            "Epoch 225/1000\n",
            "31/31 [==============================] - 25s 821ms/step - loss: 0.0053 - accuracy: 0.7774 - val_loss: 182.8734 - val_accuracy: 0.6072\n",
            "Epoch 226/1000\n",
            "31/31 [==============================] - 25s 821ms/step - loss: 0.0053 - accuracy: 0.7801 - val_loss: 182.1416 - val_accuracy: 0.6012\n",
            "Epoch 227/1000\n",
            "31/31 [==============================] - 25s 809ms/step - loss: 0.0052 - accuracy: 0.7772 - val_loss: 183.2841 - val_accuracy: 0.5131\n",
            "Epoch 228/1000\n",
            "31/31 [==============================] - 25s 811ms/step - loss: 0.0054 - accuracy: 0.7748 - val_loss: 181.9483 - val_accuracy: 0.5734\n",
            "Epoch 229/1000\n",
            "31/31 [==============================] - 25s 802ms/step - loss: 0.0053 - accuracy: 0.7776 - val_loss: 182.1810 - val_accuracy: 0.5725\n",
            "Epoch 230/1000\n",
            "31/31 [==============================] - 25s 807ms/step - loss: 0.0051 - accuracy: 0.7796 - val_loss: 182.3799 - val_accuracy: 0.5533\n",
            "Epoch 231/1000\n",
            "31/31 [==============================] - ETA: 0s - loss: 0.0051 - accuracy: 0.7821(512, 768, 3)\n"
          ],
          "name": "stdout"
        },
        {
          "output_type": "stream",
          "text": [
            "WARNING:root:Lossy conversion from float64 to uint8. Range [0, 1]. Convert image to uint8 prior to saving to suppress this warning.\n"
          ],
          "name": "stderr"
        },
        {
          "output_type": "stream",
          "text": [
            "(800, 1088, 3)\n"
          ],
          "name": "stdout"
        },
        {
          "output_type": "stream",
          "text": [
            "WARNING:root:Lossy conversion from float64 to uint8. Range [0, 1]. Convert image to uint8 prior to saving to suppress this warning.\n"
          ],
          "name": "stderr"
        },
        {
          "output_type": "stream",
          "text": [
            "(856, 1280, 3)\n"
          ],
          "name": "stdout"
        },
        {
          "output_type": "stream",
          "text": [
            "WARNING:root:Lossy conversion from float64 to uint8. Range [0, 1]. Convert image to uint8 prior to saving to suppress this warning.\n"
          ],
          "name": "stderr"
        },
        {
          "output_type": "stream",
          "text": [
            "(528, 736, 3)\n"
          ],
          "name": "stdout"
        },
        {
          "output_type": "stream",
          "text": [
            "WARNING:root:Lossy conversion from float64 to uint8. Range [0, 1]. Convert image to uint8 prior to saving to suppress this warning.\n"
          ],
          "name": "stderr"
        },
        {
          "output_type": "stream",
          "text": [
            "(856, 1280, 3)\n"
          ],
          "name": "stdout"
        },
        {
          "output_type": "stream",
          "text": [
            "WARNING:root:Lossy conversion from float64 to uint8. Range [0, 1]. Convert image to uint8 prior to saving to suppress this warning.\n"
          ],
          "name": "stderr"
        },
        {
          "output_type": "stream",
          "text": [
            "(1400, 1400, 3)\n"
          ],
          "name": "stdout"
        },
        {
          "output_type": "stream",
          "text": [
            "/usr/local/lib/python3.6/dist-packages/skimage/color/colorconv.py:1068: UserWarning: Color data out of range: Z < 0 in 7 pixels\n",
            "  return xyz2rgb(lab2xyz(lab, illuminant, observer))\n",
            "WARNING:root:Lossy conversion from float64 to uint8. Range [0, 1]. Convert image to uint8 prior to saving to suppress this warning.\n"
          ],
          "name": "stderr"
        },
        {
          "output_type": "stream",
          "text": [
            "(664, 1024, 3)\n"
          ],
          "name": "stdout"
        },
        {
          "output_type": "stream",
          "text": [
            "WARNING:root:Lossy conversion from float64 to uint8. Range [0, 1]. Convert image to uint8 prior to saving to suppress this warning.\n"
          ],
          "name": "stderr"
        },
        {
          "output_type": "stream",
          "text": [
            "(776, 1024, 3)\n"
          ],
          "name": "stdout"
        },
        {
          "output_type": "stream",
          "text": [
            "WARNING:root:Lossy conversion from float64 to uint8. Range [0, 1]. Convert image to uint8 prior to saving to suppress this warning.\n"
          ],
          "name": "stderr"
        },
        {
          "output_type": "stream",
          "text": [
            "(856, 1280, 3)\n"
          ],
          "name": "stdout"
        },
        {
          "output_type": "stream",
          "text": [
            "WARNING:root:Lossy conversion from float64 to uint8. Range [0, 1]. Convert image to uint8 prior to saving to suppress this warning.\n",
            "WARNING:root:Lossy conversion from float64 to uint8. Range [0, 1]. Convert image to uint8 prior to saving to suppress this warning.\n"
          ],
          "name": "stderr"
        },
        {
          "output_type": "stream",
          "text": [
            "(424, 640, 3)\n",
            "(984, 1176, 3)\n"
          ],
          "name": "stdout"
        },
        {
          "output_type": "stream",
          "text": [
            "WARNING:root:Lossy conversion from float64 to uint8. Range [0, 1]. Convert image to uint8 prior to saving to suppress this warning.\n"
          ],
          "name": "stderr"
        },
        {
          "output_type": "stream",
          "text": [
            "(512, 768, 3)\n"
          ],
          "name": "stdout"
        },
        {
          "output_type": "stream",
          "text": [
            "/usr/local/lib/python3.6/dist-packages/skimage/color/colorconv.py:1068: UserWarning: Color data out of range: Z < 0 in 104 pixels\n",
            "  return xyz2rgb(lab2xyz(lab, illuminant, observer))\n",
            "WARNING:root:Lossy conversion from float64 to uint8. Range [0, 1]. Convert image to uint8 prior to saving to suppress this warning.\n"
          ],
          "name": "stderr"
        },
        {
          "output_type": "stream",
          "text": [
            "(856, 1280, 3)\n"
          ],
          "name": "stdout"
        },
        {
          "output_type": "stream",
          "text": [
            "WARNING:root:Lossy conversion from float64 to uint8. Range [0, 1]. Convert image to uint8 prior to saving to suppress this warning.\n"
          ],
          "name": "stderr"
        },
        {
          "output_type": "stream",
          "text": [
            "\b\b\b\b\b\b\b\b\b\b\b\b\b\b\b\b\b\b\b\b\b\b\b\b\b\b\b\b\b\b\b\b\b\b\b\b\b\b\b\b\b\b\b\b\b\b\b\b\b\b\b\b\b\b\b\b\b\b\b\b\b\b\b\b\b\b\b\b\b\b\b\b\b\b\b\b\b\b\b\b\b\b\r31/31 [==============================] - 41s 1s/step - loss: 0.0051 - accuracy: 0.7821 - val_loss: 181.8364 - val_accuracy: 0.5688\n",
            "Epoch 232/1000\n",
            "31/31 [==============================] - 25s 814ms/step - loss: 0.0052 - accuracy: 0.7796 - val_loss: 183.2877 - val_accuracy: 0.5501\n",
            "Epoch 233/1000\n",
            "31/31 [==============================] - 25s 813ms/step - loss: 0.0052 - accuracy: 0.7781 - val_loss: 181.4672 - val_accuracy: 0.5884\n",
            "Epoch 234/1000\n",
            "31/31 [==============================] - 25s 817ms/step - loss: 0.0051 - accuracy: 0.7845 - val_loss: 181.9943 - val_accuracy: 0.5915\n",
            "Epoch 235/1000\n",
            "31/31 [==============================] - 25s 813ms/step - loss: 0.0051 - accuracy: 0.7790 - val_loss: 182.2766 - val_accuracy: 0.6042\n",
            "Epoch 236/1000\n",
            "31/31 [==============================] - 25s 812ms/step - loss: 0.0052 - accuracy: 0.7775 - val_loss: 183.0800 - val_accuracy: 0.5605\n",
            "Epoch 237/1000\n",
            "31/31 [==============================] - 25s 811ms/step - loss: 0.0050 - accuracy: 0.7817 - val_loss: 182.7192 - val_accuracy: 0.5784\n",
            "Epoch 238/1000\n",
            "31/31 [==============================] - 25s 811ms/step - loss: 0.0051 - accuracy: 0.7829 - val_loss: 183.6537 - val_accuracy: 0.5483\n",
            "Epoch 239/1000\n",
            "31/31 [==============================] - 25s 806ms/step - loss: 0.0049 - accuracy: 0.7761 - val_loss: 183.1116 - val_accuracy: 0.4936\n",
            "Epoch 240/1000\n",
            "31/31 [==============================] - 25s 809ms/step - loss: 0.0052 - accuracy: 0.7791 - val_loss: 183.4306 - val_accuracy: 0.5775\n",
            "Epoch 241/1000\n",
            "31/31 [==============================] - ETA: 0s - loss: 0.0052 - accuracy: 0.7816(512, 768, 3)\n"
          ],
          "name": "stdout"
        },
        {
          "output_type": "stream",
          "text": [
            "/usr/local/lib/python3.6/dist-packages/skimage/color/colorconv.py:1068: UserWarning: Color data out of range: Z < 0 in 105 pixels\n",
            "  return xyz2rgb(lab2xyz(lab, illuminant, observer))\n",
            "WARNING:root:Lossy conversion from float64 to uint8. Range [0, 1]. Convert image to uint8 prior to saving to suppress this warning.\n"
          ],
          "name": "stderr"
        },
        {
          "output_type": "stream",
          "text": [
            "(800, 1088, 3)\n"
          ],
          "name": "stdout"
        },
        {
          "output_type": "stream",
          "text": [
            "WARNING:root:Lossy conversion from float64 to uint8. Range [0, 1]. Convert image to uint8 prior to saving to suppress this warning.\n"
          ],
          "name": "stderr"
        },
        {
          "output_type": "stream",
          "text": [
            "(856, 1280, 3)\n"
          ],
          "name": "stdout"
        },
        {
          "output_type": "stream",
          "text": [
            "WARNING:root:Lossy conversion from float64 to uint8. Range [0, 1]. Convert image to uint8 prior to saving to suppress this warning.\n"
          ],
          "name": "stderr"
        },
        {
          "output_type": "stream",
          "text": [
            "(528, 736, 3)\n"
          ],
          "name": "stdout"
        },
        {
          "output_type": "stream",
          "text": [
            "WARNING:root:Lossy conversion from float64 to uint8. Range [0, 1]. Convert image to uint8 prior to saving to suppress this warning.\n"
          ],
          "name": "stderr"
        },
        {
          "output_type": "stream",
          "text": [
            "(856, 1280, 3)\n"
          ],
          "name": "stdout"
        },
        {
          "output_type": "stream",
          "text": [
            "WARNING:root:Lossy conversion from float64 to uint8. Range [0, 1]. Convert image to uint8 prior to saving to suppress this warning.\n"
          ],
          "name": "stderr"
        },
        {
          "output_type": "stream",
          "text": [
            "(1400, 1400, 3)\n"
          ],
          "name": "stdout"
        },
        {
          "output_type": "stream",
          "text": [
            "WARNING:root:Lossy conversion from float64 to uint8. Range [0, 1]. Convert image to uint8 prior to saving to suppress this warning.\n"
          ],
          "name": "stderr"
        },
        {
          "output_type": "stream",
          "text": [
            "(664, 1024, 3)\n"
          ],
          "name": "stdout"
        },
        {
          "output_type": "stream",
          "text": [
            "WARNING:root:Lossy conversion from float64 to uint8. Range [0, 1]. Convert image to uint8 prior to saving to suppress this warning.\n"
          ],
          "name": "stderr"
        },
        {
          "output_type": "stream",
          "text": [
            "(776, 1024, 3)\n"
          ],
          "name": "stdout"
        },
        {
          "output_type": "stream",
          "text": [
            "WARNING:root:Lossy conversion from float64 to uint8. Range [0, 1]. Convert image to uint8 prior to saving to suppress this warning.\n"
          ],
          "name": "stderr"
        },
        {
          "output_type": "stream",
          "text": [
            "(856, 1280, 3)\n"
          ],
          "name": "stdout"
        },
        {
          "output_type": "stream",
          "text": [
            "WARNING:root:Lossy conversion from float64 to uint8. Range [0, 1]. Convert image to uint8 prior to saving to suppress this warning.\n",
            "WARNING:root:Lossy conversion from float64 to uint8. Range [0, 1]. Convert image to uint8 prior to saving to suppress this warning.\n"
          ],
          "name": "stderr"
        },
        {
          "output_type": "stream",
          "text": [
            "(424, 640, 3)\n",
            "(984, 1176, 3)\n"
          ],
          "name": "stdout"
        },
        {
          "output_type": "stream",
          "text": [
            "WARNING:root:Lossy conversion from float64 to uint8. Range [0, 1]. Convert image to uint8 prior to saving to suppress this warning.\n"
          ],
          "name": "stderr"
        },
        {
          "output_type": "stream",
          "text": [
            "(512, 768, 3)\n"
          ],
          "name": "stdout"
        },
        {
          "output_type": "stream",
          "text": [
            "WARNING:root:Lossy conversion from float64 to uint8. Range [0, 1]. Convert image to uint8 prior to saving to suppress this warning.\n"
          ],
          "name": "stderr"
        },
        {
          "output_type": "stream",
          "text": [
            "(856, 1280, 3)\n"
          ],
          "name": "stdout"
        },
        {
          "output_type": "stream",
          "text": [
            "WARNING:root:Lossy conversion from float64 to uint8. Range [0, 1]. Convert image to uint8 prior to saving to suppress this warning.\n"
          ],
          "name": "stderr"
        },
        {
          "output_type": "stream",
          "text": [
            "\b\b\b\b\b\b\b\b\b\b\b\b\b\b\b\b\b\b\b\b\b\b\b\b\b\b\b\b\b\b\b\b\b\b\b\b\b\b\b\b\b\b\b\b\b\b\b\b\b\b\b\b\b\b\b\b\b\b\b\b\b\b\b\b\b\b\b\b\b\b\b\b\b\b\b\b\b\b\b\b\b\b\r31/31 [==============================] - 40s 1s/step - loss: 0.0052 - accuracy: 0.7816 - val_loss: 182.4016 - val_accuracy: 0.6052\n",
            "Epoch 242/1000\n",
            "31/31 [==============================] - 25s 805ms/step - loss: 0.0052 - accuracy: 0.7798 - val_loss: 184.5232 - val_accuracy: 0.5485\n",
            "Epoch 243/1000\n",
            "31/31 [==============================] - 25s 805ms/step - loss: 0.0050 - accuracy: 0.7858 - val_loss: 183.0315 - val_accuracy: 0.5526\n",
            "Epoch 244/1000\n",
            "31/31 [==============================] - 25s 809ms/step - loss: 0.0050 - accuracy: 0.7800 - val_loss: 183.5592 - val_accuracy: 0.5286\n",
            "Epoch 245/1000\n",
            "31/31 [==============================] - 25s 804ms/step - loss: 0.0050 - accuracy: 0.7786 - val_loss: 182.7396 - val_accuracy: 0.5687\n",
            "Epoch 246/1000\n",
            "31/31 [==============================] - 25s 808ms/step - loss: 0.0051 - accuracy: 0.7855 - val_loss: 182.3779 - val_accuracy: 0.5755\n",
            "Epoch 247/1000\n",
            "31/31 [==============================] - 25s 801ms/step - loss: 0.0050 - accuracy: 0.7810 - val_loss: 182.2795 - val_accuracy: 0.5953\n",
            "Epoch 248/1000\n",
            "31/31 [==============================] - 25s 801ms/step - loss: 0.0049 - accuracy: 0.7839 - val_loss: 183.1192 - val_accuracy: 0.5660\n",
            "Epoch 249/1000\n",
            "31/31 [==============================] - 25s 798ms/step - loss: 0.0050 - accuracy: 0.7815 - val_loss: 184.1096 - val_accuracy: 0.5191\n",
            "Epoch 250/1000\n",
            "31/31 [==============================] - 24s 789ms/step - loss: 0.0049 - accuracy: 0.7811 - val_loss: 182.9469 - val_accuracy: 0.5296\n",
            "Epoch 251/1000\n",
            "31/31 [==============================] - ETA: 0s - loss: 0.0050 - accuracy: 0.7831(512, 768, 3)\n"
          ],
          "name": "stdout"
        },
        {
          "output_type": "stream",
          "text": [
            "WARNING:root:Lossy conversion from float64 to uint8. Range [0, 1]. Convert image to uint8 prior to saving to suppress this warning.\n"
          ],
          "name": "stderr"
        },
        {
          "output_type": "stream",
          "text": [
            "(800, 1088, 3)\n"
          ],
          "name": "stdout"
        },
        {
          "output_type": "stream",
          "text": [
            "WARNING:root:Lossy conversion from float64 to uint8. Range [0, 1]. Convert image to uint8 prior to saving to suppress this warning.\n"
          ],
          "name": "stderr"
        },
        {
          "output_type": "stream",
          "text": [
            "(856, 1280, 3)\n"
          ],
          "name": "stdout"
        },
        {
          "output_type": "stream",
          "text": [
            "WARNING:root:Lossy conversion from float64 to uint8. Range [0, 1]. Convert image to uint8 prior to saving to suppress this warning.\n"
          ],
          "name": "stderr"
        },
        {
          "output_type": "stream",
          "text": [
            "(528, 736, 3)\n"
          ],
          "name": "stdout"
        },
        {
          "output_type": "stream",
          "text": [
            "WARNING:root:Lossy conversion from float64 to uint8. Range [0, 1]. Convert image to uint8 prior to saving to suppress this warning.\n"
          ],
          "name": "stderr"
        },
        {
          "output_type": "stream",
          "text": [
            "(856, 1280, 3)\n"
          ],
          "name": "stdout"
        },
        {
          "output_type": "stream",
          "text": [
            "WARNING:root:Lossy conversion from float64 to uint8. Range [0, 1]. Convert image to uint8 prior to saving to suppress this warning.\n"
          ],
          "name": "stderr"
        },
        {
          "output_type": "stream",
          "text": [
            "(1400, 1400, 3)\n"
          ],
          "name": "stdout"
        },
        {
          "output_type": "stream",
          "text": [
            "WARNING:root:Lossy conversion from float64 to uint8. Range [0, 1]. Convert image to uint8 prior to saving to suppress this warning.\n"
          ],
          "name": "stderr"
        },
        {
          "output_type": "stream",
          "text": [
            "(664, 1024, 3)\n"
          ],
          "name": "stdout"
        },
        {
          "output_type": "stream",
          "text": [
            "WARNING:root:Lossy conversion from float64 to uint8. Range [0, 1]. Convert image to uint8 prior to saving to suppress this warning.\n"
          ],
          "name": "stderr"
        },
        {
          "output_type": "stream",
          "text": [
            "(776, 1024, 3)\n"
          ],
          "name": "stdout"
        },
        {
          "output_type": "stream",
          "text": [
            "WARNING:root:Lossy conversion from float64 to uint8. Range [0, 1]. Convert image to uint8 prior to saving to suppress this warning.\n"
          ],
          "name": "stderr"
        },
        {
          "output_type": "stream",
          "text": [
            "(856, 1280, 3)\n"
          ],
          "name": "stdout"
        },
        {
          "output_type": "stream",
          "text": [
            "WARNING:root:Lossy conversion from float64 to uint8. Range [0, 1]. Convert image to uint8 prior to saving to suppress this warning.\n",
            "WARNING:root:Lossy conversion from float64 to uint8. Range [0, 1]. Convert image to uint8 prior to saving to suppress this warning.\n"
          ],
          "name": "stderr"
        },
        {
          "output_type": "stream",
          "text": [
            "(424, 640, 3)\n",
            "(984, 1176, 3)\n"
          ],
          "name": "stdout"
        },
        {
          "output_type": "stream",
          "text": [
            "WARNING:root:Lossy conversion from float64 to uint8. Range [0, 1]. Convert image to uint8 prior to saving to suppress this warning.\n"
          ],
          "name": "stderr"
        },
        {
          "output_type": "stream",
          "text": [
            "(512, 768, 3)\n"
          ],
          "name": "stdout"
        },
        {
          "output_type": "stream",
          "text": [
            "WARNING:root:Lossy conversion from float64 to uint8. Range [0, 1]. Convert image to uint8 prior to saving to suppress this warning.\n"
          ],
          "name": "stderr"
        },
        {
          "output_type": "stream",
          "text": [
            "(856, 1280, 3)\n"
          ],
          "name": "stdout"
        },
        {
          "output_type": "stream",
          "text": [
            "WARNING:root:Lossy conversion from float64 to uint8. Range [0, 1]. Convert image to uint8 prior to saving to suppress this warning.\n"
          ],
          "name": "stderr"
        },
        {
          "output_type": "stream",
          "text": [
            "\b\b\b\b\b\b\b\b\b\b\b\b\b\b\b\b\b\b\b\b\b\b\b\b\b\b\b\b\b\b\b\b\b\b\b\b\b\b\b\b\b\b\b\b\b\b\b\b\b\b\b\b\b\b\b\b\b\b\b\b\b\b\b\b\b\b\b\b\b\b\b\b\b\b\b\b\b\b\b\b\b\b\r31/31 [==============================] - 40s 1s/step - loss: 0.0050 - accuracy: 0.7831 - val_loss: 183.4661 - val_accuracy: 0.5484\n",
            "Epoch 252/1000\n",
            "31/31 [==============================] - 24s 782ms/step - loss: 0.0050 - accuracy: 0.7797 - val_loss: 182.1555 - val_accuracy: 0.5632\n",
            "Epoch 253/1000\n",
            "31/31 [==============================] - 24s 775ms/step - loss: 0.0049 - accuracy: 0.7868 - val_loss: 181.8779 - val_accuracy: 0.6224\n",
            "Epoch 254/1000\n",
            "31/31 [==============================] - 24s 772ms/step - loss: 0.0050 - accuracy: 0.7825 - val_loss: 183.0849 - val_accuracy: 0.5910\n",
            "Epoch 255/1000\n",
            "31/31 [==============================] - 24s 786ms/step - loss: 0.0051 - accuracy: 0.7826 - val_loss: 182.5970 - val_accuracy: 0.5645\n",
            "Epoch 256/1000\n",
            "31/31 [==============================] - 25s 796ms/step - loss: 0.0049 - accuracy: 0.7845 - val_loss: 184.1317 - val_accuracy: 0.5602\n",
            "Epoch 257/1000\n",
            "31/31 [==============================] - 25s 804ms/step - loss: 0.0049 - accuracy: 0.7838 - val_loss: 182.7956 - val_accuracy: 0.5929\n",
            "Epoch 258/1000\n",
            "31/31 [==============================] - 25s 803ms/step - loss: 0.0050 - accuracy: 0.7808 - val_loss: 182.9861 - val_accuracy: 0.5551\n",
            "Epoch 259/1000\n",
            "31/31 [==============================] - 24s 783ms/step - loss: 0.0048 - accuracy: 0.7878 - val_loss: 183.4381 - val_accuracy: 0.5802\n",
            "Epoch 260/1000\n",
            "31/31 [==============================] - 24s 782ms/step - loss: 0.0048 - accuracy: 0.7862 - val_loss: 183.7288 - val_accuracy: 0.5795\n",
            "Epoch 261/1000\n",
            "31/31 [==============================] - ETA: 0s - loss: 0.0048 - accuracy: 0.7830(512, 768, 3)\n"
          ],
          "name": "stdout"
        },
        {
          "output_type": "stream",
          "text": [
            "/usr/local/lib/python3.6/dist-packages/skimage/color/colorconv.py:1068: UserWarning: Color data out of range: Z < 0 in 64 pixels\n",
            "  return xyz2rgb(lab2xyz(lab, illuminant, observer))\n",
            "WARNING:root:Lossy conversion from float64 to uint8. Range [0, 1]. Convert image to uint8 prior to saving to suppress this warning.\n"
          ],
          "name": "stderr"
        },
        {
          "output_type": "stream",
          "text": [
            "(800, 1088, 3)\n"
          ],
          "name": "stdout"
        },
        {
          "output_type": "stream",
          "text": [
            "WARNING:root:Lossy conversion from float64 to uint8. Range [0, 1]. Convert image to uint8 prior to saving to suppress this warning.\n"
          ],
          "name": "stderr"
        },
        {
          "output_type": "stream",
          "text": [
            "(856, 1280, 3)\n"
          ],
          "name": "stdout"
        },
        {
          "output_type": "stream",
          "text": [
            "WARNING:root:Lossy conversion from float64 to uint8. Range [0, 1]. Convert image to uint8 prior to saving to suppress this warning.\n"
          ],
          "name": "stderr"
        },
        {
          "output_type": "stream",
          "text": [
            "(528, 736, 3)\n"
          ],
          "name": "stdout"
        },
        {
          "output_type": "stream",
          "text": [
            "WARNING:root:Lossy conversion from float64 to uint8. Range [0, 1]. Convert image to uint8 prior to saving to suppress this warning.\n"
          ],
          "name": "stderr"
        },
        {
          "output_type": "stream",
          "text": [
            "(856, 1280, 3)\n"
          ],
          "name": "stdout"
        },
        {
          "output_type": "stream",
          "text": [
            "WARNING:root:Lossy conversion from float64 to uint8. Range [0, 1]. Convert image to uint8 prior to saving to suppress this warning.\n"
          ],
          "name": "stderr"
        },
        {
          "output_type": "stream",
          "text": [
            "(1400, 1400, 3)\n"
          ],
          "name": "stdout"
        },
        {
          "output_type": "stream",
          "text": [
            "WARNING:root:Lossy conversion from float64 to uint8. Range [0, 1]. Convert image to uint8 prior to saving to suppress this warning.\n"
          ],
          "name": "stderr"
        },
        {
          "output_type": "stream",
          "text": [
            "(664, 1024, 3)\n"
          ],
          "name": "stdout"
        },
        {
          "output_type": "stream",
          "text": [
            "WARNING:root:Lossy conversion from float64 to uint8. Range [0, 1]. Convert image to uint8 prior to saving to suppress this warning.\n"
          ],
          "name": "stderr"
        },
        {
          "output_type": "stream",
          "text": [
            "(776, 1024, 3)\n"
          ],
          "name": "stdout"
        },
        {
          "output_type": "stream",
          "text": [
            "WARNING:root:Lossy conversion from float64 to uint8. Range [0, 1]. Convert image to uint8 prior to saving to suppress this warning.\n"
          ],
          "name": "stderr"
        },
        {
          "output_type": "stream",
          "text": [
            "(856, 1280, 3)\n"
          ],
          "name": "stdout"
        },
        {
          "output_type": "stream",
          "text": [
            "WARNING:root:Lossy conversion from float64 to uint8. Range [0, 1]. Convert image to uint8 prior to saving to suppress this warning.\n",
            "WARNING:root:Lossy conversion from float64 to uint8. Range [0, 1]. Convert image to uint8 prior to saving to suppress this warning.\n"
          ],
          "name": "stderr"
        },
        {
          "output_type": "stream",
          "text": [
            "(424, 640, 3)\n",
            "(984, 1176, 3)\n"
          ],
          "name": "stdout"
        },
        {
          "output_type": "stream",
          "text": [
            "WARNING:root:Lossy conversion from float64 to uint8. Range [0, 1]. Convert image to uint8 prior to saving to suppress this warning.\n"
          ],
          "name": "stderr"
        },
        {
          "output_type": "stream",
          "text": [
            "(512, 768, 3)\n"
          ],
          "name": "stdout"
        },
        {
          "output_type": "stream",
          "text": [
            "WARNING:root:Lossy conversion from float64 to uint8. Range [0, 1]. Convert image to uint8 prior to saving to suppress this warning.\n"
          ],
          "name": "stderr"
        },
        {
          "output_type": "stream",
          "text": [
            "(856, 1280, 3)\n"
          ],
          "name": "stdout"
        },
        {
          "output_type": "stream",
          "text": [
            "WARNING:root:Lossy conversion from float64 to uint8. Range [0, 1]. Convert image to uint8 prior to saving to suppress this warning.\n"
          ],
          "name": "stderr"
        },
        {
          "output_type": "stream",
          "text": [
            "\b\b\b\b\b\b\b\b\b\b\b\b\b\b\b\b\b\b\b\b\b\b\b\b\b\b\b\b\b\b\b\b\b\b\b\b\b\b\b\b\b\b\b\b\b\b\b\b\b\b\b\b\b\b\b\b\b\b\b\b\b\b\b\b\b\b\b\b\b\b\b\b\b\b\b\b\b\b\b\b\b\b\r31/31 [==============================] - 39s 1s/step - loss: 0.0048 - accuracy: 0.7830 - val_loss: 183.0675 - val_accuracy: 0.5787\n",
            "Epoch 262/1000\n",
            "31/31 [==============================] - 24s 770ms/step - loss: 0.0047 - accuracy: 0.7892 - val_loss: 182.2301 - val_accuracy: 0.5918\n",
            "Epoch 263/1000\n",
            "31/31 [==============================] - 24s 770ms/step - loss: 0.0050 - accuracy: 0.7854 - val_loss: 182.9953 - val_accuracy: 0.5997\n",
            "Epoch 264/1000\n",
            "31/31 [==============================] - 24s 776ms/step - loss: 0.0049 - accuracy: 0.7834 - val_loss: 183.8974 - val_accuracy: 0.5270\n",
            "Epoch 265/1000\n",
            "31/31 [==============================] - 24s 780ms/step - loss: 0.0047 - accuracy: 0.7878 - val_loss: 182.5069 - val_accuracy: 0.6005\n",
            "Epoch 266/1000\n",
            "31/31 [==============================] - 24s 786ms/step - loss: 0.0048 - accuracy: 0.7829 - val_loss: 182.1560 - val_accuracy: 0.5798\n",
            "Epoch 267/1000\n",
            "31/31 [==============================] - 25s 795ms/step - loss: 0.0048 - accuracy: 0.7857 - val_loss: 182.5358 - val_accuracy: 0.6138\n",
            "Epoch 268/1000\n",
            "31/31 [==============================] - 24s 780ms/step - loss: 0.0048 - accuracy: 0.7858 - val_loss: 182.4442 - val_accuracy: 0.5617\n",
            "Epoch 269/1000\n",
            "31/31 [==============================] - 24s 775ms/step - loss: 0.0047 - accuracy: 0.7920 - val_loss: 182.4328 - val_accuracy: 0.6015\n",
            "Epoch 270/1000\n",
            "31/31 [==============================] - 24s 787ms/step - loss: 0.0048 - accuracy: 0.7842 - val_loss: 182.9762 - val_accuracy: 0.5951\n",
            "Epoch 271/1000\n",
            "31/31 [==============================] - ETA: 0s - loss: 0.0046 - accuracy: 0.7851(512, 768, 3)\n"
          ],
          "name": "stdout"
        },
        {
          "output_type": "stream",
          "text": [
            "WARNING:root:Lossy conversion from float64 to uint8. Range [0, 1]. Convert image to uint8 prior to saving to suppress this warning.\n"
          ],
          "name": "stderr"
        },
        {
          "output_type": "stream",
          "text": [
            "(800, 1088, 3)\n"
          ],
          "name": "stdout"
        },
        {
          "output_type": "stream",
          "text": [
            "WARNING:root:Lossy conversion from float64 to uint8. Range [0, 1]. Convert image to uint8 prior to saving to suppress this warning.\n"
          ],
          "name": "stderr"
        },
        {
          "output_type": "stream",
          "text": [
            "(856, 1280, 3)\n"
          ],
          "name": "stdout"
        },
        {
          "output_type": "stream",
          "text": [
            "WARNING:root:Lossy conversion from float64 to uint8. Range [0, 1]. Convert image to uint8 prior to saving to suppress this warning.\n"
          ],
          "name": "stderr"
        },
        {
          "output_type": "stream",
          "text": [
            "(528, 736, 3)\n"
          ],
          "name": "stdout"
        },
        {
          "output_type": "stream",
          "text": [
            "WARNING:root:Lossy conversion from float64 to uint8. Range [0, 1]. Convert image to uint8 prior to saving to suppress this warning.\n"
          ],
          "name": "stderr"
        },
        {
          "output_type": "stream",
          "text": [
            "(856, 1280, 3)\n"
          ],
          "name": "stdout"
        },
        {
          "output_type": "stream",
          "text": [
            "WARNING:root:Lossy conversion from float64 to uint8. Range [0, 1]. Convert image to uint8 prior to saving to suppress this warning.\n"
          ],
          "name": "stderr"
        },
        {
          "output_type": "stream",
          "text": [
            "(1400, 1400, 3)\n"
          ],
          "name": "stdout"
        },
        {
          "output_type": "stream",
          "text": [
            "WARNING:root:Lossy conversion from float64 to uint8. Range [0, 1]. Convert image to uint8 prior to saving to suppress this warning.\n"
          ],
          "name": "stderr"
        },
        {
          "output_type": "stream",
          "text": [
            "(664, 1024, 3)\n"
          ],
          "name": "stdout"
        },
        {
          "output_type": "stream",
          "text": [
            "WARNING:root:Lossy conversion from float64 to uint8. Range [0, 1]. Convert image to uint8 prior to saving to suppress this warning.\n"
          ],
          "name": "stderr"
        },
        {
          "output_type": "stream",
          "text": [
            "(776, 1024, 3)\n"
          ],
          "name": "stdout"
        },
        {
          "output_type": "stream",
          "text": [
            "WARNING:root:Lossy conversion from float64 to uint8. Range [0, 1]. Convert image to uint8 prior to saving to suppress this warning.\n"
          ],
          "name": "stderr"
        },
        {
          "output_type": "stream",
          "text": [
            "(856, 1280, 3)\n"
          ],
          "name": "stdout"
        },
        {
          "output_type": "stream",
          "text": [
            "WARNING:root:Lossy conversion from float64 to uint8. Range [0, 1]. Convert image to uint8 prior to saving to suppress this warning.\n",
            "WARNING:root:Lossy conversion from float64 to uint8. Range [0, 1]. Convert image to uint8 prior to saving to suppress this warning.\n"
          ],
          "name": "stderr"
        },
        {
          "output_type": "stream",
          "text": [
            "(424, 640, 3)\n",
            "(984, 1176, 3)\n"
          ],
          "name": "stdout"
        },
        {
          "output_type": "stream",
          "text": [
            "WARNING:root:Lossy conversion from float64 to uint8. Range [0, 1]. Convert image to uint8 prior to saving to suppress this warning.\n"
          ],
          "name": "stderr"
        },
        {
          "output_type": "stream",
          "text": [
            "(512, 768, 3)\n"
          ],
          "name": "stdout"
        },
        {
          "output_type": "stream",
          "text": [
            "WARNING:root:Lossy conversion from float64 to uint8. Range [0, 1]. Convert image to uint8 prior to saving to suppress this warning.\n"
          ],
          "name": "stderr"
        },
        {
          "output_type": "stream",
          "text": [
            "(856, 1280, 3)\n"
          ],
          "name": "stdout"
        },
        {
          "output_type": "stream",
          "text": [
            "WARNING:root:Lossy conversion from float64 to uint8. Range [0, 1]. Convert image to uint8 prior to saving to suppress this warning.\n"
          ],
          "name": "stderr"
        },
        {
          "output_type": "stream",
          "text": [
            "\b\b\b\b\b\b\b\b\b\b\b\b\b\b\b\b\b\b\b\b\b\b\b\b\b\b\b\b\b\b\b\b\b\b\b\b\b\b\b\b\b\b\b\b\b\b\b\b\b\b\b\b\b\b\b\b\b\b\b\b\b\b\b\b\b\b\b\b\b\b\b\b\b\b\b\b\b\b\b\b\b\b\r31/31 [==============================] - 39s 1s/step - loss: 0.0046 - accuracy: 0.7851 - val_loss: 182.9698 - val_accuracy: 0.5813\n",
            "Epoch 272/1000\n",
            "31/31 [==============================] - 25s 794ms/step - loss: 0.0049 - accuracy: 0.7890 - val_loss: 182.4433 - val_accuracy: 0.6222\n",
            "Epoch 273/1000\n",
            "31/31 [==============================] - 25s 798ms/step - loss: 0.0047 - accuracy: 0.7867 - val_loss: 183.0770 - val_accuracy: 0.5799\n",
            "Epoch 274/1000\n",
            "31/31 [==============================] - 25s 794ms/step - loss: 0.0048 - accuracy: 0.7842 - val_loss: 181.7378 - val_accuracy: 0.6220\n",
            "Epoch 275/1000\n",
            "31/31 [==============================] - 25s 793ms/step - loss: 0.0046 - accuracy: 0.7879 - val_loss: 182.2232 - val_accuracy: 0.6162\n",
            "Epoch 276/1000\n",
            "31/31 [==============================] - 25s 793ms/step - loss: 0.0047 - accuracy: 0.7863 - val_loss: 183.7502 - val_accuracy: 0.5302\n",
            "Epoch 277/1000\n",
            "31/31 [==============================] - 24s 790ms/step - loss: 0.0046 - accuracy: 0.7841 - val_loss: 182.9136 - val_accuracy: 0.5587\n",
            "Epoch 278/1000\n",
            "31/31 [==============================] - 24s 788ms/step - loss: 0.0047 - accuracy: 0.7850 - val_loss: 184.7815 - val_accuracy: 0.5000\n",
            "Epoch 279/1000\n",
            "31/31 [==============================] - 25s 791ms/step - loss: 0.0047 - accuracy: 0.7931 - val_loss: 183.7111 - val_accuracy: 0.6247\n",
            "Epoch 280/1000\n",
            "31/31 [==============================] - 25s 792ms/step - loss: 0.0046 - accuracy: 0.7874 - val_loss: 184.0027 - val_accuracy: 0.5540\n",
            "Epoch 281/1000\n",
            "31/31 [==============================] - ETA: 0s - loss: 0.0048 - accuracy: 0.7862(512, 768, 3)\n"
          ],
          "name": "stdout"
        },
        {
          "output_type": "stream",
          "text": [
            "/usr/local/lib/python3.6/dist-packages/skimage/color/colorconv.py:1068: UserWarning: Color data out of range: Z < 0 in 66 pixels\n",
            "  return xyz2rgb(lab2xyz(lab, illuminant, observer))\n",
            "WARNING:root:Lossy conversion from float64 to uint8. Range [0, 1]. Convert image to uint8 prior to saving to suppress this warning.\n"
          ],
          "name": "stderr"
        },
        {
          "output_type": "stream",
          "text": [
            "(800, 1088, 3)\n"
          ],
          "name": "stdout"
        },
        {
          "output_type": "stream",
          "text": [
            "WARNING:root:Lossy conversion from float64 to uint8. Range [0, 1]. Convert image to uint8 prior to saving to suppress this warning.\n"
          ],
          "name": "stderr"
        },
        {
          "output_type": "stream",
          "text": [
            "(856, 1280, 3)\n"
          ],
          "name": "stdout"
        },
        {
          "output_type": "stream",
          "text": [
            "WARNING:root:Lossy conversion from float64 to uint8. Range [0, 1]. Convert image to uint8 prior to saving to suppress this warning.\n"
          ],
          "name": "stderr"
        },
        {
          "output_type": "stream",
          "text": [
            "(528, 736, 3)\n"
          ],
          "name": "stdout"
        },
        {
          "output_type": "stream",
          "text": [
            "WARNING:root:Lossy conversion from float64 to uint8. Range [0, 1]. Convert image to uint8 prior to saving to suppress this warning.\n"
          ],
          "name": "stderr"
        },
        {
          "output_type": "stream",
          "text": [
            "(856, 1280, 3)\n"
          ],
          "name": "stdout"
        },
        {
          "output_type": "stream",
          "text": [
            "WARNING:root:Lossy conversion from float64 to uint8. Range [0, 1]. Convert image to uint8 prior to saving to suppress this warning.\n"
          ],
          "name": "stderr"
        },
        {
          "output_type": "stream",
          "text": [
            "(1400, 1400, 3)\n"
          ],
          "name": "stdout"
        },
        {
          "output_type": "stream",
          "text": [
            "WARNING:root:Lossy conversion from float64 to uint8. Range [0, 1]. Convert image to uint8 prior to saving to suppress this warning.\n"
          ],
          "name": "stderr"
        },
        {
          "output_type": "stream",
          "text": [
            "(664, 1024, 3)\n"
          ],
          "name": "stdout"
        },
        {
          "output_type": "stream",
          "text": [
            "WARNING:root:Lossy conversion from float64 to uint8. Range [0, 1]. Convert image to uint8 prior to saving to suppress this warning.\n"
          ],
          "name": "stderr"
        },
        {
          "output_type": "stream",
          "text": [
            "(776, 1024, 3)\n"
          ],
          "name": "stdout"
        },
        {
          "output_type": "stream",
          "text": [
            "WARNING:root:Lossy conversion from float64 to uint8. Range [0, 1]. Convert image to uint8 prior to saving to suppress this warning.\n"
          ],
          "name": "stderr"
        },
        {
          "output_type": "stream",
          "text": [
            "(856, 1280, 3)\n"
          ],
          "name": "stdout"
        },
        {
          "output_type": "stream",
          "text": [
            "WARNING:root:Lossy conversion from float64 to uint8. Range [0, 1]. Convert image to uint8 prior to saving to suppress this warning.\n",
            "WARNING:root:Lossy conversion from float64 to uint8. Range [0, 1]. Convert image to uint8 prior to saving to suppress this warning.\n"
          ],
          "name": "stderr"
        },
        {
          "output_type": "stream",
          "text": [
            "(424, 640, 3)\n",
            "(984, 1176, 3)\n"
          ],
          "name": "stdout"
        },
        {
          "output_type": "stream",
          "text": [
            "WARNING:root:Lossy conversion from float64 to uint8. Range [0, 1]. Convert image to uint8 prior to saving to suppress this warning.\n"
          ],
          "name": "stderr"
        },
        {
          "output_type": "stream",
          "text": [
            "(512, 768, 3)\n"
          ],
          "name": "stdout"
        },
        {
          "output_type": "stream",
          "text": [
            "WARNING:root:Lossy conversion from float64 to uint8. Range [0, 1]. Convert image to uint8 prior to saving to suppress this warning.\n"
          ],
          "name": "stderr"
        },
        {
          "output_type": "stream",
          "text": [
            "(856, 1280, 3)\n"
          ],
          "name": "stdout"
        },
        {
          "output_type": "stream",
          "text": [
            "WARNING:root:Lossy conversion from float64 to uint8. Range [0, 1]. Convert image to uint8 prior to saving to suppress this warning.\n"
          ],
          "name": "stderr"
        },
        {
          "output_type": "stream",
          "text": [
            "\b\b\b\b\b\b\b\b\b\b\b\b\b\b\b\b\b\b\b\b\b\b\b\b\b\b\b\b\b\b\b\b\b\b\b\b\b\b\b\b\b\b\b\b\b\b\b\b\b\b\b\b\b\b\b\b\b\b\b\b\b\b\b\b\b\b\b\b\b\b\b\b\b\b\b\b\b\b\b\b\b\b\r31/31 [==============================] - 39s 1s/step - loss: 0.0048 - accuracy: 0.7862 - val_loss: 183.2230 - val_accuracy: 0.5818\n",
            "Epoch 282/1000\n",
            "31/31 [==============================] - 24s 778ms/step - loss: 0.0044 - accuracy: 0.7901 - val_loss: 182.0910 - val_accuracy: 0.5951\n",
            "Epoch 283/1000\n",
            "31/31 [==============================] - 24s 769ms/step - loss: 0.0047 - accuracy: 0.7866 - val_loss: 182.5173 - val_accuracy: 0.6226\n",
            "Epoch 284/1000\n",
            "31/31 [==============================] - 24s 781ms/step - loss: 0.0045 - accuracy: 0.7869 - val_loss: 182.0542 - val_accuracy: 0.6152\n",
            "Epoch 285/1000\n",
            "31/31 [==============================] - 24s 788ms/step - loss: 0.0047 - accuracy: 0.7889 - val_loss: 182.7188 - val_accuracy: 0.5975\n",
            "Epoch 286/1000\n",
            "31/31 [==============================] - 24s 790ms/step - loss: 0.0045 - accuracy: 0.7855 - val_loss: 183.1421 - val_accuracy: 0.5940\n",
            "Epoch 287/1000\n",
            "31/31 [==============================] - 25s 792ms/step - loss: 0.0046 - accuracy: 0.7879 - val_loss: 183.1154 - val_accuracy: 0.6264\n",
            "Epoch 288/1000\n",
            "31/31 [==============================] - 24s 788ms/step - loss: 0.0046 - accuracy: 0.7891 - val_loss: 182.3208 - val_accuracy: 0.6238\n",
            "Epoch 289/1000\n",
            "31/31 [==============================] - 25s 799ms/step - loss: 0.0044 - accuracy: 0.7913 - val_loss: 182.2405 - val_accuracy: 0.6111\n",
            "Epoch 290/1000\n",
            "31/31 [==============================] - 25s 796ms/step - loss: 0.0045 - accuracy: 0.7911 - val_loss: 183.3373 - val_accuracy: 0.5487\n",
            "Epoch 291/1000\n",
            "31/31 [==============================] - ETA: 0s - loss: 0.0046 - accuracy: 0.7874(512, 768, 3)\n"
          ],
          "name": "stdout"
        },
        {
          "output_type": "stream",
          "text": [
            "WARNING:root:Lossy conversion from float64 to uint8. Range [0, 1]. Convert image to uint8 prior to saving to suppress this warning.\n"
          ],
          "name": "stderr"
        },
        {
          "output_type": "stream",
          "text": [
            "(800, 1088, 3)\n"
          ],
          "name": "stdout"
        },
        {
          "output_type": "stream",
          "text": [
            "WARNING:root:Lossy conversion from float64 to uint8. Range [0, 1]. Convert image to uint8 prior to saving to suppress this warning.\n"
          ],
          "name": "stderr"
        },
        {
          "output_type": "stream",
          "text": [
            "(856, 1280, 3)\n"
          ],
          "name": "stdout"
        },
        {
          "output_type": "stream",
          "text": [
            "WARNING:root:Lossy conversion from float64 to uint8. Range [0, 1]. Convert image to uint8 prior to saving to suppress this warning.\n"
          ],
          "name": "stderr"
        },
        {
          "output_type": "stream",
          "text": [
            "(528, 736, 3)\n"
          ],
          "name": "stdout"
        },
        {
          "output_type": "stream",
          "text": [
            "WARNING:root:Lossy conversion from float64 to uint8. Range [0, 1]. Convert image to uint8 prior to saving to suppress this warning.\n"
          ],
          "name": "stderr"
        },
        {
          "output_type": "stream",
          "text": [
            "(856, 1280, 3)\n"
          ],
          "name": "stdout"
        },
        {
          "output_type": "stream",
          "text": [
            "WARNING:root:Lossy conversion from float64 to uint8. Range [0, 1]. Convert image to uint8 prior to saving to suppress this warning.\n"
          ],
          "name": "stderr"
        },
        {
          "output_type": "stream",
          "text": [
            "(1400, 1400, 3)\n"
          ],
          "name": "stdout"
        },
        {
          "output_type": "stream",
          "text": [
            "WARNING:root:Lossy conversion from float64 to uint8. Range [0, 1]. Convert image to uint8 prior to saving to suppress this warning.\n"
          ],
          "name": "stderr"
        },
        {
          "output_type": "stream",
          "text": [
            "(664, 1024, 3)\n"
          ],
          "name": "stdout"
        },
        {
          "output_type": "stream",
          "text": [
            "/usr/local/lib/python3.6/dist-packages/skimage/color/colorconv.py:1068: UserWarning: Color data out of range: Z < 0 in 47 pixels\n",
            "  return xyz2rgb(lab2xyz(lab, illuminant, observer))\n",
            "WARNING:root:Lossy conversion from float64 to uint8. Range [0, 1]. Convert image to uint8 prior to saving to suppress this warning.\n"
          ],
          "name": "stderr"
        },
        {
          "output_type": "stream",
          "text": [
            "(776, 1024, 3)\n"
          ],
          "name": "stdout"
        },
        {
          "output_type": "stream",
          "text": [
            "WARNING:root:Lossy conversion from float64 to uint8. Range [0, 1]. Convert image to uint8 prior to saving to suppress this warning.\n"
          ],
          "name": "stderr"
        },
        {
          "output_type": "stream",
          "text": [
            "(856, 1280, 3)\n"
          ],
          "name": "stdout"
        },
        {
          "output_type": "stream",
          "text": [
            "WARNING:root:Lossy conversion from float64 to uint8. Range [0, 1]. Convert image to uint8 prior to saving to suppress this warning.\n",
            "WARNING:root:Lossy conversion from float64 to uint8. Range [0, 1]. Convert image to uint8 prior to saving to suppress this warning.\n"
          ],
          "name": "stderr"
        },
        {
          "output_type": "stream",
          "text": [
            "(424, 640, 3)\n",
            "(984, 1176, 3)\n"
          ],
          "name": "stdout"
        },
        {
          "output_type": "stream",
          "text": [
            "WARNING:root:Lossy conversion from float64 to uint8. Range [0, 1]. Convert image to uint8 prior to saving to suppress this warning.\n"
          ],
          "name": "stderr"
        },
        {
          "output_type": "stream",
          "text": [
            "(512, 768, 3)\n"
          ],
          "name": "stdout"
        },
        {
          "output_type": "stream",
          "text": [
            "WARNING:root:Lossy conversion from float64 to uint8. Range [0, 1]. Convert image to uint8 prior to saving to suppress this warning.\n"
          ],
          "name": "stderr"
        },
        {
          "output_type": "stream",
          "text": [
            "(856, 1280, 3)\n"
          ],
          "name": "stdout"
        },
        {
          "output_type": "stream",
          "text": [
            "WARNING:root:Lossy conversion from float64 to uint8. Range [0, 1]. Convert image to uint8 prior to saving to suppress this warning.\n"
          ],
          "name": "stderr"
        },
        {
          "output_type": "stream",
          "text": [
            "\b\b\b\b\b\b\b\b\b\b\b\b\b\b\b\b\b\b\b\b\b\b\b\b\b\b\b\b\b\b\b\b\b\b\b\b\b\b\b\b\b\b\b\b\b\b\b\b\b\b\b\b\b\b\b\b\b\b\b\b\b\b\b\b\b\b\b\b\b\b\b\b\b\b\b\b\b\b\b\b\b\b\r31/31 [==============================] - 39s 1s/step - loss: 0.0046 - accuracy: 0.7874 - val_loss: 181.9624 - val_accuracy: 0.6249\n",
            "Epoch 292/1000\n",
            "31/31 [==============================] - 24s 774ms/step - loss: 0.0045 - accuracy: 0.7877 - val_loss: 185.1286 - val_accuracy: 0.4574\n",
            "Epoch 293/1000\n",
            "31/31 [==============================] - 24s 776ms/step - loss: 0.0045 - accuracy: 0.7905 - val_loss: 183.3804 - val_accuracy: 0.5382\n",
            "Epoch 294/1000\n",
            "31/31 [==============================] - 24s 783ms/step - loss: 0.0044 - accuracy: 0.7894 - val_loss: 182.9953 - val_accuracy: 0.5673\n",
            "Epoch 295/1000\n",
            "31/31 [==============================] - 24s 774ms/step - loss: 0.0045 - accuracy: 0.7916 - val_loss: 182.2606 - val_accuracy: 0.6064\n",
            "Epoch 296/1000\n",
            "31/31 [==============================] - 24s 763ms/step - loss: 0.0045 - accuracy: 0.7911 - val_loss: 182.8059 - val_accuracy: 0.6044\n",
            "Epoch 297/1000\n",
            "31/31 [==============================] - 24s 758ms/step - loss: 0.0045 - accuracy: 0.7863 - val_loss: 182.3115 - val_accuracy: 0.6367\n",
            "Epoch 298/1000\n",
            "31/31 [==============================] - 24s 764ms/step - loss: 0.0045 - accuracy: 0.7913 - val_loss: 183.8149 - val_accuracy: 0.5309\n",
            "Epoch 299/1000\n",
            "31/31 [==============================] - 23s 756ms/step - loss: 0.0044 - accuracy: 0.7936 - val_loss: 182.9722 - val_accuracy: 0.6399\n",
            "Epoch 300/1000\n",
            "31/31 [==============================] - 24s 765ms/step - loss: 0.0044 - accuracy: 0.7913 - val_loss: 182.7338 - val_accuracy: 0.6016\n",
            "Epoch 301/1000\n",
            "31/31 [==============================] - ETA: 0s - loss: 0.0044 - accuracy: 0.7882(512, 768, 3)\n"
          ],
          "name": "stdout"
        },
        {
          "output_type": "stream",
          "text": [
            "/usr/local/lib/python3.6/dist-packages/skimage/color/colorconv.py:1068: UserWarning: Color data out of range: Z < 0 in 198 pixels\n",
            "  return xyz2rgb(lab2xyz(lab, illuminant, observer))\n",
            "WARNING:root:Lossy conversion from float64 to uint8. Range [0, 1]. Convert image to uint8 prior to saving to suppress this warning.\n"
          ],
          "name": "stderr"
        },
        {
          "output_type": "stream",
          "text": [
            "(800, 1088, 3)\n"
          ],
          "name": "stdout"
        },
        {
          "output_type": "stream",
          "text": [
            "WARNING:root:Lossy conversion from float64 to uint8. Range [0, 1]. Convert image to uint8 prior to saving to suppress this warning.\n"
          ],
          "name": "stderr"
        },
        {
          "output_type": "stream",
          "text": [
            "(856, 1280, 3)\n"
          ],
          "name": "stdout"
        },
        {
          "output_type": "stream",
          "text": [
            "WARNING:root:Lossy conversion from float64 to uint8. Range [0, 1]. Convert image to uint8 prior to saving to suppress this warning.\n"
          ],
          "name": "stderr"
        },
        {
          "output_type": "stream",
          "text": [
            "(528, 736, 3)\n"
          ],
          "name": "stdout"
        },
        {
          "output_type": "stream",
          "text": [
            "WARNING:root:Lossy conversion from float64 to uint8. Range [0, 1]. Convert image to uint8 prior to saving to suppress this warning.\n"
          ],
          "name": "stderr"
        },
        {
          "output_type": "stream",
          "text": [
            "(856, 1280, 3)\n"
          ],
          "name": "stdout"
        },
        {
          "output_type": "stream",
          "text": [
            "WARNING:root:Lossy conversion from float64 to uint8. Range [0, 1]. Convert image to uint8 prior to saving to suppress this warning.\n"
          ],
          "name": "stderr"
        },
        {
          "output_type": "stream",
          "text": [
            "(1400, 1400, 3)\n"
          ],
          "name": "stdout"
        },
        {
          "output_type": "stream",
          "text": [
            "WARNING:root:Lossy conversion from float64 to uint8. Range [0, 1]. Convert image to uint8 prior to saving to suppress this warning.\n"
          ],
          "name": "stderr"
        },
        {
          "output_type": "stream",
          "text": [
            "(664, 1024, 3)\n"
          ],
          "name": "stdout"
        },
        {
          "output_type": "stream",
          "text": [
            "WARNING:root:Lossy conversion from float64 to uint8. Range [0, 1]. Convert image to uint8 prior to saving to suppress this warning.\n"
          ],
          "name": "stderr"
        },
        {
          "output_type": "stream",
          "text": [
            "(776, 1024, 3)\n"
          ],
          "name": "stdout"
        },
        {
          "output_type": "stream",
          "text": [
            "WARNING:root:Lossy conversion from float64 to uint8. Range [0, 1]. Convert image to uint8 prior to saving to suppress this warning.\n"
          ],
          "name": "stderr"
        },
        {
          "output_type": "stream",
          "text": [
            "(856, 1280, 3)\n"
          ],
          "name": "stdout"
        },
        {
          "output_type": "stream",
          "text": [
            "WARNING:root:Lossy conversion from float64 to uint8. Range [0, 1]. Convert image to uint8 prior to saving to suppress this warning.\n",
            "WARNING:root:Lossy conversion from float64 to uint8. Range [0, 1]. Convert image to uint8 prior to saving to suppress this warning.\n"
          ],
          "name": "stderr"
        },
        {
          "output_type": "stream",
          "text": [
            "(424, 640, 3)\n",
            "(984, 1176, 3)\n"
          ],
          "name": "stdout"
        },
        {
          "output_type": "stream",
          "text": [
            "WARNING:root:Lossy conversion from float64 to uint8. Range [0, 1]. Convert image to uint8 prior to saving to suppress this warning.\n"
          ],
          "name": "stderr"
        },
        {
          "output_type": "stream",
          "text": [
            "(512, 768, 3)\n"
          ],
          "name": "stdout"
        },
        {
          "output_type": "stream",
          "text": [
            "WARNING:root:Lossy conversion from float64 to uint8. Range [0, 1]. Convert image to uint8 prior to saving to suppress this warning.\n"
          ],
          "name": "stderr"
        },
        {
          "output_type": "stream",
          "text": [
            "(856, 1280, 3)\n"
          ],
          "name": "stdout"
        },
        {
          "output_type": "stream",
          "text": [
            "WARNING:root:Lossy conversion from float64 to uint8. Range [0, 1]. Convert image to uint8 prior to saving to suppress this warning.\n"
          ],
          "name": "stderr"
        },
        {
          "output_type": "stream",
          "text": [
            "\b\b\b\b\b\b\b\b\b\b\b\b\b\b\b\b\b\b\b\b\b\b\b\b\b\b\b\b\b\b\b\b\b\b\b\b\b\b\b\b\b\b\b\b\b\b\b\b\b\b\b\b\b\b\b\b\b\b\b\b\b\b\b\b\b\b\b\b\b\b\b\b\b\b\b\b\b\b\b\b\b\b\r31/31 [==============================] - 39s 1s/step - loss: 0.0044 - accuracy: 0.7882 - val_loss: 183.1088 - val_accuracy: 0.6119\n",
            "Epoch 302/1000\n",
            "31/31 [==============================] - 24s 786ms/step - loss: 0.0044 - accuracy: 0.7917 - val_loss: 182.2126 - val_accuracy: 0.6184\n",
            "Epoch 303/1000\n",
            "31/31 [==============================] - 24s 778ms/step - loss: 0.0044 - accuracy: 0.7939 - val_loss: 181.9913 - val_accuracy: 0.6425\n",
            "Epoch 304/1000\n",
            "31/31 [==============================] - 24s 768ms/step - loss: 0.0044 - accuracy: 0.7909 - val_loss: 180.7931 - val_accuracy: 0.6651\n",
            "Epoch 305/1000\n",
            "31/31 [==============================] - 23s 758ms/step - loss: 0.0044 - accuracy: 0.7901 - val_loss: 183.5257 - val_accuracy: 0.6035\n",
            "Epoch 306/1000\n",
            "31/31 [==============================] - 24s 760ms/step - loss: 0.0043 - accuracy: 0.7923 - val_loss: 181.5469 - val_accuracy: 0.6074\n",
            "Epoch 307/1000\n",
            "31/31 [==============================] - 24s 771ms/step - loss: 0.0046 - accuracy: 0.7915 - val_loss: 182.4246 - val_accuracy: 0.6382\n",
            "Epoch 308/1000\n",
            "31/31 [==============================] - 24s 772ms/step - loss: 0.0043 - accuracy: 0.7903 - val_loss: 182.2267 - val_accuracy: 0.6301\n",
            "Epoch 309/1000\n",
            "31/31 [==============================] - 24s 769ms/step - loss: 0.0043 - accuracy: 0.7905 - val_loss: 182.1904 - val_accuracy: 0.6323\n",
            "Epoch 310/1000\n",
            "31/31 [==============================] - 24s 774ms/step - loss: 0.0044 - accuracy: 0.7931 - val_loss: 182.0452 - val_accuracy: 0.6047\n",
            "Epoch 311/1000\n",
            "31/31 [==============================] - ETA: 0s - loss: 0.0043 - accuracy: 0.7931(512, 768, 3)\n"
          ],
          "name": "stdout"
        },
        {
          "output_type": "stream",
          "text": [
            "/usr/local/lib/python3.6/dist-packages/skimage/color/colorconv.py:1068: UserWarning: Color data out of range: Z < 0 in 239 pixels\n",
            "  return xyz2rgb(lab2xyz(lab, illuminant, observer))\n",
            "WARNING:root:Lossy conversion from float64 to uint8. Range [0, 1]. Convert image to uint8 prior to saving to suppress this warning.\n"
          ],
          "name": "stderr"
        },
        {
          "output_type": "stream",
          "text": [
            "(800, 1088, 3)\n"
          ],
          "name": "stdout"
        },
        {
          "output_type": "stream",
          "text": [
            "WARNING:root:Lossy conversion from float64 to uint8. Range [0, 1]. Convert image to uint8 prior to saving to suppress this warning.\n"
          ],
          "name": "stderr"
        },
        {
          "output_type": "stream",
          "text": [
            "(856, 1280, 3)\n"
          ],
          "name": "stdout"
        },
        {
          "output_type": "stream",
          "text": [
            "WARNING:root:Lossy conversion from float64 to uint8. Range [0, 1]. Convert image to uint8 prior to saving to suppress this warning.\n",
            "WARNING:root:Lossy conversion from float64 to uint8. Range [0, 1]. Convert image to uint8 prior to saving to suppress this warning.\n"
          ],
          "name": "stderr"
        },
        {
          "output_type": "stream",
          "text": [
            "(528, 736, 3)\n",
            "(856, 1280, 3)\n"
          ],
          "name": "stdout"
        },
        {
          "output_type": "stream",
          "text": [
            "WARNING:root:Lossy conversion from float64 to uint8. Range [0, 1]. Convert image to uint8 prior to saving to suppress this warning.\n"
          ],
          "name": "stderr"
        },
        {
          "output_type": "stream",
          "text": [
            "(1400, 1400, 3)\n"
          ],
          "name": "stdout"
        },
        {
          "output_type": "stream",
          "text": [
            "WARNING:root:Lossy conversion from float64 to uint8. Range [0, 1]. Convert image to uint8 prior to saving to suppress this warning.\n"
          ],
          "name": "stderr"
        },
        {
          "output_type": "stream",
          "text": [
            "(664, 1024, 3)\n"
          ],
          "name": "stdout"
        },
        {
          "output_type": "stream",
          "text": [
            "WARNING:root:Lossy conversion from float64 to uint8. Range [0, 1]. Convert image to uint8 prior to saving to suppress this warning.\n"
          ],
          "name": "stderr"
        },
        {
          "output_type": "stream",
          "text": [
            "(776, 1024, 3)\n"
          ],
          "name": "stdout"
        },
        {
          "output_type": "stream",
          "text": [
            "WARNING:root:Lossy conversion from float64 to uint8. Range [0, 1]. Convert image to uint8 prior to saving to suppress this warning.\n"
          ],
          "name": "stderr"
        },
        {
          "output_type": "stream",
          "text": [
            "(856, 1280, 3)\n"
          ],
          "name": "stdout"
        },
        {
          "output_type": "stream",
          "text": [
            "WARNING:root:Lossy conversion from float64 to uint8. Range [0, 1]. Convert image to uint8 prior to saving to suppress this warning.\n",
            "WARNING:root:Lossy conversion from float64 to uint8. Range [0, 1]. Convert image to uint8 prior to saving to suppress this warning.\n"
          ],
          "name": "stderr"
        },
        {
          "output_type": "stream",
          "text": [
            "(424, 640, 3)\n",
            "(984, 1176, 3)\n"
          ],
          "name": "stdout"
        },
        {
          "output_type": "stream",
          "text": [
            "WARNING:root:Lossy conversion from float64 to uint8. Range [0, 1]. Convert image to uint8 prior to saving to suppress this warning.\n",
            "WARNING:root:Lossy conversion from float64 to uint8. Range [0, 1]. Convert image to uint8 prior to saving to suppress this warning.\n"
          ],
          "name": "stderr"
        },
        {
          "output_type": "stream",
          "text": [
            "(512, 768, 3)\n",
            "(856, 1280, 3)\n"
          ],
          "name": "stdout"
        },
        {
          "output_type": "stream",
          "text": [
            "WARNING:root:Lossy conversion from float64 to uint8. Range [0, 1]. Convert image to uint8 prior to saving to suppress this warning.\n"
          ],
          "name": "stderr"
        },
        {
          "output_type": "stream",
          "text": [
            "\b\b\b\b\b\b\b\b\b\b\b\b\b\b\b\b\b\b\b\b\b\b\b\b\b\b\b\b\b\b\b\b\b\b\b\b\b\b\b\b\b\b\b\b\b\b\b\b\b\b\b\b\b\b\b\b\b\b\b\b\b\b\b\b\b\b\b\b\b\b\b\b\b\b\b\b\b\b\b\b\b\b\r31/31 [==============================] - 38s 1s/step - loss: 0.0043 - accuracy: 0.7931 - val_loss: 181.9644 - val_accuracy: 0.6184\n",
            "Epoch 312/1000\n",
            "31/31 [==============================] - 23s 757ms/step - loss: 0.0044 - accuracy: 0.7899 - val_loss: 183.4553 - val_accuracy: 0.5973\n",
            "Epoch 313/1000\n",
            "31/31 [==============================] - 24s 772ms/step - loss: 0.0044 - accuracy: 0.7899 - val_loss: 182.3561 - val_accuracy: 0.6337\n",
            "Epoch 314/1000\n",
            "31/31 [==============================] - 24s 762ms/step - loss: 0.0043 - accuracy: 0.7920 - val_loss: 182.2513 - val_accuracy: 0.6346\n",
            "Epoch 315/1000\n",
            "31/31 [==============================] - 24s 759ms/step - loss: 0.0044 - accuracy: 0.7925 - val_loss: 182.5574 - val_accuracy: 0.5920\n",
            "Epoch 316/1000\n",
            "31/31 [==============================] - 23s 749ms/step - loss: 0.0042 - accuracy: 0.7963 - val_loss: 182.2298 - val_accuracy: 0.6269\n",
            "Epoch 317/1000\n",
            "31/31 [==============================] - 23s 751ms/step - loss: 0.0044 - accuracy: 0.7916 - val_loss: 183.1030 - val_accuracy: 0.5643\n",
            "Epoch 318/1000\n",
            "31/31 [==============================] - 23s 756ms/step - loss: 0.0043 - accuracy: 0.7947 - val_loss: 184.0823 - val_accuracy: 0.5922\n",
            "Epoch 319/1000\n",
            "31/31 [==============================] - 23s 757ms/step - loss: 0.0043 - accuracy: 0.7944 - val_loss: 182.2550 - val_accuracy: 0.6283\n",
            "Epoch 320/1000\n",
            "31/31 [==============================] - 23s 751ms/step - loss: 0.0043 - accuracy: 0.7906 - val_loss: 182.9401 - val_accuracy: 0.6033\n",
            "Epoch 321/1000\n",
            "31/31 [==============================] - ETA: 0s - loss: 0.0043 - accuracy: 0.7917"
          ],
          "name": "stdout"
        },
        {
          "output_type": "stream",
          "text": [
            "/usr/local/lib/python3.6/dist-packages/skimage/color/colorconv.py:1068: UserWarning: Color data out of range: Z < 0 in 102 pixels\n",
            "  return xyz2rgb(lab2xyz(lab, illuminant, observer))\n",
            "WARNING:root:Lossy conversion from float64 to uint8. Range [0, 1]. Convert image to uint8 prior to saving to suppress this warning.\n"
          ],
          "name": "stderr"
        },
        {
          "output_type": "stream",
          "text": [
            "(512, 768, 3)\n",
            "(800, 1088, 3)\n"
          ],
          "name": "stdout"
        },
        {
          "output_type": "stream",
          "text": [
            "WARNING:root:Lossy conversion from float64 to uint8. Range [0, 1]. Convert image to uint8 prior to saving to suppress this warning.\n"
          ],
          "name": "stderr"
        },
        {
          "output_type": "stream",
          "text": [
            "(856, 1280, 3)\n"
          ],
          "name": "stdout"
        },
        {
          "output_type": "stream",
          "text": [
            "WARNING:root:Lossy conversion from float64 to uint8. Range [0, 1]. Convert image to uint8 prior to saving to suppress this warning.\n",
            "WARNING:root:Lossy conversion from float64 to uint8. Range [0, 1]. Convert image to uint8 prior to saving to suppress this warning.\n"
          ],
          "name": "stderr"
        },
        {
          "output_type": "stream",
          "text": [
            "(528, 736, 3)\n",
            "(856, 1280, 3)\n"
          ],
          "name": "stdout"
        },
        {
          "output_type": "stream",
          "text": [
            "WARNING:root:Lossy conversion from float64 to uint8. Range [0, 1]. Convert image to uint8 prior to saving to suppress this warning.\n"
          ],
          "name": "stderr"
        },
        {
          "output_type": "stream",
          "text": [
            "(1400, 1400, 3)\n"
          ],
          "name": "stdout"
        },
        {
          "output_type": "stream",
          "text": [
            "/usr/local/lib/python3.6/dist-packages/skimage/color/colorconv.py:1068: UserWarning: Color data out of range: Z < 0 in 27 pixels\n",
            "  return xyz2rgb(lab2xyz(lab, illuminant, observer))\n",
            "WARNING:root:Lossy conversion from float64 to uint8. Range [0, 1]. Convert image to uint8 prior to saving to suppress this warning.\n"
          ],
          "name": "stderr"
        },
        {
          "output_type": "stream",
          "text": [
            "(664, 1024, 3)\n"
          ],
          "name": "stdout"
        },
        {
          "output_type": "stream",
          "text": [
            "WARNING:root:Lossy conversion from float64 to uint8. Range [0, 1]. Convert image to uint8 prior to saving to suppress this warning.\n"
          ],
          "name": "stderr"
        },
        {
          "output_type": "stream",
          "text": [
            "(776, 1024, 3)\n"
          ],
          "name": "stdout"
        },
        {
          "output_type": "stream",
          "text": [
            "WARNING:root:Lossy conversion from float64 to uint8. Range [0, 1]. Convert image to uint8 prior to saving to suppress this warning.\n"
          ],
          "name": "stderr"
        },
        {
          "output_type": "stream",
          "text": [
            "(856, 1280, 3)\n"
          ],
          "name": "stdout"
        },
        {
          "output_type": "stream",
          "text": [
            "WARNING:root:Lossy conversion from float64 to uint8. Range [0, 1]. Convert image to uint8 prior to saving to suppress this warning.\n",
            "WARNING:root:Lossy conversion from float64 to uint8. Range [0, 1]. Convert image to uint8 prior to saving to suppress this warning.\n"
          ],
          "name": "stderr"
        },
        {
          "output_type": "stream",
          "text": [
            "(424, 640, 3)\n",
            "(984, 1176, 3)\n"
          ],
          "name": "stdout"
        },
        {
          "output_type": "stream",
          "text": [
            "WARNING:root:Lossy conversion from float64 to uint8. Range [0, 1]. Convert image to uint8 prior to saving to suppress this warning.\n",
            "WARNING:root:Lossy conversion from float64 to uint8. Range [0, 1]. Convert image to uint8 prior to saving to suppress this warning.\n"
          ],
          "name": "stderr"
        },
        {
          "output_type": "stream",
          "text": [
            "(512, 768, 3)\n",
            "(856, 1280, 3)\n"
          ],
          "name": "stdout"
        },
        {
          "output_type": "stream",
          "text": [
            "WARNING:root:Lossy conversion from float64 to uint8. Range [0, 1]. Convert image to uint8 prior to saving to suppress this warning.\n"
          ],
          "name": "stderr"
        },
        {
          "output_type": "stream",
          "text": [
            "\b\b\b\b\b\b\b\b\b\b\b\b\b\b\b\b\b\b\b\b\b\b\b\b\b\b\b\b\b\b\b\b\b\b\b\b\b\b\b\b\b\b\b\b\b\b\b\b\b\b\b\b\b\b\b\b\b\b\b\b\b\b\b\b\b\b\b\b\b\b\b\b\b\b\b\b\b\b\b\b\b\b\r31/31 [==============================] - 37s 1s/step - loss: 0.0043 - accuracy: 0.7917 - val_loss: 182.5405 - val_accuracy: 0.6143\n",
            "Epoch 322/1000\n",
            "31/31 [==============================] - 24s 760ms/step - loss: 0.0043 - accuracy: 0.7971 - val_loss: 182.8861 - val_accuracy: 0.5985\n",
            "Epoch 323/1000\n",
            "31/31 [==============================] - 23s 746ms/step - loss: 0.0042 - accuracy: 0.7953 - val_loss: 182.3232 - val_accuracy: 0.6133\n",
            "Epoch 324/1000\n",
            "31/31 [==============================] - 23s 754ms/step - loss: 0.0042 - accuracy: 0.7929 - val_loss: 182.3677 - val_accuracy: 0.6206\n",
            "Epoch 325/1000\n",
            "31/31 [==============================] - 24s 761ms/step - loss: 0.0042 - accuracy: 0.7946 - val_loss: 182.7778 - val_accuracy: 0.5992\n",
            "Epoch 326/1000\n",
            "31/31 [==============================] - 24s 774ms/step - loss: 0.0042 - accuracy: 0.7930 - val_loss: 183.1578 - val_accuracy: 0.5756\n",
            "Epoch 327/1000\n",
            "31/31 [==============================] - 24s 781ms/step - loss: 0.0042 - accuracy: 0.7958 - val_loss: 182.8436 - val_accuracy: 0.5823\n",
            "Epoch 328/1000\n",
            "31/31 [==============================] - 24s 785ms/step - loss: 0.0043 - accuracy: 0.7938 - val_loss: 182.7588 - val_accuracy: 0.6016\n",
            "Epoch 329/1000\n",
            "31/31 [==============================] - 24s 789ms/step - loss: 0.0041 - accuracy: 0.7974 - val_loss: 182.6579 - val_accuracy: 0.5920\n",
            "Epoch 330/1000\n",
            "31/31 [==============================] - 24s 789ms/step - loss: 0.0042 - accuracy: 0.7974 - val_loss: 182.7949 - val_accuracy: 0.6445\n",
            "Epoch 331/1000\n",
            "31/31 [==============================] - ETA: 0s - loss: 0.0042 - accuracy: 0.7954(512, 768, 3)\n"
          ],
          "name": "stdout"
        },
        {
          "output_type": "stream",
          "text": [
            "WARNING:root:Lossy conversion from float64 to uint8. Range [0, 1]. Convert image to uint8 prior to saving to suppress this warning.\n"
          ],
          "name": "stderr"
        },
        {
          "output_type": "stream",
          "text": [
            "(800, 1088, 3)\n"
          ],
          "name": "stdout"
        },
        {
          "output_type": "stream",
          "text": [
            "WARNING:root:Lossy conversion from float64 to uint8. Range [0, 1]. Convert image to uint8 prior to saving to suppress this warning.\n"
          ],
          "name": "stderr"
        },
        {
          "output_type": "stream",
          "text": [
            "(856, 1280, 3)\n"
          ],
          "name": "stdout"
        },
        {
          "output_type": "stream",
          "text": [
            "WARNING:root:Lossy conversion from float64 to uint8. Range [0, 1]. Convert image to uint8 prior to saving to suppress this warning.\n"
          ],
          "name": "stderr"
        },
        {
          "output_type": "stream",
          "text": [
            "(528, 736, 3)\n"
          ],
          "name": "stdout"
        },
        {
          "output_type": "stream",
          "text": [
            "WARNING:root:Lossy conversion from float64 to uint8. Range [0, 1]. Convert image to uint8 prior to saving to suppress this warning.\n"
          ],
          "name": "stderr"
        },
        {
          "output_type": "stream",
          "text": [
            "(856, 1280, 3)\n"
          ],
          "name": "stdout"
        },
        {
          "output_type": "stream",
          "text": [
            "WARNING:root:Lossy conversion from float64 to uint8. Range [0, 1]. Convert image to uint8 prior to saving to suppress this warning.\n"
          ],
          "name": "stderr"
        },
        {
          "output_type": "stream",
          "text": [
            "(1400, 1400, 3)\n"
          ],
          "name": "stdout"
        },
        {
          "output_type": "stream",
          "text": [
            "/usr/local/lib/python3.6/dist-packages/skimage/color/colorconv.py:1068: UserWarning: Color data out of range: Z < 0 in 14 pixels\n",
            "  return xyz2rgb(lab2xyz(lab, illuminant, observer))\n",
            "WARNING:root:Lossy conversion from float64 to uint8. Range [0, 1]. Convert image to uint8 prior to saving to suppress this warning.\n"
          ],
          "name": "stderr"
        },
        {
          "output_type": "stream",
          "text": [
            "(664, 1024, 3)\n"
          ],
          "name": "stdout"
        },
        {
          "output_type": "stream",
          "text": [
            "WARNING:root:Lossy conversion from float64 to uint8. Range [0, 1]. Convert image to uint8 prior to saving to suppress this warning.\n"
          ],
          "name": "stderr"
        },
        {
          "output_type": "stream",
          "text": [
            "(776, 1024, 3)\n"
          ],
          "name": "stdout"
        },
        {
          "output_type": "stream",
          "text": [
            "WARNING:root:Lossy conversion from float64 to uint8. Range [0, 1]. Convert image to uint8 prior to saving to suppress this warning.\n"
          ],
          "name": "stderr"
        },
        {
          "output_type": "stream",
          "text": [
            "(856, 1280, 3)\n"
          ],
          "name": "stdout"
        },
        {
          "output_type": "stream",
          "text": [
            "WARNING:root:Lossy conversion from float64 to uint8. Range [0, 1]. Convert image to uint8 prior to saving to suppress this warning.\n",
            "WARNING:root:Lossy conversion from float64 to uint8. Range [0, 1]. Convert image to uint8 prior to saving to suppress this warning.\n"
          ],
          "name": "stderr"
        },
        {
          "output_type": "stream",
          "text": [
            "(424, 640, 3)\n",
            "(984, 1176, 3)\n"
          ],
          "name": "stdout"
        },
        {
          "output_type": "stream",
          "text": [
            "WARNING:root:Lossy conversion from float64 to uint8. Range [0, 1]. Convert image to uint8 prior to saving to suppress this warning.\n"
          ],
          "name": "stderr"
        },
        {
          "output_type": "stream",
          "text": [
            "(512, 768, 3)\n"
          ],
          "name": "stdout"
        },
        {
          "output_type": "stream",
          "text": [
            "WARNING:root:Lossy conversion from float64 to uint8. Range [0, 1]. Convert image to uint8 prior to saving to suppress this warning.\n"
          ],
          "name": "stderr"
        },
        {
          "output_type": "stream",
          "text": [
            "(856, 1280, 3)\n"
          ],
          "name": "stdout"
        },
        {
          "output_type": "stream",
          "text": [
            "WARNING:root:Lossy conversion from float64 to uint8. Range [0, 1]. Convert image to uint8 prior to saving to suppress this warning.\n"
          ],
          "name": "stderr"
        },
        {
          "output_type": "stream",
          "text": [
            "\b\b\b\b\b\b\b\b\b\b\b\b\b\b\b\b\b\b\b\b\b\b\b\b\b\b\b\b\b\b\b\b\b\b\b\b\b\b\b\b\b\b\b\b\b\b\b\b\b\b\b\b\b\b\b\b\b\b\b\b\b\b\b\b\b\b\b\b\b\b\b\b\b\b\b\b\b\b\b\b\b\b\r31/31 [==============================] - 40s 1s/step - loss: 0.0042 - accuracy: 0.7954 - val_loss: 183.4345 - val_accuracy: 0.5744\n",
            "Epoch 332/1000\n",
            "31/31 [==============================] - 25s 797ms/step - loss: 0.0043 - accuracy: 0.7904 - val_loss: 182.4891 - val_accuracy: 0.5785\n",
            "Epoch 333/1000\n",
            "31/31 [==============================] - 24s 789ms/step - loss: 0.0043 - accuracy: 0.7968 - val_loss: 182.3375 - val_accuracy: 0.6125\n",
            "Epoch 334/1000\n",
            "31/31 [==============================] - 24s 786ms/step - loss: 0.0040 - accuracy: 0.7941 - val_loss: 183.6912 - val_accuracy: 0.5790\n",
            "Epoch 335/1000\n",
            "31/31 [==============================] - 24s 775ms/step - loss: 0.0043 - accuracy: 0.7928 - val_loss: 182.6998 - val_accuracy: 0.6071\n",
            "Epoch 336/1000\n",
            "31/31 [==============================] - 24s 761ms/step - loss: 0.0040 - accuracy: 0.7947 - val_loss: 184.1344 - val_accuracy: 0.4986\n",
            "Epoch 337/1000\n",
            "31/31 [==============================] - 24s 768ms/step - loss: 0.0041 - accuracy: 0.7954 - val_loss: 184.3729 - val_accuracy: 0.5541\n",
            "Epoch 338/1000\n",
            "31/31 [==============================] - 24s 782ms/step - loss: 0.0042 - accuracy: 0.7928 - val_loss: 182.5746 - val_accuracy: 0.5918\n",
            "Epoch 339/1000\n",
            "31/31 [==============================] - 24s 786ms/step - loss: 0.0042 - accuracy: 0.7966 - val_loss: 183.1056 - val_accuracy: 0.5931\n",
            "Epoch 340/1000\n",
            "31/31 [==============================] - 24s 787ms/step - loss: 0.0041 - accuracy: 0.7990 - val_loss: 182.6217 - val_accuracy: 0.5662\n",
            "Epoch 341/1000\n",
            "31/31 [==============================] - ETA: 0s - loss: 0.0041 - accuracy: 0.7943(512, 768, 3)\n"
          ],
          "name": "stdout"
        },
        {
          "output_type": "stream",
          "text": [
            "WARNING:root:Lossy conversion from float64 to uint8. Range [0, 1]. Convert image to uint8 prior to saving to suppress this warning.\n"
          ],
          "name": "stderr"
        },
        {
          "output_type": "stream",
          "text": [
            "(800, 1088, 3)\n"
          ],
          "name": "stdout"
        },
        {
          "output_type": "stream",
          "text": [
            "WARNING:root:Lossy conversion from float64 to uint8. Range [0, 1]. Convert image to uint8 prior to saving to suppress this warning.\n"
          ],
          "name": "stderr"
        },
        {
          "output_type": "stream",
          "text": [
            "(856, 1280, 3)\n"
          ],
          "name": "stdout"
        },
        {
          "output_type": "stream",
          "text": [
            "WARNING:root:Lossy conversion from float64 to uint8. Range [0, 1]. Convert image to uint8 prior to saving to suppress this warning.\n"
          ],
          "name": "stderr"
        },
        {
          "output_type": "stream",
          "text": [
            "(528, 736, 3)\n"
          ],
          "name": "stdout"
        },
        {
          "output_type": "stream",
          "text": [
            "WARNING:root:Lossy conversion from float64 to uint8. Range [0, 1]. Convert image to uint8 prior to saving to suppress this warning.\n"
          ],
          "name": "stderr"
        },
        {
          "output_type": "stream",
          "text": [
            "(856, 1280, 3)\n"
          ],
          "name": "stdout"
        },
        {
          "output_type": "stream",
          "text": [
            "WARNING:root:Lossy conversion from float64 to uint8. Range [0, 1]. Convert image to uint8 prior to saving to suppress this warning.\n"
          ],
          "name": "stderr"
        },
        {
          "output_type": "stream",
          "text": [
            "(1400, 1400, 3)\n"
          ],
          "name": "stdout"
        },
        {
          "output_type": "stream",
          "text": [
            "WARNING:root:Lossy conversion from float64 to uint8. Range [0, 1]. Convert image to uint8 prior to saving to suppress this warning.\n"
          ],
          "name": "stderr"
        },
        {
          "output_type": "stream",
          "text": [
            "(664, 1024, 3)\n"
          ],
          "name": "stdout"
        },
        {
          "output_type": "stream",
          "text": [
            "WARNING:root:Lossy conversion from float64 to uint8. Range [0, 1]. Convert image to uint8 prior to saving to suppress this warning.\n"
          ],
          "name": "stderr"
        },
        {
          "output_type": "stream",
          "text": [
            "(776, 1024, 3)\n"
          ],
          "name": "stdout"
        },
        {
          "output_type": "stream",
          "text": [
            "WARNING:root:Lossy conversion from float64 to uint8. Range [0, 1]. Convert image to uint8 prior to saving to suppress this warning.\n"
          ],
          "name": "stderr"
        },
        {
          "output_type": "stream",
          "text": [
            "(856, 1280, 3)\n"
          ],
          "name": "stdout"
        },
        {
          "output_type": "stream",
          "text": [
            "WARNING:root:Lossy conversion from float64 to uint8. Range [0, 1]. Convert image to uint8 prior to saving to suppress this warning.\n",
            "WARNING:root:Lossy conversion from float64 to uint8. Range [0, 1]. Convert image to uint8 prior to saving to suppress this warning.\n"
          ],
          "name": "stderr"
        },
        {
          "output_type": "stream",
          "text": [
            "(424, 640, 3)\n",
            "(984, 1176, 3)\n"
          ],
          "name": "stdout"
        },
        {
          "output_type": "stream",
          "text": [
            "WARNING:root:Lossy conversion from float64 to uint8. Range [0, 1]. Convert image to uint8 prior to saving to suppress this warning.\n"
          ],
          "name": "stderr"
        },
        {
          "output_type": "stream",
          "text": [
            "(512, 768, 3)\n"
          ],
          "name": "stdout"
        },
        {
          "output_type": "stream",
          "text": [
            "WARNING:root:Lossy conversion from float64 to uint8. Range [0, 1]. Convert image to uint8 prior to saving to suppress this warning.\n"
          ],
          "name": "stderr"
        },
        {
          "output_type": "stream",
          "text": [
            "(856, 1280, 3)\n"
          ],
          "name": "stdout"
        },
        {
          "output_type": "stream",
          "text": [
            "WARNING:root:Lossy conversion from float64 to uint8. Range [0, 1]. Convert image to uint8 prior to saving to suppress this warning.\n"
          ],
          "name": "stderr"
        },
        {
          "output_type": "stream",
          "text": [
            "\b\b\b\b\b\b\b\b\b\b\b\b\b\b\b\b\b\b\b\b\b\b\b\b\b\b\b\b\b\b\b\b\b\b\b\b\b\b\b\b\b\b\b\b\b\b\b\b\b\b\b\b\b\b\b\b\b\b\b\b\b\b\b\b\b\b\b\b\b\b\b\b\b\b\b\b\b\b\b\b\b\b\r31/31 [==============================] - 39s 1s/step - loss: 0.0041 - accuracy: 0.7943 - val_loss: 183.6465 - val_accuracy: 0.5797\n",
            "Epoch 342/1000\n",
            "31/31 [==============================] - 25s 795ms/step - loss: 0.0041 - accuracy: 0.7996 - val_loss: 183.5055 - val_accuracy: 0.6362\n",
            "Epoch 343/1000\n",
            "31/31 [==============================] - 25s 793ms/step - loss: 0.0043 - accuracy: 0.7958 - val_loss: 184.3499 - val_accuracy: 0.5471\n",
            "Epoch 344/1000\n",
            "31/31 [==============================] - 25s 794ms/step - loss: 0.0041 - accuracy: 0.7971 - val_loss: 183.4146 - val_accuracy: 0.5763\n",
            "Epoch 345/1000\n",
            "31/31 [==============================] - 24s 785ms/step - loss: 0.0041 - accuracy: 0.7958 - val_loss: 182.1732 - val_accuracy: 0.6070\n",
            "Epoch 346/1000\n",
            "31/31 [==============================] - 24s 788ms/step - loss: 0.0041 - accuracy: 0.7970 - val_loss: 182.5482 - val_accuracy: 0.6082\n",
            "Epoch 347/1000\n",
            "31/31 [==============================] - 24s 787ms/step - loss: 0.0041 - accuracy: 0.7972 - val_loss: 182.5768 - val_accuracy: 0.5841\n",
            "Epoch 348/1000\n",
            "31/31 [==============================] - 24s 779ms/step - loss: 0.0040 - accuracy: 0.7957 - val_loss: 182.2186 - val_accuracy: 0.6080\n",
            "Epoch 349/1000\n",
            "31/31 [==============================] - 24s 774ms/step - loss: 0.0041 - accuracy: 0.7979 - val_loss: 181.7799 - val_accuracy: 0.5898\n",
            "Epoch 350/1000\n",
            "31/31 [==============================] - 24s 769ms/step - loss: 0.0040 - accuracy: 0.7975 - val_loss: 182.3352 - val_accuracy: 0.5854\n",
            "Epoch 351/1000\n",
            "31/31 [==============================] - ETA: 0s - loss: 0.0041 - accuracy: 0.7959(512, 768, 3)\n"
          ],
          "name": "stdout"
        },
        {
          "output_type": "stream",
          "text": [
            "WARNING:root:Lossy conversion from float64 to uint8. Range [0, 1]. Convert image to uint8 prior to saving to suppress this warning.\n"
          ],
          "name": "stderr"
        },
        {
          "output_type": "stream",
          "text": [
            "(800, 1088, 3)\n"
          ],
          "name": "stdout"
        },
        {
          "output_type": "stream",
          "text": [
            "WARNING:root:Lossy conversion from float64 to uint8. Range [0, 1]. Convert image to uint8 prior to saving to suppress this warning.\n"
          ],
          "name": "stderr"
        },
        {
          "output_type": "stream",
          "text": [
            "(856, 1280, 3)\n"
          ],
          "name": "stdout"
        },
        {
          "output_type": "stream",
          "text": [
            "WARNING:root:Lossy conversion from float64 to uint8. Range [0, 1]. Convert image to uint8 prior to saving to suppress this warning.\n",
            "WARNING:root:Lossy conversion from float64 to uint8. Range [0, 1]. Convert image to uint8 prior to saving to suppress this warning.\n"
          ],
          "name": "stderr"
        },
        {
          "output_type": "stream",
          "text": [
            "(528, 736, 3)\n",
            "(856, 1280, 3)\n"
          ],
          "name": "stdout"
        },
        {
          "output_type": "stream",
          "text": [
            "WARNING:root:Lossy conversion from float64 to uint8. Range [0, 1]. Convert image to uint8 prior to saving to suppress this warning.\n"
          ],
          "name": "stderr"
        },
        {
          "output_type": "stream",
          "text": [
            "(1400, 1400, 3)\n"
          ],
          "name": "stdout"
        },
        {
          "output_type": "stream",
          "text": [
            "WARNING:root:Lossy conversion from float64 to uint8. Range [0, 1]. Convert image to uint8 prior to saving to suppress this warning.\n"
          ],
          "name": "stderr"
        },
        {
          "output_type": "stream",
          "text": [
            "(664, 1024, 3)\n"
          ],
          "name": "stdout"
        },
        {
          "output_type": "stream",
          "text": [
            "WARNING:root:Lossy conversion from float64 to uint8. Range [0, 1]. Convert image to uint8 prior to saving to suppress this warning.\n"
          ],
          "name": "stderr"
        },
        {
          "output_type": "stream",
          "text": [
            "(776, 1024, 3)\n"
          ],
          "name": "stdout"
        },
        {
          "output_type": "stream",
          "text": [
            "WARNING:root:Lossy conversion from float64 to uint8. Range [0, 1]. Convert image to uint8 prior to saving to suppress this warning.\n"
          ],
          "name": "stderr"
        },
        {
          "output_type": "stream",
          "text": [
            "(856, 1280, 3)\n"
          ],
          "name": "stdout"
        },
        {
          "output_type": "stream",
          "text": [
            "WARNING:root:Lossy conversion from float64 to uint8. Range [0, 1]. Convert image to uint8 prior to saving to suppress this warning.\n",
            "WARNING:root:Lossy conversion from float64 to uint8. Range [0, 1]. Convert image to uint8 prior to saving to suppress this warning.\n"
          ],
          "name": "stderr"
        },
        {
          "output_type": "stream",
          "text": [
            "(424, 640, 3)\n",
            "(984, 1176, 3)\n"
          ],
          "name": "stdout"
        },
        {
          "output_type": "stream",
          "text": [
            "WARNING:root:Lossy conversion from float64 to uint8. Range [0, 1]. Convert image to uint8 prior to saving to suppress this warning.\n",
            "WARNING:root:Lossy conversion from float64 to uint8. Range [0, 1]. Convert image to uint8 prior to saving to suppress this warning.\n"
          ],
          "name": "stderr"
        },
        {
          "output_type": "stream",
          "text": [
            "(512, 768, 3)\n",
            "(856, 1280, 3)\n"
          ],
          "name": "stdout"
        },
        {
          "output_type": "stream",
          "text": [
            "WARNING:root:Lossy conversion from float64 to uint8. Range [0, 1]. Convert image to uint8 prior to saving to suppress this warning.\n"
          ],
          "name": "stderr"
        },
        {
          "output_type": "stream",
          "text": [
            "\b\b\b\b\b\b\b\b\b\b\b\b\b\b\b\b\b\b\b\b\b\b\b\b\b\b\b\b\b\b\b\b\b\b\b\b\b\b\b\b\b\b\b\b\b\b\b\b\b\b\b\b\b\b\b\b\b\b\b\b\b\b\b\b\b\b\b\b\b\b\b\b\b\b\b\b\b\b\b\b\b\b\r31/31 [==============================] - 37s 1s/step - loss: 0.0041 - accuracy: 0.7959 - val_loss: 182.7055 - val_accuracy: 0.5872\n",
            "Epoch 352/1000\n",
            "31/31 [==============================] - 23s 745ms/step - loss: 0.0039 - accuracy: 0.7985 - val_loss: 181.9526 - val_accuracy: 0.5894\n",
            "Epoch 353/1000\n",
            "31/31 [==============================] - 24s 758ms/step - loss: 0.0043 - accuracy: 0.7942 - val_loss: 182.2264 - val_accuracy: 0.6042\n",
            "Epoch 354/1000\n",
            "31/31 [==============================] - 23s 750ms/step - loss: 0.0040 - accuracy: 0.7987 - val_loss: 181.5535 - val_accuracy: 0.6164\n",
            "Epoch 355/1000\n",
            "31/31 [==============================] - 23s 738ms/step - loss: 0.0040 - accuracy: 0.7969 - val_loss: 184.0811 - val_accuracy: 0.5228\n",
            "Epoch 356/1000\n",
            "31/31 [==============================] - 23s 755ms/step - loss: 0.0041 - accuracy: 0.7971 - val_loss: 182.5253 - val_accuracy: 0.5813\n",
            "Epoch 357/1000\n",
            "31/31 [==============================] - 24s 769ms/step - loss: 0.0040 - accuracy: 0.8022 - val_loss: 183.2409 - val_accuracy: 0.6015\n",
            "Epoch 358/1000\n",
            "31/31 [==============================] - 24s 759ms/step - loss: 0.0040 - accuracy: 0.7950 - val_loss: 182.3706 - val_accuracy: 0.5863\n",
            "Epoch 359/1000\n",
            "31/31 [==============================] - 23s 747ms/step - loss: 0.0041 - accuracy: 0.7994 - val_loss: 183.2621 - val_accuracy: 0.5979\n",
            "Epoch 360/1000\n",
            "31/31 [==============================] - 23s 744ms/step - loss: 0.0040 - accuracy: 0.7973 - val_loss: 183.2761 - val_accuracy: 0.5382\n",
            "Epoch 361/1000\n",
            "31/31 [==============================] - ETA: 0s - loss: 0.0041 - accuracy: 0.7968(512, 768, 3)\n"
          ],
          "name": "stdout"
        },
        {
          "output_type": "stream",
          "text": [
            "WARNING:root:Lossy conversion from float64 to uint8. Range [0, 1]. Convert image to uint8 prior to saving to suppress this warning.\n"
          ],
          "name": "stderr"
        },
        {
          "output_type": "stream",
          "text": [
            "(800, 1088, 3)\n"
          ],
          "name": "stdout"
        },
        {
          "output_type": "stream",
          "text": [
            "WARNING:root:Lossy conversion from float64 to uint8. Range [0, 1]. Convert image to uint8 prior to saving to suppress this warning.\n"
          ],
          "name": "stderr"
        },
        {
          "output_type": "stream",
          "text": [
            "(856, 1280, 3)\n"
          ],
          "name": "stdout"
        },
        {
          "output_type": "stream",
          "text": [
            "WARNING:root:Lossy conversion from float64 to uint8. Range [0, 1]. Convert image to uint8 prior to saving to suppress this warning.\n"
          ],
          "name": "stderr"
        },
        {
          "output_type": "stream",
          "text": [
            "(528, 736, 3)\n"
          ],
          "name": "stdout"
        },
        {
          "output_type": "stream",
          "text": [
            "WARNING:root:Lossy conversion from float64 to uint8. Range [0, 1]. Convert image to uint8 prior to saving to suppress this warning.\n"
          ],
          "name": "stderr"
        },
        {
          "output_type": "stream",
          "text": [
            "(856, 1280, 3)\n"
          ],
          "name": "stdout"
        },
        {
          "output_type": "stream",
          "text": [
            "/usr/local/lib/python3.6/dist-packages/skimage/color/colorconv.py:1068: UserWarning: Color data out of range: Z < 0 in 966 pixels\n",
            "  return xyz2rgb(lab2xyz(lab, illuminant, observer))\n",
            "WARNING:root:Lossy conversion from float64 to uint8. Range [0, 1]. Convert image to uint8 prior to saving to suppress this warning.\n"
          ],
          "name": "stderr"
        },
        {
          "output_type": "stream",
          "text": [
            "(1400, 1400, 3)\n"
          ],
          "name": "stdout"
        },
        {
          "output_type": "stream",
          "text": [
            "WARNING:root:Lossy conversion from float64 to uint8. Range [0, 1]. Convert image to uint8 prior to saving to suppress this warning.\n"
          ],
          "name": "stderr"
        },
        {
          "output_type": "stream",
          "text": [
            "(664, 1024, 3)\n"
          ],
          "name": "stdout"
        },
        {
          "output_type": "stream",
          "text": [
            "WARNING:root:Lossy conversion from float64 to uint8. Range [0, 1]. Convert image to uint8 prior to saving to suppress this warning.\n"
          ],
          "name": "stderr"
        },
        {
          "output_type": "stream",
          "text": [
            "(776, 1024, 3)\n"
          ],
          "name": "stdout"
        },
        {
          "output_type": "stream",
          "text": [
            "WARNING:root:Lossy conversion from float64 to uint8. Range [0, 1]. Convert image to uint8 prior to saving to suppress this warning.\n"
          ],
          "name": "stderr"
        },
        {
          "output_type": "stream",
          "text": [
            "(856, 1280, 3)\n"
          ],
          "name": "stdout"
        },
        {
          "output_type": "stream",
          "text": [
            "WARNING:root:Lossy conversion from float64 to uint8. Range [0, 1]. Convert image to uint8 prior to saving to suppress this warning.\n",
            "WARNING:root:Lossy conversion from float64 to uint8. Range [0, 1]. Convert image to uint8 prior to saving to suppress this warning.\n"
          ],
          "name": "stderr"
        },
        {
          "output_type": "stream",
          "text": [
            "(424, 640, 3)\n",
            "(984, 1176, 3)\n"
          ],
          "name": "stdout"
        },
        {
          "output_type": "stream",
          "text": [
            "WARNING:root:Lossy conversion from float64 to uint8. Range [0, 1]. Convert image to uint8 prior to saving to suppress this warning.\n",
            "WARNING:root:Lossy conversion from float64 to uint8. Range [0, 1]. Convert image to uint8 prior to saving to suppress this warning.\n"
          ],
          "name": "stderr"
        },
        {
          "output_type": "stream",
          "text": [
            "(512, 768, 3)\n",
            "(856, 1280, 3)\n"
          ],
          "name": "stdout"
        },
        {
          "output_type": "stream",
          "text": [
            "WARNING:root:Lossy conversion from float64 to uint8. Range [0, 1]. Convert image to uint8 prior to saving to suppress this warning.\n"
          ],
          "name": "stderr"
        },
        {
          "output_type": "stream",
          "text": [
            "\b\b\b\b\b\b\b\b\b\b\b\b\b\b\b\b\b\b\b\b\b\b\b\b\b\b\b\b\b\b\b\b\b\b\b\b\b\b\b\b\b\b\b\b\b\b\b\b\b\b\b\b\b\b\b\b\b\b\b\b\b\b\b\b\b\b\b\b\b\b\b\b\b\b\b\b\b\b\b\b\b\b\r31/31 [==============================] - 38s 1s/step - loss: 0.0041 - accuracy: 0.7968 - val_loss: 181.8656 - val_accuracy: 0.6109\n",
            "Epoch 362/1000\n",
            "31/31 [==============================] - 24s 763ms/step - loss: 0.0041 - accuracy: 0.7961 - val_loss: 182.6037 - val_accuracy: 0.5938\n",
            "Epoch 363/1000\n",
            "31/31 [==============================] - 24s 766ms/step - loss: 0.0040 - accuracy: 0.7985 - val_loss: 182.3902 - val_accuracy: 0.6331\n",
            "Epoch 364/1000\n",
            "31/31 [==============================] - 24s 770ms/step - loss: 0.0041 - accuracy: 0.7990 - val_loss: 181.2814 - val_accuracy: 0.6415\n",
            "Epoch 365/1000\n",
            "31/31 [==============================] - 23s 751ms/step - loss: 0.0040 - accuracy: 0.7961 - val_loss: 182.3396 - val_accuracy: 0.5644\n",
            "Epoch 366/1000\n",
            "31/31 [==============================] - 23s 756ms/step - loss: 0.0039 - accuracy: 0.7996 - val_loss: 182.6794 - val_accuracy: 0.6265\n",
            "Epoch 367/1000\n",
            "31/31 [==============================] - 23s 753ms/step - loss: 0.0040 - accuracy: 0.8031 - val_loss: 182.0923 - val_accuracy: 0.6420\n",
            "Epoch 368/1000\n",
            "31/31 [==============================] - 23s 756ms/step - loss: 0.0040 - accuracy: 0.7979 - val_loss: 182.2133 - val_accuracy: 0.6164\n",
            "Epoch 369/1000\n",
            "31/31 [==============================] - 24s 758ms/step - loss: 0.0040 - accuracy: 0.7968 - val_loss: 183.7672 - val_accuracy: 0.5777\n",
            "Epoch 370/1000\n",
            "31/31 [==============================] - 24s 758ms/step - loss: 0.0040 - accuracy: 0.7965 - val_loss: 182.3630 - val_accuracy: 0.6111\n",
            "Epoch 371/1000\n",
            "31/31 [==============================] - ETA: 0s - loss: 0.0039 - accuracy: 0.7986(512, 768, 3)\n"
          ],
          "name": "stdout"
        },
        {
          "output_type": "stream",
          "text": [
            "/usr/local/lib/python3.6/dist-packages/skimage/color/colorconv.py:1068: UserWarning: Color data out of range: Z < 0 in 77 pixels\n",
            "  return xyz2rgb(lab2xyz(lab, illuminant, observer))\n",
            "WARNING:root:Lossy conversion from float64 to uint8. Range [0, 1]. Convert image to uint8 prior to saving to suppress this warning.\n"
          ],
          "name": "stderr"
        },
        {
          "output_type": "stream",
          "text": [
            "(800, 1088, 3)\n"
          ],
          "name": "stdout"
        },
        {
          "output_type": "stream",
          "text": [
            "WARNING:root:Lossy conversion from float64 to uint8. Range [0, 1]. Convert image to uint8 prior to saving to suppress this warning.\n"
          ],
          "name": "stderr"
        },
        {
          "output_type": "stream",
          "text": [
            "(856, 1280, 3)\n"
          ],
          "name": "stdout"
        },
        {
          "output_type": "stream",
          "text": [
            "WARNING:root:Lossy conversion from float64 to uint8. Range [0, 1]. Convert image to uint8 prior to saving to suppress this warning.\n"
          ],
          "name": "stderr"
        },
        {
          "output_type": "stream",
          "text": [
            "(528, 736, 3)\n"
          ],
          "name": "stdout"
        },
        {
          "output_type": "stream",
          "text": [
            "WARNING:root:Lossy conversion from float64 to uint8. Range [0, 1]. Convert image to uint8 prior to saving to suppress this warning.\n"
          ],
          "name": "stderr"
        },
        {
          "output_type": "stream",
          "text": [
            "(856, 1280, 3)\n"
          ],
          "name": "stdout"
        },
        {
          "output_type": "stream",
          "text": [
            "WARNING:root:Lossy conversion from float64 to uint8. Range [0, 1]. Convert image to uint8 prior to saving to suppress this warning.\n"
          ],
          "name": "stderr"
        },
        {
          "output_type": "stream",
          "text": [
            "(1400, 1400, 3)\n"
          ],
          "name": "stdout"
        },
        {
          "output_type": "stream",
          "text": [
            "/usr/local/lib/python3.6/dist-packages/skimage/color/colorconv.py:1068: UserWarning: Color data out of range: Z < 0 in 61 pixels\n",
            "  return xyz2rgb(lab2xyz(lab, illuminant, observer))\n",
            "WARNING:root:Lossy conversion from float64 to uint8. Range [0, 1]. Convert image to uint8 prior to saving to suppress this warning.\n"
          ],
          "name": "stderr"
        },
        {
          "output_type": "stream",
          "text": [
            "(664, 1024, 3)\n"
          ],
          "name": "stdout"
        },
        {
          "output_type": "stream",
          "text": [
            "/usr/local/lib/python3.6/dist-packages/skimage/color/colorconv.py:1068: UserWarning: Color data out of range: Z < 0 in 40 pixels\n",
            "  return xyz2rgb(lab2xyz(lab, illuminant, observer))\n",
            "WARNING:root:Lossy conversion from float64 to uint8. Range [0, 1]. Convert image to uint8 prior to saving to suppress this warning.\n"
          ],
          "name": "stderr"
        },
        {
          "output_type": "stream",
          "text": [
            "(776, 1024, 3)\n"
          ],
          "name": "stdout"
        },
        {
          "output_type": "stream",
          "text": [
            "WARNING:root:Lossy conversion from float64 to uint8. Range [0, 1]. Convert image to uint8 prior to saving to suppress this warning.\n"
          ],
          "name": "stderr"
        },
        {
          "output_type": "stream",
          "text": [
            "(856, 1280, 3)\n"
          ],
          "name": "stdout"
        },
        {
          "output_type": "stream",
          "text": [
            "WARNING:root:Lossy conversion from float64 to uint8. Range [0, 1]. Convert image to uint8 prior to saving to suppress this warning.\n",
            "/usr/local/lib/python3.6/dist-packages/skimage/color/colorconv.py:1068: UserWarning: Color data out of range: Z < 0 in 19 pixels\n",
            "  return xyz2rgb(lab2xyz(lab, illuminant, observer))\n",
            "WARNING:root:Lossy conversion from float64 to uint8. Range [0, 1]. Convert image to uint8 prior to saving to suppress this warning.\n"
          ],
          "name": "stderr"
        },
        {
          "output_type": "stream",
          "text": [
            "(424, 640, 3)\n",
            "(984, 1176, 3)\n"
          ],
          "name": "stdout"
        },
        {
          "output_type": "stream",
          "text": [
            "WARNING:root:Lossy conversion from float64 to uint8. Range [0, 1]. Convert image to uint8 prior to saving to suppress this warning.\n"
          ],
          "name": "stderr"
        },
        {
          "output_type": "stream",
          "text": [
            "(512, 768, 3)\n"
          ],
          "name": "stdout"
        },
        {
          "output_type": "stream",
          "text": [
            "/usr/local/lib/python3.6/dist-packages/skimage/color/colorconv.py:1068: UserWarning: Color data out of range: Z < 0 in 41 pixels\n",
            "  return xyz2rgb(lab2xyz(lab, illuminant, observer))\n",
            "WARNING:root:Lossy conversion from float64 to uint8. Range [0, 1]. Convert image to uint8 prior to saving to suppress this warning.\n"
          ],
          "name": "stderr"
        },
        {
          "output_type": "stream",
          "text": [
            "(856, 1280, 3)\n"
          ],
          "name": "stdout"
        },
        {
          "output_type": "stream",
          "text": [
            "WARNING:root:Lossy conversion from float64 to uint8. Range [0, 1]. Convert image to uint8 prior to saving to suppress this warning.\n"
          ],
          "name": "stderr"
        },
        {
          "output_type": "stream",
          "text": [
            "\b\b\b\b\b\b\b\b\b\b\b\b\b\b\b\b\b\b\b\b\b\b\b\b\b\b\b\b\b\b\b\b\b\b\b\b\b\b\b\b\b\b\b\b\b\b\b\b\b\b\b\b\b\b\b\b\b\b\b\b\b\b\b\b\b\b\b\b\b\b\b\b\b\b\b\b\b\b\b\b\b\b\r31/31 [==============================] - 37s 1s/step - loss: 0.0039 - accuracy: 0.7986 - val_loss: 181.9273 - val_accuracy: 0.6483\n",
            "Epoch 372/1000\n",
            "31/31 [==============================] - 23s 752ms/step - loss: 0.0040 - accuracy: 0.8041 - val_loss: 182.8336 - val_accuracy: 0.6355\n",
            "Epoch 373/1000\n",
            "31/31 [==============================] - 23s 755ms/step - loss: 0.0039 - accuracy: 0.7938 - val_loss: 182.6127 - val_accuracy: 0.6098\n",
            "Epoch 374/1000\n",
            "31/31 [==============================] - 24s 760ms/step - loss: 0.0040 - accuracy: 0.8024 - val_loss: 181.8906 - val_accuracy: 0.6070\n",
            "Epoch 375/1000\n",
            "31/31 [==============================] - 24s 761ms/step - loss: 0.0038 - accuracy: 0.7985 - val_loss: 182.6688 - val_accuracy: 0.5986\n",
            "Epoch 376/1000\n",
            "31/31 [==============================] - 23s 750ms/step - loss: 0.0040 - accuracy: 0.8042 - val_loss: 183.7762 - val_accuracy: 0.5438\n",
            "Epoch 377/1000\n",
            "31/31 [==============================] - 23s 752ms/step - loss: 0.0040 - accuracy: 0.7969 - val_loss: 182.7613 - val_accuracy: 0.5565\n",
            "Epoch 378/1000\n",
            "31/31 [==============================] - 23s 745ms/step - loss: 0.0038 - accuracy: 0.8000 - val_loss: 181.7259 - val_accuracy: 0.6029\n",
            "Epoch 379/1000\n",
            "31/31 [==============================] - 23s 743ms/step - loss: 0.0040 - accuracy: 0.7994 - val_loss: 181.8563 - val_accuracy: 0.6420\n",
            "Epoch 380/1000\n",
            "31/31 [==============================] - 23s 742ms/step - loss: 0.0039 - accuracy: 0.8032 - val_loss: 181.4942 - val_accuracy: 0.6412\n",
            "Epoch 381/1000\n",
            "31/31 [==============================] - ETA: 0s - loss: 0.0040 - accuracy: 0.7957(512, 768, 3)\n"
          ],
          "name": "stdout"
        },
        {
          "output_type": "stream",
          "text": [
            "WARNING:root:Lossy conversion from float64 to uint8. Range [0, 1]. Convert image to uint8 prior to saving to suppress this warning.\n"
          ],
          "name": "stderr"
        },
        {
          "output_type": "stream",
          "text": [
            "(800, 1088, 3)\n"
          ],
          "name": "stdout"
        },
        {
          "output_type": "stream",
          "text": [
            "WARNING:root:Lossy conversion from float64 to uint8. Range [0, 1]. Convert image to uint8 prior to saving to suppress this warning.\n"
          ],
          "name": "stderr"
        },
        {
          "output_type": "stream",
          "text": [
            "(856, 1280, 3)\n"
          ],
          "name": "stdout"
        },
        {
          "output_type": "stream",
          "text": [
            "WARNING:root:Lossy conversion from float64 to uint8. Range [0, 1]. Convert image to uint8 prior to saving to suppress this warning.\n",
            "WARNING:root:Lossy conversion from float64 to uint8. Range [0, 1]. Convert image to uint8 prior to saving to suppress this warning.\n"
          ],
          "name": "stderr"
        },
        {
          "output_type": "stream",
          "text": [
            "(528, 736, 3)\n",
            "(856, 1280, 3)\n"
          ],
          "name": "stdout"
        },
        {
          "output_type": "stream",
          "text": [
            "WARNING:root:Lossy conversion from float64 to uint8. Range [0, 1]. Convert image to uint8 prior to saving to suppress this warning.\n"
          ],
          "name": "stderr"
        },
        {
          "output_type": "stream",
          "text": [
            "(1400, 1400, 3)\n"
          ],
          "name": "stdout"
        },
        {
          "output_type": "stream",
          "text": [
            "WARNING:root:Lossy conversion from float64 to uint8. Range [0, 1]. Convert image to uint8 prior to saving to suppress this warning.\n"
          ],
          "name": "stderr"
        },
        {
          "output_type": "stream",
          "text": [
            "(664, 1024, 3)\n"
          ],
          "name": "stdout"
        },
        {
          "output_type": "stream",
          "text": [
            "WARNING:root:Lossy conversion from float64 to uint8. Range [0, 1]. Convert image to uint8 prior to saving to suppress this warning.\n"
          ],
          "name": "stderr"
        },
        {
          "output_type": "stream",
          "text": [
            "(776, 1024, 3)\n"
          ],
          "name": "stdout"
        },
        {
          "output_type": "stream",
          "text": [
            "WARNING:root:Lossy conversion from float64 to uint8. Range [0, 1]. Convert image to uint8 prior to saving to suppress this warning.\n"
          ],
          "name": "stderr"
        },
        {
          "output_type": "stream",
          "text": [
            "(856, 1280, 3)\n"
          ],
          "name": "stdout"
        },
        {
          "output_type": "stream",
          "text": [
            "WARNING:root:Lossy conversion from float64 to uint8. Range [0, 1]. Convert image to uint8 prior to saving to suppress this warning.\n",
            "WARNING:root:Lossy conversion from float64 to uint8. Range [0, 1]. Convert image to uint8 prior to saving to suppress this warning.\n"
          ],
          "name": "stderr"
        },
        {
          "output_type": "stream",
          "text": [
            "(424, 640, 3)\n",
            "(984, 1176, 3)\n"
          ],
          "name": "stdout"
        },
        {
          "output_type": "stream",
          "text": [
            "WARNING:root:Lossy conversion from float64 to uint8. Range [0, 1]. Convert image to uint8 prior to saving to suppress this warning.\n"
          ],
          "name": "stderr"
        },
        {
          "output_type": "stream",
          "text": [
            "(512, 768, 3)\n"
          ],
          "name": "stdout"
        },
        {
          "output_type": "stream",
          "text": [
            "WARNING:root:Lossy conversion from float64 to uint8. Range [0, 1]. Convert image to uint8 prior to saving to suppress this warning.\n"
          ],
          "name": "stderr"
        },
        {
          "output_type": "stream",
          "text": [
            "(856, 1280, 3)\n"
          ],
          "name": "stdout"
        },
        {
          "output_type": "stream",
          "text": [
            "WARNING:root:Lossy conversion from float64 to uint8. Range [0, 1]. Convert image to uint8 prior to saving to suppress this warning.\n"
          ],
          "name": "stderr"
        },
        {
          "output_type": "stream",
          "text": [
            "\b\b\b\b\b\b\b\b\b\b\b\b\b\b\b\b\b\b\b\b\b\b\b\b\b\b\b\b\b\b\b\b\b\b\b\b\b\b\b\b\b\b\b\b\b\b\b\b\b\b\b\b\b\b\b\b\b\b\b\b\b\b\b\b\b\b\b\b\b\b\b\b\b\b\b\b\b\b\b\b\b\b\r31/31 [==============================] - 37s 1s/step - loss: 0.0040 - accuracy: 0.7957 - val_loss: 182.3374 - val_accuracy: 0.6083\n",
            "Epoch 382/1000\n",
            "31/31 [==============================] - 23s 749ms/step - loss: 0.0039 - accuracy: 0.8034 - val_loss: 182.2038 - val_accuracy: 0.5926\n",
            "Epoch 383/1000\n",
            "31/31 [==============================] - 23s 738ms/step - loss: 0.0040 - accuracy: 0.7968 - val_loss: 182.2205 - val_accuracy: 0.6309\n",
            "Epoch 384/1000\n",
            "31/31 [==============================] - 23s 740ms/step - loss: 0.0039 - accuracy: 0.8005 - val_loss: 182.4235 - val_accuracy: 0.6106\n",
            "Epoch 385/1000\n",
            "31/31 [==============================] - 23s 752ms/step - loss: 0.0038 - accuracy: 0.8019 - val_loss: 181.5872 - val_accuracy: 0.6220\n",
            "Epoch 386/1000\n",
            "31/31 [==============================] - 23s 752ms/step - loss: 0.0039 - accuracy: 0.7972 - val_loss: 182.0592 - val_accuracy: 0.6363\n",
            "Epoch 387/1000\n",
            "31/31 [==============================] - 23s 742ms/step - loss: 0.0038 - accuracy: 0.8001 - val_loss: 182.4371 - val_accuracy: 0.6417\n",
            "Epoch 388/1000\n",
            "31/31 [==============================] - 23s 742ms/step - loss: 0.0039 - accuracy: 0.8001 - val_loss: 182.1297 - val_accuracy: 0.5900\n",
            "Epoch 389/1000\n",
            "31/31 [==============================] - 23s 741ms/step - loss: 0.0038 - accuracy: 0.8002 - val_loss: 183.1055 - val_accuracy: 0.5530\n",
            "Epoch 390/1000\n",
            "31/31 [==============================] - 23s 739ms/step - loss: 0.0040 - accuracy: 0.7981 - val_loss: 181.7478 - val_accuracy: 0.6357\n",
            "Epoch 391/1000\n",
            "31/31 [==============================] - ETA: 0s - loss: 0.0038 - accuracy: 0.8000(512, 768, 3)\n"
          ],
          "name": "stdout"
        },
        {
          "output_type": "stream",
          "text": [
            "WARNING:root:Lossy conversion from float64 to uint8. Range [0, 1]. Convert image to uint8 prior to saving to suppress this warning.\n"
          ],
          "name": "stderr"
        },
        {
          "output_type": "stream",
          "text": [
            "(800, 1088, 3)\n"
          ],
          "name": "stdout"
        },
        {
          "output_type": "stream",
          "text": [
            "WARNING:root:Lossy conversion from float64 to uint8. Range [0, 1]. Convert image to uint8 prior to saving to suppress this warning.\n"
          ],
          "name": "stderr"
        },
        {
          "output_type": "stream",
          "text": [
            "(856, 1280, 3)\n"
          ],
          "name": "stdout"
        },
        {
          "output_type": "stream",
          "text": [
            "WARNING:root:Lossy conversion from float64 to uint8. Range [0, 1]. Convert image to uint8 prior to saving to suppress this warning.\n",
            "WARNING:root:Lossy conversion from float64 to uint8. Range [0, 1]. Convert image to uint8 prior to saving to suppress this warning.\n"
          ],
          "name": "stderr"
        },
        {
          "output_type": "stream",
          "text": [
            "(528, 736, 3)\n",
            "(856, 1280, 3)\n"
          ],
          "name": "stdout"
        },
        {
          "output_type": "stream",
          "text": [
            "WARNING:root:Lossy conversion from float64 to uint8. Range [0, 1]. Convert image to uint8 prior to saving to suppress this warning.\n"
          ],
          "name": "stderr"
        },
        {
          "output_type": "stream",
          "text": [
            "(1400, 1400, 3)\n"
          ],
          "name": "stdout"
        },
        {
          "output_type": "stream",
          "text": [
            "WARNING:root:Lossy conversion from float64 to uint8. Range [0, 1]. Convert image to uint8 prior to saving to suppress this warning.\n"
          ],
          "name": "stderr"
        },
        {
          "output_type": "stream",
          "text": [
            "(664, 1024, 3)\n"
          ],
          "name": "stdout"
        },
        {
          "output_type": "stream",
          "text": [
            "WARNING:root:Lossy conversion from float64 to uint8. Range [0, 1]. Convert image to uint8 prior to saving to suppress this warning.\n"
          ],
          "name": "stderr"
        },
        {
          "output_type": "stream",
          "text": [
            "(776, 1024, 3)\n"
          ],
          "name": "stdout"
        },
        {
          "output_type": "stream",
          "text": [
            "WARNING:root:Lossy conversion from float64 to uint8. Range [0, 1]. Convert image to uint8 prior to saving to suppress this warning.\n"
          ],
          "name": "stderr"
        },
        {
          "output_type": "stream",
          "text": [
            "(856, 1280, 3)\n"
          ],
          "name": "stdout"
        },
        {
          "output_type": "stream",
          "text": [
            "WARNING:root:Lossy conversion from float64 to uint8. Range [0, 1]. Convert image to uint8 prior to saving to suppress this warning.\n",
            "WARNING:root:Lossy conversion from float64 to uint8. Range [0, 1]. Convert image to uint8 prior to saving to suppress this warning.\n"
          ],
          "name": "stderr"
        },
        {
          "output_type": "stream",
          "text": [
            "(424, 640, 3)\n",
            "(984, 1176, 3)\n"
          ],
          "name": "stdout"
        },
        {
          "output_type": "stream",
          "text": [
            "WARNING:root:Lossy conversion from float64 to uint8. Range [0, 1]. Convert image to uint8 prior to saving to suppress this warning.\n"
          ],
          "name": "stderr"
        },
        {
          "output_type": "stream",
          "text": [
            "(512, 768, 3)\n"
          ],
          "name": "stdout"
        },
        {
          "output_type": "stream",
          "text": [
            "WARNING:root:Lossy conversion from float64 to uint8. Range [0, 1]. Convert image to uint8 prior to saving to suppress this warning.\n"
          ],
          "name": "stderr"
        },
        {
          "output_type": "stream",
          "text": [
            "(856, 1280, 3)\n"
          ],
          "name": "stdout"
        },
        {
          "output_type": "stream",
          "text": [
            "WARNING:root:Lossy conversion from float64 to uint8. Range [0, 1]. Convert image to uint8 prior to saving to suppress this warning.\n"
          ],
          "name": "stderr"
        },
        {
          "output_type": "stream",
          "text": [
            "\b\b\b\b\b\b\b\b\b\b\b\b\b\b\b\b\b\b\b\b\b\b\b\b\b\b\b\b\b\b\b\b\b\b\b\b\b\b\b\b\b\b\b\b\b\b\b\b\b\b\b\b\b\b\b\b\b\b\b\b\b\b\b\b\b\b\b\b\b\b\b\b\b\b\b\b\b\b\b\b\b\b\r31/31 [==============================] - 37s 1s/step - loss: 0.0038 - accuracy: 0.8000 - val_loss: 182.4620 - val_accuracy: 0.5868\n",
            "Epoch 392/1000\n",
            "31/31 [==============================] - 23s 736ms/step - loss: 0.0039 - accuracy: 0.7991 - val_loss: 183.0325 - val_accuracy: 0.5987\n",
            "Epoch 393/1000\n",
            "31/31 [==============================] - 23s 736ms/step - loss: 0.0038 - accuracy: 0.8047 - val_loss: 182.2088 - val_accuracy: 0.6195\n",
            "Epoch 394/1000\n",
            "31/31 [==============================] - 23s 734ms/step - loss: 0.0038 - accuracy: 0.7987 - val_loss: 181.4770 - val_accuracy: 0.6676\n",
            "Epoch 395/1000\n",
            "31/31 [==============================] - 23s 740ms/step - loss: 0.0038 - accuracy: 0.8023 - val_loss: 181.7133 - val_accuracy: 0.6375\n",
            "Epoch 396/1000\n",
            "31/31 [==============================] - 23s 735ms/step - loss: 0.0039 - accuracy: 0.8042 - val_loss: 182.0938 - val_accuracy: 0.6060\n",
            "Epoch 397/1000\n",
            "31/31 [==============================] - 23s 739ms/step - loss: 0.0038 - accuracy: 0.8046 - val_loss: 182.4606 - val_accuracy: 0.5858\n",
            "Epoch 398/1000\n",
            "31/31 [==============================] - 23s 740ms/step - loss: 0.0038 - accuracy: 0.7987 - val_loss: 182.7759 - val_accuracy: 0.5905\n",
            "Epoch 399/1000\n",
            "31/31 [==============================] - 23s 735ms/step - loss: 0.0039 - accuracy: 0.8048 - val_loss: 182.0303 - val_accuracy: 0.6106\n",
            "Epoch 400/1000\n",
            "31/31 [==============================] - 23s 745ms/step - loss: 0.0038 - accuracy: 0.8022 - val_loss: 182.8645 - val_accuracy: 0.5741\n",
            "Epoch 401/1000\n",
            "31/31 [==============================] - ETA: 0s - loss: 0.0038 - accuracy: 0.8012(512, 768, 3)\n"
          ],
          "name": "stdout"
        },
        {
          "output_type": "stream",
          "text": [
            "WARNING:root:Lossy conversion from float64 to uint8. Range [0, 1]. Convert image to uint8 prior to saving to suppress this warning.\n"
          ],
          "name": "stderr"
        },
        {
          "output_type": "stream",
          "text": [
            "(800, 1088, 3)\n"
          ],
          "name": "stdout"
        },
        {
          "output_type": "stream",
          "text": [
            "WARNING:root:Lossy conversion from float64 to uint8. Range [0, 1]. Convert image to uint8 prior to saving to suppress this warning.\n"
          ],
          "name": "stderr"
        },
        {
          "output_type": "stream",
          "text": [
            "(856, 1280, 3)\n"
          ],
          "name": "stdout"
        },
        {
          "output_type": "stream",
          "text": [
            "WARNING:root:Lossy conversion from float64 to uint8. Range [0, 1]. Convert image to uint8 prior to saving to suppress this warning.\n",
            "WARNING:root:Lossy conversion from float64 to uint8. Range [0, 1]. Convert image to uint8 prior to saving to suppress this warning.\n"
          ],
          "name": "stderr"
        },
        {
          "output_type": "stream",
          "text": [
            "(528, 736, 3)\n",
            "(856, 1280, 3)\n"
          ],
          "name": "stdout"
        },
        {
          "output_type": "stream",
          "text": [
            "WARNING:root:Lossy conversion from float64 to uint8. Range [0, 1]. Convert image to uint8 prior to saving to suppress this warning.\n"
          ],
          "name": "stderr"
        },
        {
          "output_type": "stream",
          "text": [
            "(1400, 1400, 3)\n"
          ],
          "name": "stdout"
        },
        {
          "output_type": "stream",
          "text": [
            "WARNING:root:Lossy conversion from float64 to uint8. Range [0, 1]. Convert image to uint8 prior to saving to suppress this warning.\n"
          ],
          "name": "stderr"
        },
        {
          "output_type": "stream",
          "text": [
            "(664, 1024, 3)\n"
          ],
          "name": "stdout"
        },
        {
          "output_type": "stream",
          "text": [
            "WARNING:root:Lossy conversion from float64 to uint8. Range [0, 1]. Convert image to uint8 prior to saving to suppress this warning.\n"
          ],
          "name": "stderr"
        },
        {
          "output_type": "stream",
          "text": [
            "(776, 1024, 3)\n"
          ],
          "name": "stdout"
        },
        {
          "output_type": "stream",
          "text": [
            "WARNING:root:Lossy conversion from float64 to uint8. Range [0, 1]. Convert image to uint8 prior to saving to suppress this warning.\n"
          ],
          "name": "stderr"
        },
        {
          "output_type": "stream",
          "text": [
            "(856, 1280, 3)\n"
          ],
          "name": "stdout"
        },
        {
          "output_type": "stream",
          "text": [
            "WARNING:root:Lossy conversion from float64 to uint8. Range [0, 1]. Convert image to uint8 prior to saving to suppress this warning.\n",
            "WARNING:root:Lossy conversion from float64 to uint8. Range [0, 1]. Convert image to uint8 prior to saving to suppress this warning.\n"
          ],
          "name": "stderr"
        },
        {
          "output_type": "stream",
          "text": [
            "(424, 640, 3)\n",
            "(984, 1176, 3)\n"
          ],
          "name": "stdout"
        },
        {
          "output_type": "stream",
          "text": [
            "WARNING:root:Lossy conversion from float64 to uint8. Range [0, 1]. Convert image to uint8 prior to saving to suppress this warning.\n",
            "WARNING:root:Lossy conversion from float64 to uint8. Range [0, 1]. Convert image to uint8 prior to saving to suppress this warning.\n"
          ],
          "name": "stderr"
        },
        {
          "output_type": "stream",
          "text": [
            "(512, 768, 3)\n",
            "(856, 1280, 3)\n"
          ],
          "name": "stdout"
        },
        {
          "output_type": "stream",
          "text": [
            "WARNING:root:Lossy conversion from float64 to uint8. Range [0, 1]. Convert image to uint8 prior to saving to suppress this warning.\n"
          ],
          "name": "stderr"
        },
        {
          "output_type": "stream",
          "text": [
            "\b\b\b\b\b\b\b\b\b\b\b\b\b\b\b\b\b\b\b\b\b\b\b\b\b\b\b\b\b\b\b\b\b\b\b\b\b\b\b\b\b\b\b\b\b\b\b\b\b\b\b\b\b\b\b\b\b\b\b\b\b\b\b\b\b\b\b\b\b\b\b\b\b\b\b\b\b\b\b\b\b\b\r31/31 [==============================] - 37s 1s/step - loss: 0.0038 - accuracy: 0.8012 - val_loss: 183.0099 - val_accuracy: 0.5359\n",
            "Epoch 402/1000\n",
            "31/31 [==============================] - 23s 743ms/step - loss: 0.0037 - accuracy: 0.8044 - val_loss: 182.6114 - val_accuracy: 0.6247\n",
            "Epoch 403/1000\n",
            "31/31 [==============================] - 23s 744ms/step - loss: 0.0039 - accuracy: 0.8006 - val_loss: 182.8898 - val_accuracy: 0.6205\n",
            "Epoch 404/1000\n",
            "31/31 [==============================] - 23s 742ms/step - loss: 0.0040 - accuracy: 0.7996 - val_loss: 182.9621 - val_accuracy: 0.5701\n",
            "Epoch 405/1000\n",
            "31/31 [==============================] - 23s 738ms/step - loss: 0.0037 - accuracy: 0.8065 - val_loss: 184.5470 - val_accuracy: 0.5465\n",
            "Epoch 406/1000\n",
            "31/31 [==============================] - 23s 737ms/step - loss: 0.0037 - accuracy: 0.8049 - val_loss: 182.7870 - val_accuracy: 0.5983\n",
            "Epoch 407/1000\n",
            "31/31 [==============================] - 23s 737ms/step - loss: 0.0038 - accuracy: 0.8021 - val_loss: 183.2066 - val_accuracy: 0.5951\n",
            "Epoch 408/1000\n",
            "31/31 [==============================] - 23s 737ms/step - loss: 0.0039 - accuracy: 0.8005 - val_loss: 182.5133 - val_accuracy: 0.6078\n",
            "Epoch 409/1000\n",
            "31/31 [==============================] - 23s 737ms/step - loss: 0.0039 - accuracy: 0.8053 - val_loss: 182.8738 - val_accuracy: 0.5993\n",
            "Epoch 410/1000\n",
            "31/31 [==============================] - 23s 737ms/step - loss: 0.0037 - accuracy: 0.8008 - val_loss: 183.3526 - val_accuracy: 0.6276\n",
            "Epoch 411/1000\n",
            "31/31 [==============================] - ETA: 0s - loss: 0.0036 - accuracy: 0.8060(512, 768, 3)\n"
          ],
          "name": "stdout"
        },
        {
          "output_type": "stream",
          "text": [
            "WARNING:root:Lossy conversion from float64 to uint8. Range [0, 1]. Convert image to uint8 prior to saving to suppress this warning.\n"
          ],
          "name": "stderr"
        },
        {
          "output_type": "stream",
          "text": [
            "(800, 1088, 3)\n"
          ],
          "name": "stdout"
        },
        {
          "output_type": "stream",
          "text": [
            "WARNING:root:Lossy conversion from float64 to uint8. Range [0, 1]. Convert image to uint8 prior to saving to suppress this warning.\n"
          ],
          "name": "stderr"
        },
        {
          "output_type": "stream",
          "text": [
            "(856, 1280, 3)\n"
          ],
          "name": "stdout"
        },
        {
          "output_type": "stream",
          "text": [
            "WARNING:root:Lossy conversion from float64 to uint8. Range [0, 1]. Convert image to uint8 prior to saving to suppress this warning.\n",
            "WARNING:root:Lossy conversion from float64 to uint8. Range [0, 1]. Convert image to uint8 prior to saving to suppress this warning.\n"
          ],
          "name": "stderr"
        },
        {
          "output_type": "stream",
          "text": [
            "(528, 736, 3)\n",
            "(856, 1280, 3)\n"
          ],
          "name": "stdout"
        },
        {
          "output_type": "stream",
          "text": [
            "WARNING:root:Lossy conversion from float64 to uint8. Range [0, 1]. Convert image to uint8 prior to saving to suppress this warning.\n"
          ],
          "name": "stderr"
        },
        {
          "output_type": "stream",
          "text": [
            "(1400, 1400, 3)\n"
          ],
          "name": "stdout"
        },
        {
          "output_type": "stream",
          "text": [
            "WARNING:root:Lossy conversion from float64 to uint8. Range [0, 1]. Convert image to uint8 prior to saving to suppress this warning.\n"
          ],
          "name": "stderr"
        },
        {
          "output_type": "stream",
          "text": [
            "(664, 1024, 3)\n"
          ],
          "name": "stdout"
        },
        {
          "output_type": "stream",
          "text": [
            "WARNING:root:Lossy conversion from float64 to uint8. Range [0, 1]. Convert image to uint8 prior to saving to suppress this warning.\n"
          ],
          "name": "stderr"
        },
        {
          "output_type": "stream",
          "text": [
            "(776, 1024, 3)\n"
          ],
          "name": "stdout"
        },
        {
          "output_type": "stream",
          "text": [
            "WARNING:root:Lossy conversion from float64 to uint8. Range [0, 1]. Convert image to uint8 prior to saving to suppress this warning.\n"
          ],
          "name": "stderr"
        },
        {
          "output_type": "stream",
          "text": [
            "(856, 1280, 3)\n"
          ],
          "name": "stdout"
        },
        {
          "output_type": "stream",
          "text": [
            "WARNING:root:Lossy conversion from float64 to uint8. Range [0, 1]. Convert image to uint8 prior to saving to suppress this warning.\n",
            "WARNING:root:Lossy conversion from float64 to uint8. Range [0, 1]. Convert image to uint8 prior to saving to suppress this warning.\n"
          ],
          "name": "stderr"
        },
        {
          "output_type": "stream",
          "text": [
            "(424, 640, 3)\n",
            "(984, 1176, 3)\n"
          ],
          "name": "stdout"
        },
        {
          "output_type": "stream",
          "text": [
            "WARNING:root:Lossy conversion from float64 to uint8. Range [0, 1]. Convert image to uint8 prior to saving to suppress this warning.\n",
            "WARNING:root:Lossy conversion from float64 to uint8. Range [0, 1]. Convert image to uint8 prior to saving to suppress this warning.\n"
          ],
          "name": "stderr"
        },
        {
          "output_type": "stream",
          "text": [
            "(512, 768, 3)\n",
            "(856, 1280, 3)\n"
          ],
          "name": "stdout"
        },
        {
          "output_type": "stream",
          "text": [
            "WARNING:root:Lossy conversion from float64 to uint8. Range [0, 1]. Convert image to uint8 prior to saving to suppress this warning.\n"
          ],
          "name": "stderr"
        },
        {
          "output_type": "stream",
          "text": [
            "\b\b\b\b\b\b\b\b\b\b\b\b\b\b\b\b\b\b\b\b\b\b\b\b\b\b\b\b\b\b\b\b\b\b\b\b\b\b\b\b\b\b\b\b\b\b\b\b\b\b\b\b\b\b\b\b\b\b\b\b\b\b\b\b\b\b\b\b\b\b\b\b\b\b\b\b\b\b\b\b\b\b\r31/31 [==============================] - 37s 1s/step - loss: 0.0036 - accuracy: 0.8060 - val_loss: 183.2056 - val_accuracy: 0.5841\n",
            "Epoch 412/1000\n",
            "31/31 [==============================] - 23s 734ms/step - loss: 0.0038 - accuracy: 0.8065 - val_loss: 181.6287 - val_accuracy: 0.6274\n",
            "Epoch 413/1000\n",
            "31/31 [==============================] - 23s 735ms/step - loss: 0.0038 - accuracy: 0.8019 - val_loss: 183.3099 - val_accuracy: 0.6223\n",
            "Epoch 414/1000\n",
            "31/31 [==============================] - 23s 735ms/step - loss: 0.0038 - accuracy: 0.8005 - val_loss: 181.3406 - val_accuracy: 0.6291\n",
            "Epoch 415/1000\n",
            "31/31 [==============================] - 23s 733ms/step - loss: 0.0037 - accuracy: 0.8042 - val_loss: 181.5768 - val_accuracy: 0.6185\n",
            "Epoch 416/1000\n",
            "31/31 [==============================] - 23s 734ms/step - loss: 0.0037 - accuracy: 0.8022 - val_loss: 184.1477 - val_accuracy: 0.4852\n",
            "Epoch 417/1000\n",
            "31/31 [==============================] - 23s 752ms/step - loss: 0.0038 - accuracy: 0.8055 - val_loss: 181.6256 - val_accuracy: 0.6500\n",
            "Epoch 418/1000\n",
            "31/31 [==============================] - 23s 746ms/step - loss: 0.0037 - accuracy: 0.8074 - val_loss: 183.8428 - val_accuracy: 0.5898\n",
            "Epoch 419/1000\n",
            "31/31 [==============================] - 23s 742ms/step - loss: 0.0037 - accuracy: 0.8024 - val_loss: 182.5871 - val_accuracy: 0.6428\n",
            "Epoch 420/1000\n",
            "31/31 [==============================] - 23s 749ms/step - loss: 0.0040 - accuracy: 0.8040 - val_loss: 181.5290 - val_accuracy: 0.6487\n",
            "Epoch 421/1000\n",
            "31/31 [==============================] - ETA: 0s - loss: 0.0036 - accuracy: 0.8038(512, 768, 3)\n"
          ],
          "name": "stdout"
        },
        {
          "output_type": "stream",
          "text": [
            "/usr/local/lib/python3.6/dist-packages/skimage/color/colorconv.py:1068: UserWarning: Color data out of range: Z < 0 in 51 pixels\n",
            "  return xyz2rgb(lab2xyz(lab, illuminant, observer))\n",
            "WARNING:root:Lossy conversion from float64 to uint8. Range [0, 1]. Convert image to uint8 prior to saving to suppress this warning.\n"
          ],
          "name": "stderr"
        },
        {
          "output_type": "stream",
          "text": [
            "(800, 1088, 3)\n"
          ],
          "name": "stdout"
        },
        {
          "output_type": "stream",
          "text": [
            "WARNING:root:Lossy conversion from float64 to uint8. Range [0, 1]. Convert image to uint8 prior to saving to suppress this warning.\n"
          ],
          "name": "stderr"
        },
        {
          "output_type": "stream",
          "text": [
            "(856, 1280, 3)\n"
          ],
          "name": "stdout"
        },
        {
          "output_type": "stream",
          "text": [
            "WARNING:root:Lossy conversion from float64 to uint8. Range [0, 1]. Convert image to uint8 prior to saving to suppress this warning.\n",
            "WARNING:root:Lossy conversion from float64 to uint8. Range [0, 1]. Convert image to uint8 prior to saving to suppress this warning.\n"
          ],
          "name": "stderr"
        },
        {
          "output_type": "stream",
          "text": [
            "(528, 736, 3)\n",
            "(856, 1280, 3)\n"
          ],
          "name": "stdout"
        },
        {
          "output_type": "stream",
          "text": [
            "WARNING:root:Lossy conversion from float64 to uint8. Range [0, 1]. Convert image to uint8 prior to saving to suppress this warning.\n"
          ],
          "name": "stderr"
        },
        {
          "output_type": "stream",
          "text": [
            "(1400, 1400, 3)\n"
          ],
          "name": "stdout"
        },
        {
          "output_type": "stream",
          "text": [
            "WARNING:root:Lossy conversion from float64 to uint8. Range [0, 1]. Convert image to uint8 prior to saving to suppress this warning.\n"
          ],
          "name": "stderr"
        },
        {
          "output_type": "stream",
          "text": [
            "(664, 1024, 3)\n"
          ],
          "name": "stdout"
        },
        {
          "output_type": "stream",
          "text": [
            "WARNING:root:Lossy conversion from float64 to uint8. Range [0, 1]. Convert image to uint8 prior to saving to suppress this warning.\n"
          ],
          "name": "stderr"
        },
        {
          "output_type": "stream",
          "text": [
            "(776, 1024, 3)\n"
          ],
          "name": "stdout"
        },
        {
          "output_type": "stream",
          "text": [
            "WARNING:root:Lossy conversion from float64 to uint8. Range [0, 1]. Convert image to uint8 prior to saving to suppress this warning.\n"
          ],
          "name": "stderr"
        },
        {
          "output_type": "stream",
          "text": [
            "(856, 1280, 3)\n"
          ],
          "name": "stdout"
        },
        {
          "output_type": "stream",
          "text": [
            "WARNING:root:Lossy conversion from float64 to uint8. Range [0, 1]. Convert image to uint8 prior to saving to suppress this warning.\n",
            "WARNING:root:Lossy conversion from float64 to uint8. Range [0, 1]. Convert image to uint8 prior to saving to suppress this warning.\n"
          ],
          "name": "stderr"
        },
        {
          "output_type": "stream",
          "text": [
            "(424, 640, 3)\n",
            "(984, 1176, 3)\n"
          ],
          "name": "stdout"
        },
        {
          "output_type": "stream",
          "text": [
            "WARNING:root:Lossy conversion from float64 to uint8. Range [0, 1]. Convert image to uint8 prior to saving to suppress this warning.\n"
          ],
          "name": "stderr"
        },
        {
          "output_type": "stream",
          "text": [
            "(512, 768, 3)\n"
          ],
          "name": "stdout"
        },
        {
          "output_type": "stream",
          "text": [
            "/usr/local/lib/python3.6/dist-packages/skimage/color/colorconv.py:1068: UserWarning: Color data out of range: Z < 0 in 16 pixels\n",
            "  return xyz2rgb(lab2xyz(lab, illuminant, observer))\n",
            "WARNING:root:Lossy conversion from float64 to uint8. Range [0, 1]. Convert image to uint8 prior to saving to suppress this warning.\n"
          ],
          "name": "stderr"
        },
        {
          "output_type": "stream",
          "text": [
            "(856, 1280, 3)\n"
          ],
          "name": "stdout"
        },
        {
          "output_type": "stream",
          "text": [
            "WARNING:root:Lossy conversion from float64 to uint8. Range [0, 1]. Convert image to uint8 prior to saving to suppress this warning.\n"
          ],
          "name": "stderr"
        },
        {
          "output_type": "stream",
          "text": [
            "\b\b\b\b\b\b\b\b\b\b\b\b\b\b\b\b\b\b\b\b\b\b\b\b\b\b\b\b\b\b\b\b\b\b\b\b\b\b\b\b\b\b\b\b\b\b\b\b\b\b\b\b\b\b\b\b\b\b\b\b\b\b\b\b\b\b\b\b\b\b\b\b\b\b\b\b\b\b\b\b\b\b\r31/31 [==============================] - 37s 1s/step - loss: 0.0036 - accuracy: 0.8038 - val_loss: 181.4289 - val_accuracy: 0.6123\n",
            "Epoch 422/1000\n",
            "31/31 [==============================] - 23s 747ms/step - loss: 0.0038 - accuracy: 0.8009 - val_loss: 182.9470 - val_accuracy: 0.6382\n",
            "Epoch 423/1000\n",
            "31/31 [==============================] - 23s 750ms/step - loss: 0.0037 - accuracy: 0.8065 - val_loss: 182.6480 - val_accuracy: 0.5614\n",
            "Epoch 424/1000\n",
            "31/31 [==============================] - 23s 745ms/step - loss: 0.0037 - accuracy: 0.8055 - val_loss: 182.9487 - val_accuracy: 0.6304\n",
            "Epoch 425/1000\n",
            "31/31 [==============================] - 23s 739ms/step - loss: 0.0037 - accuracy: 0.8063 - val_loss: 182.6798 - val_accuracy: 0.6500\n",
            "Epoch 426/1000\n",
            "31/31 [==============================] - 23s 747ms/step - loss: 0.0037 - accuracy: 0.8067 - val_loss: 182.5662 - val_accuracy: 0.6229\n",
            "Epoch 427/1000\n",
            "31/31 [==============================] - 23s 749ms/step - loss: 0.0037 - accuracy: 0.8055 - val_loss: 182.7488 - val_accuracy: 0.5706\n",
            "Epoch 428/1000\n",
            "31/31 [==============================] - 23s 750ms/step - loss: 0.0037 - accuracy: 0.8030 - val_loss: 182.0890 - val_accuracy: 0.5720\n",
            "Epoch 429/1000\n",
            "31/31 [==============================] - 23s 742ms/step - loss: 0.0036 - accuracy: 0.8041 - val_loss: 181.3470 - val_accuracy: 0.5958\n",
            "Epoch 430/1000\n",
            "31/31 [==============================] - 23s 756ms/step - loss: 0.0037 - accuracy: 0.8035 - val_loss: 183.6452 - val_accuracy: 0.5857\n",
            "Epoch 431/1000\n",
            "31/31 [==============================] - ETA: 0s - loss: 0.0038 - accuracy: 0.8073(512, 768, 3)\n"
          ],
          "name": "stdout"
        },
        {
          "output_type": "stream",
          "text": [
            "WARNING:root:Lossy conversion from float64 to uint8. Range [0, 1]. Convert image to uint8 prior to saving to suppress this warning.\n"
          ],
          "name": "stderr"
        },
        {
          "output_type": "stream",
          "text": [
            "(800, 1088, 3)\n"
          ],
          "name": "stdout"
        },
        {
          "output_type": "stream",
          "text": [
            "WARNING:root:Lossy conversion from float64 to uint8. Range [0, 1]. Convert image to uint8 prior to saving to suppress this warning.\n"
          ],
          "name": "stderr"
        },
        {
          "output_type": "stream",
          "text": [
            "(856, 1280, 3)\n"
          ],
          "name": "stdout"
        },
        {
          "output_type": "stream",
          "text": [
            "WARNING:root:Lossy conversion from float64 to uint8. Range [0, 1]. Convert image to uint8 prior to saving to suppress this warning.\n",
            "WARNING:root:Lossy conversion from float64 to uint8. Range [0, 1]. Convert image to uint8 prior to saving to suppress this warning.\n"
          ],
          "name": "stderr"
        },
        {
          "output_type": "stream",
          "text": [
            "(528, 736, 3)\n",
            "(856, 1280, 3)\n"
          ],
          "name": "stdout"
        },
        {
          "output_type": "stream",
          "text": [
            "WARNING:root:Lossy conversion from float64 to uint8. Range [0, 1]. Convert image to uint8 prior to saving to suppress this warning.\n"
          ],
          "name": "stderr"
        },
        {
          "output_type": "stream",
          "text": [
            "(1400, 1400, 3)\n"
          ],
          "name": "stdout"
        },
        {
          "output_type": "stream",
          "text": [
            "WARNING:root:Lossy conversion from float64 to uint8. Range [0, 1]. Convert image to uint8 prior to saving to suppress this warning.\n"
          ],
          "name": "stderr"
        },
        {
          "output_type": "stream",
          "text": [
            "(664, 1024, 3)\n"
          ],
          "name": "stdout"
        },
        {
          "output_type": "stream",
          "text": [
            "WARNING:root:Lossy conversion from float64 to uint8. Range [0, 1]. Convert image to uint8 prior to saving to suppress this warning.\n"
          ],
          "name": "stderr"
        },
        {
          "output_type": "stream",
          "text": [
            "(776, 1024, 3)\n"
          ],
          "name": "stdout"
        },
        {
          "output_type": "stream",
          "text": [
            "WARNING:root:Lossy conversion from float64 to uint8. Range [0, 1]. Convert image to uint8 prior to saving to suppress this warning.\n"
          ],
          "name": "stderr"
        },
        {
          "output_type": "stream",
          "text": [
            "(856, 1280, 3)\n"
          ],
          "name": "stdout"
        },
        {
          "output_type": "stream",
          "text": [
            "WARNING:root:Lossy conversion from float64 to uint8. Range [0, 1]. Convert image to uint8 prior to saving to suppress this warning.\n",
            "WARNING:root:Lossy conversion from float64 to uint8. Range [0, 1]. Convert image to uint8 prior to saving to suppress this warning.\n"
          ],
          "name": "stderr"
        },
        {
          "output_type": "stream",
          "text": [
            "(424, 640, 3)\n",
            "(984, 1176, 3)\n"
          ],
          "name": "stdout"
        },
        {
          "output_type": "stream",
          "text": [
            "WARNING:root:Lossy conversion from float64 to uint8. Range [0, 1]. Convert image to uint8 prior to saving to suppress this warning.\n"
          ],
          "name": "stderr"
        },
        {
          "output_type": "stream",
          "text": [
            "(512, 768, 3)\n"
          ],
          "name": "stdout"
        },
        {
          "output_type": "stream",
          "text": [
            "WARNING:root:Lossy conversion from float64 to uint8. Range [0, 1]. Convert image to uint8 prior to saving to suppress this warning.\n"
          ],
          "name": "stderr"
        },
        {
          "output_type": "stream",
          "text": [
            "(856, 1280, 3)\n"
          ],
          "name": "stdout"
        },
        {
          "output_type": "stream",
          "text": [
            "WARNING:root:Lossy conversion from float64 to uint8. Range [0, 1]. Convert image to uint8 prior to saving to suppress this warning.\n"
          ],
          "name": "stderr"
        },
        {
          "output_type": "stream",
          "text": [
            "\b\b\b\b\b\b\b\b\b\b\b\b\b\b\b\b\b\b\b\b\b\b\b\b\b\b\b\b\b\b\b\b\b\b\b\b\b\b\b\b\b\b\b\b\b\b\b\b\b\b\b\b\b\b\b\b\b\b\b\b\b\b\b\b\b\b\b\b\b\b\b\b\b\b\b\b\b\b\b\b\b\b\r31/31 [==============================] - 37s 1s/step - loss: 0.0038 - accuracy: 0.8073 - val_loss: 182.4614 - val_accuracy: 0.6012\n",
            "Epoch 432/1000\n",
            "31/31 [==============================] - 24s 762ms/step - loss: 0.0037 - accuracy: 0.8026 - val_loss: 182.4778 - val_accuracy: 0.6186\n",
            "Epoch 433/1000\n",
            "31/31 [==============================] - 23s 748ms/step - loss: 0.0037 - accuracy: 0.8045 - val_loss: 182.9927 - val_accuracy: 0.5855\n",
            "Epoch 434/1000\n",
            "31/31 [==============================] - 23s 750ms/step - loss: 0.0037 - accuracy: 0.8072 - val_loss: 181.9430 - val_accuracy: 0.5840\n",
            "Epoch 435/1000\n",
            "31/31 [==============================] - 23s 744ms/step - loss: 0.0037 - accuracy: 0.8050 - val_loss: 182.0766 - val_accuracy: 0.6296\n",
            "Epoch 436/1000\n",
            "31/31 [==============================] - 23s 752ms/step - loss: 0.0036 - accuracy: 0.8055 - val_loss: 181.3256 - val_accuracy: 0.6371\n",
            "Epoch 437/1000\n",
            "31/31 [==============================] - 23s 750ms/step - loss: 0.0037 - accuracy: 0.8044 - val_loss: 181.3126 - val_accuracy: 0.6172\n",
            "Epoch 438/1000\n",
            "31/31 [==============================] - 23s 745ms/step - loss: 0.0037 - accuracy: 0.8052 - val_loss: 181.9014 - val_accuracy: 0.5804\n",
            "Epoch 439/1000\n",
            "31/31 [==============================] - 23s 745ms/step - loss: 0.0035 - accuracy: 0.8085 - val_loss: 183.3436 - val_accuracy: 0.5661\n",
            "Epoch 440/1000\n",
            "31/31 [==============================] - 23s 751ms/step - loss: 0.0036 - accuracy: 0.8035 - val_loss: 181.8337 - val_accuracy: 0.5917\n",
            "Epoch 441/1000\n",
            "31/31 [==============================] - ETA: 0s - loss: 0.0037 - accuracy: 0.8049(512, 768, 3)\n"
          ],
          "name": "stdout"
        },
        {
          "output_type": "stream",
          "text": [
            "WARNING:root:Lossy conversion from float64 to uint8. Range [0, 1]. Convert image to uint8 prior to saving to suppress this warning.\n"
          ],
          "name": "stderr"
        },
        {
          "output_type": "stream",
          "text": [
            "(800, 1088, 3)\n"
          ],
          "name": "stdout"
        },
        {
          "output_type": "stream",
          "text": [
            "WARNING:root:Lossy conversion from float64 to uint8. Range [0, 1]. Convert image to uint8 prior to saving to suppress this warning.\n"
          ],
          "name": "stderr"
        },
        {
          "output_type": "stream",
          "text": [
            "(856, 1280, 3)\n"
          ],
          "name": "stdout"
        },
        {
          "output_type": "stream",
          "text": [
            "WARNING:root:Lossy conversion from float64 to uint8. Range [0, 1]. Convert image to uint8 prior to saving to suppress this warning.\n",
            "WARNING:root:Lossy conversion from float64 to uint8. Range [0, 1]. Convert image to uint8 prior to saving to suppress this warning.\n"
          ],
          "name": "stderr"
        },
        {
          "output_type": "stream",
          "text": [
            "(528, 736, 3)\n",
            "(856, 1280, 3)\n"
          ],
          "name": "stdout"
        },
        {
          "output_type": "stream",
          "text": [
            "WARNING:root:Lossy conversion from float64 to uint8. Range [0, 1]. Convert image to uint8 prior to saving to suppress this warning.\n"
          ],
          "name": "stderr"
        },
        {
          "output_type": "stream",
          "text": [
            "(1400, 1400, 3)\n"
          ],
          "name": "stdout"
        },
        {
          "output_type": "stream",
          "text": [
            "WARNING:root:Lossy conversion from float64 to uint8. Range [0, 1]. Convert image to uint8 prior to saving to suppress this warning.\n"
          ],
          "name": "stderr"
        },
        {
          "output_type": "stream",
          "text": [
            "(664, 1024, 3)\n"
          ],
          "name": "stdout"
        },
        {
          "output_type": "stream",
          "text": [
            "WARNING:root:Lossy conversion from float64 to uint8. Range [0, 1]. Convert image to uint8 prior to saving to suppress this warning.\n"
          ],
          "name": "stderr"
        },
        {
          "output_type": "stream",
          "text": [
            "(776, 1024, 3)\n"
          ],
          "name": "stdout"
        },
        {
          "output_type": "stream",
          "text": [
            "WARNING:root:Lossy conversion from float64 to uint8. Range [0, 1]. Convert image to uint8 prior to saving to suppress this warning.\n"
          ],
          "name": "stderr"
        },
        {
          "output_type": "stream",
          "text": [
            "(856, 1280, 3)\n"
          ],
          "name": "stdout"
        },
        {
          "output_type": "stream",
          "text": [
            "WARNING:root:Lossy conversion from float64 to uint8. Range [0, 1]. Convert image to uint8 prior to saving to suppress this warning.\n",
            "WARNING:root:Lossy conversion from float64 to uint8. Range [0, 1]. Convert image to uint8 prior to saving to suppress this warning.\n"
          ],
          "name": "stderr"
        },
        {
          "output_type": "stream",
          "text": [
            "(424, 640, 3)\n",
            "(984, 1176, 3)\n"
          ],
          "name": "stdout"
        },
        {
          "output_type": "stream",
          "text": [
            "WARNING:root:Lossy conversion from float64 to uint8. Range [0, 1]. Convert image to uint8 prior to saving to suppress this warning.\n",
            "WARNING:root:Lossy conversion from float64 to uint8. Range [0, 1]. Convert image to uint8 prior to saving to suppress this warning.\n"
          ],
          "name": "stderr"
        },
        {
          "output_type": "stream",
          "text": [
            "(512, 768, 3)\n",
            "(856, 1280, 3)\n"
          ],
          "name": "stdout"
        },
        {
          "output_type": "stream",
          "text": [
            "WARNING:root:Lossy conversion from float64 to uint8. Range [0, 1]. Convert image to uint8 prior to saving to suppress this warning.\n"
          ],
          "name": "stderr"
        },
        {
          "output_type": "stream",
          "text": [
            "\b\b\b\b\b\b\b\b\b\b\b\b\b\b\b\b\b\b\b\b\b\b\b\b\b\b\b\b\b\b\b\b\b\b\b\b\b\b\b\b\b\b\b\b\b\b\b\b\b\b\b\b\b\b\b\b\b\b\b\b\b\b\b\b\b\b\b\b\b\b\b\b\b\b\b\b\b\b\b\b\b\b\r31/31 [==============================] - 37s 1s/step - loss: 0.0037 - accuracy: 0.8049 - val_loss: 182.5096 - val_accuracy: 0.5913\n",
            "Epoch 442/1000\n",
            "31/31 [==============================] - 23s 753ms/step - loss: 0.0037 - accuracy: 0.8073 - val_loss: 180.6960 - val_accuracy: 0.6174\n",
            "Epoch 443/1000\n",
            "31/31 [==============================] - 23s 750ms/step - loss: 0.0035 - accuracy: 0.8108 - val_loss: 181.4003 - val_accuracy: 0.6101\n",
            "Epoch 444/1000\n",
            "31/31 [==============================] - 23s 754ms/step - loss: 0.0037 - accuracy: 0.8074 - val_loss: 181.8178 - val_accuracy: 0.6413\n",
            "Epoch 445/1000\n",
            "31/31 [==============================] - 23s 755ms/step - loss: 0.0036 - accuracy: 0.8066 - val_loss: 181.6441 - val_accuracy: 0.6331\n",
            "Epoch 446/1000\n",
            "31/31 [==============================] - 24s 762ms/step - loss: 0.0037 - accuracy: 0.8044 - val_loss: 181.6642 - val_accuracy: 0.5803\n",
            "Epoch 447/1000\n",
            "31/31 [==============================] - 23s 755ms/step - loss: 0.0036 - accuracy: 0.8069 - val_loss: 182.5971 - val_accuracy: 0.5698\n",
            "Epoch 448/1000\n",
            "31/31 [==============================] - 24s 759ms/step - loss: 0.0035 - accuracy: 0.8080 - val_loss: 182.7252 - val_accuracy: 0.5264\n",
            "Epoch 449/1000\n",
            "31/31 [==============================] - 24s 772ms/step - loss: 0.0036 - accuracy: 0.8103 - val_loss: 181.5822 - val_accuracy: 0.6448\n",
            "Epoch 450/1000\n",
            "31/31 [==============================] - 24s 773ms/step - loss: 0.0036 - accuracy: 0.8056 - val_loss: 182.1819 - val_accuracy: 0.6039\n",
            "Epoch 451/1000\n",
            "31/31 [==============================] - ETA: 0s - loss: 0.0036 - accuracy: 0.8067(512, 768, 3)\n"
          ],
          "name": "stdout"
        },
        {
          "output_type": "stream",
          "text": [
            "WARNING:root:Lossy conversion from float64 to uint8. Range [0, 1]. Convert image to uint8 prior to saving to suppress this warning.\n"
          ],
          "name": "stderr"
        },
        {
          "output_type": "stream",
          "text": [
            "(800, 1088, 3)\n"
          ],
          "name": "stdout"
        },
        {
          "output_type": "stream",
          "text": [
            "WARNING:root:Lossy conversion from float64 to uint8. Range [0, 1]. Convert image to uint8 prior to saving to suppress this warning.\n"
          ],
          "name": "stderr"
        },
        {
          "output_type": "stream",
          "text": [
            "(856, 1280, 3)\n"
          ],
          "name": "stdout"
        },
        {
          "output_type": "stream",
          "text": [
            "WARNING:root:Lossy conversion from float64 to uint8. Range [0, 1]. Convert image to uint8 prior to saving to suppress this warning.\n"
          ],
          "name": "stderr"
        },
        {
          "output_type": "stream",
          "text": [
            "(528, 736, 3)\n"
          ],
          "name": "stdout"
        },
        {
          "output_type": "stream",
          "text": [
            "WARNING:root:Lossy conversion from float64 to uint8. Range [0, 1]. Convert image to uint8 prior to saving to suppress this warning.\n"
          ],
          "name": "stderr"
        },
        {
          "output_type": "stream",
          "text": [
            "(856, 1280, 3)\n"
          ],
          "name": "stdout"
        },
        {
          "output_type": "stream",
          "text": [
            "WARNING:root:Lossy conversion from float64 to uint8. Range [0, 1]. Convert image to uint8 prior to saving to suppress this warning.\n"
          ],
          "name": "stderr"
        },
        {
          "output_type": "stream",
          "text": [
            "(1400, 1400, 3)\n"
          ],
          "name": "stdout"
        },
        {
          "output_type": "stream",
          "text": [
            "WARNING:root:Lossy conversion from float64 to uint8. Range [0, 1]. Convert image to uint8 prior to saving to suppress this warning.\n"
          ],
          "name": "stderr"
        },
        {
          "output_type": "stream",
          "text": [
            "(664, 1024, 3)\n"
          ],
          "name": "stdout"
        },
        {
          "output_type": "stream",
          "text": [
            "WARNING:root:Lossy conversion from float64 to uint8. Range [0, 1]. Convert image to uint8 prior to saving to suppress this warning.\n"
          ],
          "name": "stderr"
        },
        {
          "output_type": "stream",
          "text": [
            "(776, 1024, 3)\n"
          ],
          "name": "stdout"
        },
        {
          "output_type": "stream",
          "text": [
            "WARNING:root:Lossy conversion from float64 to uint8. Range [0, 1]. Convert image to uint8 prior to saving to suppress this warning.\n"
          ],
          "name": "stderr"
        },
        {
          "output_type": "stream",
          "text": [
            "(856, 1280, 3)\n"
          ],
          "name": "stdout"
        },
        {
          "output_type": "stream",
          "text": [
            "WARNING:root:Lossy conversion from float64 to uint8. Range [0, 1]. Convert image to uint8 prior to saving to suppress this warning.\n",
            "WARNING:root:Lossy conversion from float64 to uint8. Range [0, 1]. Convert image to uint8 prior to saving to suppress this warning.\n"
          ],
          "name": "stderr"
        },
        {
          "output_type": "stream",
          "text": [
            "(424, 640, 3)\n",
            "(984, 1176, 3)\n"
          ],
          "name": "stdout"
        },
        {
          "output_type": "stream",
          "text": [
            "WARNING:root:Lossy conversion from float64 to uint8. Range [0, 1]. Convert image to uint8 prior to saving to suppress this warning.\n",
            "WARNING:root:Lossy conversion from float64 to uint8. Range [0, 1]. Convert image to uint8 prior to saving to suppress this warning.\n"
          ],
          "name": "stderr"
        },
        {
          "output_type": "stream",
          "text": [
            "(512, 768, 3)\n",
            "(856, 1280, 3)\n"
          ],
          "name": "stdout"
        },
        {
          "output_type": "stream",
          "text": [
            "WARNING:root:Lossy conversion from float64 to uint8. Range [0, 1]. Convert image to uint8 prior to saving to suppress this warning.\n"
          ],
          "name": "stderr"
        },
        {
          "output_type": "stream",
          "text": [
            "\b\b\b\b\b\b\b\b\b\b\b\b\b\b\b\b\b\b\b\b\b\b\b\b\b\b\b\b\b\b\b\b\b\b\b\b\b\b\b\b\b\b\b\b\b\b\b\b\b\b\b\b\b\b\b\b\b\b\b\b\b\b\b\b\b\b\b\b\b\b\b\b\b\b\b\b\b\b\b\b\b\b\r31/31 [==============================] - 38s 1s/step - loss: 0.0036 - accuracy: 0.8067 - val_loss: 181.8385 - val_accuracy: 0.6111\n",
            "Epoch 452/1000\n",
            "31/31 [==============================] - 24s 780ms/step - loss: 0.0037 - accuracy: 0.8045 - val_loss: 182.1488 - val_accuracy: 0.5799\n",
            "Epoch 453/1000\n",
            "31/31 [==============================] - 24s 774ms/step - loss: 0.0036 - accuracy: 0.8088 - val_loss: 181.0318 - val_accuracy: 0.6341\n",
            "Epoch 454/1000\n",
            "31/31 [==============================] - 24s 776ms/step - loss: 0.0036 - accuracy: 0.8062 - val_loss: 182.9263 - val_accuracy: 0.5733\n",
            "Epoch 455/1000\n",
            "31/31 [==============================] - 24s 768ms/step - loss: 0.0036 - accuracy: 0.8073 - val_loss: 181.9084 - val_accuracy: 0.6190\n",
            "Epoch 456/1000\n",
            "31/31 [==============================] - 24s 766ms/step - loss: 0.0036 - accuracy: 0.8091 - val_loss: 182.4732 - val_accuracy: 0.5778\n",
            "Epoch 457/1000\n",
            "31/31 [==============================] - 24s 767ms/step - loss: 0.0036 - accuracy: 0.8081 - val_loss: 182.4797 - val_accuracy: 0.5477\n",
            "Epoch 458/1000\n",
            "31/31 [==============================] - 24s 769ms/step - loss: 0.0036 - accuracy: 0.8070 - val_loss: 181.7220 - val_accuracy: 0.5940\n",
            "Epoch 459/1000\n",
            "31/31 [==============================] - 24s 765ms/step - loss: 0.0035 - accuracy: 0.8110 - val_loss: 182.3414 - val_accuracy: 0.5854\n",
            "Epoch 460/1000\n",
            "31/31 [==============================] - 23s 756ms/step - loss: 0.0036 - accuracy: 0.8066 - val_loss: 182.6687 - val_accuracy: 0.5936\n",
            "Epoch 461/1000\n",
            "31/31 [==============================] - ETA: 0s - loss: 0.0034 - accuracy: 0.8089(512, 768, 3)\n"
          ],
          "name": "stdout"
        },
        {
          "output_type": "stream",
          "text": [
            "/usr/local/lib/python3.6/dist-packages/skimage/color/colorconv.py:1068: UserWarning: Color data out of range: Z < 0 in 80 pixels\n",
            "  return xyz2rgb(lab2xyz(lab, illuminant, observer))\n",
            "WARNING:root:Lossy conversion from float64 to uint8. Range [0, 1]. Convert image to uint8 prior to saving to suppress this warning.\n"
          ],
          "name": "stderr"
        },
        {
          "output_type": "stream",
          "text": [
            "(800, 1088, 3)\n"
          ],
          "name": "stdout"
        },
        {
          "output_type": "stream",
          "text": [
            "WARNING:root:Lossy conversion from float64 to uint8. Range [0, 1]. Convert image to uint8 prior to saving to suppress this warning.\n"
          ],
          "name": "stderr"
        },
        {
          "output_type": "stream",
          "text": [
            "(856, 1280, 3)\n"
          ],
          "name": "stdout"
        },
        {
          "output_type": "stream",
          "text": [
            "WARNING:root:Lossy conversion from float64 to uint8. Range [0, 1]. Convert image to uint8 prior to saving to suppress this warning.\n",
            "WARNING:root:Lossy conversion from float64 to uint8. Range [0, 1]. Convert image to uint8 prior to saving to suppress this warning.\n"
          ],
          "name": "stderr"
        },
        {
          "output_type": "stream",
          "text": [
            "(528, 736, 3)\n",
            "(856, 1280, 3)\n"
          ],
          "name": "stdout"
        },
        {
          "output_type": "stream",
          "text": [
            "WARNING:root:Lossy conversion from float64 to uint8. Range [0, 1]. Convert image to uint8 prior to saving to suppress this warning.\n"
          ],
          "name": "stderr"
        },
        {
          "output_type": "stream",
          "text": [
            "(1400, 1400, 3)\n"
          ],
          "name": "stdout"
        },
        {
          "output_type": "stream",
          "text": [
            "WARNING:root:Lossy conversion from float64 to uint8. Range [0, 1]. Convert image to uint8 prior to saving to suppress this warning.\n"
          ],
          "name": "stderr"
        },
        {
          "output_type": "stream",
          "text": [
            "(664, 1024, 3)\n"
          ],
          "name": "stdout"
        },
        {
          "output_type": "stream",
          "text": [
            "WARNING:root:Lossy conversion from float64 to uint8. Range [0, 1]. Convert image to uint8 prior to saving to suppress this warning.\n"
          ],
          "name": "stderr"
        },
        {
          "output_type": "stream",
          "text": [
            "(776, 1024, 3)\n"
          ],
          "name": "stdout"
        },
        {
          "output_type": "stream",
          "text": [
            "WARNING:root:Lossy conversion from float64 to uint8. Range [0, 1]. Convert image to uint8 prior to saving to suppress this warning.\n"
          ],
          "name": "stderr"
        },
        {
          "output_type": "stream",
          "text": [
            "(856, 1280, 3)\n"
          ],
          "name": "stdout"
        },
        {
          "output_type": "stream",
          "text": [
            "WARNING:root:Lossy conversion from float64 to uint8. Range [0, 1]. Convert image to uint8 prior to saving to suppress this warning.\n",
            "WARNING:root:Lossy conversion from float64 to uint8. Range [0, 1]. Convert image to uint8 prior to saving to suppress this warning.\n"
          ],
          "name": "stderr"
        },
        {
          "output_type": "stream",
          "text": [
            "(424, 640, 3)\n",
            "(984, 1176, 3)\n"
          ],
          "name": "stdout"
        },
        {
          "output_type": "stream",
          "text": [
            "WARNING:root:Lossy conversion from float64 to uint8. Range [0, 1]. Convert image to uint8 prior to saving to suppress this warning.\n",
            "WARNING:root:Lossy conversion from float64 to uint8. Range [0, 1]. Convert image to uint8 prior to saving to suppress this warning.\n"
          ],
          "name": "stderr"
        },
        {
          "output_type": "stream",
          "text": [
            "(512, 768, 3)\n",
            "(856, 1280, 3)\n"
          ],
          "name": "stdout"
        },
        {
          "output_type": "stream",
          "text": [
            "WARNING:root:Lossy conversion from float64 to uint8. Range [0, 1]. Convert image to uint8 prior to saving to suppress this warning.\n"
          ],
          "name": "stderr"
        },
        {
          "output_type": "stream",
          "text": [
            "\b\b\b\b\b\b\b\b\b\b\b\b\b\b\b\b\b\b\b\b\b\b\b\b\b\b\b\b\b\b\b\b\b\b\b\b\b\b\b\b\b\b\b\b\b\b\b\b\b\b\b\b\b\b\b\b\b\b\b\b\b\b\b\b\b\b\b\b\b\b\b\b\b\b\b\b\b\b\b\b\b\b\r31/31 [==============================] - 38s 1s/step - loss: 0.0034 - accuracy: 0.8089 - val_loss: 184.5072 - val_accuracy: 0.6351\n",
            "Epoch 462/1000\n",
            "31/31 [==============================] - 24s 759ms/step - loss: 0.0036 - accuracy: 0.8092 - val_loss: 182.5772 - val_accuracy: 0.6292\n",
            "Epoch 463/1000\n",
            "31/31 [==============================] - 24s 761ms/step - loss: 0.0036 - accuracy: 0.8047 - val_loss: 181.1743 - val_accuracy: 0.6208\n",
            "Epoch 464/1000\n",
            "31/31 [==============================] - 23s 752ms/step - loss: 0.0036 - accuracy: 0.8119 - val_loss: 182.1722 - val_accuracy: 0.6105\n",
            "Epoch 465/1000\n",
            "31/31 [==============================] - 23s 750ms/step - loss: 0.0036 - accuracy: 0.8046 - val_loss: 181.7306 - val_accuracy: 0.6110\n",
            "Epoch 466/1000\n",
            "31/31 [==============================] - 23s 746ms/step - loss: 0.0034 - accuracy: 0.8084 - val_loss: 182.6146 - val_accuracy: 0.6233\n",
            "Epoch 467/1000\n",
            "31/31 [==============================] - 23s 746ms/step - loss: 0.0036 - accuracy: 0.8108 - val_loss: 182.5185 - val_accuracy: 0.5856\n",
            "Epoch 468/1000\n",
            "31/31 [==============================] - 23s 750ms/step - loss: 0.0034 - accuracy: 0.8075 - val_loss: 182.2589 - val_accuracy: 0.5706\n",
            "Epoch 469/1000\n",
            "31/31 [==============================] - 23s 754ms/step - loss: 0.0035 - accuracy: 0.8159 - val_loss: 182.2299 - val_accuracy: 0.5729\n",
            "Epoch 470/1000\n",
            "31/31 [==============================] - 23s 751ms/step - loss: 0.0036 - accuracy: 0.8037 - val_loss: 182.9688 - val_accuracy: 0.5287\n",
            "Epoch 471/1000\n",
            "31/31 [==============================] - ETA: 0s - loss: 0.0035 - accuracy: 0.8146(512, 768, 3)\n"
          ],
          "name": "stdout"
        },
        {
          "output_type": "stream",
          "text": [
            "/usr/local/lib/python3.6/dist-packages/skimage/color/colorconv.py:1068: UserWarning: Color data out of range: Z < 0 in 56 pixels\n",
            "  return xyz2rgb(lab2xyz(lab, illuminant, observer))\n",
            "WARNING:root:Lossy conversion from float64 to uint8. Range [0, 1]. Convert image to uint8 prior to saving to suppress this warning.\n"
          ],
          "name": "stderr"
        },
        {
          "output_type": "stream",
          "text": [
            "(800, 1088, 3)\n"
          ],
          "name": "stdout"
        },
        {
          "output_type": "stream",
          "text": [
            "WARNING:root:Lossy conversion from float64 to uint8. Range [0, 1]. Convert image to uint8 prior to saving to suppress this warning.\n"
          ],
          "name": "stderr"
        },
        {
          "output_type": "stream",
          "text": [
            "(856, 1280, 3)\n"
          ],
          "name": "stdout"
        },
        {
          "output_type": "stream",
          "text": [
            "WARNING:root:Lossy conversion from float64 to uint8. Range [0, 1]. Convert image to uint8 prior to saving to suppress this warning.\n",
            "WARNING:root:Lossy conversion from float64 to uint8. Range [0, 1]. Convert image to uint8 prior to saving to suppress this warning.\n"
          ],
          "name": "stderr"
        },
        {
          "output_type": "stream",
          "text": [
            "(528, 736, 3)\n",
            "(856, 1280, 3)\n"
          ],
          "name": "stdout"
        },
        {
          "output_type": "stream",
          "text": [
            "WARNING:root:Lossy conversion from float64 to uint8. Range [0, 1]. Convert image to uint8 prior to saving to suppress this warning.\n"
          ],
          "name": "stderr"
        },
        {
          "output_type": "stream",
          "text": [
            "(1400, 1400, 3)\n"
          ],
          "name": "stdout"
        },
        {
          "output_type": "stream",
          "text": [
            "/usr/local/lib/python3.6/dist-packages/skimage/color/colorconv.py:1068: UserWarning: Color data out of range: Z < 0 in 15 pixels\n",
            "  return xyz2rgb(lab2xyz(lab, illuminant, observer))\n",
            "WARNING:root:Lossy conversion from float64 to uint8. Range [0, 1]. Convert image to uint8 prior to saving to suppress this warning.\n"
          ],
          "name": "stderr"
        },
        {
          "output_type": "stream",
          "text": [
            "(664, 1024, 3)\n"
          ],
          "name": "stdout"
        },
        {
          "output_type": "stream",
          "text": [
            "WARNING:root:Lossy conversion from float64 to uint8. Range [0, 1]. Convert image to uint8 prior to saving to suppress this warning.\n"
          ],
          "name": "stderr"
        },
        {
          "output_type": "stream",
          "text": [
            "(776, 1024, 3)\n"
          ],
          "name": "stdout"
        },
        {
          "output_type": "stream",
          "text": [
            "WARNING:root:Lossy conversion from float64 to uint8. Range [0, 1]. Convert image to uint8 prior to saving to suppress this warning.\n"
          ],
          "name": "stderr"
        },
        {
          "output_type": "stream",
          "text": [
            "(856, 1280, 3)\n"
          ],
          "name": "stdout"
        },
        {
          "output_type": "stream",
          "text": [
            "WARNING:root:Lossy conversion from float64 to uint8. Range [0, 1]. Convert image to uint8 prior to saving to suppress this warning.\n",
            "WARNING:root:Lossy conversion from float64 to uint8. Range [0, 1]. Convert image to uint8 prior to saving to suppress this warning.\n"
          ],
          "name": "stderr"
        },
        {
          "output_type": "stream",
          "text": [
            "(424, 640, 3)\n",
            "(984, 1176, 3)\n"
          ],
          "name": "stdout"
        },
        {
          "output_type": "stream",
          "text": [
            "WARNING:root:Lossy conversion from float64 to uint8. Range [0, 1]. Convert image to uint8 prior to saving to suppress this warning.\n",
            "WARNING:root:Lossy conversion from float64 to uint8. Range [0, 1]. Convert image to uint8 prior to saving to suppress this warning.\n"
          ],
          "name": "stderr"
        },
        {
          "output_type": "stream",
          "text": [
            "(512, 768, 3)\n",
            "(856, 1280, 3)\n"
          ],
          "name": "stdout"
        },
        {
          "output_type": "stream",
          "text": [
            "WARNING:root:Lossy conversion from float64 to uint8. Range [0, 1]. Convert image to uint8 prior to saving to suppress this warning.\n"
          ],
          "name": "stderr"
        },
        {
          "output_type": "stream",
          "text": [
            "\b\b\b\b\b\b\b\b\b\b\b\b\b\b\b\b\b\b\b\b\b\b\b\b\b\b\b\b\b\b\b\b\b\b\b\b\b\b\b\b\b\b\b\b\b\b\b\b\b\b\b\b\b\b\b\b\b\b\b\b\b\b\b\b\b\b\b\b\b\b\b\b\b\b\b\b\b\b\b\b\b\b\r31/31 [==============================] - 37s 1s/step - loss: 0.0035 - accuracy: 0.8146 - val_loss: 181.7766 - val_accuracy: 0.6183\n",
            "Epoch 472/1000\n",
            "31/31 [==============================] - 23s 744ms/step - loss: 0.0035 - accuracy: 0.8074 - val_loss: 182.3612 - val_accuracy: 0.5608\n",
            "Epoch 473/1000\n",
            "31/31 [==============================] - 23s 747ms/step - loss: 0.0036 - accuracy: 0.8120 - val_loss: 182.8422 - val_accuracy: 0.5724\n",
            "Epoch 474/1000\n",
            "31/31 [==============================] - 23s 743ms/step - loss: 0.0035 - accuracy: 0.8090 - val_loss: 182.6702 - val_accuracy: 0.5495\n",
            "Epoch 475/1000\n",
            "31/31 [==============================] - 23s 741ms/step - loss: 0.0036 - accuracy: 0.8082 - val_loss: 182.4748 - val_accuracy: 0.5305\n",
            "Epoch 476/1000\n",
            "31/31 [==============================] - 23s 732ms/step - loss: 0.0034 - accuracy: 0.8107 - val_loss: 182.4887 - val_accuracy: 0.5566\n",
            "Epoch 477/1000\n",
            "31/31 [==============================] - 23s 736ms/step - loss: 0.0036 - accuracy: 0.8091 - val_loss: 182.8637 - val_accuracy: 0.5536\n",
            "Epoch 478/1000\n",
            "31/31 [==============================] - 23s 728ms/step - loss: 0.0034 - accuracy: 0.8086 - val_loss: 182.8847 - val_accuracy: 0.5557\n",
            "Epoch 479/1000\n",
            "31/31 [==============================] - 23s 727ms/step - loss: 0.0035 - accuracy: 0.8095 - val_loss: 182.6987 - val_accuracy: 0.5863\n",
            "Epoch 480/1000\n",
            "31/31 [==============================] - 22s 725ms/step - loss: 0.0034 - accuracy: 0.8091 - val_loss: 182.1835 - val_accuracy: 0.5490\n",
            "Epoch 481/1000\n",
            "31/31 [==============================] - ETA: 0s - loss: 0.0035 - accuracy: 0.8123"
          ],
          "name": "stdout"
        },
        {
          "output_type": "stream",
          "text": [
            "/usr/local/lib/python3.6/dist-packages/skimage/color/colorconv.py:1068: UserWarning: Color data out of range: Z < 0 in 46 pixels\n",
            "  return xyz2rgb(lab2xyz(lab, illuminant, observer))\n",
            "WARNING:root:Lossy conversion from float64 to uint8. Range [0, 1]. Convert image to uint8 prior to saving to suppress this warning.\n"
          ],
          "name": "stderr"
        },
        {
          "output_type": "stream",
          "text": [
            "(512, 768, 3)\n",
            "(800, 1088, 3)\n"
          ],
          "name": "stdout"
        },
        {
          "output_type": "stream",
          "text": [
            "WARNING:root:Lossy conversion from float64 to uint8. Range [0, 1]. Convert image to uint8 prior to saving to suppress this warning.\n"
          ],
          "name": "stderr"
        },
        {
          "output_type": "stream",
          "text": [
            "(856, 1280, 3)\n"
          ],
          "name": "stdout"
        },
        {
          "output_type": "stream",
          "text": [
            "WARNING:root:Lossy conversion from float64 to uint8. Range [0, 1]. Convert image to uint8 prior to saving to suppress this warning.\n",
            "WARNING:root:Lossy conversion from float64 to uint8. Range [0, 1]. Convert image to uint8 prior to saving to suppress this warning.\n"
          ],
          "name": "stderr"
        },
        {
          "output_type": "stream",
          "text": [
            "(528, 736, 3)\n",
            "(856, 1280, 3)\n"
          ],
          "name": "stdout"
        },
        {
          "output_type": "stream",
          "text": [
            "WARNING:root:Lossy conversion from float64 to uint8. Range [0, 1]. Convert image to uint8 prior to saving to suppress this warning.\n"
          ],
          "name": "stderr"
        },
        {
          "output_type": "stream",
          "text": [
            "(1400, 1400, 3)\n"
          ],
          "name": "stdout"
        },
        {
          "output_type": "stream",
          "text": [
            "WARNING:root:Lossy conversion from float64 to uint8. Range [0, 1]. Convert image to uint8 prior to saving to suppress this warning.\n"
          ],
          "name": "stderr"
        },
        {
          "output_type": "stream",
          "text": [
            "(664, 1024, 3)\n"
          ],
          "name": "stdout"
        },
        {
          "output_type": "stream",
          "text": [
            "WARNING:root:Lossy conversion from float64 to uint8. Range [0, 1]. Convert image to uint8 prior to saving to suppress this warning.\n"
          ],
          "name": "stderr"
        },
        {
          "output_type": "stream",
          "text": [
            "(776, 1024, 3)\n"
          ],
          "name": "stdout"
        },
        {
          "output_type": "stream",
          "text": [
            "WARNING:root:Lossy conversion from float64 to uint8. Range [0, 1]. Convert image to uint8 prior to saving to suppress this warning.\n"
          ],
          "name": "stderr"
        },
        {
          "output_type": "stream",
          "text": [
            "(856, 1280, 3)\n"
          ],
          "name": "stdout"
        },
        {
          "output_type": "stream",
          "text": [
            "WARNING:root:Lossy conversion from float64 to uint8. Range [0, 1]. Convert image to uint8 prior to saving to suppress this warning.\n",
            "WARNING:root:Lossy conversion from float64 to uint8. Range [0, 1]. Convert image to uint8 prior to saving to suppress this warning.\n"
          ],
          "name": "stderr"
        },
        {
          "output_type": "stream",
          "text": [
            "(424, 640, 3)\n",
            "(984, 1176, 3)\n"
          ],
          "name": "stdout"
        },
        {
          "output_type": "stream",
          "text": [
            "WARNING:root:Lossy conversion from float64 to uint8. Range [0, 1]. Convert image to uint8 prior to saving to suppress this warning.\n",
            "WARNING:root:Lossy conversion from float64 to uint8. Range [0, 1]. Convert image to uint8 prior to saving to suppress this warning.\n"
          ],
          "name": "stderr"
        },
        {
          "output_type": "stream",
          "text": [
            "(512, 768, 3)\n",
            "(856, 1280, 3)\n"
          ],
          "name": "stdout"
        },
        {
          "output_type": "stream",
          "text": [
            "WARNING:root:Lossy conversion from float64 to uint8. Range [0, 1]. Convert image to uint8 prior to saving to suppress this warning.\n"
          ],
          "name": "stderr"
        },
        {
          "output_type": "stream",
          "text": [
            "\b\b\b\b\b\b\b\b\b\b\b\b\b\b\b\b\b\b\b\b\b\b\b\b\b\b\b\b\b\b\b\b\b\b\b\b\b\b\b\b\b\b\b\b\b\b\b\b\b\b\b\b\b\b\b\b\b\b\b\b\b\b\b\b\b\b\b\b\b\b\b\b\b\b\b\b\b\b\b\b\b\b\r31/31 [==============================] - 37s 1s/step - loss: 0.0035 - accuracy: 0.8123 - val_loss: 183.0199 - val_accuracy: 0.5593\n",
            "Epoch 482/1000\n",
            "31/31 [==============================] - 23s 742ms/step - loss: 0.0035 - accuracy: 0.8108 - val_loss: 183.2729 - val_accuracy: 0.5077\n",
            "Epoch 483/1000\n",
            "31/31 [==============================] - 23s 730ms/step - loss: 0.0035 - accuracy: 0.8095 - val_loss: 182.1470 - val_accuracy: 0.5325\n",
            "Epoch 484/1000\n",
            "31/31 [==============================] - 23s 727ms/step - loss: 0.0034 - accuracy: 0.8125 - val_loss: 182.8254 - val_accuracy: 0.5491\n",
            "Epoch 485/1000\n",
            "31/31 [==============================] - 22s 723ms/step - loss: 0.0035 - accuracy: 0.8089 - val_loss: 183.2636 - val_accuracy: 0.5428\n",
            "Epoch 486/1000\n",
            "31/31 [==============================] - 23s 727ms/step - loss: 0.0035 - accuracy: 0.8132 - val_loss: 182.1037 - val_accuracy: 0.5605\n",
            "Epoch 487/1000\n",
            "31/31 [==============================] - 23s 733ms/step - loss: 0.0034 - accuracy: 0.8087 - val_loss: 183.3503 - val_accuracy: 0.5190\n",
            "Epoch 488/1000\n",
            "31/31 [==============================] - 22s 725ms/step - loss: 0.0035 - accuracy: 0.8107 - val_loss: 182.6775 - val_accuracy: 0.5605\n",
            "Epoch 489/1000\n",
            "31/31 [==============================] - 22s 724ms/step - loss: 0.0034 - accuracy: 0.8105 - val_loss: 183.8117 - val_accuracy: 0.5079\n",
            "Epoch 490/1000\n",
            "31/31 [==============================] - 23s 731ms/step - loss: 0.0034 - accuracy: 0.8098 - val_loss: 182.5000 - val_accuracy: 0.5749\n",
            "Epoch 491/1000\n",
            "31/31 [==============================] - ETA: 0s - loss: 0.0036 - accuracy: 0.8084(512, 768, 3)\n"
          ],
          "name": "stdout"
        },
        {
          "output_type": "stream",
          "text": [
            "WARNING:root:Lossy conversion from float64 to uint8. Range [0, 1]. Convert image to uint8 prior to saving to suppress this warning.\n"
          ],
          "name": "stderr"
        },
        {
          "output_type": "stream",
          "text": [
            "(800, 1088, 3)\n"
          ],
          "name": "stdout"
        },
        {
          "output_type": "stream",
          "text": [
            "WARNING:root:Lossy conversion from float64 to uint8. Range [0, 1]. Convert image to uint8 prior to saving to suppress this warning.\n"
          ],
          "name": "stderr"
        },
        {
          "output_type": "stream",
          "text": [
            "(856, 1280, 3)\n"
          ],
          "name": "stdout"
        },
        {
          "output_type": "stream",
          "text": [
            "WARNING:root:Lossy conversion from float64 to uint8. Range [0, 1]. Convert image to uint8 prior to saving to suppress this warning.\n",
            "WARNING:root:Lossy conversion from float64 to uint8. Range [0, 1]. Convert image to uint8 prior to saving to suppress this warning.\n"
          ],
          "name": "stderr"
        },
        {
          "output_type": "stream",
          "text": [
            "(528, 736, 3)\n",
            "(856, 1280, 3)\n"
          ],
          "name": "stdout"
        },
        {
          "output_type": "stream",
          "text": [
            "WARNING:root:Lossy conversion from float64 to uint8. Range [0, 1]. Convert image to uint8 prior to saving to suppress this warning.\n"
          ],
          "name": "stderr"
        },
        {
          "output_type": "stream",
          "text": [
            "(1400, 1400, 3)\n"
          ],
          "name": "stdout"
        },
        {
          "output_type": "stream",
          "text": [
            "WARNING:root:Lossy conversion from float64 to uint8. Range [0, 1]. Convert image to uint8 prior to saving to suppress this warning.\n"
          ],
          "name": "stderr"
        },
        {
          "output_type": "stream",
          "text": [
            "(664, 1024, 3)\n"
          ],
          "name": "stdout"
        },
        {
          "output_type": "stream",
          "text": [
            "WARNING:root:Lossy conversion from float64 to uint8. Range [0, 1]. Convert image to uint8 prior to saving to suppress this warning.\n"
          ],
          "name": "stderr"
        },
        {
          "output_type": "stream",
          "text": [
            "(776, 1024, 3)\n"
          ],
          "name": "stdout"
        },
        {
          "output_type": "stream",
          "text": [
            "WARNING:root:Lossy conversion from float64 to uint8. Range [0, 1]. Convert image to uint8 prior to saving to suppress this warning.\n"
          ],
          "name": "stderr"
        },
        {
          "output_type": "stream",
          "text": [
            "(856, 1280, 3)\n"
          ],
          "name": "stdout"
        },
        {
          "output_type": "stream",
          "text": [
            "WARNING:root:Lossy conversion from float64 to uint8. Range [0, 1]. Convert image to uint8 prior to saving to suppress this warning.\n",
            "WARNING:root:Lossy conversion from float64 to uint8. Range [0, 1]. Convert image to uint8 prior to saving to suppress this warning.\n"
          ],
          "name": "stderr"
        },
        {
          "output_type": "stream",
          "text": [
            "(424, 640, 3)\n",
            "(984, 1176, 3)\n"
          ],
          "name": "stdout"
        },
        {
          "output_type": "stream",
          "text": [
            "WARNING:root:Lossy conversion from float64 to uint8. Range [0, 1]. Convert image to uint8 prior to saving to suppress this warning.\n",
            "WARNING:root:Lossy conversion from float64 to uint8. Range [0, 1]. Convert image to uint8 prior to saving to suppress this warning.\n"
          ],
          "name": "stderr"
        },
        {
          "output_type": "stream",
          "text": [
            "(512, 768, 3)\n",
            "(856, 1280, 3)\n"
          ],
          "name": "stdout"
        },
        {
          "output_type": "stream",
          "text": [
            "WARNING:root:Lossy conversion from float64 to uint8. Range [0, 1]. Convert image to uint8 prior to saving to suppress this warning.\n"
          ],
          "name": "stderr"
        },
        {
          "output_type": "stream",
          "text": [
            "\b\b\b\b\b\b\b\b\b\b\b\b\b\b\b\b\b\b\b\b\b\b\b\b\b\b\b\b\b\b\b\b\b\b\b\b\b\b\b\b\b\b\b\b\b\b\b\b\b\b\b\b\b\b\b\b\b\b\b\b\b\b\b\b\b\b\b\b\b\b\b\b\b\b\b\b\b\b\b\b\b\b\r31/31 [==============================] - 36s 1s/step - loss: 0.0036 - accuracy: 0.8084 - val_loss: 182.9859 - val_accuracy: 0.4998\n",
            "Epoch 492/1000\n",
            "31/31 [==============================] - 23s 731ms/step - loss: 0.0034 - accuracy: 0.8149 - val_loss: 182.4760 - val_accuracy: 0.5800\n",
            "Epoch 493/1000\n",
            "31/31 [==============================] - 23s 735ms/step - loss: 0.0034 - accuracy: 0.8069 - val_loss: 182.1340 - val_accuracy: 0.5778\n",
            "Epoch 494/1000\n",
            "31/31 [==============================] - 23s 735ms/step - loss: 0.0035 - accuracy: 0.8041 - val_loss: 183.4726 - val_accuracy: 0.5142\n",
            "Epoch 495/1000\n",
            "31/31 [==============================] - 22s 726ms/step - loss: 0.0034 - accuracy: 0.8114 - val_loss: 183.3267 - val_accuracy: 0.4994\n",
            "Epoch 496/1000\n",
            "31/31 [==============================] - 23s 728ms/step - loss: 0.0034 - accuracy: 0.8093 - val_loss: 182.4887 - val_accuracy: 0.5235\n",
            "Epoch 497/1000\n",
            "31/31 [==============================] - 23s 732ms/step - loss: 0.0035 - accuracy: 0.8124 - val_loss: 183.6451 - val_accuracy: 0.4792\n",
            "Epoch 498/1000\n",
            "31/31 [==============================] - 23s 726ms/step - loss: 0.0034 - accuracy: 0.8091 - val_loss: 184.5268 - val_accuracy: 0.5376\n",
            "Epoch 499/1000\n",
            "31/31 [==============================] - 23s 735ms/step - loss: 0.0035 - accuracy: 0.8103 - val_loss: 183.5521 - val_accuracy: 0.5208\n",
            "Epoch 500/1000\n",
            "31/31 [==============================] - 23s 736ms/step - loss: 0.0035 - accuracy: 0.8107 - val_loss: 182.6520 - val_accuracy: 0.5599\n",
            "Epoch 501/1000\n",
            "31/31 [==============================] - ETA: 0s - loss: 0.0032 - accuracy: 0.8103(512, 768, 3)\n"
          ],
          "name": "stdout"
        },
        {
          "output_type": "stream",
          "text": [
            "WARNING:root:Lossy conversion from float64 to uint8. Range [0, 1]. Convert image to uint8 prior to saving to suppress this warning.\n"
          ],
          "name": "stderr"
        },
        {
          "output_type": "stream",
          "text": [
            "(800, 1088, 3)\n"
          ],
          "name": "stdout"
        },
        {
          "output_type": "stream",
          "text": [
            "WARNING:root:Lossy conversion from float64 to uint8. Range [0, 1]. Convert image to uint8 prior to saving to suppress this warning.\n"
          ],
          "name": "stderr"
        },
        {
          "output_type": "stream",
          "text": [
            "(856, 1280, 3)\n"
          ],
          "name": "stdout"
        },
        {
          "output_type": "stream",
          "text": [
            "WARNING:root:Lossy conversion from float64 to uint8. Range [0, 1]. Convert image to uint8 prior to saving to suppress this warning.\n",
            "WARNING:root:Lossy conversion from float64 to uint8. Range [0, 1]. Convert image to uint8 prior to saving to suppress this warning.\n"
          ],
          "name": "stderr"
        },
        {
          "output_type": "stream",
          "text": [
            "(528, 736, 3)\n",
            "(856, 1280, 3)\n"
          ],
          "name": "stdout"
        },
        {
          "output_type": "stream",
          "text": [
            "WARNING:root:Lossy conversion from float64 to uint8. Range [0, 1]. Convert image to uint8 prior to saving to suppress this warning.\n"
          ],
          "name": "stderr"
        },
        {
          "output_type": "stream",
          "text": [
            "(1400, 1400, 3)\n"
          ],
          "name": "stdout"
        },
        {
          "output_type": "stream",
          "text": [
            "WARNING:root:Lossy conversion from float64 to uint8. Range [0, 1]. Convert image to uint8 prior to saving to suppress this warning.\n"
          ],
          "name": "stderr"
        },
        {
          "output_type": "stream",
          "text": [
            "(664, 1024, 3)\n"
          ],
          "name": "stdout"
        },
        {
          "output_type": "stream",
          "text": [
            "WARNING:root:Lossy conversion from float64 to uint8. Range [0, 1]. Convert image to uint8 prior to saving to suppress this warning.\n"
          ],
          "name": "stderr"
        },
        {
          "output_type": "stream",
          "text": [
            "(776, 1024, 3)\n"
          ],
          "name": "stdout"
        },
        {
          "output_type": "stream",
          "text": [
            "WARNING:root:Lossy conversion from float64 to uint8. Range [0, 1]. Convert image to uint8 prior to saving to suppress this warning.\n"
          ],
          "name": "stderr"
        },
        {
          "output_type": "stream",
          "text": [
            "(856, 1280, 3)\n"
          ],
          "name": "stdout"
        },
        {
          "output_type": "stream",
          "text": [
            "WARNING:root:Lossy conversion from float64 to uint8. Range [0, 1]. Convert image to uint8 prior to saving to suppress this warning.\n",
            "WARNING:root:Lossy conversion from float64 to uint8. Range [0, 1]. Convert image to uint8 prior to saving to suppress this warning.\n"
          ],
          "name": "stderr"
        },
        {
          "output_type": "stream",
          "text": [
            "(424, 640, 3)\n",
            "(984, 1176, 3)\n"
          ],
          "name": "stdout"
        },
        {
          "output_type": "stream",
          "text": [
            "WARNING:root:Lossy conversion from float64 to uint8. Range [0, 1]. Convert image to uint8 prior to saving to suppress this warning.\n",
            "WARNING:root:Lossy conversion from float64 to uint8. Range [0, 1]. Convert image to uint8 prior to saving to suppress this warning.\n"
          ],
          "name": "stderr"
        },
        {
          "output_type": "stream",
          "text": [
            "(512, 768, 3)\n",
            "(856, 1280, 3)\n"
          ],
          "name": "stdout"
        },
        {
          "output_type": "stream",
          "text": [
            "WARNING:root:Lossy conversion from float64 to uint8. Range [0, 1]. Convert image to uint8 prior to saving to suppress this warning.\n"
          ],
          "name": "stderr"
        },
        {
          "output_type": "stream",
          "text": [
            "\b\b\b\b\b\b\b\b\b\b\b\b\b\b\b\b\b\b\b\b\b\b\b\b\b\b\b\b\b\b\b\b\b\b\b\b\b\b\b\b\b\b\b\b\b\b\b\b\b\b\b\b\b\b\b\b\b\b\b\b\b\b\b\b\b\b\b\b\b\b\b\b\b\b\b\b\b\b\b\b\b\b\r31/31 [==============================] - 36s 1s/step - loss: 0.0032 - accuracy: 0.8103 - val_loss: 183.4535 - val_accuracy: 0.5171\n",
            "Epoch 502/1000\n",
            "31/31 [==============================] - 23s 742ms/step - loss: 0.0035 - accuracy: 0.8125 - val_loss: 183.4371 - val_accuracy: 0.5343\n",
            "Epoch 503/1000\n",
            "31/31 [==============================] - 23s 738ms/step - loss: 0.0035 - accuracy: 0.8111 - val_loss: 183.7212 - val_accuracy: 0.5456\n",
            "Epoch 504/1000\n",
            "31/31 [==============================] - 23s 751ms/step - loss: 0.0033 - accuracy: 0.8150 - val_loss: 182.3147 - val_accuracy: 0.5386\n",
            "Epoch 505/1000\n",
            "31/31 [==============================] - 24s 771ms/step - loss: 0.0036 - accuracy: 0.8092 - val_loss: 182.7690 - val_accuracy: 0.5557\n",
            "Epoch 506/1000\n",
            "31/31 [==============================] - 24s 776ms/step - loss: 0.0033 - accuracy: 0.8124 - val_loss: 182.0428 - val_accuracy: 0.5586\n",
            "Epoch 507/1000\n",
            "31/31 [==============================] - 23s 756ms/step - loss: 0.0034 - accuracy: 0.8129 - val_loss: 183.1029 - val_accuracy: 0.5083\n",
            "Epoch 508/1000\n",
            "31/31 [==============================] - 23s 755ms/step - loss: 0.0034 - accuracy: 0.8157 - val_loss: 183.7157 - val_accuracy: 0.5246\n",
            "Epoch 509/1000\n",
            "31/31 [==============================] - 24s 766ms/step - loss: 0.0034 - accuracy: 0.8124 - val_loss: 183.3931 - val_accuracy: 0.5105\n",
            "Epoch 510/1000\n",
            "31/31 [==============================] - 24s 778ms/step - loss: 0.0033 - accuracy: 0.8090 - val_loss: 182.0576 - val_accuracy: 0.5409\n",
            "Epoch 511/1000\n",
            "31/31 [==============================] - ETA: 0s - loss: 0.0035 - accuracy: 0.8121(512, 768, 3)\n"
          ],
          "name": "stdout"
        },
        {
          "output_type": "stream",
          "text": [
            "/usr/local/lib/python3.6/dist-packages/skimage/color/colorconv.py:1068: UserWarning: Color data out of range: Z < 0 in 38 pixels\n",
            "  return xyz2rgb(lab2xyz(lab, illuminant, observer))\n",
            "WARNING:root:Lossy conversion from float64 to uint8. Range [0, 1]. Convert image to uint8 prior to saving to suppress this warning.\n"
          ],
          "name": "stderr"
        },
        {
          "output_type": "stream",
          "text": [
            "(800, 1088, 3)\n"
          ],
          "name": "stdout"
        },
        {
          "output_type": "stream",
          "text": [
            "WARNING:root:Lossy conversion from float64 to uint8. Range [0, 1]. Convert image to uint8 prior to saving to suppress this warning.\n"
          ],
          "name": "stderr"
        },
        {
          "output_type": "stream",
          "text": [
            "(856, 1280, 3)\n"
          ],
          "name": "stdout"
        },
        {
          "output_type": "stream",
          "text": [
            "WARNING:root:Lossy conversion from float64 to uint8. Range [0, 1]. Convert image to uint8 prior to saving to suppress this warning.\n"
          ],
          "name": "stderr"
        },
        {
          "output_type": "stream",
          "text": [
            "(528, 736, 3)\n"
          ],
          "name": "stdout"
        },
        {
          "output_type": "stream",
          "text": [
            "WARNING:root:Lossy conversion from float64 to uint8. Range [0, 1]. Convert image to uint8 prior to saving to suppress this warning.\n"
          ],
          "name": "stderr"
        },
        {
          "output_type": "stream",
          "text": [
            "(856, 1280, 3)\n"
          ],
          "name": "stdout"
        },
        {
          "output_type": "stream",
          "text": [
            "WARNING:root:Lossy conversion from float64 to uint8. Range [0, 1]. Convert image to uint8 prior to saving to suppress this warning.\n"
          ],
          "name": "stderr"
        },
        {
          "output_type": "stream",
          "text": [
            "(1400, 1400, 3)\n"
          ],
          "name": "stdout"
        },
        {
          "output_type": "stream",
          "text": [
            "WARNING:root:Lossy conversion from float64 to uint8. Range [0, 1]. Convert image to uint8 prior to saving to suppress this warning.\n"
          ],
          "name": "stderr"
        },
        {
          "output_type": "stream",
          "text": [
            "(664, 1024, 3)\n"
          ],
          "name": "stdout"
        },
        {
          "output_type": "stream",
          "text": [
            "WARNING:root:Lossy conversion from float64 to uint8. Range [0, 1]. Convert image to uint8 prior to saving to suppress this warning.\n"
          ],
          "name": "stderr"
        },
        {
          "output_type": "stream",
          "text": [
            "(776, 1024, 3)\n"
          ],
          "name": "stdout"
        },
        {
          "output_type": "stream",
          "text": [
            "WARNING:root:Lossy conversion from float64 to uint8. Range [0, 1]. Convert image to uint8 prior to saving to suppress this warning.\n"
          ],
          "name": "stderr"
        },
        {
          "output_type": "stream",
          "text": [
            "(856, 1280, 3)\n"
          ],
          "name": "stdout"
        },
        {
          "output_type": "stream",
          "text": [
            "WARNING:root:Lossy conversion from float64 to uint8. Range [0, 1]. Convert image to uint8 prior to saving to suppress this warning.\n",
            "WARNING:root:Lossy conversion from float64 to uint8. Range [0, 1]. Convert image to uint8 prior to saving to suppress this warning.\n"
          ],
          "name": "stderr"
        },
        {
          "output_type": "stream",
          "text": [
            "(424, 640, 3)\n",
            "(984, 1176, 3)\n"
          ],
          "name": "stdout"
        },
        {
          "output_type": "stream",
          "text": [
            "WARNING:root:Lossy conversion from float64 to uint8. Range [0, 1]. Convert image to uint8 prior to saving to suppress this warning.\n"
          ],
          "name": "stderr"
        },
        {
          "output_type": "stream",
          "text": [
            "(512, 768, 3)\n"
          ],
          "name": "stdout"
        },
        {
          "output_type": "stream",
          "text": [
            "WARNING:root:Lossy conversion from float64 to uint8. Range [0, 1]. Convert image to uint8 prior to saving to suppress this warning.\n"
          ],
          "name": "stderr"
        },
        {
          "output_type": "stream",
          "text": [
            "(856, 1280, 3)\n"
          ],
          "name": "stdout"
        },
        {
          "output_type": "stream",
          "text": [
            "WARNING:root:Lossy conversion from float64 to uint8. Range [0, 1]. Convert image to uint8 prior to saving to suppress this warning.\n"
          ],
          "name": "stderr"
        },
        {
          "output_type": "stream",
          "text": [
            "\b\b\b\b\b\b\b\b\b\b\b\b\b\b\b\b\b\b\b\b\b\b\b\b\b\b\b\b\b\b\b\b\b\b\b\b\b\b\b\b\b\b\b\b\b\b\b\b\b\b\b\b\b\b\b\b\b\b\b\b\b\b\b\b\b\b\b\b\b\b\b\b\b\b\b\b\b\b\b\b\b\b\r31/31 [==============================] - 39s 1s/step - loss: 0.0035 - accuracy: 0.8121 - val_loss: 183.8288 - val_accuracy: 0.5395\n",
            "Epoch 512/1000\n",
            "31/31 [==============================] - 24s 783ms/step - loss: 0.0034 - accuracy: 0.8078 - val_loss: 182.8409 - val_accuracy: 0.5419\n",
            "Epoch 513/1000\n",
            "31/31 [==============================] - 24s 790ms/step - loss: 0.0035 - accuracy: 0.8132 - val_loss: 182.7836 - val_accuracy: 0.5368\n",
            "Epoch 514/1000\n",
            "31/31 [==============================] - 24s 785ms/step - loss: 0.0034 - accuracy: 0.8152 - val_loss: 183.7303 - val_accuracy: 0.5204\n",
            "Epoch 515/1000\n",
            "31/31 [==============================] - 24s 778ms/step - loss: 0.0034 - accuracy: 0.8112 - val_loss: 182.5582 - val_accuracy: 0.5433\n",
            "Epoch 516/1000\n",
            "31/31 [==============================] - 24s 775ms/step - loss: 0.0033 - accuracy: 0.8125 - val_loss: 182.8502 - val_accuracy: 0.5818\n",
            "Epoch 517/1000\n",
            "31/31 [==============================] - 24s 770ms/step - loss: 0.0034 - accuracy: 0.8089 - val_loss: 183.6808 - val_accuracy: 0.5421\n",
            "Epoch 518/1000\n",
            "31/31 [==============================] - 24s 777ms/step - loss: 0.0034 - accuracy: 0.8086 - val_loss: 182.7252 - val_accuracy: 0.5467\n",
            "Epoch 519/1000\n",
            "31/31 [==============================] - 24s 781ms/step - loss: 0.0033 - accuracy: 0.8145 - val_loss: 183.7952 - val_accuracy: 0.5047\n",
            "Epoch 520/1000\n",
            "31/31 [==============================] - 24s 778ms/step - loss: 0.0034 - accuracy: 0.8128 - val_loss: 182.8056 - val_accuracy: 0.5476\n",
            "Epoch 521/1000\n",
            "31/31 [==============================] - ETA: 0s - loss: 0.0034 - accuracy: 0.8087(512, 768, 3)\n"
          ],
          "name": "stdout"
        },
        {
          "output_type": "stream",
          "text": [
            "WARNING:root:Lossy conversion from float64 to uint8. Range [0, 1]. Convert image to uint8 prior to saving to suppress this warning.\n"
          ],
          "name": "stderr"
        },
        {
          "output_type": "stream",
          "text": [
            "(800, 1088, 3)\n"
          ],
          "name": "stdout"
        },
        {
          "output_type": "stream",
          "text": [
            "WARNING:root:Lossy conversion from float64 to uint8. Range [0, 1]. Convert image to uint8 prior to saving to suppress this warning.\n"
          ],
          "name": "stderr"
        },
        {
          "output_type": "stream",
          "text": [
            "(856, 1280, 3)\n"
          ],
          "name": "stdout"
        },
        {
          "output_type": "stream",
          "text": [
            "WARNING:root:Lossy conversion from float64 to uint8. Range [0, 1]. Convert image to uint8 prior to saving to suppress this warning.\n"
          ],
          "name": "stderr"
        },
        {
          "output_type": "stream",
          "text": [
            "(528, 736, 3)\n"
          ],
          "name": "stdout"
        },
        {
          "output_type": "stream",
          "text": [
            "WARNING:root:Lossy conversion from float64 to uint8. Range [0, 1]. Convert image to uint8 prior to saving to suppress this warning.\n"
          ],
          "name": "stderr"
        },
        {
          "output_type": "stream",
          "text": [
            "(856, 1280, 3)\n"
          ],
          "name": "stdout"
        },
        {
          "output_type": "stream",
          "text": [
            "WARNING:root:Lossy conversion from float64 to uint8. Range [0, 1]. Convert image to uint8 prior to saving to suppress this warning.\n"
          ],
          "name": "stderr"
        },
        {
          "output_type": "stream",
          "text": [
            "(1400, 1400, 3)\n"
          ],
          "name": "stdout"
        },
        {
          "output_type": "stream",
          "text": [
            "WARNING:root:Lossy conversion from float64 to uint8. Range [0, 1]. Convert image to uint8 prior to saving to suppress this warning.\n"
          ],
          "name": "stderr"
        },
        {
          "output_type": "stream",
          "text": [
            "(664, 1024, 3)\n"
          ],
          "name": "stdout"
        },
        {
          "output_type": "stream",
          "text": [
            "WARNING:root:Lossy conversion from float64 to uint8. Range [0, 1]. Convert image to uint8 prior to saving to suppress this warning.\n"
          ],
          "name": "stderr"
        },
        {
          "output_type": "stream",
          "text": [
            "(776, 1024, 3)\n"
          ],
          "name": "stdout"
        },
        {
          "output_type": "stream",
          "text": [
            "WARNING:root:Lossy conversion from float64 to uint8. Range [0, 1]. Convert image to uint8 prior to saving to suppress this warning.\n"
          ],
          "name": "stderr"
        },
        {
          "output_type": "stream",
          "text": [
            "(856, 1280, 3)\n"
          ],
          "name": "stdout"
        },
        {
          "output_type": "stream",
          "text": [
            "WARNING:root:Lossy conversion from float64 to uint8. Range [0, 1]. Convert image to uint8 prior to saving to suppress this warning.\n",
            "WARNING:root:Lossy conversion from float64 to uint8. Range [0, 1]. Convert image to uint8 prior to saving to suppress this warning.\n"
          ],
          "name": "stderr"
        },
        {
          "output_type": "stream",
          "text": [
            "(424, 640, 3)\n",
            "(984, 1176, 3)\n"
          ],
          "name": "stdout"
        },
        {
          "output_type": "stream",
          "text": [
            "WARNING:root:Lossy conversion from float64 to uint8. Range [0, 1]. Convert image to uint8 prior to saving to suppress this warning.\n"
          ],
          "name": "stderr"
        },
        {
          "output_type": "stream",
          "text": [
            "(512, 768, 3)\n"
          ],
          "name": "stdout"
        },
        {
          "output_type": "stream",
          "text": [
            "WARNING:root:Lossy conversion from float64 to uint8. Range [0, 1]. Convert image to uint8 prior to saving to suppress this warning.\n"
          ],
          "name": "stderr"
        },
        {
          "output_type": "stream",
          "text": [
            "(856, 1280, 3)\n"
          ],
          "name": "stdout"
        },
        {
          "output_type": "stream",
          "text": [
            "WARNING:root:Lossy conversion from float64 to uint8. Range [0, 1]. Convert image to uint8 prior to saving to suppress this warning.\n"
          ],
          "name": "stderr"
        },
        {
          "output_type": "stream",
          "text": [
            "\b\b\b\b\b\b\b\b\b\b\b\b\b\b\b\b\b\b\b\b\b\b\b\b\b\b\b\b\b\b\b\b\b\b\b\b\b\b\b\b\b\b\b\b\b\b\b\b\b\b\b\b\b\b\b\b\b\b\b\b\b\b\b\b\b\b\b\b\b\b\b\b\b\b\b\b\b\b\b\b\b\b\r31/31 [==============================] - 39s 1s/step - loss: 0.0034 - accuracy: 0.8087 - val_loss: 184.2744 - val_accuracy: 0.4691\n",
            "Epoch 522/1000\n",
            "31/31 [==============================] - 24s 783ms/step - loss: 0.0034 - accuracy: 0.8132 - val_loss: 183.7320 - val_accuracy: 0.4847\n",
            "Epoch 523/1000\n",
            "31/31 [==============================] - 24s 782ms/step - loss: 0.0034 - accuracy: 0.8145 - val_loss: 184.2753 - val_accuracy: 0.5101\n",
            "Epoch 524/1000\n",
            "31/31 [==============================] - 24s 779ms/step - loss: 0.0034 - accuracy: 0.8130 - val_loss: 182.3322 - val_accuracy: 0.5468\n",
            "Epoch 525/1000\n",
            "31/31 [==============================] - 24s 783ms/step - loss: 0.0036 - accuracy: 0.8111 - val_loss: 184.0999 - val_accuracy: 0.4835\n",
            "Epoch 526/1000\n",
            "31/31 [==============================] - 24s 782ms/step - loss: 0.0033 - accuracy: 0.8123 - val_loss: 183.2193 - val_accuracy: 0.5021\n",
            "Epoch 527/1000\n",
            "31/31 [==============================] - 24s 782ms/step - loss: 0.0033 - accuracy: 0.8116 - val_loss: 182.4198 - val_accuracy: 0.5645\n",
            "Epoch 528/1000\n",
            "31/31 [==============================] - 24s 784ms/step - loss: 0.0033 - accuracy: 0.8132 - val_loss: 182.9792 - val_accuracy: 0.5338\n",
            "Epoch 529/1000\n",
            "31/31 [==============================] - 24s 781ms/step - loss: 0.0034 - accuracy: 0.8149 - val_loss: 184.8810 - val_accuracy: 0.4813\n",
            "Epoch 530/1000\n",
            "31/31 [==============================] - 24s 787ms/step - loss: 0.0033 - accuracy: 0.8160 - val_loss: 183.8078 - val_accuracy: 0.5078\n",
            "Epoch 531/1000\n",
            "31/31 [==============================] - ETA: 0s - loss: 0.0033 - accuracy: 0.8078(512, 768, 3)\n"
          ],
          "name": "stdout"
        },
        {
          "output_type": "stream",
          "text": [
            "WARNING:root:Lossy conversion from float64 to uint8. Range [0, 1]. Convert image to uint8 prior to saving to suppress this warning.\n"
          ],
          "name": "stderr"
        },
        {
          "output_type": "stream",
          "text": [
            "(800, 1088, 3)\n"
          ],
          "name": "stdout"
        },
        {
          "output_type": "stream",
          "text": [
            "WARNING:root:Lossy conversion from float64 to uint8. Range [0, 1]. Convert image to uint8 prior to saving to suppress this warning.\n"
          ],
          "name": "stderr"
        },
        {
          "output_type": "stream",
          "text": [
            "(856, 1280, 3)\n"
          ],
          "name": "stdout"
        },
        {
          "output_type": "stream",
          "text": [
            "WARNING:root:Lossy conversion from float64 to uint8. Range [0, 1]. Convert image to uint8 prior to saving to suppress this warning.\n"
          ],
          "name": "stderr"
        },
        {
          "output_type": "stream",
          "text": [
            "(528, 736, 3)\n"
          ],
          "name": "stdout"
        },
        {
          "output_type": "stream",
          "text": [
            "WARNING:root:Lossy conversion from float64 to uint8. Range [0, 1]. Convert image to uint8 prior to saving to suppress this warning.\n"
          ],
          "name": "stderr"
        },
        {
          "output_type": "stream",
          "text": [
            "(856, 1280, 3)\n"
          ],
          "name": "stdout"
        },
        {
          "output_type": "stream",
          "text": [
            "WARNING:root:Lossy conversion from float64 to uint8. Range [0, 1]. Convert image to uint8 prior to saving to suppress this warning.\n"
          ],
          "name": "stderr"
        },
        {
          "output_type": "stream",
          "text": [
            "(1400, 1400, 3)\n"
          ],
          "name": "stdout"
        },
        {
          "output_type": "stream",
          "text": [
            "WARNING:root:Lossy conversion from float64 to uint8. Range [0, 1]. Convert image to uint8 prior to saving to suppress this warning.\n"
          ],
          "name": "stderr"
        },
        {
          "output_type": "stream",
          "text": [
            "(664, 1024, 3)\n"
          ],
          "name": "stdout"
        },
        {
          "output_type": "stream",
          "text": [
            "WARNING:root:Lossy conversion from float64 to uint8. Range [0, 1]. Convert image to uint8 prior to saving to suppress this warning.\n"
          ],
          "name": "stderr"
        },
        {
          "output_type": "stream",
          "text": [
            "(776, 1024, 3)\n"
          ],
          "name": "stdout"
        },
        {
          "output_type": "stream",
          "text": [
            "WARNING:root:Lossy conversion from float64 to uint8. Range [0, 1]. Convert image to uint8 prior to saving to suppress this warning.\n"
          ],
          "name": "stderr"
        },
        {
          "output_type": "stream",
          "text": [
            "(856, 1280, 3)\n"
          ],
          "name": "stdout"
        },
        {
          "output_type": "stream",
          "text": [
            "WARNING:root:Lossy conversion from float64 to uint8. Range [0, 1]. Convert image to uint8 prior to saving to suppress this warning.\n",
            "WARNING:root:Lossy conversion from float64 to uint8. Range [0, 1]. Convert image to uint8 prior to saving to suppress this warning.\n"
          ],
          "name": "stderr"
        },
        {
          "output_type": "stream",
          "text": [
            "(424, 640, 3)\n",
            "(984, 1176, 3)\n"
          ],
          "name": "stdout"
        },
        {
          "output_type": "stream",
          "text": [
            "WARNING:root:Lossy conversion from float64 to uint8. Range [0, 1]. Convert image to uint8 prior to saving to suppress this warning.\n",
            "WARNING:root:Lossy conversion from float64 to uint8. Range [0, 1]. Convert image to uint8 prior to saving to suppress this warning.\n"
          ],
          "name": "stderr"
        },
        {
          "output_type": "stream",
          "text": [
            "(512, 768, 3)\n",
            "(856, 1280, 3)\n"
          ],
          "name": "stdout"
        },
        {
          "output_type": "stream",
          "text": [
            "WARNING:root:Lossy conversion from float64 to uint8. Range [0, 1]. Convert image to uint8 prior to saving to suppress this warning.\n"
          ],
          "name": "stderr"
        },
        {
          "output_type": "stream",
          "text": [
            "\b\b\b\b\b\b\b\b\b\b\b\b\b\b\b\b\b\b\b\b\b\b\b\b\b\b\b\b\b\b\b\b\b\b\b\b\b\b\b\b\b\b\b\b\b\b\b\b\b\b\b\b\b\b\b\b\b\b\b\b\b\b\b\b\b\b\b\b\b\b\b\b\b\b\b\b\b\b\b\b\b\b\r31/31 [==============================] - 39s 1s/step - loss: 0.0033 - accuracy: 0.8078 - val_loss: 182.5158 - val_accuracy: 0.5654\n",
            "Epoch 532/1000\n",
            "31/31 [==============================] - 24s 778ms/step - loss: 0.0035 - accuracy: 0.8129 - val_loss: 181.8305 - val_accuracy: 0.5938\n",
            "Epoch 533/1000\n",
            "31/31 [==============================] - 24s 780ms/step - loss: 0.0032 - accuracy: 0.8161 - val_loss: 182.6719 - val_accuracy: 0.5493\n",
            "Epoch 534/1000\n",
            "31/31 [==============================] - 24s 775ms/step - loss: 0.0034 - accuracy: 0.8168 - val_loss: 182.0097 - val_accuracy: 0.5684\n",
            "Epoch 535/1000\n",
            "31/31 [==============================] - 24s 760ms/step - loss: 0.0034 - accuracy: 0.8114 - val_loss: 182.1957 - val_accuracy: 0.5679\n",
            "Epoch 536/1000\n",
            "31/31 [==============================] - 24s 765ms/step - loss: 0.0033 - accuracy: 0.8127 - val_loss: 182.4831 - val_accuracy: 0.5579\n",
            "Epoch 537/1000\n",
            "31/31 [==============================] - 24s 770ms/step - loss: 0.0034 - accuracy: 0.8137 - val_loss: 182.4223 - val_accuracy: 0.5624\n",
            "Epoch 538/1000\n",
            "31/31 [==============================] - 24s 773ms/step - loss: 0.0034 - accuracy: 0.8131 - val_loss: 181.2889 - val_accuracy: 0.5862\n",
            "Epoch 539/1000\n",
            "31/31 [==============================] - 24s 770ms/step - loss: 0.0033 - accuracy: 0.8155 - val_loss: 182.8750 - val_accuracy: 0.5356\n",
            "Epoch 540/1000\n",
            "31/31 [==============================] - 24s 771ms/step - loss: 0.0034 - accuracy: 0.8129 - val_loss: 182.3847 - val_accuracy: 0.5645\n",
            "Epoch 541/1000\n",
            "31/31 [==============================] - ETA: 0s - loss: 0.0032 - accuracy: 0.8161(512, 768, 3)\n"
          ],
          "name": "stdout"
        },
        {
          "output_type": "stream",
          "text": [
            "WARNING:root:Lossy conversion from float64 to uint8. Range [0, 1]. Convert image to uint8 prior to saving to suppress this warning.\n"
          ],
          "name": "stderr"
        },
        {
          "output_type": "stream",
          "text": [
            "(800, 1088, 3)\n"
          ],
          "name": "stdout"
        },
        {
          "output_type": "stream",
          "text": [
            "WARNING:root:Lossy conversion from float64 to uint8. Range [0, 1]. Convert image to uint8 prior to saving to suppress this warning.\n"
          ],
          "name": "stderr"
        },
        {
          "output_type": "stream",
          "text": [
            "(856, 1280, 3)\n"
          ],
          "name": "stdout"
        },
        {
          "output_type": "stream",
          "text": [
            "WARNING:root:Lossy conversion from float64 to uint8. Range [0, 1]. Convert image to uint8 prior to saving to suppress this warning.\n"
          ],
          "name": "stderr"
        },
        {
          "output_type": "stream",
          "text": [
            "(528, 736, 3)\n"
          ],
          "name": "stdout"
        },
        {
          "output_type": "stream",
          "text": [
            "WARNING:root:Lossy conversion from float64 to uint8. Range [0, 1]. Convert image to uint8 prior to saving to suppress this warning.\n"
          ],
          "name": "stderr"
        },
        {
          "output_type": "stream",
          "text": [
            "(856, 1280, 3)\n"
          ],
          "name": "stdout"
        },
        {
          "output_type": "stream",
          "text": [
            "WARNING:root:Lossy conversion from float64 to uint8. Range [0, 1]. Convert image to uint8 prior to saving to suppress this warning.\n"
          ],
          "name": "stderr"
        },
        {
          "output_type": "stream",
          "text": [
            "(1400, 1400, 3)\n"
          ],
          "name": "stdout"
        },
        {
          "output_type": "stream",
          "text": [
            "WARNING:root:Lossy conversion from float64 to uint8. Range [0, 1]. Convert image to uint8 prior to saving to suppress this warning.\n"
          ],
          "name": "stderr"
        },
        {
          "output_type": "stream",
          "text": [
            "(664, 1024, 3)\n"
          ],
          "name": "stdout"
        },
        {
          "output_type": "stream",
          "text": [
            "WARNING:root:Lossy conversion from float64 to uint8. Range [0, 1]. Convert image to uint8 prior to saving to suppress this warning.\n"
          ],
          "name": "stderr"
        },
        {
          "output_type": "stream",
          "text": [
            "(776, 1024, 3)\n"
          ],
          "name": "stdout"
        },
        {
          "output_type": "stream",
          "text": [
            "WARNING:root:Lossy conversion from float64 to uint8. Range [0, 1]. Convert image to uint8 prior to saving to suppress this warning.\n"
          ],
          "name": "stderr"
        },
        {
          "output_type": "stream",
          "text": [
            "(856, 1280, 3)\n"
          ],
          "name": "stdout"
        },
        {
          "output_type": "stream",
          "text": [
            "WARNING:root:Lossy conversion from float64 to uint8. Range [0, 1]. Convert image to uint8 prior to saving to suppress this warning.\n",
            "WARNING:root:Lossy conversion from float64 to uint8. Range [0, 1]. Convert image to uint8 prior to saving to suppress this warning.\n"
          ],
          "name": "stderr"
        },
        {
          "output_type": "stream",
          "text": [
            "(424, 640, 3)\n",
            "(984, 1176, 3)\n"
          ],
          "name": "stdout"
        },
        {
          "output_type": "stream",
          "text": [
            "WARNING:root:Lossy conversion from float64 to uint8. Range [0, 1]. Convert image to uint8 prior to saving to suppress this warning.\n"
          ],
          "name": "stderr"
        },
        {
          "output_type": "stream",
          "text": [
            "(512, 768, 3)\n"
          ],
          "name": "stdout"
        },
        {
          "output_type": "stream",
          "text": [
            "WARNING:root:Lossy conversion from float64 to uint8. Range [0, 1]. Convert image to uint8 prior to saving to suppress this warning.\n"
          ],
          "name": "stderr"
        },
        {
          "output_type": "stream",
          "text": [
            "(856, 1280, 3)\n"
          ],
          "name": "stdout"
        },
        {
          "output_type": "stream",
          "text": [
            "WARNING:root:Lossy conversion from float64 to uint8. Range [0, 1]. Convert image to uint8 prior to saving to suppress this warning.\n"
          ],
          "name": "stderr"
        },
        {
          "output_type": "stream",
          "text": [
            "\b\b\b\b\b\b\b\b\b\b\b\b\b\b\b\b\b\b\b\b\b\b\b\b\b\b\b\b\b\b\b\b\b\b\b\b\b\b\b\b\b\b\b\b\b\b\b\b\b\b\b\b\b\b\b\b\b\b\b\b\b\b\b\b\b\b\b\b\b\b\b\b\b\b\b\b\b\b\b\b\b\b\r31/31 [==============================] - 38s 1s/step - loss: 0.0032 - accuracy: 0.8161 - val_loss: 181.7222 - val_accuracy: 0.6004\n",
            "Epoch 542/1000\n",
            "31/31 [==============================] - 24s 775ms/step - loss: 0.0033 - accuracy: 0.8141 - val_loss: 182.3615 - val_accuracy: 0.5500\n",
            "Epoch 543/1000\n",
            "31/31 [==============================] - 24s 774ms/step - loss: 0.0033 - accuracy: 0.8129 - val_loss: 182.1587 - val_accuracy: 0.5591\n",
            "Epoch 544/1000\n",
            "31/31 [==============================] - 24s 764ms/step - loss: 0.0034 - accuracy: 0.8134 - val_loss: 182.4933 - val_accuracy: 0.5525\n",
            "Epoch 545/1000\n",
            "31/31 [==============================] - 24s 785ms/step - loss: 0.0033 - accuracy: 0.8129 - val_loss: 182.9331 - val_accuracy: 0.5374\n",
            "Epoch 546/1000\n",
            "31/31 [==============================] - 24s 782ms/step - loss: 0.0033 - accuracy: 0.8107 - val_loss: 182.4566 - val_accuracy: 0.5502\n",
            "Epoch 547/1000\n",
            "31/31 [==============================] - 24s 774ms/step - loss: 0.0033 - accuracy: 0.8171 - val_loss: 183.0376 - val_accuracy: 0.5163\n",
            "Epoch 548/1000\n",
            "31/31 [==============================] - 24s 775ms/step - loss: 0.0032 - accuracy: 0.8183 - val_loss: 183.5031 - val_accuracy: 0.5150\n",
            "Epoch 549/1000\n",
            "31/31 [==============================] - 24s 771ms/step - loss: 0.0032 - accuracy: 0.8160 - val_loss: 183.5094 - val_accuracy: 0.5168\n",
            "Epoch 550/1000\n",
            "31/31 [==============================] - 24s 772ms/step - loss: 0.0033 - accuracy: 0.8128 - val_loss: 182.0772 - val_accuracy: 0.5712\n",
            "Epoch 551/1000\n",
            "31/31 [==============================] - ETA: 0s - loss: 0.0034 - accuracy: 0.8131(512, 768, 3)\n"
          ],
          "name": "stdout"
        },
        {
          "output_type": "stream",
          "text": [
            "/usr/local/lib/python3.6/dist-packages/skimage/color/colorconv.py:1068: UserWarning: Color data out of range: Z < 0 in 25 pixels\n",
            "  return xyz2rgb(lab2xyz(lab, illuminant, observer))\n",
            "WARNING:root:Lossy conversion from float64 to uint8. Range [0, 1]. Convert image to uint8 prior to saving to suppress this warning.\n"
          ],
          "name": "stderr"
        },
        {
          "output_type": "stream",
          "text": [
            "(800, 1088, 3)\n"
          ],
          "name": "stdout"
        },
        {
          "output_type": "stream",
          "text": [
            "WARNING:root:Lossy conversion from float64 to uint8. Range [0, 1]. Convert image to uint8 prior to saving to suppress this warning.\n"
          ],
          "name": "stderr"
        },
        {
          "output_type": "stream",
          "text": [
            "(856, 1280, 3)\n"
          ],
          "name": "stdout"
        },
        {
          "output_type": "stream",
          "text": [
            "WARNING:root:Lossy conversion from float64 to uint8. Range [0, 1]. Convert image to uint8 prior to saving to suppress this warning.\n"
          ],
          "name": "stderr"
        },
        {
          "output_type": "stream",
          "text": [
            "(528, 736, 3)\n"
          ],
          "name": "stdout"
        },
        {
          "output_type": "stream",
          "text": [
            "WARNING:root:Lossy conversion from float64 to uint8. Range [0, 1]. Convert image to uint8 prior to saving to suppress this warning.\n"
          ],
          "name": "stderr"
        },
        {
          "output_type": "stream",
          "text": [
            "(856, 1280, 3)\n"
          ],
          "name": "stdout"
        },
        {
          "output_type": "stream",
          "text": [
            "WARNING:root:Lossy conversion from float64 to uint8. Range [0, 1]. Convert image to uint8 prior to saving to suppress this warning.\n"
          ],
          "name": "stderr"
        },
        {
          "output_type": "stream",
          "text": [
            "(1400, 1400, 3)\n"
          ],
          "name": "stdout"
        },
        {
          "output_type": "stream",
          "text": [
            "WARNING:root:Lossy conversion from float64 to uint8. Range [0, 1]. Convert image to uint8 prior to saving to suppress this warning.\n"
          ],
          "name": "stderr"
        },
        {
          "output_type": "stream",
          "text": [
            "(664, 1024, 3)\n"
          ],
          "name": "stdout"
        },
        {
          "output_type": "stream",
          "text": [
            "WARNING:root:Lossy conversion from float64 to uint8. Range [0, 1]. Convert image to uint8 prior to saving to suppress this warning.\n"
          ],
          "name": "stderr"
        },
        {
          "output_type": "stream",
          "text": [
            "(776, 1024, 3)\n"
          ],
          "name": "stdout"
        },
        {
          "output_type": "stream",
          "text": [
            "WARNING:root:Lossy conversion from float64 to uint8. Range [0, 1]. Convert image to uint8 prior to saving to suppress this warning.\n"
          ],
          "name": "stderr"
        },
        {
          "output_type": "stream",
          "text": [
            "(856, 1280, 3)\n"
          ],
          "name": "stdout"
        },
        {
          "output_type": "stream",
          "text": [
            "WARNING:root:Lossy conversion from float64 to uint8. Range [0, 1]. Convert image to uint8 prior to saving to suppress this warning.\n",
            "WARNING:root:Lossy conversion from float64 to uint8. Range [0, 1]. Convert image to uint8 prior to saving to suppress this warning.\n"
          ],
          "name": "stderr"
        },
        {
          "output_type": "stream",
          "text": [
            "(424, 640, 3)\n",
            "(984, 1176, 3)\n"
          ],
          "name": "stdout"
        },
        {
          "output_type": "stream",
          "text": [
            "WARNING:root:Lossy conversion from float64 to uint8. Range [0, 1]. Convert image to uint8 prior to saving to suppress this warning.\n"
          ],
          "name": "stderr"
        },
        {
          "output_type": "stream",
          "text": [
            "(512, 768, 3)\n"
          ],
          "name": "stdout"
        },
        {
          "output_type": "stream",
          "text": [
            "WARNING:root:Lossy conversion from float64 to uint8. Range [0, 1]. Convert image to uint8 prior to saving to suppress this warning.\n"
          ],
          "name": "stderr"
        },
        {
          "output_type": "stream",
          "text": [
            "(856, 1280, 3)\n"
          ],
          "name": "stdout"
        },
        {
          "output_type": "stream",
          "text": [
            "WARNING:root:Lossy conversion from float64 to uint8. Range [0, 1]. Convert image to uint8 prior to saving to suppress this warning.\n"
          ],
          "name": "stderr"
        },
        {
          "output_type": "stream",
          "text": [
            "\b\b\b\b\b\b\b\b\b\b\b\b\b\b\b\b\b\b\b\b\b\b\b\b\b\b\b\b\b\b\b\b\b\b\b\b\b\b\b\b\b\b\b\b\b\b\b\b\b\b\b\b\b\b\b\b\b\b\b\b\b\b\b\b\b\b\b\b\b\b\b\b\b\b\b\b\b\b\b\b\b\b\r31/31 [==============================] - 38s 1s/step - loss: 0.0034 - accuracy: 0.8131 - val_loss: 182.3990 - val_accuracy: 0.5672\n",
            "Epoch 552/1000\n",
            "31/31 [==============================] - 24s 775ms/step - loss: 0.0033 - accuracy: 0.8174 - val_loss: 181.0979 - val_accuracy: 0.6012\n",
            "Epoch 553/1000\n",
            "31/31 [==============================] - 24s 777ms/step - loss: 0.0033 - accuracy: 0.8159 - val_loss: 182.9160 - val_accuracy: 0.5167\n",
            "Epoch 554/1000\n",
            "31/31 [==============================] - 24s 771ms/step - loss: 0.0032 - accuracy: 0.8125 - val_loss: 184.4751 - val_accuracy: 0.4803\n",
            "Epoch 555/1000\n",
            "31/31 [==============================] - 24s 769ms/step - loss: 0.0033 - accuracy: 0.8122 - val_loss: 182.6863 - val_accuracy: 0.5647\n",
            "Epoch 556/1000\n",
            "31/31 [==============================] - 24s 775ms/step - loss: 0.0033 - accuracy: 0.8156 - val_loss: 182.4645 - val_accuracy: 0.5704\n",
            "Epoch 557/1000\n",
            "31/31 [==============================] - 24s 771ms/step - loss: 0.0036 - accuracy: 0.8133 - val_loss: 182.9673 - val_accuracy: 0.5364\n",
            "Epoch 558/1000\n",
            "31/31 [==============================] - 24s 770ms/step - loss: 0.0032 - accuracy: 0.8133 - val_loss: 182.6461 - val_accuracy: 0.5428\n",
            "Epoch 559/1000\n",
            "31/31 [==============================] - 24s 775ms/step - loss: 0.0033 - accuracy: 0.8130 - val_loss: 181.6954 - val_accuracy: 0.5665\n",
            "Epoch 560/1000\n",
            "31/31 [==============================] - 24s 771ms/step - loss: 0.0034 - accuracy: 0.8112 - val_loss: 183.5239 - val_accuracy: 0.4719\n",
            "Epoch 561/1000\n",
            "31/31 [==============================] - ETA: 0s - loss: 0.0035 - accuracy: 0.8138(512, 768, 3)\n"
          ],
          "name": "stdout"
        },
        {
          "output_type": "stream",
          "text": [
            "WARNING:root:Lossy conversion from float64 to uint8. Range [0, 1]. Convert image to uint8 prior to saving to suppress this warning.\n"
          ],
          "name": "stderr"
        },
        {
          "output_type": "stream",
          "text": [
            "(800, 1088, 3)\n"
          ],
          "name": "stdout"
        },
        {
          "output_type": "stream",
          "text": [
            "WARNING:root:Lossy conversion from float64 to uint8. Range [0, 1]. Convert image to uint8 prior to saving to suppress this warning.\n"
          ],
          "name": "stderr"
        },
        {
          "output_type": "stream",
          "text": [
            "(856, 1280, 3)\n"
          ],
          "name": "stdout"
        },
        {
          "output_type": "stream",
          "text": [
            "WARNING:root:Lossy conversion from float64 to uint8. Range [0, 1]. Convert image to uint8 prior to saving to suppress this warning.\n"
          ],
          "name": "stderr"
        },
        {
          "output_type": "stream",
          "text": [
            "(528, 736, 3)\n"
          ],
          "name": "stdout"
        },
        {
          "output_type": "stream",
          "text": [
            "WARNING:root:Lossy conversion from float64 to uint8. Range [0, 1]. Convert image to uint8 prior to saving to suppress this warning.\n"
          ],
          "name": "stderr"
        },
        {
          "output_type": "stream",
          "text": [
            "(856, 1280, 3)\n"
          ],
          "name": "stdout"
        },
        {
          "output_type": "stream",
          "text": [
            "WARNING:root:Lossy conversion from float64 to uint8. Range [0, 1]. Convert image to uint8 prior to saving to suppress this warning.\n"
          ],
          "name": "stderr"
        },
        {
          "output_type": "stream",
          "text": [
            "(1400, 1400, 3)\n"
          ],
          "name": "stdout"
        },
        {
          "output_type": "stream",
          "text": [
            "WARNING:root:Lossy conversion from float64 to uint8. Range [0, 1]. Convert image to uint8 prior to saving to suppress this warning.\n"
          ],
          "name": "stderr"
        },
        {
          "output_type": "stream",
          "text": [
            "(664, 1024, 3)\n"
          ],
          "name": "stdout"
        },
        {
          "output_type": "stream",
          "text": [
            "WARNING:root:Lossy conversion from float64 to uint8. Range [0, 1]. Convert image to uint8 prior to saving to suppress this warning.\n"
          ],
          "name": "stderr"
        },
        {
          "output_type": "stream",
          "text": [
            "(776, 1024, 3)\n"
          ],
          "name": "stdout"
        },
        {
          "output_type": "stream",
          "text": [
            "WARNING:root:Lossy conversion from float64 to uint8. Range [0, 1]. Convert image to uint8 prior to saving to suppress this warning.\n"
          ],
          "name": "stderr"
        },
        {
          "output_type": "stream",
          "text": [
            "(856, 1280, 3)\n"
          ],
          "name": "stdout"
        },
        {
          "output_type": "stream",
          "text": [
            "WARNING:root:Lossy conversion from float64 to uint8. Range [0, 1]. Convert image to uint8 prior to saving to suppress this warning.\n",
            "WARNING:root:Lossy conversion from float64 to uint8. Range [0, 1]. Convert image to uint8 prior to saving to suppress this warning.\n"
          ],
          "name": "stderr"
        },
        {
          "output_type": "stream",
          "text": [
            "(424, 640, 3)\n",
            "(984, 1176, 3)\n"
          ],
          "name": "stdout"
        },
        {
          "output_type": "stream",
          "text": [
            "WARNING:root:Lossy conversion from float64 to uint8. Range [0, 1]. Convert image to uint8 prior to saving to suppress this warning.\n"
          ],
          "name": "stderr"
        },
        {
          "output_type": "stream",
          "text": [
            "(512, 768, 3)\n"
          ],
          "name": "stdout"
        },
        {
          "output_type": "stream",
          "text": [
            "WARNING:root:Lossy conversion from float64 to uint8. Range [0, 1]. Convert image to uint8 prior to saving to suppress this warning.\n"
          ],
          "name": "stderr"
        },
        {
          "output_type": "stream",
          "text": [
            "(856, 1280, 3)\n"
          ],
          "name": "stdout"
        },
        {
          "output_type": "stream",
          "text": [
            "WARNING:root:Lossy conversion from float64 to uint8. Range [0, 1]. Convert image to uint8 prior to saving to suppress this warning.\n"
          ],
          "name": "stderr"
        },
        {
          "output_type": "stream",
          "text": [
            "\b\b\b\b\b\b\b\b\b\b\b\b\b\b\b\b\b\b\b\b\b\b\b\b\b\b\b\b\b\b\b\b\b\b\b\b\b\b\b\b\b\b\b\b\b\b\b\b\b\b\b\b\b\b\b\b\b\b\b\b\b\b\b\b\b\b\b\b\b\b\b\b\b\b\b\b\b\b\b\b\b\b\r31/31 [==============================] - 38s 1s/step - loss: 0.0035 - accuracy: 0.8138 - val_loss: 181.9451 - val_accuracy: 0.5693\n",
            "Epoch 562/1000\n",
            "31/31 [==============================] - 24s 775ms/step - loss: 0.0032 - accuracy: 0.8163 - val_loss: 183.5061 - val_accuracy: 0.5239\n",
            "Epoch 563/1000\n",
            "31/31 [==============================] - 24s 776ms/step - loss: 0.0033 - accuracy: 0.8158 - val_loss: 183.0140 - val_accuracy: 0.5322\n",
            "Epoch 564/1000\n",
            "31/31 [==============================] - 24s 773ms/step - loss: 0.0034 - accuracy: 0.8145 - val_loss: 182.4441 - val_accuracy: 0.5748\n",
            "Epoch 565/1000\n",
            "31/31 [==============================] - 24s 776ms/step - loss: 0.0032 - accuracy: 0.8145 - val_loss: 182.1264 - val_accuracy: 0.5727\n",
            "Epoch 566/1000\n",
            "31/31 [==============================] - 24s 777ms/step - loss: 0.0033 - accuracy: 0.8159 - val_loss: 182.4976 - val_accuracy: 0.5698\n",
            "Epoch 567/1000\n",
            "31/31 [==============================] - 24s 771ms/step - loss: 0.0039 - accuracy: 0.8085 - val_loss: 182.3304 - val_accuracy: 0.5620\n",
            "Epoch 568/1000\n",
            "31/31 [==============================] - 24s 773ms/step - loss: 0.0032 - accuracy: 0.8137 - val_loss: 182.1555 - val_accuracy: 0.5959\n",
            "Epoch 569/1000\n",
            "31/31 [==============================] - 24s 769ms/step - loss: 0.0033 - accuracy: 0.8150 - val_loss: 183.0581 - val_accuracy: 0.5388\n",
            "Epoch 570/1000\n",
            "31/31 [==============================] - 24s 771ms/step - loss: 0.0033 - accuracy: 0.8167 - val_loss: 182.5782 - val_accuracy: 0.5375\n",
            "Epoch 571/1000\n",
            "31/31 [==============================] - ETA: 0s - loss: 0.0033 - accuracy: 0.8135(512, 768, 3)\n"
          ],
          "name": "stdout"
        },
        {
          "output_type": "stream",
          "text": [
            "WARNING:root:Lossy conversion from float64 to uint8. Range [0, 1]. Convert image to uint8 prior to saving to suppress this warning.\n"
          ],
          "name": "stderr"
        },
        {
          "output_type": "stream",
          "text": [
            "(800, 1088, 3)\n"
          ],
          "name": "stdout"
        },
        {
          "output_type": "stream",
          "text": [
            "WARNING:root:Lossy conversion from float64 to uint8. Range [0, 1]. Convert image to uint8 prior to saving to suppress this warning.\n"
          ],
          "name": "stderr"
        },
        {
          "output_type": "stream",
          "text": [
            "(856, 1280, 3)\n"
          ],
          "name": "stdout"
        },
        {
          "output_type": "stream",
          "text": [
            "WARNING:root:Lossy conversion from float64 to uint8. Range [0, 1]. Convert image to uint8 prior to saving to suppress this warning.\n"
          ],
          "name": "stderr"
        },
        {
          "output_type": "stream",
          "text": [
            "(528, 736, 3)\n"
          ],
          "name": "stdout"
        },
        {
          "output_type": "stream",
          "text": [
            "WARNING:root:Lossy conversion from float64 to uint8. Range [0, 1]. Convert image to uint8 prior to saving to suppress this warning.\n"
          ],
          "name": "stderr"
        },
        {
          "output_type": "stream",
          "text": [
            "(856, 1280, 3)\n"
          ],
          "name": "stdout"
        },
        {
          "output_type": "stream",
          "text": [
            "WARNING:root:Lossy conversion from float64 to uint8. Range [0, 1]. Convert image to uint8 prior to saving to suppress this warning.\n"
          ],
          "name": "stderr"
        },
        {
          "output_type": "stream",
          "text": [
            "(1400, 1400, 3)\n"
          ],
          "name": "stdout"
        },
        {
          "output_type": "stream",
          "text": [
            "WARNING:root:Lossy conversion from float64 to uint8. Range [0, 1]. Convert image to uint8 prior to saving to suppress this warning.\n"
          ],
          "name": "stderr"
        },
        {
          "output_type": "stream",
          "text": [
            "(664, 1024, 3)\n"
          ],
          "name": "stdout"
        },
        {
          "output_type": "stream",
          "text": [
            "/usr/local/lib/python3.6/dist-packages/skimage/color/colorconv.py:1068: UserWarning: Color data out of range: Z < 0 in 44 pixels\n",
            "  return xyz2rgb(lab2xyz(lab, illuminant, observer))\n",
            "WARNING:root:Lossy conversion from float64 to uint8. Range [0, 1]. Convert image to uint8 prior to saving to suppress this warning.\n"
          ],
          "name": "stderr"
        },
        {
          "output_type": "stream",
          "text": [
            "(776, 1024, 3)\n"
          ],
          "name": "stdout"
        },
        {
          "output_type": "stream",
          "text": [
            "WARNING:root:Lossy conversion from float64 to uint8. Range [0, 1]. Convert image to uint8 prior to saving to suppress this warning.\n"
          ],
          "name": "stderr"
        },
        {
          "output_type": "stream",
          "text": [
            "(856, 1280, 3)\n"
          ],
          "name": "stdout"
        },
        {
          "output_type": "stream",
          "text": [
            "WARNING:root:Lossy conversion from float64 to uint8. Range [0, 1]. Convert image to uint8 prior to saving to suppress this warning.\n",
            "WARNING:root:Lossy conversion from float64 to uint8. Range [0, 1]. Convert image to uint8 prior to saving to suppress this warning.\n"
          ],
          "name": "stderr"
        },
        {
          "output_type": "stream",
          "text": [
            "(424, 640, 3)\n",
            "(984, 1176, 3)\n"
          ],
          "name": "stdout"
        },
        {
          "output_type": "stream",
          "text": [
            "WARNING:root:Lossy conversion from float64 to uint8. Range [0, 1]. Convert image to uint8 prior to saving to suppress this warning.\n"
          ],
          "name": "stderr"
        },
        {
          "output_type": "stream",
          "text": [
            "(512, 768, 3)\n"
          ],
          "name": "stdout"
        },
        {
          "output_type": "stream",
          "text": [
            "WARNING:root:Lossy conversion from float64 to uint8. Range [0, 1]. Convert image to uint8 prior to saving to suppress this warning.\n"
          ],
          "name": "stderr"
        },
        {
          "output_type": "stream",
          "text": [
            "(856, 1280, 3)\n"
          ],
          "name": "stdout"
        },
        {
          "output_type": "stream",
          "text": [
            "WARNING:root:Lossy conversion from float64 to uint8. Range [0, 1]. Convert image to uint8 prior to saving to suppress this warning.\n"
          ],
          "name": "stderr"
        },
        {
          "output_type": "stream",
          "text": [
            "\b\b\b\b\b\b\b\b\b\b\b\b\b\b\b\b\b\b\b\b\b\b\b\b\b\b\b\b\b\b\b\b\b\b\b\b\b\b\b\b\b\b\b\b\b\b\b\b\b\b\b\b\b\b\b\b\b\b\b\b\b\b\b\b\b\b\b\b\b\b\b\b\b\b\b\b\b\b\b\b\b\b\r31/31 [==============================] - 38s 1s/step - loss: 0.0033 - accuracy: 0.8135 - val_loss: 182.0807 - val_accuracy: 0.5688\n",
            "Epoch 572/1000\n",
            "31/31 [==============================] - 24s 760ms/step - loss: 0.0032 - accuracy: 0.8152 - val_loss: 182.3482 - val_accuracy: 0.5660\n",
            "Epoch 573/1000\n",
            "31/31 [==============================] - 24s 760ms/step - loss: 0.0033 - accuracy: 0.8177 - val_loss: 182.7766 - val_accuracy: 0.5137\n",
            "Epoch 574/1000\n",
            "31/31 [==============================] - 24s 760ms/step - loss: 0.0032 - accuracy: 0.8151 - val_loss: 183.8215 - val_accuracy: 0.4929\n",
            "Epoch 575/1000\n",
            "31/31 [==============================] - 24s 762ms/step - loss: 0.0032 - accuracy: 0.8198 - val_loss: 181.3244 - val_accuracy: 0.6193\n",
            "Epoch 576/1000\n",
            "31/31 [==============================] - 24s 762ms/step - loss: 0.0033 - accuracy: 0.8128 - val_loss: 182.5315 - val_accuracy: 0.5748\n",
            "Epoch 577/1000\n",
            "31/31 [==============================] - 24s 782ms/step - loss: 0.0032 - accuracy: 0.8185 - val_loss: 181.9944 - val_accuracy: 0.5617\n",
            "Epoch 578/1000\n",
            "31/31 [==============================] - 24s 779ms/step - loss: 0.0033 - accuracy: 0.8155 - val_loss: 181.7635 - val_accuracy: 0.5662\n",
            "Epoch 579/1000\n",
            "31/31 [==============================] - 24s 761ms/step - loss: 0.0032 - accuracy: 0.8184 - val_loss: 183.6155 - val_accuracy: 0.5074\n",
            "Epoch 580/1000\n",
            "31/31 [==============================] - 24s 766ms/step - loss: 0.0033 - accuracy: 0.8143 - val_loss: 183.1535 - val_accuracy: 0.5422\n",
            "Epoch 581/1000\n",
            "31/31 [==============================] - ETA: 0s - loss: 0.0032 - accuracy: 0.8179"
          ],
          "name": "stdout"
        },
        {
          "output_type": "stream",
          "text": [
            "WARNING:root:Lossy conversion from float64 to uint8. Range [0, 1]. Convert image to uint8 prior to saving to suppress this warning.\n"
          ],
          "name": "stderr"
        },
        {
          "output_type": "stream",
          "text": [
            "(512, 768, 3)\n",
            "(800, 1088, 3)\n"
          ],
          "name": "stdout"
        },
        {
          "output_type": "stream",
          "text": [
            "WARNING:root:Lossy conversion from float64 to uint8. Range [0, 1]. Convert image to uint8 prior to saving to suppress this warning.\n"
          ],
          "name": "stderr"
        },
        {
          "output_type": "stream",
          "text": [
            "(856, 1280, 3)\n"
          ],
          "name": "stdout"
        },
        {
          "output_type": "stream",
          "text": [
            "WARNING:root:Lossy conversion from float64 to uint8. Range [0, 1]. Convert image to uint8 prior to saving to suppress this warning.\n",
            "WARNING:root:Lossy conversion from float64 to uint8. Range [0, 1]. Convert image to uint8 prior to saving to suppress this warning.\n"
          ],
          "name": "stderr"
        },
        {
          "output_type": "stream",
          "text": [
            "(528, 736, 3)\n",
            "(856, 1280, 3)\n"
          ],
          "name": "stdout"
        },
        {
          "output_type": "stream",
          "text": [
            "WARNING:root:Lossy conversion from float64 to uint8. Range [0, 1]. Convert image to uint8 prior to saving to suppress this warning.\n"
          ],
          "name": "stderr"
        },
        {
          "output_type": "stream",
          "text": [
            "(1400, 1400, 3)\n"
          ],
          "name": "stdout"
        },
        {
          "output_type": "stream",
          "text": [
            "WARNING:root:Lossy conversion from float64 to uint8. Range [0, 1]. Convert image to uint8 prior to saving to suppress this warning.\n"
          ],
          "name": "stderr"
        },
        {
          "output_type": "stream",
          "text": [
            "(664, 1024, 3)\n"
          ],
          "name": "stdout"
        },
        {
          "output_type": "stream",
          "text": [
            "/usr/local/lib/python3.6/dist-packages/skimage/color/colorconv.py:1068: UserWarning: Color data out of range: Z < 0 in 17 pixels\n",
            "  return xyz2rgb(lab2xyz(lab, illuminant, observer))\n",
            "WARNING:root:Lossy conversion from float64 to uint8. Range [0, 1]. Convert image to uint8 prior to saving to suppress this warning.\n"
          ],
          "name": "stderr"
        },
        {
          "output_type": "stream",
          "text": [
            "(776, 1024, 3)\n"
          ],
          "name": "stdout"
        },
        {
          "output_type": "stream",
          "text": [
            "WARNING:root:Lossy conversion from float64 to uint8. Range [0, 1]. Convert image to uint8 prior to saving to suppress this warning.\n"
          ],
          "name": "stderr"
        },
        {
          "output_type": "stream",
          "text": [
            "(856, 1280, 3)\n"
          ],
          "name": "stdout"
        },
        {
          "output_type": "stream",
          "text": [
            "WARNING:root:Lossy conversion from float64 to uint8. Range [0, 1]. Convert image to uint8 prior to saving to suppress this warning.\n",
            "WARNING:root:Lossy conversion from float64 to uint8. Range [0, 1]. Convert image to uint8 prior to saving to suppress this warning.\n"
          ],
          "name": "stderr"
        },
        {
          "output_type": "stream",
          "text": [
            "(424, 640, 3)\n",
            "(984, 1176, 3)\n"
          ],
          "name": "stdout"
        },
        {
          "output_type": "stream",
          "text": [
            "WARNING:root:Lossy conversion from float64 to uint8. Range [0, 1]. Convert image to uint8 prior to saving to suppress this warning.\n",
            "WARNING:root:Lossy conversion from float64 to uint8. Range [0, 1]. Convert image to uint8 prior to saving to suppress this warning.\n"
          ],
          "name": "stderr"
        },
        {
          "output_type": "stream",
          "text": [
            "(512, 768, 3)\n",
            "(856, 1280, 3)\n"
          ],
          "name": "stdout"
        },
        {
          "output_type": "stream",
          "text": [
            "WARNING:root:Lossy conversion from float64 to uint8. Range [0, 1]. Convert image to uint8 prior to saving to suppress this warning.\n"
          ],
          "name": "stderr"
        },
        {
          "output_type": "stream",
          "text": [
            "\b\b\b\b\b\b\b\b\b\b\b\b\b\b\b\b\b\b\b\b\b\b\b\b\b\b\b\b\b\b\b\b\b\b\b\b\b\b\b\b\b\b\b\b\b\b\b\b\b\b\b\b\b\b\b\b\b\b\b\b\b\b\b\b\b\b\b\b\b\b\b\b\b\b\b\b\b\b\b\b\b\b\r31/31 [==============================] - 38s 1s/step - loss: 0.0032 - accuracy: 0.8179 - val_loss: 181.9523 - val_accuracy: 0.5514\n",
            "Epoch 582/1000\n",
            "31/31 [==============================] - 24s 771ms/step - loss: 0.0033 - accuracy: 0.8153 - val_loss: 182.0699 - val_accuracy: 0.5753\n",
            "Epoch 583/1000\n",
            "31/31 [==============================] - 24s 774ms/step - loss: 0.0032 - accuracy: 0.8192 - val_loss: 182.8914 - val_accuracy: 0.5487\n",
            "Epoch 584/1000\n",
            "31/31 [==============================] - 24s 769ms/step - loss: 0.0033 - accuracy: 0.8112 - val_loss: 182.6349 - val_accuracy: 0.5472\n",
            "Epoch 585/1000\n",
            "31/31 [==============================] - 24s 763ms/step - loss: 0.0033 - accuracy: 0.8191 - val_loss: 182.1055 - val_accuracy: 0.5574\n",
            "Epoch 586/1000\n",
            "31/31 [==============================] - 24s 768ms/step - loss: 0.0033 - accuracy: 0.8180 - val_loss: 182.9131 - val_accuracy: 0.5558\n",
            "Epoch 587/1000\n",
            "31/31 [==============================] - 24s 766ms/step - loss: 0.0031 - accuracy: 0.8168 - val_loss: 182.7013 - val_accuracy: 0.5406\n",
            "Epoch 588/1000\n",
            "31/31 [==============================] - 24s 764ms/step - loss: 0.0032 - accuracy: 0.8145 - val_loss: 184.2780 - val_accuracy: 0.4805\n",
            "Epoch 589/1000\n",
            "31/31 [==============================] - 24s 768ms/step - loss: 0.0033 - accuracy: 0.8159 - val_loss: 182.8340 - val_accuracy: 0.5142\n",
            "Epoch 590/1000\n",
            "31/31 [==============================] - 24s 769ms/step - loss: 0.0032 - accuracy: 0.8239 - val_loss: 183.5819 - val_accuracy: 0.4910\n",
            "Epoch 591/1000\n",
            "31/31 [==============================] - ETA: 0s - loss: 0.0032 - accuracy: 0.8186(512, 768, 3)\n"
          ],
          "name": "stdout"
        },
        {
          "output_type": "stream",
          "text": [
            "WARNING:root:Lossy conversion from float64 to uint8. Range [0, 1]. Convert image to uint8 prior to saving to suppress this warning.\n"
          ],
          "name": "stderr"
        },
        {
          "output_type": "stream",
          "text": [
            "(800, 1088, 3)\n"
          ],
          "name": "stdout"
        },
        {
          "output_type": "stream",
          "text": [
            "WARNING:root:Lossy conversion from float64 to uint8. Range [0, 1]. Convert image to uint8 prior to saving to suppress this warning.\n"
          ],
          "name": "stderr"
        },
        {
          "output_type": "stream",
          "text": [
            "(856, 1280, 3)\n"
          ],
          "name": "stdout"
        },
        {
          "output_type": "stream",
          "text": [
            "WARNING:root:Lossy conversion from float64 to uint8. Range [0, 1]. Convert image to uint8 prior to saving to suppress this warning.\n",
            "WARNING:root:Lossy conversion from float64 to uint8. Range [0, 1]. Convert image to uint8 prior to saving to suppress this warning.\n"
          ],
          "name": "stderr"
        },
        {
          "output_type": "stream",
          "text": [
            "(528, 736, 3)\n",
            "(856, 1280, 3)\n"
          ],
          "name": "stdout"
        },
        {
          "output_type": "stream",
          "text": [
            "WARNING:root:Lossy conversion from float64 to uint8. Range [0, 1]. Convert image to uint8 prior to saving to suppress this warning.\n"
          ],
          "name": "stderr"
        },
        {
          "output_type": "stream",
          "text": [
            "(1400, 1400, 3)\n"
          ],
          "name": "stdout"
        },
        {
          "output_type": "stream",
          "text": [
            "WARNING:root:Lossy conversion from float64 to uint8. Range [0, 1]. Convert image to uint8 prior to saving to suppress this warning.\n"
          ],
          "name": "stderr"
        },
        {
          "output_type": "stream",
          "text": [
            "(664, 1024, 3)\n"
          ],
          "name": "stdout"
        },
        {
          "output_type": "stream",
          "text": [
            "WARNING:root:Lossy conversion from float64 to uint8. Range [0, 1]. Convert image to uint8 prior to saving to suppress this warning.\n"
          ],
          "name": "stderr"
        },
        {
          "output_type": "stream",
          "text": [
            "(776, 1024, 3)\n"
          ],
          "name": "stdout"
        },
        {
          "output_type": "stream",
          "text": [
            "WARNING:root:Lossy conversion from float64 to uint8. Range [0, 1]. Convert image to uint8 prior to saving to suppress this warning.\n"
          ],
          "name": "stderr"
        },
        {
          "output_type": "stream",
          "text": [
            "(856, 1280, 3)\n"
          ],
          "name": "stdout"
        },
        {
          "output_type": "stream",
          "text": [
            "WARNING:root:Lossy conversion from float64 to uint8. Range [0, 1]. Convert image to uint8 prior to saving to suppress this warning.\n",
            "WARNING:root:Lossy conversion from float64 to uint8. Range [0, 1]. Convert image to uint8 prior to saving to suppress this warning.\n"
          ],
          "name": "stderr"
        },
        {
          "output_type": "stream",
          "text": [
            "(424, 640, 3)\n",
            "(984, 1176, 3)\n"
          ],
          "name": "stdout"
        },
        {
          "output_type": "stream",
          "text": [
            "WARNING:root:Lossy conversion from float64 to uint8. Range [0, 1]. Convert image to uint8 prior to saving to suppress this warning.\n"
          ],
          "name": "stderr"
        },
        {
          "output_type": "stream",
          "text": [
            "(512, 768, 3)\n"
          ],
          "name": "stdout"
        },
        {
          "output_type": "stream",
          "text": [
            "WARNING:root:Lossy conversion from float64 to uint8. Range [0, 1]. Convert image to uint8 prior to saving to suppress this warning.\n"
          ],
          "name": "stderr"
        },
        {
          "output_type": "stream",
          "text": [
            "(856, 1280, 3)\n"
          ],
          "name": "stdout"
        },
        {
          "output_type": "stream",
          "text": [
            "WARNING:root:Lossy conversion from float64 to uint8. Range [0, 1]. Convert image to uint8 prior to saving to suppress this warning.\n"
          ],
          "name": "stderr"
        },
        {
          "output_type": "stream",
          "text": [
            "\b\b\b\b\b\b\b\b\b\b\b\b\b\b\b\b\b\b\b\b\b\b\b\b\b\b\b\b\b\b\b\b\b\b\b\b\b\b\b\b\b\b\b\b\b\b\b\b\b\b\b\b\b\b\b\b\b\b\b\b\b\b\b\b\b\b\b\b\b\b\b\b\b\b\b\b\b\b\b\b\b\b\r31/31 [==============================] - 38s 1s/step - loss: 0.0032 - accuracy: 0.8186 - val_loss: 183.3355 - val_accuracy: 0.5066\n",
            "Epoch 592/1000\n",
            "31/31 [==============================] - 24s 763ms/step - loss: 0.0031 - accuracy: 0.8153 - val_loss: 182.7770 - val_accuracy: 0.5228\n",
            "Epoch 593/1000\n",
            "31/31 [==============================] - 24s 772ms/step - loss: 0.0033 - accuracy: 0.8130 - val_loss: 183.9487 - val_accuracy: 0.5077\n",
            "Epoch 594/1000\n",
            "31/31 [==============================] - 24s 767ms/step - loss: 0.0032 - accuracy: 0.8188 - val_loss: 183.3743 - val_accuracy: 0.5200\n",
            "Epoch 595/1000\n",
            "31/31 [==============================] - 24s 765ms/step - loss: 0.0031 - accuracy: 0.8171 - val_loss: 182.8111 - val_accuracy: 0.5465\n",
            "Epoch 596/1000\n",
            "31/31 [==============================] - 24s 769ms/step - loss: 0.0032 - accuracy: 0.8143 - val_loss: 182.5302 - val_accuracy: 0.5645\n",
            "Epoch 597/1000\n",
            "31/31 [==============================] - 24s 762ms/step - loss: 0.0032 - accuracy: 0.8217 - val_loss: 183.4550 - val_accuracy: 0.5524\n",
            "Epoch 598/1000\n",
            "31/31 [==============================] - 24s 768ms/step - loss: 0.0031 - accuracy: 0.8156 - val_loss: 182.7661 - val_accuracy: 0.5462\n",
            "Epoch 599/1000\n",
            "31/31 [==============================] - 24s 769ms/step - loss: 0.0032 - accuracy: 0.8202 - val_loss: 182.9193 - val_accuracy: 0.5391\n",
            "Epoch 600/1000\n",
            "31/31 [==============================] - 24s 764ms/step - loss: 0.0032 - accuracy: 0.8116 - val_loss: 183.9856 - val_accuracy: 0.5131\n",
            "Epoch 601/1000\n",
            "31/31 [==============================] - ETA: 0s - loss: 0.0031 - accuracy: 0.8193(512, 768, 3)\n"
          ],
          "name": "stdout"
        },
        {
          "output_type": "stream",
          "text": [
            "WARNING:root:Lossy conversion from float64 to uint8. Range [0, 1]. Convert image to uint8 prior to saving to suppress this warning.\n"
          ],
          "name": "stderr"
        },
        {
          "output_type": "stream",
          "text": [
            "(800, 1088, 3)\n"
          ],
          "name": "stdout"
        },
        {
          "output_type": "stream",
          "text": [
            "WARNING:root:Lossy conversion from float64 to uint8. Range [0, 1]. Convert image to uint8 prior to saving to suppress this warning.\n"
          ],
          "name": "stderr"
        },
        {
          "output_type": "stream",
          "text": [
            "(856, 1280, 3)\n"
          ],
          "name": "stdout"
        },
        {
          "output_type": "stream",
          "text": [
            "WARNING:root:Lossy conversion from float64 to uint8. Range [0, 1]. Convert image to uint8 prior to saving to suppress this warning.\n"
          ],
          "name": "stderr"
        },
        {
          "output_type": "stream",
          "text": [
            "(528, 736, 3)\n"
          ],
          "name": "stdout"
        },
        {
          "output_type": "stream",
          "text": [
            "WARNING:root:Lossy conversion from float64 to uint8. Range [0, 1]. Convert image to uint8 prior to saving to suppress this warning.\n"
          ],
          "name": "stderr"
        },
        {
          "output_type": "stream",
          "text": [
            "(856, 1280, 3)\n"
          ],
          "name": "stdout"
        },
        {
          "output_type": "stream",
          "text": [
            "WARNING:root:Lossy conversion from float64 to uint8. Range [0, 1]. Convert image to uint8 prior to saving to suppress this warning.\n"
          ],
          "name": "stderr"
        },
        {
          "output_type": "stream",
          "text": [
            "(1400, 1400, 3)\n"
          ],
          "name": "stdout"
        },
        {
          "output_type": "stream",
          "text": [
            "WARNING:root:Lossy conversion from float64 to uint8. Range [0, 1]. Convert image to uint8 prior to saving to suppress this warning.\n"
          ],
          "name": "stderr"
        },
        {
          "output_type": "stream",
          "text": [
            "(664, 1024, 3)\n"
          ],
          "name": "stdout"
        },
        {
          "output_type": "stream",
          "text": [
            "WARNING:root:Lossy conversion from float64 to uint8. Range [0, 1]. Convert image to uint8 prior to saving to suppress this warning.\n"
          ],
          "name": "stderr"
        },
        {
          "output_type": "stream",
          "text": [
            "(776, 1024, 3)\n"
          ],
          "name": "stdout"
        },
        {
          "output_type": "stream",
          "text": [
            "WARNING:root:Lossy conversion from float64 to uint8. Range [0, 1]. Convert image to uint8 prior to saving to suppress this warning.\n"
          ],
          "name": "stderr"
        },
        {
          "output_type": "stream",
          "text": [
            "(856, 1280, 3)\n"
          ],
          "name": "stdout"
        },
        {
          "output_type": "stream",
          "text": [
            "WARNING:root:Lossy conversion from float64 to uint8. Range [0, 1]. Convert image to uint8 prior to saving to suppress this warning.\n",
            "WARNING:root:Lossy conversion from float64 to uint8. Range [0, 1]. Convert image to uint8 prior to saving to suppress this warning.\n"
          ],
          "name": "stderr"
        },
        {
          "output_type": "stream",
          "text": [
            "(424, 640, 3)\n",
            "(984, 1176, 3)\n"
          ],
          "name": "stdout"
        },
        {
          "output_type": "stream",
          "text": [
            "WARNING:root:Lossy conversion from float64 to uint8. Range [0, 1]. Convert image to uint8 prior to saving to suppress this warning.\n"
          ],
          "name": "stderr"
        },
        {
          "output_type": "stream",
          "text": [
            "(512, 768, 3)\n"
          ],
          "name": "stdout"
        },
        {
          "output_type": "stream",
          "text": [
            "WARNING:root:Lossy conversion from float64 to uint8. Range [0, 1]. Convert image to uint8 prior to saving to suppress this warning.\n"
          ],
          "name": "stderr"
        },
        {
          "output_type": "stream",
          "text": [
            "(856, 1280, 3)\n"
          ],
          "name": "stdout"
        },
        {
          "output_type": "stream",
          "text": [
            "WARNING:root:Lossy conversion from float64 to uint8. Range [0, 1]. Convert image to uint8 prior to saving to suppress this warning.\n"
          ],
          "name": "stderr"
        },
        {
          "output_type": "stream",
          "text": [
            "\b\b\b\b\b\b\b\b\b\b\b\b\b\b\b\b\b\b\b\b\b\b\b\b\b\b\b\b\b\b\b\b\b\b\b\b\b\b\b\b\b\b\b\b\b\b\b\b\b\b\b\b\b\b\b\b\b\b\b\b\b\b\b\b\b\b\b\b\b\b\b\b\b\b\b\b\b\b\b\b\b\b\r31/31 [==============================] - 38s 1s/step - loss: 0.0031 - accuracy: 0.8193 - val_loss: 182.2419 - val_accuracy: 0.5620\n",
            "Epoch 602/1000\n",
            "31/31 [==============================] - 24s 771ms/step - loss: 0.0033 - accuracy: 0.8229 - val_loss: 183.5226 - val_accuracy: 0.5201\n",
            "Epoch 603/1000\n",
            "31/31 [==============================] - 24s 772ms/step - loss: 0.0031 - accuracy: 0.8198 - val_loss: 181.6858 - val_accuracy: 0.5831\n",
            "Epoch 604/1000\n",
            "31/31 [==============================] - 24s 770ms/step - loss: 0.0033 - accuracy: 0.8175 - val_loss: 183.9902 - val_accuracy: 0.5098\n",
            "Epoch 605/1000\n",
            "31/31 [==============================] - 24s 771ms/step - loss: 0.0032 - accuracy: 0.8166 - val_loss: 182.0409 - val_accuracy: 0.5768\n",
            "Epoch 606/1000\n",
            "31/31 [==============================] - 24s 771ms/step - loss: 0.0033 - accuracy: 0.8159 - val_loss: 182.5106 - val_accuracy: 0.5412\n",
            "Epoch 607/1000\n",
            "31/31 [==============================] - 24s 769ms/step - loss: 0.0031 - accuracy: 0.8191 - val_loss: 183.3749 - val_accuracy: 0.5285\n",
            "Epoch 608/1000\n",
            "31/31 [==============================] - 24s 771ms/step - loss: 0.0032 - accuracy: 0.8175 - val_loss: 183.9466 - val_accuracy: 0.4980\n",
            "Epoch 609/1000\n",
            "31/31 [==============================] - 24s 781ms/step - loss: 0.0032 - accuracy: 0.8186 - val_loss: 183.6811 - val_accuracy: 0.4744\n",
            "Epoch 610/1000\n",
            "31/31 [==============================] - 24s 781ms/step - loss: 0.0031 - accuracy: 0.8164 - val_loss: 183.0485 - val_accuracy: 0.5161\n",
            "Epoch 611/1000\n",
            "31/31 [==============================] - ETA: 0s - loss: 0.0031 - accuracy: 0.8184(512, 768, 3)\n"
          ],
          "name": "stdout"
        },
        {
          "output_type": "stream",
          "text": [
            "WARNING:root:Lossy conversion from float64 to uint8. Range [0, 1]. Convert image to uint8 prior to saving to suppress this warning.\n"
          ],
          "name": "stderr"
        },
        {
          "output_type": "stream",
          "text": [
            "(800, 1088, 3)\n"
          ],
          "name": "stdout"
        },
        {
          "output_type": "stream",
          "text": [
            "WARNING:root:Lossy conversion from float64 to uint8. Range [0, 1]. Convert image to uint8 prior to saving to suppress this warning.\n"
          ],
          "name": "stderr"
        },
        {
          "output_type": "stream",
          "text": [
            "(856, 1280, 3)\n"
          ],
          "name": "stdout"
        },
        {
          "output_type": "stream",
          "text": [
            "WARNING:root:Lossy conversion from float64 to uint8. Range [0, 1]. Convert image to uint8 prior to saving to suppress this warning.\n"
          ],
          "name": "stderr"
        },
        {
          "output_type": "stream",
          "text": [
            "(528, 736, 3)\n"
          ],
          "name": "stdout"
        },
        {
          "output_type": "stream",
          "text": [
            "WARNING:root:Lossy conversion from float64 to uint8. Range [0, 1]. Convert image to uint8 prior to saving to suppress this warning.\n"
          ],
          "name": "stderr"
        },
        {
          "output_type": "stream",
          "text": [
            "(856, 1280, 3)\n"
          ],
          "name": "stdout"
        },
        {
          "output_type": "stream",
          "text": [
            "WARNING:root:Lossy conversion from float64 to uint8. Range [0, 1]. Convert image to uint8 prior to saving to suppress this warning.\n"
          ],
          "name": "stderr"
        },
        {
          "output_type": "stream",
          "text": [
            "(1400, 1400, 3)\n"
          ],
          "name": "stdout"
        },
        {
          "output_type": "stream",
          "text": [
            "WARNING:root:Lossy conversion from float64 to uint8. Range [0, 1]. Convert image to uint8 prior to saving to suppress this warning.\n"
          ],
          "name": "stderr"
        },
        {
          "output_type": "stream",
          "text": [
            "(664, 1024, 3)\n"
          ],
          "name": "stdout"
        },
        {
          "output_type": "stream",
          "text": [
            "WARNING:root:Lossy conversion from float64 to uint8. Range [0, 1]. Convert image to uint8 prior to saving to suppress this warning.\n"
          ],
          "name": "stderr"
        },
        {
          "output_type": "stream",
          "text": [
            "(776, 1024, 3)\n"
          ],
          "name": "stdout"
        },
        {
          "output_type": "stream",
          "text": [
            "WARNING:root:Lossy conversion from float64 to uint8. Range [0, 1]. Convert image to uint8 prior to saving to suppress this warning.\n"
          ],
          "name": "stderr"
        },
        {
          "output_type": "stream",
          "text": [
            "(856, 1280, 3)\n"
          ],
          "name": "stdout"
        },
        {
          "output_type": "stream",
          "text": [
            "WARNING:root:Lossy conversion from float64 to uint8. Range [0, 1]. Convert image to uint8 prior to saving to suppress this warning.\n",
            "WARNING:root:Lossy conversion from float64 to uint8. Range [0, 1]. Convert image to uint8 prior to saving to suppress this warning.\n"
          ],
          "name": "stderr"
        },
        {
          "output_type": "stream",
          "text": [
            "(424, 640, 3)\n",
            "(984, 1176, 3)\n"
          ],
          "name": "stdout"
        },
        {
          "output_type": "stream",
          "text": [
            "WARNING:root:Lossy conversion from float64 to uint8. Range [0, 1]. Convert image to uint8 prior to saving to suppress this warning.\n",
            "WARNING:root:Lossy conversion from float64 to uint8. Range [0, 1]. Convert image to uint8 prior to saving to suppress this warning.\n"
          ],
          "name": "stderr"
        },
        {
          "output_type": "stream",
          "text": [
            "(512, 768, 3)\n",
            "(856, 1280, 3)\n"
          ],
          "name": "stdout"
        },
        {
          "output_type": "stream",
          "text": [
            "WARNING:root:Lossy conversion from float64 to uint8. Range [0, 1]. Convert image to uint8 prior to saving to suppress this warning.\n"
          ],
          "name": "stderr"
        },
        {
          "output_type": "stream",
          "text": [
            "\b\b\b\b\b\b\b\b\b\b\b\b\b\b\b\b\b\b\b\b\b\b\b\b\b\b\b\b\b\b\b\b\b\b\b\b\b\b\b\b\b\b\b\b\b\b\b\b\b\b\b\b\b\b\b\b\b\b\b\b\b\b\b\b\b\b\b\b\b\b\b\b\b\b\b\b\b\b\b\b\b\b\r31/31 [==============================] - 38s 1s/step - loss: 0.0031 - accuracy: 0.8184 - val_loss: 182.4117 - val_accuracy: 0.5313\n",
            "Epoch 612/1000\n",
            "31/31 [==============================] - 24s 773ms/step - loss: 0.0032 - accuracy: 0.8179 - val_loss: 182.0439 - val_accuracy: 0.5838\n",
            "Epoch 613/1000\n",
            "31/31 [==============================] - 24s 772ms/step - loss: 0.0032 - accuracy: 0.8196 - val_loss: 181.2749 - val_accuracy: 0.6405\n",
            "Epoch 614/1000\n",
            "31/31 [==============================] - 24s 769ms/step - loss: 0.0031 - accuracy: 0.8215 - val_loss: 182.5092 - val_accuracy: 0.5740\n",
            "Epoch 615/1000\n",
            "31/31 [==============================] - 24s 771ms/step - loss: 0.0032 - accuracy: 0.8163 - val_loss: 184.6217 - val_accuracy: 0.4636\n",
            "Epoch 616/1000\n",
            "31/31 [==============================] - 24s 770ms/step - loss: 0.0032 - accuracy: 0.8175 - val_loss: 184.9406 - val_accuracy: 0.4680\n",
            "Epoch 617/1000\n",
            "31/31 [==============================] - 24s 766ms/step - loss: 0.0032 - accuracy: 0.8148 - val_loss: 183.3783 - val_accuracy: 0.5110\n",
            "Epoch 618/1000\n",
            "31/31 [==============================] - 24s 766ms/step - loss: 0.0032 - accuracy: 0.8169 - val_loss: 183.3179 - val_accuracy: 0.5335\n",
            "Epoch 619/1000\n",
            "31/31 [==============================] - 24s 767ms/step - loss: 0.0032 - accuracy: 0.8181 - val_loss: 184.1745 - val_accuracy: 0.4999\n",
            "Epoch 620/1000\n",
            "31/31 [==============================] - 24s 767ms/step - loss: 0.0031 - accuracy: 0.8176 - val_loss: 184.4738 - val_accuracy: 0.5045\n",
            "Epoch 621/1000\n",
            "31/31 [==============================] - ETA: 0s - loss: 0.0031 - accuracy: 0.8172(512, 768, 3)\n"
          ],
          "name": "stdout"
        },
        {
          "output_type": "stream",
          "text": [
            "WARNING:root:Lossy conversion from float64 to uint8. Range [0, 1]. Convert image to uint8 prior to saving to suppress this warning.\n"
          ],
          "name": "stderr"
        },
        {
          "output_type": "stream",
          "text": [
            "(800, 1088, 3)\n"
          ],
          "name": "stdout"
        },
        {
          "output_type": "stream",
          "text": [
            "WARNING:root:Lossy conversion from float64 to uint8. Range [0, 1]. Convert image to uint8 prior to saving to suppress this warning.\n"
          ],
          "name": "stderr"
        },
        {
          "output_type": "stream",
          "text": [
            "(856, 1280, 3)\n"
          ],
          "name": "stdout"
        },
        {
          "output_type": "stream",
          "text": [
            "WARNING:root:Lossy conversion from float64 to uint8. Range [0, 1]. Convert image to uint8 prior to saving to suppress this warning.\n"
          ],
          "name": "stderr"
        },
        {
          "output_type": "stream",
          "text": [
            "(528, 736, 3)\n"
          ],
          "name": "stdout"
        },
        {
          "output_type": "stream",
          "text": [
            "WARNING:root:Lossy conversion from float64 to uint8. Range [0, 1]. Convert image to uint8 prior to saving to suppress this warning.\n"
          ],
          "name": "stderr"
        },
        {
          "output_type": "stream",
          "text": [
            "(856, 1280, 3)\n"
          ],
          "name": "stdout"
        },
        {
          "output_type": "stream",
          "text": [
            "WARNING:root:Lossy conversion from float64 to uint8. Range [0, 1]. Convert image to uint8 prior to saving to suppress this warning.\n"
          ],
          "name": "stderr"
        },
        {
          "output_type": "stream",
          "text": [
            "(1400, 1400, 3)\n"
          ],
          "name": "stdout"
        },
        {
          "output_type": "stream",
          "text": [
            "WARNING:root:Lossy conversion from float64 to uint8. Range [0, 1]. Convert image to uint8 prior to saving to suppress this warning.\n"
          ],
          "name": "stderr"
        },
        {
          "output_type": "stream",
          "text": [
            "(664, 1024, 3)\n"
          ],
          "name": "stdout"
        },
        {
          "output_type": "stream",
          "text": [
            "WARNING:root:Lossy conversion from float64 to uint8. Range [0, 1]. Convert image to uint8 prior to saving to suppress this warning.\n"
          ],
          "name": "stderr"
        },
        {
          "output_type": "stream",
          "text": [
            "(776, 1024, 3)\n"
          ],
          "name": "stdout"
        },
        {
          "output_type": "stream",
          "text": [
            "WARNING:root:Lossy conversion from float64 to uint8. Range [0, 1]. Convert image to uint8 prior to saving to suppress this warning.\n"
          ],
          "name": "stderr"
        },
        {
          "output_type": "stream",
          "text": [
            "(856, 1280, 3)\n"
          ],
          "name": "stdout"
        },
        {
          "output_type": "stream",
          "text": [
            "WARNING:root:Lossy conversion from float64 to uint8. Range [0, 1]. Convert image to uint8 prior to saving to suppress this warning.\n",
            "WARNING:root:Lossy conversion from float64 to uint8. Range [0, 1]. Convert image to uint8 prior to saving to suppress this warning.\n"
          ],
          "name": "stderr"
        },
        {
          "output_type": "stream",
          "text": [
            "(424, 640, 3)\n",
            "(984, 1176, 3)\n"
          ],
          "name": "stdout"
        },
        {
          "output_type": "stream",
          "text": [
            "WARNING:root:Lossy conversion from float64 to uint8. Range [0, 1]. Convert image to uint8 prior to saving to suppress this warning.\n",
            "WARNING:root:Lossy conversion from float64 to uint8. Range [0, 1]. Convert image to uint8 prior to saving to suppress this warning.\n"
          ],
          "name": "stderr"
        },
        {
          "output_type": "stream",
          "text": [
            "(512, 768, 3)\n",
            "(856, 1280, 3)\n"
          ],
          "name": "stdout"
        },
        {
          "output_type": "stream",
          "text": [
            "WARNING:root:Lossy conversion from float64 to uint8. Range [0, 1]. Convert image to uint8 prior to saving to suppress this warning.\n"
          ],
          "name": "stderr"
        },
        {
          "output_type": "stream",
          "text": [
            "\b\b\b\b\b\b\b\b\b\b\b\b\b\b\b\b\b\b\b\b\b\b\b\b\b\b\b\b\b\b\b\b\b\b\b\b\b\b\b\b\b\b\b\b\b\b\b\b\b\b\b\b\b\b\b\b\b\b\b\b\b\b\b\b\b\b\b\b\b\b\b\b\b\b\b\b\b\b\b\b\b\b\r31/31 [==============================] - 38s 1s/step - loss: 0.0031 - accuracy: 0.8172 - val_loss: 184.9605 - val_accuracy: 0.4856\n",
            "Epoch 622/1000\n",
            "31/31 [==============================] - 24s 771ms/step - loss: 0.0032 - accuracy: 0.8200 - val_loss: 184.4642 - val_accuracy: 0.4857\n",
            "Epoch 623/1000\n",
            "31/31 [==============================] - 24s 773ms/step - loss: 0.0031 - accuracy: 0.8192 - val_loss: 185.3393 - val_accuracy: 0.4733\n",
            "Epoch 624/1000\n",
            "31/31 [==============================] - 24s 766ms/step - loss: 0.0032 - accuracy: 0.8179 - val_loss: 183.4721 - val_accuracy: 0.5523\n",
            "Epoch 625/1000\n",
            "31/31 [==============================] - 24s 767ms/step - loss: 0.0032 - accuracy: 0.8236 - val_loss: 182.7171 - val_accuracy: 0.5380\n",
            "Epoch 626/1000\n",
            "31/31 [==============================] - 24s 774ms/step - loss: 0.0032 - accuracy: 0.8175 - val_loss: 183.3067 - val_accuracy: 0.5266\n",
            "Epoch 627/1000\n",
            "31/31 [==============================] - 24s 771ms/step - loss: 0.0032 - accuracy: 0.8192 - val_loss: 181.9227 - val_accuracy: 0.6010\n",
            "Epoch 628/1000\n",
            "31/31 [==============================] - 24s 771ms/step - loss: 0.0031 - accuracy: 0.8178 - val_loss: 185.7689 - val_accuracy: 0.4427\n",
            "Epoch 629/1000\n",
            "31/31 [==============================] - 24s 765ms/step - loss: 0.0031 - accuracy: 0.8224 - val_loss: 182.0594 - val_accuracy: 0.5890\n",
            "Epoch 630/1000\n",
            "31/31 [==============================] - 24s 768ms/step - loss: 0.0032 - accuracy: 0.8212 - val_loss: 183.2824 - val_accuracy: 0.5426\n",
            "Epoch 631/1000\n",
            "31/31 [==============================] - ETA: 0s - loss: 0.0031 - accuracy: 0.8186(512, 768, 3)\n"
          ],
          "name": "stdout"
        },
        {
          "output_type": "stream",
          "text": [
            "WARNING:root:Lossy conversion from float64 to uint8. Range [0, 1]. Convert image to uint8 prior to saving to suppress this warning.\n"
          ],
          "name": "stderr"
        },
        {
          "output_type": "stream",
          "text": [
            "(800, 1088, 3)\n"
          ],
          "name": "stdout"
        },
        {
          "output_type": "stream",
          "text": [
            "WARNING:root:Lossy conversion from float64 to uint8. Range [0, 1]. Convert image to uint8 prior to saving to suppress this warning.\n"
          ],
          "name": "stderr"
        },
        {
          "output_type": "stream",
          "text": [
            "(856, 1280, 3)\n"
          ],
          "name": "stdout"
        },
        {
          "output_type": "stream",
          "text": [
            "WARNING:root:Lossy conversion from float64 to uint8. Range [0, 1]. Convert image to uint8 prior to saving to suppress this warning.\n",
            "WARNING:root:Lossy conversion from float64 to uint8. Range [0, 1]. Convert image to uint8 prior to saving to suppress this warning.\n"
          ],
          "name": "stderr"
        },
        {
          "output_type": "stream",
          "text": [
            "(528, 736, 3)\n",
            "(856, 1280, 3)\n"
          ],
          "name": "stdout"
        },
        {
          "output_type": "stream",
          "text": [
            "WARNING:root:Lossy conversion from float64 to uint8. Range [0, 1]. Convert image to uint8 prior to saving to suppress this warning.\n"
          ],
          "name": "stderr"
        },
        {
          "output_type": "stream",
          "text": [
            "(1400, 1400, 3)\n"
          ],
          "name": "stdout"
        },
        {
          "output_type": "stream",
          "text": [
            "WARNING:root:Lossy conversion from float64 to uint8. Range [0, 1]. Convert image to uint8 prior to saving to suppress this warning.\n"
          ],
          "name": "stderr"
        },
        {
          "output_type": "stream",
          "text": [
            "(664, 1024, 3)\n"
          ],
          "name": "stdout"
        },
        {
          "output_type": "stream",
          "text": [
            "WARNING:root:Lossy conversion from float64 to uint8. Range [0, 1]. Convert image to uint8 prior to saving to suppress this warning.\n"
          ],
          "name": "stderr"
        },
        {
          "output_type": "stream",
          "text": [
            "(776, 1024, 3)\n"
          ],
          "name": "stdout"
        },
        {
          "output_type": "stream",
          "text": [
            "WARNING:root:Lossy conversion from float64 to uint8. Range [0, 1]. Convert image to uint8 prior to saving to suppress this warning.\n"
          ],
          "name": "stderr"
        },
        {
          "output_type": "stream",
          "text": [
            "(856, 1280, 3)\n"
          ],
          "name": "stdout"
        },
        {
          "output_type": "stream",
          "text": [
            "WARNING:root:Lossy conversion from float64 to uint8. Range [0, 1]. Convert image to uint8 prior to saving to suppress this warning.\n",
            "WARNING:root:Lossy conversion from float64 to uint8. Range [0, 1]. Convert image to uint8 prior to saving to suppress this warning.\n"
          ],
          "name": "stderr"
        },
        {
          "output_type": "stream",
          "text": [
            "(424, 640, 3)\n",
            "(984, 1176, 3)\n"
          ],
          "name": "stdout"
        },
        {
          "output_type": "stream",
          "text": [
            "WARNING:root:Lossy conversion from float64 to uint8. Range [0, 1]. Convert image to uint8 prior to saving to suppress this warning.\n",
            "WARNING:root:Lossy conversion from float64 to uint8. Range [0, 1]. Convert image to uint8 prior to saving to suppress this warning.\n"
          ],
          "name": "stderr"
        },
        {
          "output_type": "stream",
          "text": [
            "(512, 768, 3)\n",
            "(856, 1280, 3)\n"
          ],
          "name": "stdout"
        },
        {
          "output_type": "stream",
          "text": [
            "WARNING:root:Lossy conversion from float64 to uint8. Range [0, 1]. Convert image to uint8 prior to saving to suppress this warning.\n"
          ],
          "name": "stderr"
        },
        {
          "output_type": "stream",
          "text": [
            "\b\b\b\b\b\b\b\b\b\b\b\b\b\b\b\b\b\b\b\b\b\b\b\b\b\b\b\b\b\b\b\b\b\b\b\b\b\b\b\b\b\b\b\b\b\b\b\b\b\b\b\b\b\b\b\b\b\b\b\b\b\b\b\b\b\b\b\b\b\b\b\b\b\b\b\b\b\b\b\b\b\b\r31/31 [==============================] - 38s 1s/step - loss: 0.0031 - accuracy: 0.8186 - val_loss: 184.6792 - val_accuracy: 0.4863\n",
            "Epoch 632/1000\n",
            "31/31 [==============================] - 24s 768ms/step - loss: 0.0032 - accuracy: 0.8194 - val_loss: 183.7846 - val_accuracy: 0.5100\n",
            "Epoch 633/1000\n",
            "31/31 [==============================] - 24s 771ms/step - loss: 0.0032 - accuracy: 0.8175 - val_loss: 183.0636 - val_accuracy: 0.5039\n",
            "Epoch 634/1000\n",
            "31/31 [==============================] - 24s 764ms/step - loss: 0.0031 - accuracy: 0.8175 - val_loss: 183.2568 - val_accuracy: 0.5070\n",
            "Epoch 635/1000\n",
            "31/31 [==============================] - 24s 771ms/step - loss: 0.0031 - accuracy: 0.8189 - val_loss: 183.6502 - val_accuracy: 0.5100\n",
            "Epoch 636/1000\n",
            "31/31 [==============================] - 24s 770ms/step - loss: 0.0031 - accuracy: 0.8196 - val_loss: 185.3014 - val_accuracy: 0.4438\n",
            "Epoch 637/1000\n",
            "31/31 [==============================] - 24s 767ms/step - loss: 0.0031 - accuracy: 0.8197 - val_loss: 183.1767 - val_accuracy: 0.5101\n",
            "Epoch 638/1000\n",
            "31/31 [==============================] - 24s 772ms/step - loss: 0.0030 - accuracy: 0.8196 - val_loss: 183.6111 - val_accuracy: 0.4981\n",
            "Epoch 639/1000\n",
            "31/31 [==============================] - 24s 767ms/step - loss: 0.0031 - accuracy: 0.8211 - val_loss: 183.0862 - val_accuracy: 0.5177\n",
            "Epoch 640/1000\n",
            "31/31 [==============================] - 24s 770ms/step - loss: 0.0031 - accuracy: 0.8184 - val_loss: 183.2474 - val_accuracy: 0.5068\n",
            "Epoch 641/1000\n",
            "31/31 [==============================] - ETA: 0s - loss: 0.0031 - accuracy: 0.8156"
          ],
          "name": "stdout"
        },
        {
          "output_type": "stream",
          "text": [
            "/usr/local/lib/python3.6/dist-packages/skimage/color/colorconv.py:1068: UserWarning: Color data out of range: Z < 0 in 49 pixels\n",
            "  return xyz2rgb(lab2xyz(lab, illuminant, observer))\n",
            "WARNING:root:Lossy conversion from float64 to uint8. Range [0, 1]. Convert image to uint8 prior to saving to suppress this warning.\n"
          ],
          "name": "stderr"
        },
        {
          "output_type": "stream",
          "text": [
            "(512, 768, 3)\n",
            "(800, 1088, 3)\n"
          ],
          "name": "stdout"
        },
        {
          "output_type": "stream",
          "text": [
            "WARNING:root:Lossy conversion from float64 to uint8. Range [0, 1]. Convert image to uint8 prior to saving to suppress this warning.\n"
          ],
          "name": "stderr"
        },
        {
          "output_type": "stream",
          "text": [
            "(856, 1280, 3)\n"
          ],
          "name": "stdout"
        },
        {
          "output_type": "stream",
          "text": [
            "WARNING:root:Lossy conversion from float64 to uint8. Range [0, 1]. Convert image to uint8 prior to saving to suppress this warning.\n",
            "WARNING:root:Lossy conversion from float64 to uint8. Range [0, 1]. Convert image to uint8 prior to saving to suppress this warning.\n"
          ],
          "name": "stderr"
        },
        {
          "output_type": "stream",
          "text": [
            "(528, 736, 3)\n",
            "(856, 1280, 3)\n"
          ],
          "name": "stdout"
        },
        {
          "output_type": "stream",
          "text": [
            "WARNING:root:Lossy conversion from float64 to uint8. Range [0, 1]. Convert image to uint8 prior to saving to suppress this warning.\n"
          ],
          "name": "stderr"
        },
        {
          "output_type": "stream",
          "text": [
            "(1400, 1400, 3)\n"
          ],
          "name": "stdout"
        },
        {
          "output_type": "stream",
          "text": [
            "WARNING:root:Lossy conversion from float64 to uint8. Range [0, 1]. Convert image to uint8 prior to saving to suppress this warning.\n"
          ],
          "name": "stderr"
        },
        {
          "output_type": "stream",
          "text": [
            "(664, 1024, 3)\n"
          ],
          "name": "stdout"
        },
        {
          "output_type": "stream",
          "text": [
            "WARNING:root:Lossy conversion from float64 to uint8. Range [0, 1]. Convert image to uint8 prior to saving to suppress this warning.\n"
          ],
          "name": "stderr"
        },
        {
          "output_type": "stream",
          "text": [
            "(776, 1024, 3)\n"
          ],
          "name": "stdout"
        },
        {
          "output_type": "stream",
          "text": [
            "WARNING:root:Lossy conversion from float64 to uint8. Range [0, 1]. Convert image to uint8 prior to saving to suppress this warning.\n"
          ],
          "name": "stderr"
        },
        {
          "output_type": "stream",
          "text": [
            "(856, 1280, 3)\n"
          ],
          "name": "stdout"
        },
        {
          "output_type": "stream",
          "text": [
            "WARNING:root:Lossy conversion from float64 to uint8. Range [0, 1]. Convert image to uint8 prior to saving to suppress this warning.\n",
            "WARNING:root:Lossy conversion from float64 to uint8. Range [0, 1]. Convert image to uint8 prior to saving to suppress this warning.\n"
          ],
          "name": "stderr"
        },
        {
          "output_type": "stream",
          "text": [
            "(424, 640, 3)\n",
            "(984, 1176, 3)\n"
          ],
          "name": "stdout"
        },
        {
          "output_type": "stream",
          "text": [
            "WARNING:root:Lossy conversion from float64 to uint8. Range [0, 1]. Convert image to uint8 prior to saving to suppress this warning.\n",
            "WARNING:root:Lossy conversion from float64 to uint8. Range [0, 1]. Convert image to uint8 prior to saving to suppress this warning.\n"
          ],
          "name": "stderr"
        },
        {
          "output_type": "stream",
          "text": [
            "(512, 768, 3)\n",
            "(856, 1280, 3)\n"
          ],
          "name": "stdout"
        },
        {
          "output_type": "stream",
          "text": [
            "WARNING:root:Lossy conversion from float64 to uint8. Range [0, 1]. Convert image to uint8 prior to saving to suppress this warning.\n"
          ],
          "name": "stderr"
        },
        {
          "output_type": "stream",
          "text": [
            "\b\b\b\b\b\b\b\b\b\b\b\b\b\b\b\b\b\b\b\b\b\b\b\b\b\b\b\b\b\b\b\b\b\b\b\b\b\b\b\b\b\b\b\b\b\b\b\b\b\b\b\b\b\b\b\b\b\b\b\b\b\b\b\b\b\b\b\b\b\b\b\b\b\b\b\b\b\b\b\b\b\b\r31/31 [==============================] - 38s 1s/step - loss: 0.0031 - accuracy: 0.8156 - val_loss: 183.1360 - val_accuracy: 0.5243\n",
            "Epoch 642/1000\n",
            "31/31 [==============================] - 24s 785ms/step - loss: 0.0031 - accuracy: 0.8239 - val_loss: 183.2664 - val_accuracy: 0.5068\n",
            "Epoch 643/1000\n",
            "31/31 [==============================] - 24s 772ms/step - loss: 0.0031 - accuracy: 0.8197 - val_loss: 184.1868 - val_accuracy: 0.4935\n",
            "Epoch 644/1000\n",
            "31/31 [==============================] - 24s 770ms/step - loss: 0.0032 - accuracy: 0.8179 - val_loss: 182.8665 - val_accuracy: 0.5326\n",
            "Epoch 645/1000\n",
            "31/31 [==============================] - 24s 774ms/step - loss: 0.0030 - accuracy: 0.8235 - val_loss: 184.1547 - val_accuracy: 0.5193\n",
            "Epoch 646/1000\n",
            "31/31 [==============================] - 24s 772ms/step - loss: 0.0032 - accuracy: 0.8194 - val_loss: 182.1476 - val_accuracy: 0.5785\n",
            "Epoch 647/1000\n",
            "31/31 [==============================] - 24s 774ms/step - loss: 0.0031 - accuracy: 0.8212 - val_loss: 183.0337 - val_accuracy: 0.5257\n",
            "Epoch 648/1000\n",
            "31/31 [==============================] - 24s 774ms/step - loss: 0.0031 - accuracy: 0.8204 - val_loss: 182.7607 - val_accuracy: 0.5334\n",
            "Epoch 649/1000\n",
            "31/31 [==============================] - 24s 778ms/step - loss: 0.0031 - accuracy: 0.8216 - val_loss: 182.0751 - val_accuracy: 0.5552\n",
            "Epoch 650/1000\n",
            "31/31 [==============================] - 24s 778ms/step - loss: 0.0030 - accuracy: 0.8208 - val_loss: 183.5826 - val_accuracy: 0.5365\n",
            "Epoch 651/1000\n",
            "31/31 [==============================] - ETA: 0s - loss: 0.0033 - accuracy: 0.8203(512, 768, 3)\n"
          ],
          "name": "stdout"
        },
        {
          "output_type": "stream",
          "text": [
            "WARNING:root:Lossy conversion from float64 to uint8. Range [0, 1]. Convert image to uint8 prior to saving to suppress this warning.\n"
          ],
          "name": "stderr"
        },
        {
          "output_type": "stream",
          "text": [
            "(800, 1088, 3)\n"
          ],
          "name": "stdout"
        },
        {
          "output_type": "stream",
          "text": [
            "WARNING:root:Lossy conversion from float64 to uint8. Range [0, 1]. Convert image to uint8 prior to saving to suppress this warning.\n"
          ],
          "name": "stderr"
        },
        {
          "output_type": "stream",
          "text": [
            "(856, 1280, 3)\n"
          ],
          "name": "stdout"
        },
        {
          "output_type": "stream",
          "text": [
            "WARNING:root:Lossy conversion from float64 to uint8. Range [0, 1]. Convert image to uint8 prior to saving to suppress this warning.\n",
            "WARNING:root:Lossy conversion from float64 to uint8. Range [0, 1]. Convert image to uint8 prior to saving to suppress this warning.\n"
          ],
          "name": "stderr"
        },
        {
          "output_type": "stream",
          "text": [
            "(528, 736, 3)\n",
            "(856, 1280, 3)\n"
          ],
          "name": "stdout"
        },
        {
          "output_type": "stream",
          "text": [
            "WARNING:root:Lossy conversion from float64 to uint8. Range [0, 1]. Convert image to uint8 prior to saving to suppress this warning.\n"
          ],
          "name": "stderr"
        },
        {
          "output_type": "stream",
          "text": [
            "(1400, 1400, 3)\n"
          ],
          "name": "stdout"
        },
        {
          "output_type": "stream",
          "text": [
            "WARNING:root:Lossy conversion from float64 to uint8. Range [0, 1]. Convert image to uint8 prior to saving to suppress this warning.\n"
          ],
          "name": "stderr"
        },
        {
          "output_type": "stream",
          "text": [
            "(664, 1024, 3)\n"
          ],
          "name": "stdout"
        },
        {
          "output_type": "stream",
          "text": [
            "WARNING:root:Lossy conversion from float64 to uint8. Range [0, 1]. Convert image to uint8 prior to saving to suppress this warning.\n"
          ],
          "name": "stderr"
        },
        {
          "output_type": "stream",
          "text": [
            "(776, 1024, 3)\n"
          ],
          "name": "stdout"
        },
        {
          "output_type": "stream",
          "text": [
            "WARNING:root:Lossy conversion from float64 to uint8. Range [0, 1]. Convert image to uint8 prior to saving to suppress this warning.\n"
          ],
          "name": "stderr"
        },
        {
          "output_type": "stream",
          "text": [
            "(856, 1280, 3)\n"
          ],
          "name": "stdout"
        },
        {
          "output_type": "stream",
          "text": [
            "WARNING:root:Lossy conversion from float64 to uint8. Range [0, 1]. Convert image to uint8 prior to saving to suppress this warning.\n",
            "WARNING:root:Lossy conversion from float64 to uint8. Range [0, 1]. Convert image to uint8 prior to saving to suppress this warning.\n"
          ],
          "name": "stderr"
        },
        {
          "output_type": "stream",
          "text": [
            "(424, 640, 3)\n",
            "(984, 1176, 3)\n"
          ],
          "name": "stdout"
        },
        {
          "output_type": "stream",
          "text": [
            "WARNING:root:Lossy conversion from float64 to uint8. Range [0, 1]. Convert image to uint8 prior to saving to suppress this warning.\n"
          ],
          "name": "stderr"
        },
        {
          "output_type": "stream",
          "text": [
            "(512, 768, 3)\n"
          ],
          "name": "stdout"
        },
        {
          "output_type": "stream",
          "text": [
            "WARNING:root:Lossy conversion from float64 to uint8. Range [0, 1]. Convert image to uint8 prior to saving to suppress this warning.\n"
          ],
          "name": "stderr"
        },
        {
          "output_type": "stream",
          "text": [
            "(856, 1280, 3)\n"
          ],
          "name": "stdout"
        },
        {
          "output_type": "stream",
          "text": [
            "WARNING:root:Lossy conversion from float64 to uint8. Range [0, 1]. Convert image to uint8 prior to saving to suppress this warning.\n"
          ],
          "name": "stderr"
        },
        {
          "output_type": "stream",
          "text": [
            "\b\b\b\b\b\b\b\b\b\b\b\b\b\b\b\b\b\b\b\b\b\b\b\b\b\b\b\b\b\b\b\b\b\b\b\b\b\b\b\b\b\b\b\b\b\b\b\b\b\b\b\b\b\b\b\b\b\b\b\b\b\b\b\b\b\b\b\b\b\b\b\b\b\b\b\b\b\b\b\b\b\b\r31/31 [==============================] - 39s 1s/step - loss: 0.0033 - accuracy: 0.8203 - val_loss: 183.3738 - val_accuracy: 0.4868\n",
            "Epoch 652/1000\n",
            "31/31 [==============================] - 24s 773ms/step - loss: 0.0031 - accuracy: 0.8197 - val_loss: 181.7564 - val_accuracy: 0.5717\n",
            "Epoch 653/1000\n",
            "31/31 [==============================] - 24s 762ms/step - loss: 0.0030 - accuracy: 0.8228 - val_loss: 182.5054 - val_accuracy: 0.5532\n",
            "Epoch 654/1000\n",
            "31/31 [==============================] - 24s 759ms/step - loss: 0.0032 - accuracy: 0.8157 - val_loss: 181.5779 - val_accuracy: 0.5841\n",
            "Epoch 655/1000\n",
            "31/31 [==============================] - 24s 770ms/step - loss: 0.0030 - accuracy: 0.8255 - val_loss: 183.4900 - val_accuracy: 0.5136\n",
            "Epoch 656/1000\n",
            "31/31 [==============================] - 24s 764ms/step - loss: 0.0031 - accuracy: 0.8163 - val_loss: 183.7773 - val_accuracy: 0.4963\n",
            "Epoch 657/1000\n",
            "31/31 [==============================] - 24s 764ms/step - loss: 0.0031 - accuracy: 0.8192 - val_loss: 183.0371 - val_accuracy: 0.5343\n",
            "Epoch 658/1000\n",
            "31/31 [==============================] - 24s 768ms/step - loss: 0.0031 - accuracy: 0.8248 - val_loss: 183.8865 - val_accuracy: 0.4840\n",
            "Epoch 659/1000\n",
            "31/31 [==============================] - 24s 766ms/step - loss: 0.0030 - accuracy: 0.8224 - val_loss: 181.5816 - val_accuracy: 0.5784\n",
            "Epoch 660/1000\n",
            "31/31 [==============================] - 24s 765ms/step - loss: 0.0032 - accuracy: 0.8178 - val_loss: 184.1523 - val_accuracy: 0.4872\n",
            "Epoch 661/1000\n",
            "31/31 [==============================] - ETA: 0s - loss: 0.0030 - accuracy: 0.8190(512, 768, 3)\n"
          ],
          "name": "stdout"
        },
        {
          "output_type": "stream",
          "text": [
            "/usr/local/lib/python3.6/dist-packages/skimage/color/colorconv.py:1068: UserWarning: Color data out of range: Z < 0 in 29 pixels\n",
            "  return xyz2rgb(lab2xyz(lab, illuminant, observer))\n",
            "WARNING:root:Lossy conversion from float64 to uint8. Range [0, 1]. Convert image to uint8 prior to saving to suppress this warning.\n"
          ],
          "name": "stderr"
        },
        {
          "output_type": "stream",
          "text": [
            "(800, 1088, 3)\n"
          ],
          "name": "stdout"
        },
        {
          "output_type": "stream",
          "text": [
            "WARNING:root:Lossy conversion from float64 to uint8. Range [0, 1]. Convert image to uint8 prior to saving to suppress this warning.\n"
          ],
          "name": "stderr"
        },
        {
          "output_type": "stream",
          "text": [
            "(856, 1280, 3)\n"
          ],
          "name": "stdout"
        },
        {
          "output_type": "stream",
          "text": [
            "WARNING:root:Lossy conversion from float64 to uint8. Range [0, 1]. Convert image to uint8 prior to saving to suppress this warning.\n"
          ],
          "name": "stderr"
        },
        {
          "output_type": "stream",
          "text": [
            "(528, 736, 3)\n"
          ],
          "name": "stdout"
        },
        {
          "output_type": "stream",
          "text": [
            "WARNING:root:Lossy conversion from float64 to uint8. Range [0, 1]. Convert image to uint8 prior to saving to suppress this warning.\n"
          ],
          "name": "stderr"
        },
        {
          "output_type": "stream",
          "text": [
            "(856, 1280, 3)\n"
          ],
          "name": "stdout"
        },
        {
          "output_type": "stream",
          "text": [
            "WARNING:root:Lossy conversion from float64 to uint8. Range [0, 1]. Convert image to uint8 prior to saving to suppress this warning.\n"
          ],
          "name": "stderr"
        },
        {
          "output_type": "stream",
          "text": [
            "(1400, 1400, 3)\n"
          ],
          "name": "stdout"
        },
        {
          "output_type": "stream",
          "text": [
            "WARNING:root:Lossy conversion from float64 to uint8. Range [0, 1]. Convert image to uint8 prior to saving to suppress this warning.\n"
          ],
          "name": "stderr"
        },
        {
          "output_type": "stream",
          "text": [
            "(664, 1024, 3)\n"
          ],
          "name": "stdout"
        },
        {
          "output_type": "stream",
          "text": [
            "WARNING:root:Lossy conversion from float64 to uint8. Range [0, 1]. Convert image to uint8 prior to saving to suppress this warning.\n"
          ],
          "name": "stderr"
        },
        {
          "output_type": "stream",
          "text": [
            "(776, 1024, 3)\n"
          ],
          "name": "stdout"
        },
        {
          "output_type": "stream",
          "text": [
            "WARNING:root:Lossy conversion from float64 to uint8. Range [0, 1]. Convert image to uint8 prior to saving to suppress this warning.\n"
          ],
          "name": "stderr"
        },
        {
          "output_type": "stream",
          "text": [
            "(856, 1280, 3)\n"
          ],
          "name": "stdout"
        },
        {
          "output_type": "stream",
          "text": [
            "WARNING:root:Lossy conversion from float64 to uint8. Range [0, 1]. Convert image to uint8 prior to saving to suppress this warning.\n",
            "WARNING:root:Lossy conversion from float64 to uint8. Range [0, 1]. Convert image to uint8 prior to saving to suppress this warning.\n"
          ],
          "name": "stderr"
        },
        {
          "output_type": "stream",
          "text": [
            "(424, 640, 3)\n",
            "(984, 1176, 3)\n"
          ],
          "name": "stdout"
        },
        {
          "output_type": "stream",
          "text": [
            "WARNING:root:Lossy conversion from float64 to uint8. Range [0, 1]. Convert image to uint8 prior to saving to suppress this warning.\n"
          ],
          "name": "stderr"
        },
        {
          "output_type": "stream",
          "text": [
            "(512, 768, 3)\n"
          ],
          "name": "stdout"
        },
        {
          "output_type": "stream",
          "text": [
            "WARNING:root:Lossy conversion from float64 to uint8. Range [0, 1]. Convert image to uint8 prior to saving to suppress this warning.\n"
          ],
          "name": "stderr"
        },
        {
          "output_type": "stream",
          "text": [
            "(856, 1280, 3)\n"
          ],
          "name": "stdout"
        },
        {
          "output_type": "stream",
          "text": [
            "WARNING:root:Lossy conversion from float64 to uint8. Range [0, 1]. Convert image to uint8 prior to saving to suppress this warning.\n"
          ],
          "name": "stderr"
        },
        {
          "output_type": "stream",
          "text": [
            "\b\b\b\b\b\b\b\b\b\b\b\b\b\b\b\b\b\b\b\b\b\b\b\b\b\b\b\b\b\b\b\b\b\b\b\b\b\b\b\b\b\b\b\b\b\b\b\b\b\b\b\b\b\b\b\b\b\b\b\b\b\b\b\b\b\b\b\b\b\b\b\b\b\b\b\b\b\b\b\b\b\b\r31/31 [==============================] - 38s 1s/step - loss: 0.0030 - accuracy: 0.8190 - val_loss: 181.5044 - val_accuracy: 0.5968\n",
            "Epoch 662/1000\n",
            "31/31 [==============================] - 24s 768ms/step - loss: 0.0031 - accuracy: 0.8178 - val_loss: 183.2414 - val_accuracy: 0.5019\n",
            "Epoch 663/1000\n",
            "31/31 [==============================] - 24s 767ms/step - loss: 0.0031 - accuracy: 0.8200 - val_loss: 183.7904 - val_accuracy: 0.4756\n",
            "Epoch 664/1000\n",
            "31/31 [==============================] - 24s 772ms/step - loss: 0.0031 - accuracy: 0.8266 - val_loss: 183.2469 - val_accuracy: 0.5039\n",
            "Epoch 665/1000\n",
            "31/31 [==============================] - 24s 766ms/step - loss: 0.0031 - accuracy: 0.8199 - val_loss: 183.4772 - val_accuracy: 0.5148\n",
            "Epoch 666/1000\n",
            "31/31 [==============================] - 24s 773ms/step - loss: 0.0031 - accuracy: 0.8209 - val_loss: 182.9485 - val_accuracy: 0.5218\n",
            "Epoch 667/1000\n",
            "31/31 [==============================] - 24s 773ms/step - loss: 0.0031 - accuracy: 0.8177 - val_loss: 183.0761 - val_accuracy: 0.5382\n",
            "Epoch 668/1000\n",
            "31/31 [==============================] - 24s 768ms/step - loss: 0.0030 - accuracy: 0.8221 - val_loss: 182.1815 - val_accuracy: 0.5398\n",
            "Epoch 669/1000\n",
            "31/31 [==============================] - 24s 765ms/step - loss: 0.0031 - accuracy: 0.8217 - val_loss: 180.9149 - val_accuracy: 0.5753\n",
            "Epoch 670/1000\n",
            "31/31 [==============================] - 24s 766ms/step - loss: 0.0030 - accuracy: 0.8204 - val_loss: 183.1763 - val_accuracy: 0.5413\n",
            "Epoch 671/1000\n",
            "31/31 [==============================] - ETA: 0s - loss: 0.0031 - accuracy: 0.8205(512, 768, 3)\n"
          ],
          "name": "stdout"
        },
        {
          "output_type": "stream",
          "text": [
            "/usr/local/lib/python3.6/dist-packages/skimage/color/colorconv.py:1068: UserWarning: Color data out of range: Z < 0 in 78 pixels\n",
            "  return xyz2rgb(lab2xyz(lab, illuminant, observer))\n",
            "WARNING:root:Lossy conversion from float64 to uint8. Range [0, 1]. Convert image to uint8 prior to saving to suppress this warning.\n"
          ],
          "name": "stderr"
        },
        {
          "output_type": "stream",
          "text": [
            "(800, 1088, 3)\n"
          ],
          "name": "stdout"
        },
        {
          "output_type": "stream",
          "text": [
            "WARNING:root:Lossy conversion from float64 to uint8. Range [0, 1]. Convert image to uint8 prior to saving to suppress this warning.\n"
          ],
          "name": "stderr"
        },
        {
          "output_type": "stream",
          "text": [
            "(856, 1280, 3)\n"
          ],
          "name": "stdout"
        },
        {
          "output_type": "stream",
          "text": [
            "WARNING:root:Lossy conversion from float64 to uint8. Range [0, 1]. Convert image to uint8 prior to saving to suppress this warning.\n"
          ],
          "name": "stderr"
        },
        {
          "output_type": "stream",
          "text": [
            "(528, 736, 3)\n"
          ],
          "name": "stdout"
        },
        {
          "output_type": "stream",
          "text": [
            "WARNING:root:Lossy conversion from float64 to uint8. Range [0, 1]. Convert image to uint8 prior to saving to suppress this warning.\n"
          ],
          "name": "stderr"
        },
        {
          "output_type": "stream",
          "text": [
            "(856, 1280, 3)\n"
          ],
          "name": "stdout"
        },
        {
          "output_type": "stream",
          "text": [
            "WARNING:root:Lossy conversion from float64 to uint8. Range [0, 1]. Convert image to uint8 prior to saving to suppress this warning.\n"
          ],
          "name": "stderr"
        },
        {
          "output_type": "stream",
          "text": [
            "(1400, 1400, 3)\n"
          ],
          "name": "stdout"
        },
        {
          "output_type": "stream",
          "text": [
            "WARNING:root:Lossy conversion from float64 to uint8. Range [0, 1]. Convert image to uint8 prior to saving to suppress this warning.\n"
          ],
          "name": "stderr"
        },
        {
          "output_type": "stream",
          "text": [
            "(664, 1024, 3)\n"
          ],
          "name": "stdout"
        },
        {
          "output_type": "stream",
          "text": [
            "WARNING:root:Lossy conversion from float64 to uint8. Range [0, 1]. Convert image to uint8 prior to saving to suppress this warning.\n"
          ],
          "name": "stderr"
        },
        {
          "output_type": "stream",
          "text": [
            "(776, 1024, 3)\n"
          ],
          "name": "stdout"
        },
        {
          "output_type": "stream",
          "text": [
            "WARNING:root:Lossy conversion from float64 to uint8. Range [0, 1]. Convert image to uint8 prior to saving to suppress this warning.\n"
          ],
          "name": "stderr"
        },
        {
          "output_type": "stream",
          "text": [
            "(856, 1280, 3)\n"
          ],
          "name": "stdout"
        },
        {
          "output_type": "stream",
          "text": [
            "WARNING:root:Lossy conversion from float64 to uint8. Range [0, 1]. Convert image to uint8 prior to saving to suppress this warning.\n",
            "WARNING:root:Lossy conversion from float64 to uint8. Range [0, 1]. Convert image to uint8 prior to saving to suppress this warning.\n"
          ],
          "name": "stderr"
        },
        {
          "output_type": "stream",
          "text": [
            "(424, 640, 3)\n",
            "(984, 1176, 3)\n"
          ],
          "name": "stdout"
        },
        {
          "output_type": "stream",
          "text": [
            "WARNING:root:Lossy conversion from float64 to uint8. Range [0, 1]. Convert image to uint8 prior to saving to suppress this warning.\n",
            "WARNING:root:Lossy conversion from float64 to uint8. Range [0, 1]. Convert image to uint8 prior to saving to suppress this warning.\n"
          ],
          "name": "stderr"
        },
        {
          "output_type": "stream",
          "text": [
            "(512, 768, 3)\n",
            "(856, 1280, 3)\n"
          ],
          "name": "stdout"
        },
        {
          "output_type": "stream",
          "text": [
            "WARNING:root:Lossy conversion from float64 to uint8. Range [0, 1]. Convert image to uint8 prior to saving to suppress this warning.\n"
          ],
          "name": "stderr"
        },
        {
          "output_type": "stream",
          "text": [
            "\b\b\b\b\b\b\b\b\b\b\b\b\b\b\b\b\b\b\b\b\b\b\b\b\b\b\b\b\b\b\b\b\b\b\b\b\b\b\b\b\b\b\b\b\b\b\b\b\b\b\b\b\b\b\b\b\b\b\b\b\b\b\b\b\b\b\b\b\b\b\b\b\b\b\b\b\b\b\b\b\b\b\r31/31 [==============================] - 38s 1s/step - loss: 0.0031 - accuracy: 0.8205 - val_loss: 181.7824 - val_accuracy: 0.5673\n",
            "Epoch 672/1000\n",
            "31/31 [==============================] - 24s 763ms/step - loss: 0.0030 - accuracy: 0.8222 - val_loss: 182.2725 - val_accuracy: 0.5752\n",
            "Epoch 673/1000\n",
            "31/31 [==============================] - 24s 782ms/step - loss: 0.0031 - accuracy: 0.8202 - val_loss: 185.8462 - val_accuracy: 0.4157\n",
            "Epoch 674/1000\n",
            "31/31 [==============================] - 24s 775ms/step - loss: 0.0031 - accuracy: 0.8240 - val_loss: 183.3967 - val_accuracy: 0.5134\n",
            "Epoch 675/1000\n",
            "31/31 [==============================] - 24s 760ms/step - loss: 0.0030 - accuracy: 0.8251 - val_loss: 184.5559 - val_accuracy: 0.4709\n",
            "Epoch 676/1000\n",
            "31/31 [==============================] - 24s 764ms/step - loss: 0.0030 - accuracy: 0.8223 - val_loss: 182.2593 - val_accuracy: 0.5550\n",
            "Epoch 677/1000\n",
            "31/31 [==============================] - 24s 770ms/step - loss: 0.0030 - accuracy: 0.8251 - val_loss: 182.1347 - val_accuracy: 0.5845\n",
            "Epoch 678/1000\n",
            "31/31 [==============================] - 24s 766ms/step - loss: 0.0031 - accuracy: 0.8209 - val_loss: 183.6597 - val_accuracy: 0.5239\n",
            "Epoch 679/1000\n",
            "31/31 [==============================] - 24s 763ms/step - loss: 0.0030 - accuracy: 0.8236 - val_loss: 183.0887 - val_accuracy: 0.5045\n",
            "Epoch 680/1000\n",
            "31/31 [==============================] - 24s 766ms/step - loss: 0.0032 - accuracy: 0.8172 - val_loss: 182.8363 - val_accuracy: 0.5324\n",
            "Epoch 681/1000\n",
            "31/31 [==============================] - ETA: 0s - loss: 0.0030 - accuracy: 0.8256(512, 768, 3)\n"
          ],
          "name": "stdout"
        },
        {
          "output_type": "stream",
          "text": [
            "WARNING:root:Lossy conversion from float64 to uint8. Range [0, 1]. Convert image to uint8 prior to saving to suppress this warning.\n"
          ],
          "name": "stderr"
        },
        {
          "output_type": "stream",
          "text": [
            "(800, 1088, 3)\n"
          ],
          "name": "stdout"
        },
        {
          "output_type": "stream",
          "text": [
            "WARNING:root:Lossy conversion from float64 to uint8. Range [0, 1]. Convert image to uint8 prior to saving to suppress this warning.\n"
          ],
          "name": "stderr"
        },
        {
          "output_type": "stream",
          "text": [
            "(856, 1280, 3)\n"
          ],
          "name": "stdout"
        },
        {
          "output_type": "stream",
          "text": [
            "WARNING:root:Lossy conversion from float64 to uint8. Range [0, 1]. Convert image to uint8 prior to saving to suppress this warning.\n",
            "WARNING:root:Lossy conversion from float64 to uint8. Range [0, 1]. Convert image to uint8 prior to saving to suppress this warning.\n"
          ],
          "name": "stderr"
        },
        {
          "output_type": "stream",
          "text": [
            "(528, 736, 3)\n",
            "(856, 1280, 3)\n"
          ],
          "name": "stdout"
        },
        {
          "output_type": "stream",
          "text": [
            "WARNING:root:Lossy conversion from float64 to uint8. Range [0, 1]. Convert image to uint8 prior to saving to suppress this warning.\n"
          ],
          "name": "stderr"
        },
        {
          "output_type": "stream",
          "text": [
            "(1400, 1400, 3)\n"
          ],
          "name": "stdout"
        },
        {
          "output_type": "stream",
          "text": [
            "WARNING:root:Lossy conversion from float64 to uint8. Range [0, 1]. Convert image to uint8 prior to saving to suppress this warning.\n"
          ],
          "name": "stderr"
        },
        {
          "output_type": "stream",
          "text": [
            "(664, 1024, 3)\n"
          ],
          "name": "stdout"
        },
        {
          "output_type": "stream",
          "text": [
            "WARNING:root:Lossy conversion from float64 to uint8. Range [0, 1]. Convert image to uint8 prior to saving to suppress this warning.\n"
          ],
          "name": "stderr"
        },
        {
          "output_type": "stream",
          "text": [
            "(776, 1024, 3)\n"
          ],
          "name": "stdout"
        },
        {
          "output_type": "stream",
          "text": [
            "WARNING:root:Lossy conversion from float64 to uint8. Range [0, 1]. Convert image to uint8 prior to saving to suppress this warning.\n"
          ],
          "name": "stderr"
        },
        {
          "output_type": "stream",
          "text": [
            "(856, 1280, 3)\n"
          ],
          "name": "stdout"
        },
        {
          "output_type": "stream",
          "text": [
            "WARNING:root:Lossy conversion from float64 to uint8. Range [0, 1]. Convert image to uint8 prior to saving to suppress this warning.\n",
            "WARNING:root:Lossy conversion from float64 to uint8. Range [0, 1]. Convert image to uint8 prior to saving to suppress this warning.\n"
          ],
          "name": "stderr"
        },
        {
          "output_type": "stream",
          "text": [
            "(424, 640, 3)\n",
            "(984, 1176, 3)\n"
          ],
          "name": "stdout"
        },
        {
          "output_type": "stream",
          "text": [
            "WARNING:root:Lossy conversion from float64 to uint8. Range [0, 1]. Convert image to uint8 prior to saving to suppress this warning.\n",
            "WARNING:root:Lossy conversion from float64 to uint8. Range [0, 1]. Convert image to uint8 prior to saving to suppress this warning.\n"
          ],
          "name": "stderr"
        },
        {
          "output_type": "stream",
          "text": [
            "(512, 768, 3)\n",
            "(856, 1280, 3)\n"
          ],
          "name": "stdout"
        },
        {
          "output_type": "stream",
          "text": [
            "WARNING:root:Lossy conversion from float64 to uint8. Range [0, 1]. Convert image to uint8 prior to saving to suppress this warning.\n"
          ],
          "name": "stderr"
        },
        {
          "output_type": "stream",
          "text": [
            "\b\b\b\b\b\b\b\b\b\b\b\b\b\b\b\b\b\b\b\b\b\b\b\b\b\b\b\b\b\b\b\b\b\b\b\b\b\b\b\b\b\b\b\b\b\b\b\b\b\b\b\b\b\b\b\b\b\b\b\b\b\b\b\b\b\b\b\b\b\b\b\b\b\b\b\b\b\b\b\b\b\b\r31/31 [==============================] - 38s 1s/step - loss: 0.0030 - accuracy: 0.8256 - val_loss: 182.3759 - val_accuracy: 0.5327\n",
            "Epoch 682/1000\n",
            "31/31 [==============================] - 24s 769ms/step - loss: 0.0030 - accuracy: 0.8179 - val_loss: 182.9699 - val_accuracy: 0.5110\n",
            "Epoch 683/1000\n",
            "31/31 [==============================] - 24s 765ms/step - loss: 0.0031 - accuracy: 0.8228 - val_loss: 182.9798 - val_accuracy: 0.5099\n",
            "Epoch 684/1000\n",
            "31/31 [==============================] - 24s 764ms/step - loss: 0.0031 - accuracy: 0.8203 - val_loss: 184.8004 - val_accuracy: 0.4719\n",
            "Epoch 685/1000\n",
            "31/31 [==============================] - 24s 767ms/step - loss: 0.0030 - accuracy: 0.8203 - val_loss: 184.1083 - val_accuracy: 0.4926\n",
            "Epoch 686/1000\n",
            "31/31 [==============================] - 24s 767ms/step - loss: 0.0031 - accuracy: 0.8233 - val_loss: 184.2116 - val_accuracy: 0.4870\n",
            "Epoch 687/1000\n",
            "31/31 [==============================] - 24s 760ms/step - loss: 0.0031 - accuracy: 0.8245 - val_loss: 184.4807 - val_accuracy: 0.4738\n",
            "Epoch 688/1000\n",
            "31/31 [==============================] - 24s 764ms/step - loss: 0.0030 - accuracy: 0.8189 - val_loss: 182.6579 - val_accuracy: 0.5245\n",
            "Epoch 689/1000\n",
            "31/31 [==============================] - 24s 764ms/step - loss: 0.0030 - accuracy: 0.8225 - val_loss: 184.0105 - val_accuracy: 0.4813\n",
            "Epoch 690/1000\n",
            "31/31 [==============================] - 23s 754ms/step - loss: 0.0030 - accuracy: 0.8236 - val_loss: 182.6328 - val_accuracy: 0.5332\n",
            "Epoch 691/1000\n",
            "31/31 [==============================] - ETA: 0s - loss: 0.0031 - accuracy: 0.8183(512, 768, 3)\n"
          ],
          "name": "stdout"
        },
        {
          "output_type": "stream",
          "text": [
            "WARNING:root:Lossy conversion from float64 to uint8. Range [0, 1]. Convert image to uint8 prior to saving to suppress this warning.\n"
          ],
          "name": "stderr"
        },
        {
          "output_type": "stream",
          "text": [
            "(800, 1088, 3)\n"
          ],
          "name": "stdout"
        },
        {
          "output_type": "stream",
          "text": [
            "WARNING:root:Lossy conversion from float64 to uint8. Range [0, 1]. Convert image to uint8 prior to saving to suppress this warning.\n"
          ],
          "name": "stderr"
        },
        {
          "output_type": "stream",
          "text": [
            "(856, 1280, 3)\n"
          ],
          "name": "stdout"
        },
        {
          "output_type": "stream",
          "text": [
            "WARNING:root:Lossy conversion from float64 to uint8. Range [0, 1]. Convert image to uint8 prior to saving to suppress this warning.\n",
            "WARNING:root:Lossy conversion from float64 to uint8. Range [0, 1]. Convert image to uint8 prior to saving to suppress this warning.\n"
          ],
          "name": "stderr"
        },
        {
          "output_type": "stream",
          "text": [
            "(528, 736, 3)\n",
            "(856, 1280, 3)\n"
          ],
          "name": "stdout"
        },
        {
          "output_type": "stream",
          "text": [
            "WARNING:root:Lossy conversion from float64 to uint8. Range [0, 1]. Convert image to uint8 prior to saving to suppress this warning.\n"
          ],
          "name": "stderr"
        },
        {
          "output_type": "stream",
          "text": [
            "(1400, 1400, 3)\n"
          ],
          "name": "stdout"
        },
        {
          "output_type": "stream",
          "text": [
            "WARNING:root:Lossy conversion from float64 to uint8. Range [0, 1]. Convert image to uint8 prior to saving to suppress this warning.\n"
          ],
          "name": "stderr"
        },
        {
          "output_type": "stream",
          "text": [
            "(664, 1024, 3)\n"
          ],
          "name": "stdout"
        },
        {
          "output_type": "stream",
          "text": [
            "WARNING:root:Lossy conversion from float64 to uint8. Range [0, 1]. Convert image to uint8 prior to saving to suppress this warning.\n"
          ],
          "name": "stderr"
        },
        {
          "output_type": "stream",
          "text": [
            "(776, 1024, 3)\n"
          ],
          "name": "stdout"
        },
        {
          "output_type": "stream",
          "text": [
            "WARNING:root:Lossy conversion from float64 to uint8. Range [0, 1]. Convert image to uint8 prior to saving to suppress this warning.\n"
          ],
          "name": "stderr"
        },
        {
          "output_type": "stream",
          "text": [
            "(856, 1280, 3)\n"
          ],
          "name": "stdout"
        },
        {
          "output_type": "stream",
          "text": [
            "WARNING:root:Lossy conversion from float64 to uint8. Range [0, 1]. Convert image to uint8 prior to saving to suppress this warning.\n",
            "WARNING:root:Lossy conversion from float64 to uint8. Range [0, 1]. Convert image to uint8 prior to saving to suppress this warning.\n"
          ],
          "name": "stderr"
        },
        {
          "output_type": "stream",
          "text": [
            "(424, 640, 3)\n",
            "(984, 1176, 3)\n"
          ],
          "name": "stdout"
        },
        {
          "output_type": "stream",
          "text": [
            "WARNING:root:Lossy conversion from float64 to uint8. Range [0, 1]. Convert image to uint8 prior to saving to suppress this warning.\n",
            "WARNING:root:Lossy conversion from float64 to uint8. Range [0, 1]. Convert image to uint8 prior to saving to suppress this warning.\n"
          ],
          "name": "stderr"
        },
        {
          "output_type": "stream",
          "text": [
            "(512, 768, 3)\n",
            "(856, 1280, 3)\n"
          ],
          "name": "stdout"
        },
        {
          "output_type": "stream",
          "text": [
            "WARNING:root:Lossy conversion from float64 to uint8. Range [0, 1]. Convert image to uint8 prior to saving to suppress this warning.\n"
          ],
          "name": "stderr"
        },
        {
          "output_type": "stream",
          "text": [
            "\b\b\b\b\b\b\b\b\b\b\b\b\b\b\b\b\b\b\b\b\b\b\b\b\b\b\b\b\b\b\b\b\b\b\b\b\b\b\b\b\b\b\b\b\b\b\b\b\b\b\b\b\b\b\b\b\b\b\b\b\b\b\b\b\b\b\b\b\b\b\b\b\b\b\b\b\b\b\b\b\b\b\r31/31 [==============================] - 37s 1s/step - loss: 0.0031 - accuracy: 0.8183 - val_loss: 182.2874 - val_accuracy: 0.5628\n",
            "Epoch 692/1000\n",
            "31/31 [==============================] - 23s 754ms/step - loss: 0.0031 - accuracy: 0.8242 - val_loss: 184.0728 - val_accuracy: 0.4713\n",
            "Epoch 693/1000\n",
            "31/31 [==============================] - 23s 747ms/step - loss: 0.0030 - accuracy: 0.8190 - val_loss: 183.2119 - val_accuracy: 0.5040\n",
            "Epoch 694/1000\n",
            "31/31 [==============================] - 23s 750ms/step - loss: 0.0031 - accuracy: 0.8200 - val_loss: 182.5969 - val_accuracy: 0.5470\n",
            "Epoch 695/1000\n",
            "31/31 [==============================] - 24s 762ms/step - loss: 0.0029 - accuracy: 0.8262 - val_loss: 184.6262 - val_accuracy: 0.4663\n",
            "Epoch 696/1000\n",
            "31/31 [==============================] - 24s 761ms/step - loss: 0.0030 - accuracy: 0.8270 - val_loss: 182.0589 - val_accuracy: 0.5619\n",
            "Epoch 697/1000\n",
            "31/31 [==============================] - 24s 763ms/step - loss: 0.0031 - accuracy: 0.8196 - val_loss: 182.2450 - val_accuracy: 0.5587\n",
            "Epoch 698/1000\n",
            "31/31 [==============================] - 24s 759ms/step - loss: 0.0030 - accuracy: 0.8197 - val_loss: 182.6559 - val_accuracy: 0.5134\n",
            "Epoch 699/1000\n",
            "31/31 [==============================] - 23s 754ms/step - loss: 0.0031 - accuracy: 0.8238 - val_loss: 183.4997 - val_accuracy: 0.5136\n",
            "Epoch 700/1000\n",
            "31/31 [==============================] - 23s 755ms/step - loss: 0.0030 - accuracy: 0.8222 - val_loss: 183.4795 - val_accuracy: 0.5319\n",
            "Epoch 701/1000\n",
            "31/31 [==============================] - ETA: 0s - loss: 0.0031 - accuracy: 0.8234(512, 768, 3)\n"
          ],
          "name": "stdout"
        },
        {
          "output_type": "stream",
          "text": [
            "/usr/local/lib/python3.6/dist-packages/skimage/color/colorconv.py:1068: UserWarning: Color data out of range: Z < 0 in 35 pixels\n",
            "  return xyz2rgb(lab2xyz(lab, illuminant, observer))\n",
            "WARNING:root:Lossy conversion from float64 to uint8. Range [0, 1]. Convert image to uint8 prior to saving to suppress this warning.\n"
          ],
          "name": "stderr"
        },
        {
          "output_type": "stream",
          "text": [
            "(800, 1088, 3)\n"
          ],
          "name": "stdout"
        },
        {
          "output_type": "stream",
          "text": [
            "WARNING:root:Lossy conversion from float64 to uint8. Range [0, 1]. Convert image to uint8 prior to saving to suppress this warning.\n"
          ],
          "name": "stderr"
        },
        {
          "output_type": "stream",
          "text": [
            "(856, 1280, 3)\n"
          ],
          "name": "stdout"
        },
        {
          "output_type": "stream",
          "text": [
            "WARNING:root:Lossy conversion from float64 to uint8. Range [0, 1]. Convert image to uint8 prior to saving to suppress this warning.\n",
            "WARNING:root:Lossy conversion from float64 to uint8. Range [0, 1]. Convert image to uint8 prior to saving to suppress this warning.\n"
          ],
          "name": "stderr"
        },
        {
          "output_type": "stream",
          "text": [
            "(528, 736, 3)\n",
            "(856, 1280, 3)\n"
          ],
          "name": "stdout"
        },
        {
          "output_type": "stream",
          "text": [
            "WARNING:root:Lossy conversion from float64 to uint8. Range [0, 1]. Convert image to uint8 prior to saving to suppress this warning.\n"
          ],
          "name": "stderr"
        },
        {
          "output_type": "stream",
          "text": [
            "(1400, 1400, 3)\n"
          ],
          "name": "stdout"
        },
        {
          "output_type": "stream",
          "text": [
            "WARNING:root:Lossy conversion from float64 to uint8. Range [0, 1]. Convert image to uint8 prior to saving to suppress this warning.\n"
          ],
          "name": "stderr"
        },
        {
          "output_type": "stream",
          "text": [
            "(664, 1024, 3)\n"
          ],
          "name": "stdout"
        },
        {
          "output_type": "stream",
          "text": [
            "WARNING:root:Lossy conversion from float64 to uint8. Range [0, 1]. Convert image to uint8 prior to saving to suppress this warning.\n"
          ],
          "name": "stderr"
        },
        {
          "output_type": "stream",
          "text": [
            "(776, 1024, 3)\n"
          ],
          "name": "stdout"
        },
        {
          "output_type": "stream",
          "text": [
            "WARNING:root:Lossy conversion from float64 to uint8. Range [0, 1]. Convert image to uint8 prior to saving to suppress this warning.\n"
          ],
          "name": "stderr"
        },
        {
          "output_type": "stream",
          "text": [
            "(856, 1280, 3)\n"
          ],
          "name": "stdout"
        },
        {
          "output_type": "stream",
          "text": [
            "WARNING:root:Lossy conversion from float64 to uint8. Range [0, 1]. Convert image to uint8 prior to saving to suppress this warning.\n",
            "WARNING:root:Lossy conversion from float64 to uint8. Range [0, 1]. Convert image to uint8 prior to saving to suppress this warning.\n"
          ],
          "name": "stderr"
        },
        {
          "output_type": "stream",
          "text": [
            "(424, 640, 3)\n",
            "(984, 1176, 3)\n"
          ],
          "name": "stdout"
        },
        {
          "output_type": "stream",
          "text": [
            "WARNING:root:Lossy conversion from float64 to uint8. Range [0, 1]. Convert image to uint8 prior to saving to suppress this warning.\n",
            "WARNING:root:Lossy conversion from float64 to uint8. Range [0, 1]. Convert image to uint8 prior to saving to suppress this warning.\n"
          ],
          "name": "stderr"
        },
        {
          "output_type": "stream",
          "text": [
            "(512, 768, 3)\n",
            "(856, 1280, 3)\n"
          ],
          "name": "stdout"
        },
        {
          "output_type": "stream",
          "text": [
            "WARNING:root:Lossy conversion from float64 to uint8. Range [0, 1]. Convert image to uint8 prior to saving to suppress this warning.\n"
          ],
          "name": "stderr"
        },
        {
          "output_type": "stream",
          "text": [
            "\b\b\b\b\b\b\b\b\b\b\b\b\b\b\b\b\b\b\b\b\b\b\b\b\b\b\b\b\b\b\b\b\b\b\b\b\b\b\b\b\b\b\b\b\b\b\b\b\b\b\b\b\b\b\b\b\b\b\b\b\b\b\b\b\b\b\b\b\b\b\b\b\b\b\b\b\b\b\b\b\b\b\r31/31 [==============================] - 37s 1s/step - loss: 0.0031 - accuracy: 0.8234 - val_loss: 184.2516 - val_accuracy: 0.4866\n",
            "Epoch 702/1000\n",
            "31/31 [==============================] - 23s 751ms/step - loss: 0.0030 - accuracy: 0.8202 - val_loss: 184.4006 - val_accuracy: 0.4686\n",
            "Epoch 703/1000\n",
            "31/31 [==============================] - 23s 751ms/step - loss: 0.0030 - accuracy: 0.8213 - val_loss: 183.4833 - val_accuracy: 0.5122\n",
            "Epoch 704/1000\n",
            "31/31 [==============================] - 23s 753ms/step - loss: 0.0030 - accuracy: 0.8230 - val_loss: 182.9406 - val_accuracy: 0.5228\n",
            "Epoch 705/1000\n",
            "31/31 [==============================] - 24s 769ms/step - loss: 0.0030 - accuracy: 0.8226 - val_loss: 181.8709 - val_accuracy: 0.5543\n",
            "Epoch 706/1000\n",
            "31/31 [==============================] - 24s 773ms/step - loss: 0.0030 - accuracy: 0.8242 - val_loss: 182.9848 - val_accuracy: 0.4987\n",
            "Epoch 707/1000\n",
            "31/31 [==============================] - 24s 759ms/step - loss: 0.0030 - accuracy: 0.8214 - val_loss: 183.3150 - val_accuracy: 0.5355\n",
            "Epoch 708/1000\n",
            "31/31 [==============================] - 24s 759ms/step - loss: 0.0031 - accuracy: 0.8239 - val_loss: 184.1037 - val_accuracy: 0.4899\n",
            "Epoch 709/1000\n",
            "31/31 [==============================] - 23s 756ms/step - loss: 0.0030 - accuracy: 0.8183 - val_loss: 183.9244 - val_accuracy: 0.4894\n",
            "Epoch 710/1000\n",
            "31/31 [==============================] - 24s 763ms/step - loss: 0.0030 - accuracy: 0.8235 - val_loss: 184.6553 - val_accuracy: 0.4484\n",
            "Epoch 711/1000\n",
            "31/31 [==============================] - ETA: 0s - loss: 0.0030 - accuracy: 0.8257(512, 768, 3)\n"
          ],
          "name": "stdout"
        },
        {
          "output_type": "stream",
          "text": [
            "/usr/local/lib/python3.6/dist-packages/skimage/color/colorconv.py:1068: UserWarning: Color data out of range: Z < 0 in 34 pixels\n",
            "  return xyz2rgb(lab2xyz(lab, illuminant, observer))\n",
            "WARNING:root:Lossy conversion from float64 to uint8. Range [0, 1]. Convert image to uint8 prior to saving to suppress this warning.\n"
          ],
          "name": "stderr"
        },
        {
          "output_type": "stream",
          "text": [
            "(800, 1088, 3)\n"
          ],
          "name": "stdout"
        },
        {
          "output_type": "stream",
          "text": [
            "WARNING:root:Lossy conversion from float64 to uint8. Range [0, 1]. Convert image to uint8 prior to saving to suppress this warning.\n"
          ],
          "name": "stderr"
        },
        {
          "output_type": "stream",
          "text": [
            "(856, 1280, 3)\n"
          ],
          "name": "stdout"
        },
        {
          "output_type": "stream",
          "text": [
            "WARNING:root:Lossy conversion from float64 to uint8. Range [0, 1]. Convert image to uint8 prior to saving to suppress this warning.\n",
            "WARNING:root:Lossy conversion from float64 to uint8. Range [0, 1]. Convert image to uint8 prior to saving to suppress this warning.\n"
          ],
          "name": "stderr"
        },
        {
          "output_type": "stream",
          "text": [
            "(528, 736, 3)\n",
            "(856, 1280, 3)\n"
          ],
          "name": "stdout"
        },
        {
          "output_type": "stream",
          "text": [
            "WARNING:root:Lossy conversion from float64 to uint8. Range [0, 1]. Convert image to uint8 prior to saving to suppress this warning.\n"
          ],
          "name": "stderr"
        },
        {
          "output_type": "stream",
          "text": [
            "(1400, 1400, 3)\n"
          ],
          "name": "stdout"
        },
        {
          "output_type": "stream",
          "text": [
            "WARNING:root:Lossy conversion from float64 to uint8. Range [0, 1]. Convert image to uint8 prior to saving to suppress this warning.\n"
          ],
          "name": "stderr"
        },
        {
          "output_type": "stream",
          "text": [
            "(664, 1024, 3)\n"
          ],
          "name": "stdout"
        },
        {
          "output_type": "stream",
          "text": [
            "WARNING:root:Lossy conversion from float64 to uint8. Range [0, 1]. Convert image to uint8 prior to saving to suppress this warning.\n"
          ],
          "name": "stderr"
        },
        {
          "output_type": "stream",
          "text": [
            "(776, 1024, 3)\n"
          ],
          "name": "stdout"
        },
        {
          "output_type": "stream",
          "text": [
            "WARNING:root:Lossy conversion from float64 to uint8. Range [0, 1]. Convert image to uint8 prior to saving to suppress this warning.\n"
          ],
          "name": "stderr"
        },
        {
          "output_type": "stream",
          "text": [
            "(856, 1280, 3)\n"
          ],
          "name": "stdout"
        },
        {
          "output_type": "stream",
          "text": [
            "WARNING:root:Lossy conversion from float64 to uint8. Range [0, 1]. Convert image to uint8 prior to saving to suppress this warning.\n",
            "WARNING:root:Lossy conversion from float64 to uint8. Range [0, 1]. Convert image to uint8 prior to saving to suppress this warning.\n"
          ],
          "name": "stderr"
        },
        {
          "output_type": "stream",
          "text": [
            "(424, 640, 3)\n",
            "(984, 1176, 3)\n"
          ],
          "name": "stdout"
        },
        {
          "output_type": "stream",
          "text": [
            "WARNING:root:Lossy conversion from float64 to uint8. Range [0, 1]. Convert image to uint8 prior to saving to suppress this warning.\n"
          ],
          "name": "stderr"
        },
        {
          "output_type": "stream",
          "text": [
            "(512, 768, 3)\n"
          ],
          "name": "stdout"
        },
        {
          "output_type": "stream",
          "text": [
            "WARNING:root:Lossy conversion from float64 to uint8. Range [0, 1]. Convert image to uint8 prior to saving to suppress this warning.\n"
          ],
          "name": "stderr"
        },
        {
          "output_type": "stream",
          "text": [
            "(856, 1280, 3)\n"
          ],
          "name": "stdout"
        },
        {
          "output_type": "stream",
          "text": [
            "WARNING:root:Lossy conversion from float64 to uint8. Range [0, 1]. Convert image to uint8 prior to saving to suppress this warning.\n"
          ],
          "name": "stderr"
        },
        {
          "output_type": "stream",
          "text": [
            "\b\b\b\b\b\b\b\b\b\b\b\b\b\b\b\b\b\b\b\b\b\b\b\b\b\b\b\b\b\b\b\b\b\b\b\b\b\b\b\b\b\b\b\b\b\b\b\b\b\b\b\b\b\b\b\b\b\b\b\b\b\b\b\b\b\b\b\b\b\b\b\b\b\b\b\b\b\b\b\b\b\b\r31/31 [==============================] - 38s 1s/step - loss: 0.0030 - accuracy: 0.8257 - val_loss: 181.3824 - val_accuracy: 0.6120\n",
            "Epoch 712/1000\n",
            "31/31 [==============================] - 23s 757ms/step - loss: 0.0029 - accuracy: 0.8188 - val_loss: 183.4987 - val_accuracy: 0.4872\n",
            "Epoch 713/1000\n",
            "31/31 [==============================] - 23s 755ms/step - loss: 0.0031 - accuracy: 0.8266 - val_loss: 183.2555 - val_accuracy: 0.5176\n",
            "Epoch 714/1000\n",
            "31/31 [==============================] - 23s 757ms/step - loss: 0.0030 - accuracy: 0.8212 - val_loss: 183.8416 - val_accuracy: 0.4894\n",
            "Epoch 715/1000\n",
            "31/31 [==============================] - 23s 748ms/step - loss: 0.0030 - accuracy: 0.8259 - val_loss: 183.3632 - val_accuracy: 0.4884\n",
            "Epoch 716/1000\n",
            "31/31 [==============================] - 23s 754ms/step - loss: 0.0030 - accuracy: 0.8208 - val_loss: 182.7106 - val_accuracy: 0.5443\n",
            "Epoch 717/1000\n",
            "31/31 [==============================] - 23s 757ms/step - loss: 0.0031 - accuracy: 0.8241 - val_loss: 182.3325 - val_accuracy: 0.5706\n",
            "Epoch 718/1000\n",
            "31/31 [==============================] - 23s 756ms/step - loss: 0.0030 - accuracy: 0.8252 - val_loss: 181.5136 - val_accuracy: 0.5989\n",
            "Epoch 719/1000\n",
            "31/31 [==============================] - 23s 756ms/step - loss: 0.0031 - accuracy: 0.8239 - val_loss: 182.2578 - val_accuracy: 0.5424\n",
            "Epoch 720/1000\n",
            "31/31 [==============================] - 23s 754ms/step - loss: 0.0030 - accuracy: 0.8228 - val_loss: 181.8474 - val_accuracy: 0.5745\n",
            "Epoch 721/1000\n",
            "31/31 [==============================] - ETA: 0s - loss: 0.0030 - accuracy: 0.8225(512, 768, 3)\n"
          ],
          "name": "stdout"
        },
        {
          "output_type": "stream",
          "text": [
            "/usr/local/lib/python3.6/dist-packages/skimage/color/colorconv.py:1068: UserWarning: Color data out of range: Z < 0 in 121 pixels\n",
            "  return xyz2rgb(lab2xyz(lab, illuminant, observer))\n",
            "WARNING:root:Lossy conversion from float64 to uint8. Range [0, 1]. Convert image to uint8 prior to saving to suppress this warning.\n"
          ],
          "name": "stderr"
        },
        {
          "output_type": "stream",
          "text": [
            "(800, 1088, 3)\n"
          ],
          "name": "stdout"
        },
        {
          "output_type": "stream",
          "text": [
            "WARNING:root:Lossy conversion from float64 to uint8. Range [0, 1]. Convert image to uint8 prior to saving to suppress this warning.\n"
          ],
          "name": "stderr"
        },
        {
          "output_type": "stream",
          "text": [
            "(856, 1280, 3)\n"
          ],
          "name": "stdout"
        },
        {
          "output_type": "stream",
          "text": [
            "WARNING:root:Lossy conversion from float64 to uint8. Range [0, 1]. Convert image to uint8 prior to saving to suppress this warning.\n",
            "WARNING:root:Lossy conversion from float64 to uint8. Range [0, 1]. Convert image to uint8 prior to saving to suppress this warning.\n"
          ],
          "name": "stderr"
        },
        {
          "output_type": "stream",
          "text": [
            "(528, 736, 3)\n",
            "(856, 1280, 3)\n"
          ],
          "name": "stdout"
        },
        {
          "output_type": "stream",
          "text": [
            "WARNING:root:Lossy conversion from float64 to uint8. Range [0, 1]. Convert image to uint8 prior to saving to suppress this warning.\n"
          ],
          "name": "stderr"
        },
        {
          "output_type": "stream",
          "text": [
            "(1400, 1400, 3)\n"
          ],
          "name": "stdout"
        },
        {
          "output_type": "stream",
          "text": [
            "WARNING:root:Lossy conversion from float64 to uint8. Range [0, 1]. Convert image to uint8 prior to saving to suppress this warning.\n"
          ],
          "name": "stderr"
        },
        {
          "output_type": "stream",
          "text": [
            "(664, 1024, 3)\n"
          ],
          "name": "stdout"
        },
        {
          "output_type": "stream",
          "text": [
            "WARNING:root:Lossy conversion from float64 to uint8. Range [0, 1]. Convert image to uint8 prior to saving to suppress this warning.\n"
          ],
          "name": "stderr"
        },
        {
          "output_type": "stream",
          "text": [
            "(776, 1024, 3)\n"
          ],
          "name": "stdout"
        },
        {
          "output_type": "stream",
          "text": [
            "WARNING:root:Lossy conversion from float64 to uint8. Range [0, 1]. Convert image to uint8 prior to saving to suppress this warning.\n"
          ],
          "name": "stderr"
        },
        {
          "output_type": "stream",
          "text": [
            "(856, 1280, 3)\n"
          ],
          "name": "stdout"
        },
        {
          "output_type": "stream",
          "text": [
            "WARNING:root:Lossy conversion from float64 to uint8. Range [0, 1]. Convert image to uint8 prior to saving to suppress this warning.\n",
            "WARNING:root:Lossy conversion from float64 to uint8. Range [0, 1]. Convert image to uint8 prior to saving to suppress this warning.\n"
          ],
          "name": "stderr"
        },
        {
          "output_type": "stream",
          "text": [
            "(424, 640, 3)\n",
            "(984, 1176, 3)\n"
          ],
          "name": "stdout"
        },
        {
          "output_type": "stream",
          "text": [
            "WARNING:root:Lossy conversion from float64 to uint8. Range [0, 1]. Convert image to uint8 prior to saving to suppress this warning.\n",
            "WARNING:root:Lossy conversion from float64 to uint8. Range [0, 1]. Convert image to uint8 prior to saving to suppress this warning.\n"
          ],
          "name": "stderr"
        },
        {
          "output_type": "stream",
          "text": [
            "(512, 768, 3)\n",
            "(856, 1280, 3)\n"
          ],
          "name": "stdout"
        },
        {
          "output_type": "stream",
          "text": [
            "WARNING:root:Lossy conversion from float64 to uint8. Range [0, 1]. Convert image to uint8 prior to saving to suppress this warning.\n"
          ],
          "name": "stderr"
        },
        {
          "output_type": "stream",
          "text": [
            "\b\b\b\b\b\b\b\b\b\b\b\b\b\b\b\b\b\b\b\b\b\b\b\b\b\b\b\b\b\b\b\b\b\b\b\b\b\b\b\b\b\b\b\b\b\b\b\b\b\b\b\b\b\b\b\b\b\b\b\b\b\b\b\b\b\b\b\b\b\b\b\b\b\b\b\b\b\b\b\b\b\b\r31/31 [==============================] - 38s 1s/step - loss: 0.0030 - accuracy: 0.8225 - val_loss: 182.4536 - val_accuracy: 0.5334\n",
            "Epoch 722/1000\n",
            "31/31 [==============================] - 23s 757ms/step - loss: 0.0029 - accuracy: 0.8222 - val_loss: 182.2536 - val_accuracy: 0.5580\n",
            "Epoch 723/1000\n",
            "31/31 [==============================] - 23s 758ms/step - loss: 0.0030 - accuracy: 0.8305 - val_loss: 181.4938 - val_accuracy: 0.5966\n",
            "Epoch 724/1000\n",
            "31/31 [==============================] - 23s 754ms/step - loss: 0.0029 - accuracy: 0.8233 - val_loss: 182.7812 - val_accuracy: 0.5557\n",
            "Epoch 725/1000\n",
            "31/31 [==============================] - 23s 752ms/step - loss: 0.0031 - accuracy: 0.8237 - val_loss: 182.4682 - val_accuracy: 0.5500\n",
            "Epoch 726/1000\n",
            "31/31 [==============================] - 23s 757ms/step - loss: 0.0029 - accuracy: 0.8263 - val_loss: 182.6160 - val_accuracy: 0.5409\n",
            "Epoch 727/1000\n",
            "31/31 [==============================] - 24s 759ms/step - loss: 0.0030 - accuracy: 0.8207 - val_loss: 183.0170 - val_accuracy: 0.5051\n",
            "Epoch 728/1000\n",
            "31/31 [==============================] - 24s 774ms/step - loss: 0.0030 - accuracy: 0.8252 - val_loss: 182.8330 - val_accuracy: 0.5130\n",
            "Epoch 729/1000\n",
            "31/31 [==============================] - 24s 788ms/step - loss: 0.0029 - accuracy: 0.8267 - val_loss: 183.1599 - val_accuracy: 0.4982\n",
            "Epoch 730/1000\n",
            "31/31 [==============================] - 25s 790ms/step - loss: 0.0030 - accuracy: 0.8239 - val_loss: 183.3863 - val_accuracy: 0.5000\n",
            "Epoch 731/1000\n",
            "31/31 [==============================] - ETA: 0s - loss: 0.0030 - accuracy: 0.8244(512, 768, 3)\n"
          ],
          "name": "stdout"
        },
        {
          "output_type": "stream",
          "text": [
            "WARNING:root:Lossy conversion from float64 to uint8. Range [0, 1]. Convert image to uint8 prior to saving to suppress this warning.\n"
          ],
          "name": "stderr"
        },
        {
          "output_type": "stream",
          "text": [
            "(800, 1088, 3)\n"
          ],
          "name": "stdout"
        },
        {
          "output_type": "stream",
          "text": [
            "WARNING:root:Lossy conversion from float64 to uint8. Range [0, 1]. Convert image to uint8 prior to saving to suppress this warning.\n"
          ],
          "name": "stderr"
        },
        {
          "output_type": "stream",
          "text": [
            "(856, 1280, 3)\n"
          ],
          "name": "stdout"
        },
        {
          "output_type": "stream",
          "text": [
            "WARNING:root:Lossy conversion from float64 to uint8. Range [0, 1]. Convert image to uint8 prior to saving to suppress this warning.\n"
          ],
          "name": "stderr"
        },
        {
          "output_type": "stream",
          "text": [
            "(528, 736, 3)\n"
          ],
          "name": "stdout"
        },
        {
          "output_type": "stream",
          "text": [
            "WARNING:root:Lossy conversion from float64 to uint8. Range [0, 1]. Convert image to uint8 prior to saving to suppress this warning.\n"
          ],
          "name": "stderr"
        },
        {
          "output_type": "stream",
          "text": [
            "(856, 1280, 3)\n"
          ],
          "name": "stdout"
        },
        {
          "output_type": "stream",
          "text": [
            "WARNING:root:Lossy conversion from float64 to uint8. Range [0, 1]. Convert image to uint8 prior to saving to suppress this warning.\n"
          ],
          "name": "stderr"
        },
        {
          "output_type": "stream",
          "text": [
            "(1400, 1400, 3)\n"
          ],
          "name": "stdout"
        },
        {
          "output_type": "stream",
          "text": [
            "WARNING:root:Lossy conversion from float64 to uint8. Range [0, 1]. Convert image to uint8 prior to saving to suppress this warning.\n"
          ],
          "name": "stderr"
        },
        {
          "output_type": "stream",
          "text": [
            "(664, 1024, 3)\n"
          ],
          "name": "stdout"
        },
        {
          "output_type": "stream",
          "text": [
            "WARNING:root:Lossy conversion from float64 to uint8. Range [0, 1]. Convert image to uint8 prior to saving to suppress this warning.\n"
          ],
          "name": "stderr"
        },
        {
          "output_type": "stream",
          "text": [
            "(776, 1024, 3)\n"
          ],
          "name": "stdout"
        },
        {
          "output_type": "stream",
          "text": [
            "WARNING:root:Lossy conversion from float64 to uint8. Range [0, 1]. Convert image to uint8 prior to saving to suppress this warning.\n"
          ],
          "name": "stderr"
        },
        {
          "output_type": "stream",
          "text": [
            "(856, 1280, 3)\n"
          ],
          "name": "stdout"
        },
        {
          "output_type": "stream",
          "text": [
            "WARNING:root:Lossy conversion from float64 to uint8. Range [0, 1]. Convert image to uint8 prior to saving to suppress this warning.\n",
            "WARNING:root:Lossy conversion from float64 to uint8. Range [0, 1]. Convert image to uint8 prior to saving to suppress this warning.\n"
          ],
          "name": "stderr"
        },
        {
          "output_type": "stream",
          "text": [
            "(424, 640, 3)\n",
            "(984, 1176, 3)\n"
          ],
          "name": "stdout"
        },
        {
          "output_type": "stream",
          "text": [
            "WARNING:root:Lossy conversion from float64 to uint8. Range [0, 1]. Convert image to uint8 prior to saving to suppress this warning.\n",
            "WARNING:root:Lossy conversion from float64 to uint8. Range [0, 1]. Convert image to uint8 prior to saving to suppress this warning.\n"
          ],
          "name": "stderr"
        },
        {
          "output_type": "stream",
          "text": [
            "(512, 768, 3)\n",
            "(856, 1280, 3)\n"
          ],
          "name": "stdout"
        },
        {
          "output_type": "stream",
          "text": [
            "WARNING:root:Lossy conversion from float64 to uint8. Range [0, 1]. Convert image to uint8 prior to saving to suppress this warning.\n"
          ],
          "name": "stderr"
        },
        {
          "output_type": "stream",
          "text": [
            "\b\b\b\b\b\b\b\b\b\b\b\b\b\b\b\b\b\b\b\b\b\b\b\b\b\b\b\b\b\b\b\b\b\b\b\b\b\b\b\b\b\b\b\b\b\b\b\b\b\b\b\b\b\b\b\b\b\b\b\b\b\b\b\b\b\b\b\b\b\b\b\b\b\b\b\b\b\b\b\b\b\b\r31/31 [==============================] - 38s 1s/step - loss: 0.0030 - accuracy: 0.8244 - val_loss: 182.5146 - val_accuracy: 0.5136\n",
            "Epoch 732/1000\n",
            "31/31 [==============================] - 24s 778ms/step - loss: 0.0029 - accuracy: 0.8223 - val_loss: 183.2881 - val_accuracy: 0.5247\n",
            "Epoch 733/1000\n",
            "31/31 [==============================] - 24s 771ms/step - loss: 0.0030 - accuracy: 0.8246 - val_loss: 182.6212 - val_accuracy: 0.5548\n",
            "Epoch 734/1000\n",
            "31/31 [==============================] - 24s 768ms/step - loss: 0.0030 - accuracy: 0.8221 - val_loss: 184.0569 - val_accuracy: 0.4717\n",
            "Epoch 735/1000\n",
            "31/31 [==============================] - 24s 762ms/step - loss: 0.0029 - accuracy: 0.8265 - val_loss: 182.3614 - val_accuracy: 0.5493\n",
            "Epoch 736/1000\n",
            "31/31 [==============================] - 24s 761ms/step - loss: 0.0030 - accuracy: 0.8278 - val_loss: 182.1968 - val_accuracy: 0.5446\n",
            "Epoch 737/1000\n",
            "31/31 [==============================] - 24s 772ms/step - loss: 0.0030 - accuracy: 0.8251 - val_loss: 182.8858 - val_accuracy: 0.5096\n",
            "Epoch 738/1000\n",
            "31/31 [==============================] - 24s 772ms/step - loss: 0.0030 - accuracy: 0.8218 - val_loss: 182.0203 - val_accuracy: 0.5627\n",
            "Epoch 739/1000\n",
            "31/31 [==============================] - 23s 758ms/step - loss: 0.0030 - accuracy: 0.8234 - val_loss: 182.7268 - val_accuracy: 0.5240\n",
            "Epoch 740/1000\n",
            "31/31 [==============================] - 23s 757ms/step - loss: 0.0030 - accuracy: 0.8219 - val_loss: 182.6449 - val_accuracy: 0.5244\n",
            "Epoch 741/1000\n",
            "31/31 [==============================] - ETA: 0s - loss: 0.0030 - accuracy: 0.8235(512, 768, 3)\n"
          ],
          "name": "stdout"
        },
        {
          "output_type": "stream",
          "text": [
            "/usr/local/lib/python3.6/dist-packages/skimage/color/colorconv.py:1068: UserWarning: Color data out of range: Z < 0 in 82 pixels\n",
            "  return xyz2rgb(lab2xyz(lab, illuminant, observer))\n",
            "WARNING:root:Lossy conversion from float64 to uint8. Range [0, 1]. Convert image to uint8 prior to saving to suppress this warning.\n"
          ],
          "name": "stderr"
        },
        {
          "output_type": "stream",
          "text": [
            "(800, 1088, 3)\n"
          ],
          "name": "stdout"
        },
        {
          "output_type": "stream",
          "text": [
            "WARNING:root:Lossy conversion from float64 to uint8. Range [0, 1]. Convert image to uint8 prior to saving to suppress this warning.\n"
          ],
          "name": "stderr"
        },
        {
          "output_type": "stream",
          "text": [
            "(856, 1280, 3)\n"
          ],
          "name": "stdout"
        },
        {
          "output_type": "stream",
          "text": [
            "WARNING:root:Lossy conversion from float64 to uint8. Range [0, 1]. Convert image to uint8 prior to saving to suppress this warning.\n",
            "WARNING:root:Lossy conversion from float64 to uint8. Range [0, 1]. Convert image to uint8 prior to saving to suppress this warning.\n"
          ],
          "name": "stderr"
        },
        {
          "output_type": "stream",
          "text": [
            "(528, 736, 3)\n",
            "(856, 1280, 3)\n"
          ],
          "name": "stdout"
        },
        {
          "output_type": "stream",
          "text": [
            "WARNING:root:Lossy conversion from float64 to uint8. Range [0, 1]. Convert image to uint8 prior to saving to suppress this warning.\n"
          ],
          "name": "stderr"
        },
        {
          "output_type": "stream",
          "text": [
            "(1400, 1400, 3)\n"
          ],
          "name": "stdout"
        },
        {
          "output_type": "stream",
          "text": [
            "WARNING:root:Lossy conversion from float64 to uint8. Range [0, 1]. Convert image to uint8 prior to saving to suppress this warning.\n"
          ],
          "name": "stderr"
        },
        {
          "output_type": "stream",
          "text": [
            "(664, 1024, 3)\n"
          ],
          "name": "stdout"
        },
        {
          "output_type": "stream",
          "text": [
            "WARNING:root:Lossy conversion from float64 to uint8. Range [0, 1]. Convert image to uint8 prior to saving to suppress this warning.\n"
          ],
          "name": "stderr"
        },
        {
          "output_type": "stream",
          "text": [
            "(776, 1024, 3)\n"
          ],
          "name": "stdout"
        },
        {
          "output_type": "stream",
          "text": [
            "WARNING:root:Lossy conversion from float64 to uint8. Range [0, 1]. Convert image to uint8 prior to saving to suppress this warning.\n"
          ],
          "name": "stderr"
        },
        {
          "output_type": "stream",
          "text": [
            "(856, 1280, 3)\n"
          ],
          "name": "stdout"
        },
        {
          "output_type": "stream",
          "text": [
            "WARNING:root:Lossy conversion from float64 to uint8. Range [0, 1]. Convert image to uint8 prior to saving to suppress this warning.\n",
            "WARNING:root:Lossy conversion from float64 to uint8. Range [0, 1]. Convert image to uint8 prior to saving to suppress this warning.\n"
          ],
          "name": "stderr"
        },
        {
          "output_type": "stream",
          "text": [
            "(424, 640, 3)\n",
            "(984, 1176, 3)\n"
          ],
          "name": "stdout"
        },
        {
          "output_type": "stream",
          "text": [
            "WARNING:root:Lossy conversion from float64 to uint8. Range [0, 1]. Convert image to uint8 prior to saving to suppress this warning.\n",
            "WARNING:root:Lossy conversion from float64 to uint8. Range [0, 1]. Convert image to uint8 prior to saving to suppress this warning.\n"
          ],
          "name": "stderr"
        },
        {
          "output_type": "stream",
          "text": [
            "(512, 768, 3)\n",
            "(856, 1280, 3)\n"
          ],
          "name": "stdout"
        },
        {
          "output_type": "stream",
          "text": [
            "WARNING:root:Lossy conversion from float64 to uint8. Range [0, 1]. Convert image to uint8 prior to saving to suppress this warning.\n"
          ],
          "name": "stderr"
        },
        {
          "output_type": "stream",
          "text": [
            "\b\b\b\b\b\b\b\b\b\b\b\b\b\b\b\b\b\b\b\b\b\b\b\b\b\b\b\b\b\b\b\b\b\b\b\b\b\b\b\b\b\b\b\b\b\b\b\b\b\b\b\b\b\b\b\b\b\b\b\b\b\b\b\b\b\b\b\b\b\b\b\b\b\b\b\b\b\b\b\b\b\b\r31/31 [==============================] - 38s 1s/step - loss: 0.0030 - accuracy: 0.8235 - val_loss: 182.5713 - val_accuracy: 0.5175\n",
            "Epoch 742/1000\n",
            "31/31 [==============================] - 24s 771ms/step - loss: 0.0031 - accuracy: 0.8223 - val_loss: 182.8433 - val_accuracy: 0.5164\n",
            "Epoch 743/1000\n",
            "31/31 [==============================] - 24s 759ms/step - loss: 0.0029 - accuracy: 0.8249 - val_loss: 182.9012 - val_accuracy: 0.5153\n",
            "Epoch 744/1000\n",
            "31/31 [==============================] - 24s 765ms/step - loss: 0.0032 - accuracy: 0.8213 - val_loss: 183.8680 - val_accuracy: 0.4508\n",
            "Epoch 745/1000\n",
            "31/31 [==============================] - 24s 759ms/step - loss: 0.0027 - accuracy: 0.8322 - val_loss: 183.5893 - val_accuracy: 0.4786\n",
            "Epoch 746/1000\n",
            "31/31 [==============================] - 24s 764ms/step - loss: 0.0029 - accuracy: 0.8238 - val_loss: 183.1090 - val_accuracy: 0.5053\n",
            "Epoch 747/1000\n",
            "31/31 [==============================] - 23s 757ms/step - loss: 0.0030 - accuracy: 0.8265 - val_loss: 183.6148 - val_accuracy: 0.4907\n",
            "Epoch 748/1000\n",
            "31/31 [==============================] - 23s 755ms/step - loss: 0.0030 - accuracy: 0.8264 - val_loss: 183.0271 - val_accuracy: 0.4989\n",
            "Epoch 749/1000\n",
            "31/31 [==============================] - 23s 758ms/step - loss: 0.0030 - accuracy: 0.8265 - val_loss: 182.1267 - val_accuracy: 0.5381\n",
            "Epoch 750/1000\n",
            "31/31 [==============================] - 23s 754ms/step - loss: 0.0030 - accuracy: 0.8264 - val_loss: 181.0946 - val_accuracy: 0.6216\n",
            "Epoch 751/1000\n",
            "31/31 [==============================] - ETA: 0s - loss: 0.0030 - accuracy: 0.8250(512, 768, 3)\n"
          ],
          "name": "stdout"
        },
        {
          "output_type": "stream",
          "text": [
            "WARNING:root:Lossy conversion from float64 to uint8. Range [0, 1]. Convert image to uint8 prior to saving to suppress this warning.\n"
          ],
          "name": "stderr"
        },
        {
          "output_type": "stream",
          "text": [
            "(800, 1088, 3)\n"
          ],
          "name": "stdout"
        },
        {
          "output_type": "stream",
          "text": [
            "WARNING:root:Lossy conversion from float64 to uint8. Range [0, 1]. Convert image to uint8 prior to saving to suppress this warning.\n"
          ],
          "name": "stderr"
        },
        {
          "output_type": "stream",
          "text": [
            "(856, 1280, 3)\n"
          ],
          "name": "stdout"
        },
        {
          "output_type": "stream",
          "text": [
            "WARNING:root:Lossy conversion from float64 to uint8. Range [0, 1]. Convert image to uint8 prior to saving to suppress this warning.\n",
            "WARNING:root:Lossy conversion from float64 to uint8. Range [0, 1]. Convert image to uint8 prior to saving to suppress this warning.\n"
          ],
          "name": "stderr"
        },
        {
          "output_type": "stream",
          "text": [
            "(528, 736, 3)\n",
            "(856, 1280, 3)\n"
          ],
          "name": "stdout"
        },
        {
          "output_type": "stream",
          "text": [
            "WARNING:root:Lossy conversion from float64 to uint8. Range [0, 1]. Convert image to uint8 prior to saving to suppress this warning.\n"
          ],
          "name": "stderr"
        },
        {
          "output_type": "stream",
          "text": [
            "(1400, 1400, 3)\n"
          ],
          "name": "stdout"
        },
        {
          "output_type": "stream",
          "text": [
            "WARNING:root:Lossy conversion from float64 to uint8. Range [0, 1]. Convert image to uint8 prior to saving to suppress this warning.\n"
          ],
          "name": "stderr"
        },
        {
          "output_type": "stream",
          "text": [
            "(664, 1024, 3)\n"
          ],
          "name": "stdout"
        },
        {
          "output_type": "stream",
          "text": [
            "WARNING:root:Lossy conversion from float64 to uint8. Range [0, 1]. Convert image to uint8 prior to saving to suppress this warning.\n"
          ],
          "name": "stderr"
        },
        {
          "output_type": "stream",
          "text": [
            "(776, 1024, 3)\n"
          ],
          "name": "stdout"
        },
        {
          "output_type": "stream",
          "text": [
            "WARNING:root:Lossy conversion from float64 to uint8. Range [0, 1]. Convert image to uint8 prior to saving to suppress this warning.\n"
          ],
          "name": "stderr"
        },
        {
          "output_type": "stream",
          "text": [
            "(856, 1280, 3)\n"
          ],
          "name": "stdout"
        },
        {
          "output_type": "stream",
          "text": [
            "WARNING:root:Lossy conversion from float64 to uint8. Range [0, 1]. Convert image to uint8 prior to saving to suppress this warning.\n",
            "WARNING:root:Lossy conversion from float64 to uint8. Range [0, 1]. Convert image to uint8 prior to saving to suppress this warning.\n"
          ],
          "name": "stderr"
        },
        {
          "output_type": "stream",
          "text": [
            "(424, 640, 3)\n",
            "(984, 1176, 3)\n"
          ],
          "name": "stdout"
        },
        {
          "output_type": "stream",
          "text": [
            "WARNING:root:Lossy conversion from float64 to uint8. Range [0, 1]. Convert image to uint8 prior to saving to suppress this warning.\n",
            "WARNING:root:Lossy conversion from float64 to uint8. Range [0, 1]. Convert image to uint8 prior to saving to suppress this warning.\n"
          ],
          "name": "stderr"
        },
        {
          "output_type": "stream",
          "text": [
            "(512, 768, 3)\n",
            "(856, 1280, 3)\n"
          ],
          "name": "stdout"
        },
        {
          "output_type": "stream",
          "text": [
            "WARNING:root:Lossy conversion from float64 to uint8. Range [0, 1]. Convert image to uint8 prior to saving to suppress this warning.\n"
          ],
          "name": "stderr"
        },
        {
          "output_type": "stream",
          "text": [
            "\b\b\b\b\b\b\b\b\b\b\b\b\b\b\b\b\b\b\b\b\b\b\b\b\b\b\b\b\b\b\b\b\b\b\b\b\b\b\b\b\b\b\b\b\b\b\b\b\b\b\b\b\b\b\b\b\b\b\b\b\b\b\b\b\b\b\b\b\b\b\b\b\b\b\b\b\b\b\b\b\b\b\r31/31 [==============================] - 38s 1s/step - loss: 0.0030 - accuracy: 0.8250 - val_loss: 182.4595 - val_accuracy: 0.5463\n",
            "Epoch 752/1000\n",
            "31/31 [==============================] - 24s 761ms/step - loss: 0.0029 - accuracy: 0.8244 - val_loss: 182.1977 - val_accuracy: 0.5386\n",
            "Epoch 753/1000\n",
            "31/31 [==============================] - 24s 760ms/step - loss: 0.0032 - accuracy: 0.8249 - val_loss: 182.4162 - val_accuracy: 0.5016\n",
            "Epoch 754/1000\n",
            "31/31 [==============================] - 24s 766ms/step - loss: 0.0028 - accuracy: 0.8247 - val_loss: 183.5958 - val_accuracy: 0.4721\n",
            "Epoch 755/1000\n",
            "31/31 [==============================] - 24s 759ms/step - loss: 0.0030 - accuracy: 0.8211 - val_loss: 183.5701 - val_accuracy: 0.4439\n",
            "Epoch 756/1000\n",
            "31/31 [==============================] - 23s 756ms/step - loss: 0.0029 - accuracy: 0.8257 - val_loss: 183.2570 - val_accuracy: 0.4572\n",
            "Epoch 757/1000\n",
            "31/31 [==============================] - 23s 753ms/step - loss: 0.0030 - accuracy: 0.8266 - val_loss: 182.2247 - val_accuracy: 0.5608\n",
            "Epoch 758/1000\n",
            "31/31 [==============================] - 24s 760ms/step - loss: 0.0030 - accuracy: 0.8238 - val_loss: 180.9665 - val_accuracy: 0.5930\n",
            "Epoch 759/1000\n",
            "31/31 [==============================] - 24s 763ms/step - loss: 0.0029 - accuracy: 0.8238 - val_loss: 183.4581 - val_accuracy: 0.4721\n",
            "Epoch 760/1000\n",
            "31/31 [==============================] - 24s 774ms/step - loss: 0.0030 - accuracy: 0.8246 - val_loss: 181.0940 - val_accuracy: 0.5784\n",
            "Epoch 761/1000\n",
            "31/31 [==============================] - ETA: 0s - loss: 0.0029 - accuracy: 0.8263(512, 768, 3)\n"
          ],
          "name": "stdout"
        },
        {
          "output_type": "stream",
          "text": [
            "WARNING:root:Lossy conversion from float64 to uint8. Range [0, 1]. Convert image to uint8 prior to saving to suppress this warning.\n"
          ],
          "name": "stderr"
        },
        {
          "output_type": "stream",
          "text": [
            "(800, 1088, 3)\n"
          ],
          "name": "stdout"
        },
        {
          "output_type": "stream",
          "text": [
            "WARNING:root:Lossy conversion from float64 to uint8. Range [0, 1]. Convert image to uint8 prior to saving to suppress this warning.\n"
          ],
          "name": "stderr"
        },
        {
          "output_type": "stream",
          "text": [
            "(856, 1280, 3)\n"
          ],
          "name": "stdout"
        },
        {
          "output_type": "stream",
          "text": [
            "WARNING:root:Lossy conversion from float64 to uint8. Range [0, 1]. Convert image to uint8 prior to saving to suppress this warning.\n"
          ],
          "name": "stderr"
        },
        {
          "output_type": "stream",
          "text": [
            "(528, 736, 3)\n"
          ],
          "name": "stdout"
        },
        {
          "output_type": "stream",
          "text": [
            "WARNING:root:Lossy conversion from float64 to uint8. Range [0, 1]. Convert image to uint8 prior to saving to suppress this warning.\n"
          ],
          "name": "stderr"
        },
        {
          "output_type": "stream",
          "text": [
            "(856, 1280, 3)\n"
          ],
          "name": "stdout"
        },
        {
          "output_type": "stream",
          "text": [
            "WARNING:root:Lossy conversion from float64 to uint8. Range [0, 1]. Convert image to uint8 prior to saving to suppress this warning.\n"
          ],
          "name": "stderr"
        },
        {
          "output_type": "stream",
          "text": [
            "(1400, 1400, 3)\n"
          ],
          "name": "stdout"
        },
        {
          "output_type": "stream",
          "text": [
            "WARNING:root:Lossy conversion from float64 to uint8. Range [0, 1]. Convert image to uint8 prior to saving to suppress this warning.\n"
          ],
          "name": "stderr"
        },
        {
          "output_type": "stream",
          "text": [
            "(664, 1024, 3)\n"
          ],
          "name": "stdout"
        },
        {
          "output_type": "stream",
          "text": [
            "WARNING:root:Lossy conversion from float64 to uint8. Range [0, 1]. Convert image to uint8 prior to saving to suppress this warning.\n"
          ],
          "name": "stderr"
        },
        {
          "output_type": "stream",
          "text": [
            "(776, 1024, 3)\n"
          ],
          "name": "stdout"
        },
        {
          "output_type": "stream",
          "text": [
            "WARNING:root:Lossy conversion from float64 to uint8. Range [0, 1]. Convert image to uint8 prior to saving to suppress this warning.\n"
          ],
          "name": "stderr"
        },
        {
          "output_type": "stream",
          "text": [
            "(856, 1280, 3)\n"
          ],
          "name": "stdout"
        },
        {
          "output_type": "stream",
          "text": [
            "WARNING:root:Lossy conversion from float64 to uint8. Range [0, 1]. Convert image to uint8 prior to saving to suppress this warning.\n",
            "WARNING:root:Lossy conversion from float64 to uint8. Range [0, 1]. Convert image to uint8 prior to saving to suppress this warning.\n"
          ],
          "name": "stderr"
        },
        {
          "output_type": "stream",
          "text": [
            "(424, 640, 3)\n",
            "(984, 1176, 3)\n"
          ],
          "name": "stdout"
        },
        {
          "output_type": "stream",
          "text": [
            "WARNING:root:Lossy conversion from float64 to uint8. Range [0, 1]. Convert image to uint8 prior to saving to suppress this warning.\n",
            "WARNING:root:Lossy conversion from float64 to uint8. Range [0, 1]. Convert image to uint8 prior to saving to suppress this warning.\n"
          ],
          "name": "stderr"
        },
        {
          "output_type": "stream",
          "text": [
            "(512, 768, 3)\n",
            "(856, 1280, 3)\n"
          ],
          "name": "stdout"
        },
        {
          "output_type": "stream",
          "text": [
            "WARNING:root:Lossy conversion from float64 to uint8. Range [0, 1]. Convert image to uint8 prior to saving to suppress this warning.\n"
          ],
          "name": "stderr"
        },
        {
          "output_type": "stream",
          "text": [
            "\b\b\b\b\b\b\b\b\b\b\b\b\b\b\b\b\b\b\b\b\b\b\b\b\b\b\b\b\b\b\b\b\b\b\b\b\b\b\b\b\b\b\b\b\b\b\b\b\b\b\b\b\b\b\b\b\b\b\b\b\b\b\b\b\b\b\b\b\b\b\b\b\b\b\b\b\b\b\b\b\b\b\r31/31 [==============================] - 38s 1s/step - loss: 0.0029 - accuracy: 0.8263 - val_loss: 181.6625 - val_accuracy: 0.5285\n",
            "Epoch 762/1000\n",
            "31/31 [==============================] - 24s 772ms/step - loss: 0.0030 - accuracy: 0.8240 - val_loss: 181.0828 - val_accuracy: 0.5874\n",
            "Epoch 763/1000\n",
            "31/31 [==============================] - 24s 776ms/step - loss: 0.0030 - accuracy: 0.8234 - val_loss: 182.0061 - val_accuracy: 0.5546\n",
            "Epoch 764/1000\n",
            "31/31 [==============================] - 24s 776ms/step - loss: 0.0029 - accuracy: 0.8248 - val_loss: 183.0730 - val_accuracy: 0.4658\n",
            "Epoch 765/1000\n",
            "31/31 [==============================] - 24s 776ms/step - loss: 0.0029 - accuracy: 0.8254 - val_loss: 181.8985 - val_accuracy: 0.5246\n",
            "Epoch 766/1000\n",
            "31/31 [==============================] - 24s 770ms/step - loss: 0.0029 - accuracy: 0.8264 - val_loss: 182.4990 - val_accuracy: 0.5169\n",
            "Epoch 767/1000\n",
            "31/31 [==============================] - 24s 776ms/step - loss: 0.0030 - accuracy: 0.8256 - val_loss: 183.5243 - val_accuracy: 0.4945\n",
            "Epoch 768/1000\n",
            "31/31 [==============================] - 24s 768ms/step - loss: 0.0029 - accuracy: 0.8261 - val_loss: 182.1929 - val_accuracy: 0.5221\n",
            "Epoch 769/1000\n",
            "31/31 [==============================] - 24s 777ms/step - loss: 0.0029 - accuracy: 0.8249 - val_loss: 182.6439 - val_accuracy: 0.4589\n",
            "Epoch 770/1000\n",
            "31/31 [==============================] - 24s 790ms/step - loss: 0.0029 - accuracy: 0.8264 - val_loss: 182.5571 - val_accuracy: 0.5082\n",
            "Epoch 771/1000\n",
            "31/31 [==============================] - ETA: 0s - loss: 0.0029 - accuracy: 0.8236(512, 768, 3)\n"
          ],
          "name": "stdout"
        },
        {
          "output_type": "stream",
          "text": [
            "/usr/local/lib/python3.6/dist-packages/skimage/color/colorconv.py:1068: UserWarning: Color data out of range: Z < 0 in 42 pixels\n",
            "  return xyz2rgb(lab2xyz(lab, illuminant, observer))\n",
            "WARNING:root:Lossy conversion from float64 to uint8. Range [0, 1]. Convert image to uint8 prior to saving to suppress this warning.\n"
          ],
          "name": "stderr"
        },
        {
          "output_type": "stream",
          "text": [
            "(800, 1088, 3)\n"
          ],
          "name": "stdout"
        },
        {
          "output_type": "stream",
          "text": [
            "WARNING:root:Lossy conversion from float64 to uint8. Range [0, 1]. Convert image to uint8 prior to saving to suppress this warning.\n"
          ],
          "name": "stderr"
        },
        {
          "output_type": "stream",
          "text": [
            "(856, 1280, 3)\n"
          ],
          "name": "stdout"
        },
        {
          "output_type": "stream",
          "text": [
            "WARNING:root:Lossy conversion from float64 to uint8. Range [0, 1]. Convert image to uint8 prior to saving to suppress this warning.\n"
          ],
          "name": "stderr"
        },
        {
          "output_type": "stream",
          "text": [
            "(528, 736, 3)\n"
          ],
          "name": "stdout"
        },
        {
          "output_type": "stream",
          "text": [
            "WARNING:root:Lossy conversion from float64 to uint8. Range [0, 1]. Convert image to uint8 prior to saving to suppress this warning.\n"
          ],
          "name": "stderr"
        },
        {
          "output_type": "stream",
          "text": [
            "(856, 1280, 3)\n"
          ],
          "name": "stdout"
        },
        {
          "output_type": "stream",
          "text": [
            "WARNING:root:Lossy conversion from float64 to uint8. Range [0, 1]. Convert image to uint8 prior to saving to suppress this warning.\n"
          ],
          "name": "stderr"
        },
        {
          "output_type": "stream",
          "text": [
            "(1400, 1400, 3)\n"
          ],
          "name": "stdout"
        },
        {
          "output_type": "stream",
          "text": [
            "WARNING:root:Lossy conversion from float64 to uint8. Range [0, 1]. Convert image to uint8 prior to saving to suppress this warning.\n"
          ],
          "name": "stderr"
        },
        {
          "output_type": "stream",
          "text": [
            "(664, 1024, 3)\n"
          ],
          "name": "stdout"
        },
        {
          "output_type": "stream",
          "text": [
            "WARNING:root:Lossy conversion from float64 to uint8. Range [0, 1]. Convert image to uint8 prior to saving to suppress this warning.\n"
          ],
          "name": "stderr"
        },
        {
          "output_type": "stream",
          "text": [
            "(776, 1024, 3)\n"
          ],
          "name": "stdout"
        },
        {
          "output_type": "stream",
          "text": [
            "WARNING:root:Lossy conversion from float64 to uint8. Range [0, 1]. Convert image to uint8 prior to saving to suppress this warning.\n"
          ],
          "name": "stderr"
        },
        {
          "output_type": "stream",
          "text": [
            "(856, 1280, 3)\n"
          ],
          "name": "stdout"
        },
        {
          "output_type": "stream",
          "text": [
            "WARNING:root:Lossy conversion from float64 to uint8. Range [0, 1]. Convert image to uint8 prior to saving to suppress this warning.\n",
            "WARNING:root:Lossy conversion from float64 to uint8. Range [0, 1]. Convert image to uint8 prior to saving to suppress this warning.\n"
          ],
          "name": "stderr"
        },
        {
          "output_type": "stream",
          "text": [
            "(424, 640, 3)\n",
            "(984, 1176, 3)\n"
          ],
          "name": "stdout"
        },
        {
          "output_type": "stream",
          "text": [
            "WARNING:root:Lossy conversion from float64 to uint8. Range [0, 1]. Convert image to uint8 prior to saving to suppress this warning.\n",
            "/usr/local/lib/python3.6/dist-packages/skimage/color/colorconv.py:1068: UserWarning: Color data out of range: Z < 0 in 30 pixels\n",
            "  return xyz2rgb(lab2xyz(lab, illuminant, observer))\n",
            "WARNING:root:Lossy conversion from float64 to uint8. Range [0, 1]. Convert image to uint8 prior to saving to suppress this warning.\n"
          ],
          "name": "stderr"
        },
        {
          "output_type": "stream",
          "text": [
            "(512, 768, 3)\n",
            "(856, 1280, 3)\n"
          ],
          "name": "stdout"
        },
        {
          "output_type": "stream",
          "text": [
            "WARNING:root:Lossy conversion from float64 to uint8. Range [0, 1]. Convert image to uint8 prior to saving to suppress this warning.\n"
          ],
          "name": "stderr"
        },
        {
          "output_type": "stream",
          "text": [
            "\b\b\b\b\b\b\b\b\b\b\b\b\b\b\b\b\b\b\b\b\b\b\b\b\b\b\b\b\b\b\b\b\b\b\b\b\b\b\b\b\b\b\b\b\b\b\b\b\b\b\b\b\b\b\b\b\b\b\b\b\b\b\b\b\b\b\b\b\b\b\b\b\b\b\b\b\b\b\b\b\b\b\r31/31 [==============================] - 38s 1s/step - loss: 0.0029 - accuracy: 0.8236 - val_loss: 182.5226 - val_accuracy: 0.4931\n",
            "Epoch 772/1000\n",
            "31/31 [==============================] - 24s 772ms/step - loss: 0.0029 - accuracy: 0.8255 - val_loss: 182.2244 - val_accuracy: 0.5160\n",
            "Epoch 773/1000\n",
            "31/31 [==============================] - 24s 774ms/step - loss: 0.0030 - accuracy: 0.8286 - val_loss: 181.4483 - val_accuracy: 0.5303\n",
            "Epoch 774/1000\n",
            "31/31 [==============================] - 24s 770ms/step - loss: 0.0028 - accuracy: 0.8265 - val_loss: 183.4798 - val_accuracy: 0.4610\n",
            "Epoch 775/1000\n",
            "31/31 [==============================] - 24s 768ms/step - loss: 0.0030 - accuracy: 0.8296 - val_loss: 182.4610 - val_accuracy: 0.4147\n",
            "Epoch 776/1000\n",
            "31/31 [==============================] - 24s 772ms/step - loss: 0.0030 - accuracy: 0.8209 - val_loss: 183.4628 - val_accuracy: 0.4178\n",
            "Epoch 777/1000\n",
            "31/31 [==============================] - 24s 775ms/step - loss: 0.0029 - accuracy: 0.8252 - val_loss: 181.6555 - val_accuracy: 0.4888\n",
            "Epoch 778/1000\n",
            "31/31 [==============================] - 24s 767ms/step - loss: 0.0029 - accuracy: 0.8266 - val_loss: 182.2005 - val_accuracy: 0.5071\n",
            "Epoch 779/1000\n",
            "31/31 [==============================] - 24s 769ms/step - loss: 0.0029 - accuracy: 0.8251 - val_loss: 184.7073 - val_accuracy: 0.4255\n",
            "Epoch 780/1000\n",
            "31/31 [==============================] - 24s 770ms/step - loss: 0.0030 - accuracy: 0.8243 - val_loss: 181.2000 - val_accuracy: 0.5994\n",
            "Epoch 781/1000\n",
            "31/31 [==============================] - ETA: 0s - loss: 0.0029 - accuracy: 0.8283(512, 768, 3)\n"
          ],
          "name": "stdout"
        },
        {
          "output_type": "stream",
          "text": [
            "/usr/local/lib/python3.6/dist-packages/skimage/color/colorconv.py:1068: UserWarning: Color data out of range: Z < 0 in 39 pixels\n",
            "  return xyz2rgb(lab2xyz(lab, illuminant, observer))\n",
            "WARNING:root:Lossy conversion from float64 to uint8. Range [0, 1]. Convert image to uint8 prior to saving to suppress this warning.\n"
          ],
          "name": "stderr"
        },
        {
          "output_type": "stream",
          "text": [
            "(800, 1088, 3)\n"
          ],
          "name": "stdout"
        },
        {
          "output_type": "stream",
          "text": [
            "WARNING:root:Lossy conversion from float64 to uint8. Range [0, 1]. Convert image to uint8 prior to saving to suppress this warning.\n"
          ],
          "name": "stderr"
        },
        {
          "output_type": "stream",
          "text": [
            "(856, 1280, 3)\n"
          ],
          "name": "stdout"
        },
        {
          "output_type": "stream",
          "text": [
            "WARNING:root:Lossy conversion from float64 to uint8. Range [0, 1]. Convert image to uint8 prior to saving to suppress this warning.\n",
            "WARNING:root:Lossy conversion from float64 to uint8. Range [0, 1]. Convert image to uint8 prior to saving to suppress this warning.\n"
          ],
          "name": "stderr"
        },
        {
          "output_type": "stream",
          "text": [
            "(528, 736, 3)\n",
            "(856, 1280, 3)\n"
          ],
          "name": "stdout"
        },
        {
          "output_type": "stream",
          "text": [
            "WARNING:root:Lossy conversion from float64 to uint8. Range [0, 1]. Convert image to uint8 prior to saving to suppress this warning.\n"
          ],
          "name": "stderr"
        },
        {
          "output_type": "stream",
          "text": [
            "(1400, 1400, 3)\n"
          ],
          "name": "stdout"
        },
        {
          "output_type": "stream",
          "text": [
            "WARNING:root:Lossy conversion from float64 to uint8. Range [0, 1]. Convert image to uint8 prior to saving to suppress this warning.\n"
          ],
          "name": "stderr"
        },
        {
          "output_type": "stream",
          "text": [
            "(664, 1024, 3)\n"
          ],
          "name": "stdout"
        },
        {
          "output_type": "stream",
          "text": [
            "WARNING:root:Lossy conversion from float64 to uint8. Range [0, 1]. Convert image to uint8 prior to saving to suppress this warning.\n"
          ],
          "name": "stderr"
        },
        {
          "output_type": "stream",
          "text": [
            "(776, 1024, 3)\n"
          ],
          "name": "stdout"
        },
        {
          "output_type": "stream",
          "text": [
            "WARNING:root:Lossy conversion from float64 to uint8. Range [0, 1]. Convert image to uint8 prior to saving to suppress this warning.\n"
          ],
          "name": "stderr"
        },
        {
          "output_type": "stream",
          "text": [
            "(856, 1280, 3)\n"
          ],
          "name": "stdout"
        },
        {
          "output_type": "stream",
          "text": [
            "WARNING:root:Lossy conversion from float64 to uint8. Range [0, 1]. Convert image to uint8 prior to saving to suppress this warning.\n",
            "WARNING:root:Lossy conversion from float64 to uint8. Range [0, 1]. Convert image to uint8 prior to saving to suppress this warning.\n"
          ],
          "name": "stderr"
        },
        {
          "output_type": "stream",
          "text": [
            "(424, 640, 3)\n",
            "(984, 1176, 3)\n"
          ],
          "name": "stdout"
        },
        {
          "output_type": "stream",
          "text": [
            "WARNING:root:Lossy conversion from float64 to uint8. Range [0, 1]. Convert image to uint8 prior to saving to suppress this warning.\n",
            "/usr/local/lib/python3.6/dist-packages/skimage/color/colorconv.py:1068: UserWarning: Color data out of range: Z < 0 in 21 pixels\n",
            "  return xyz2rgb(lab2xyz(lab, illuminant, observer))\n",
            "WARNING:root:Lossy conversion from float64 to uint8. Range [0, 1]. Convert image to uint8 prior to saving to suppress this warning.\n"
          ],
          "name": "stderr"
        },
        {
          "output_type": "stream",
          "text": [
            "(512, 768, 3)\n",
            "(856, 1280, 3)\n"
          ],
          "name": "stdout"
        },
        {
          "output_type": "stream",
          "text": [
            "WARNING:root:Lossy conversion from float64 to uint8. Range [0, 1]. Convert image to uint8 prior to saving to suppress this warning.\n"
          ],
          "name": "stderr"
        },
        {
          "output_type": "stream",
          "text": [
            "\b\b\b\b\b\b\b\b\b\b\b\b\b\b\b\b\b\b\b\b\b\b\b\b\b\b\b\b\b\b\b\b\b\b\b\b\b\b\b\b\b\b\b\b\b\b\b\b\b\b\b\b\b\b\b\b\b\b\b\b\b\b\b\b\b\b\b\b\b\b\b\b\b\b\b\b\b\b\b\b\b\b\r31/31 [==============================] - 38s 1s/step - loss: 0.0029 - accuracy: 0.8283 - val_loss: 179.9341 - val_accuracy: 0.6129\n",
            "Epoch 782/1000\n",
            "31/31 [==============================] - 24s 773ms/step - loss: 0.0030 - accuracy: 0.8201 - val_loss: 181.4542 - val_accuracy: 0.5337\n",
            "Epoch 783/1000\n",
            "31/31 [==============================] - 24s 773ms/step - loss: 0.0029 - accuracy: 0.8325 - val_loss: 182.6832 - val_accuracy: 0.4787\n",
            "Epoch 784/1000\n",
            "31/31 [==============================] - 24s 767ms/step - loss: 0.0029 - accuracy: 0.8285 - val_loss: 182.3319 - val_accuracy: 0.4832\n",
            "Epoch 785/1000\n",
            "31/31 [==============================] - 23s 757ms/step - loss: 0.0029 - accuracy: 0.8220 - val_loss: 183.6463 - val_accuracy: 0.4398\n",
            "Epoch 786/1000\n",
            "31/31 [==============================] - 24s 759ms/step - loss: 0.0029 - accuracy: 0.8249 - val_loss: 182.3254 - val_accuracy: 0.4721\n",
            "Epoch 787/1000\n",
            "31/31 [==============================] - 23s 751ms/step - loss: 0.0029 - accuracy: 0.8278 - val_loss: 183.8519 - val_accuracy: 0.4466\n",
            "Epoch 788/1000\n",
            "31/31 [==============================] - 23s 749ms/step - loss: 0.0030 - accuracy: 0.8256 - val_loss: 182.1107 - val_accuracy: 0.4694\n",
            "Epoch 789/1000\n",
            "31/31 [==============================] - 24s 758ms/step - loss: 0.0029 - accuracy: 0.8322 - val_loss: 183.0464 - val_accuracy: 0.4118\n",
            "Epoch 790/1000\n",
            "31/31 [==============================] - 23s 750ms/step - loss: 0.0030 - accuracy: 0.8246 - val_loss: 181.7531 - val_accuracy: 0.4598\n",
            "Epoch 791/1000\n",
            "31/31 [==============================] - ETA: 0s - loss: 0.0029 - accuracy: 0.8244(512, 768, 3)\n"
          ],
          "name": "stdout"
        },
        {
          "output_type": "stream",
          "text": [
            "WARNING:root:Lossy conversion from float64 to uint8. Range [0, 1]. Convert image to uint8 prior to saving to suppress this warning.\n"
          ],
          "name": "stderr"
        },
        {
          "output_type": "stream",
          "text": [
            "(800, 1088, 3)\n"
          ],
          "name": "stdout"
        },
        {
          "output_type": "stream",
          "text": [
            "WARNING:root:Lossy conversion from float64 to uint8. Range [0, 1]. Convert image to uint8 prior to saving to suppress this warning.\n"
          ],
          "name": "stderr"
        },
        {
          "output_type": "stream",
          "text": [
            "(856, 1280, 3)\n"
          ],
          "name": "stdout"
        },
        {
          "output_type": "stream",
          "text": [
            "WARNING:root:Lossy conversion from float64 to uint8. Range [0, 1]. Convert image to uint8 prior to saving to suppress this warning.\n",
            "WARNING:root:Lossy conversion from float64 to uint8. Range [0, 1]. Convert image to uint8 prior to saving to suppress this warning.\n"
          ],
          "name": "stderr"
        },
        {
          "output_type": "stream",
          "text": [
            "(528, 736, 3)\n",
            "(856, 1280, 3)\n"
          ],
          "name": "stdout"
        },
        {
          "output_type": "stream",
          "text": [
            "WARNING:root:Lossy conversion from float64 to uint8. Range [0, 1]. Convert image to uint8 prior to saving to suppress this warning.\n"
          ],
          "name": "stderr"
        },
        {
          "output_type": "stream",
          "text": [
            "(1400, 1400, 3)\n"
          ],
          "name": "stdout"
        },
        {
          "output_type": "stream",
          "text": [
            "WARNING:root:Lossy conversion from float64 to uint8. Range [0, 1]. Convert image to uint8 prior to saving to suppress this warning.\n"
          ],
          "name": "stderr"
        },
        {
          "output_type": "stream",
          "text": [
            "(664, 1024, 3)\n"
          ],
          "name": "stdout"
        },
        {
          "output_type": "stream",
          "text": [
            "WARNING:root:Lossy conversion from float64 to uint8. Range [0, 1]. Convert image to uint8 prior to saving to suppress this warning.\n"
          ],
          "name": "stderr"
        },
        {
          "output_type": "stream",
          "text": [
            "(776, 1024, 3)\n"
          ],
          "name": "stdout"
        },
        {
          "output_type": "stream",
          "text": [
            "WARNING:root:Lossy conversion from float64 to uint8. Range [0, 1]. Convert image to uint8 prior to saving to suppress this warning.\n"
          ],
          "name": "stderr"
        },
        {
          "output_type": "stream",
          "text": [
            "(856, 1280, 3)\n"
          ],
          "name": "stdout"
        },
        {
          "output_type": "stream",
          "text": [
            "WARNING:root:Lossy conversion from float64 to uint8. Range [0, 1]. Convert image to uint8 prior to saving to suppress this warning.\n",
            "WARNING:root:Lossy conversion from float64 to uint8. Range [0, 1]. Convert image to uint8 prior to saving to suppress this warning.\n"
          ],
          "name": "stderr"
        },
        {
          "output_type": "stream",
          "text": [
            "(424, 640, 3)\n",
            "(984, 1176, 3)\n"
          ],
          "name": "stdout"
        },
        {
          "output_type": "stream",
          "text": [
            "WARNING:root:Lossy conversion from float64 to uint8. Range [0, 1]. Convert image to uint8 prior to saving to suppress this warning.\n",
            "WARNING:root:Lossy conversion from float64 to uint8. Range [0, 1]. Convert image to uint8 prior to saving to suppress this warning.\n"
          ],
          "name": "stderr"
        },
        {
          "output_type": "stream",
          "text": [
            "(512, 768, 3)\n",
            "(856, 1280, 3)\n"
          ],
          "name": "stdout"
        },
        {
          "output_type": "stream",
          "text": [
            "WARNING:root:Lossy conversion from float64 to uint8. Range [0, 1]. Convert image to uint8 prior to saving to suppress this warning.\n"
          ],
          "name": "stderr"
        },
        {
          "output_type": "stream",
          "text": [
            "\b\b\b\b\b\b\b\b\b\b\b\b\b\b\b\b\b\b\b\b\b\b\b\b\b\b\b\b\b\b\b\b\b\b\b\b\b\b\b\b\b\b\b\b\b\b\b\b\b\b\b\b\b\b\b\b\b\b\b\b\b\b\b\b\b\b\b\b\b\b\b\b\b\b\b\b\b\b\b\b\b\b\r31/31 [==============================] - 37s 1s/step - loss: 0.0029 - accuracy: 0.8244 - val_loss: 183.2032 - val_accuracy: 0.4441\n",
            "Epoch 792/1000\n",
            "31/31 [==============================] - 23s 745ms/step - loss: 0.0029 - accuracy: 0.8270 - val_loss: 181.8144 - val_accuracy: 0.5096\n",
            "Epoch 793/1000\n",
            "31/31 [==============================] - 23s 743ms/step - loss: 0.0029 - accuracy: 0.8272 - val_loss: 182.4662 - val_accuracy: 0.4358\n",
            "Epoch 794/1000\n",
            "31/31 [==============================] - 23s 743ms/step - loss: 0.0029 - accuracy: 0.8301 - val_loss: 182.5455 - val_accuracy: 0.4906\n",
            "Epoch 795/1000\n",
            "31/31 [==============================] - 23s 740ms/step - loss: 0.0029 - accuracy: 0.8253 - val_loss: 182.7825 - val_accuracy: 0.4887\n",
            "Epoch 796/1000\n",
            "31/31 [==============================] - 23s 737ms/step - loss: 0.0029 - accuracy: 0.8291 - val_loss: 183.5701 - val_accuracy: 0.4645\n",
            "Epoch 797/1000\n",
            "31/31 [==============================] - 23s 732ms/step - loss: 0.0029 - accuracy: 0.8217 - val_loss: 183.3598 - val_accuracy: 0.4432\n",
            "Epoch 798/1000\n",
            "31/31 [==============================] - 23s 727ms/step - loss: 0.0029 - accuracy: 0.8275 - val_loss: 183.9029 - val_accuracy: 0.4437\n",
            "Epoch 799/1000\n",
            "31/31 [==============================] - 23s 728ms/step - loss: 0.0028 - accuracy: 0.8275 - val_loss: 182.3981 - val_accuracy: 0.4801\n",
            "Epoch 800/1000\n",
            "31/31 [==============================] - 22s 719ms/step - loss: 0.0030 - accuracy: 0.8269 - val_loss: 183.1693 - val_accuracy: 0.4837\n",
            "Epoch 801/1000\n",
            "31/31 [==============================] - ETA: 0s - loss: 0.0029 - accuracy: 0.8247"
          ],
          "name": "stdout"
        },
        {
          "output_type": "stream",
          "text": [
            "WARNING:root:Lossy conversion from float64 to uint8. Range [0, 1]. Convert image to uint8 prior to saving to suppress this warning.\n"
          ],
          "name": "stderr"
        },
        {
          "output_type": "stream",
          "text": [
            "(512, 768, 3)\n",
            "(800, 1088, 3)\n"
          ],
          "name": "stdout"
        },
        {
          "output_type": "stream",
          "text": [
            "WARNING:root:Lossy conversion from float64 to uint8. Range [0, 1]. Convert image to uint8 prior to saving to suppress this warning.\n"
          ],
          "name": "stderr"
        },
        {
          "output_type": "stream",
          "text": [
            "(856, 1280, 3)\n"
          ],
          "name": "stdout"
        },
        {
          "output_type": "stream",
          "text": [
            "WARNING:root:Lossy conversion from float64 to uint8. Range [0, 1]. Convert image to uint8 prior to saving to suppress this warning.\n",
            "WARNING:root:Lossy conversion from float64 to uint8. Range [0, 1]. Convert image to uint8 prior to saving to suppress this warning.\n"
          ],
          "name": "stderr"
        },
        {
          "output_type": "stream",
          "text": [
            "(528, 736, 3)\n",
            "(856, 1280, 3)\n"
          ],
          "name": "stdout"
        },
        {
          "output_type": "stream",
          "text": [
            "WARNING:root:Lossy conversion from float64 to uint8. Range [0, 1]. Convert image to uint8 prior to saving to suppress this warning.\n"
          ],
          "name": "stderr"
        },
        {
          "output_type": "stream",
          "text": [
            "(1400, 1400, 3)\n"
          ],
          "name": "stdout"
        },
        {
          "output_type": "stream",
          "text": [
            "WARNING:root:Lossy conversion from float64 to uint8. Range [0, 1]. Convert image to uint8 prior to saving to suppress this warning.\n"
          ],
          "name": "stderr"
        },
        {
          "output_type": "stream",
          "text": [
            "(664, 1024, 3)\n"
          ],
          "name": "stdout"
        },
        {
          "output_type": "stream",
          "text": [
            "WARNING:root:Lossy conversion from float64 to uint8. Range [0, 1]. Convert image to uint8 prior to saving to suppress this warning.\n"
          ],
          "name": "stderr"
        },
        {
          "output_type": "stream",
          "text": [
            "(776, 1024, 3)\n"
          ],
          "name": "stdout"
        },
        {
          "output_type": "stream",
          "text": [
            "WARNING:root:Lossy conversion from float64 to uint8. Range [0, 1]. Convert image to uint8 prior to saving to suppress this warning.\n"
          ],
          "name": "stderr"
        },
        {
          "output_type": "stream",
          "text": [
            "(856, 1280, 3)\n"
          ],
          "name": "stdout"
        },
        {
          "output_type": "stream",
          "text": [
            "WARNING:root:Lossy conversion from float64 to uint8. Range [0, 1]. Convert image to uint8 prior to saving to suppress this warning.\n",
            "WARNING:root:Lossy conversion from float64 to uint8. Range [0, 1]. Convert image to uint8 prior to saving to suppress this warning.\n"
          ],
          "name": "stderr"
        },
        {
          "output_type": "stream",
          "text": [
            "(424, 640, 3)\n",
            "(984, 1176, 3)\n"
          ],
          "name": "stdout"
        },
        {
          "output_type": "stream",
          "text": [
            "WARNING:root:Lossy conversion from float64 to uint8. Range [0, 1]. Convert image to uint8 prior to saving to suppress this warning.\n",
            "WARNING:root:Lossy conversion from float64 to uint8. Range [0, 1]. Convert image to uint8 prior to saving to suppress this warning.\n"
          ],
          "name": "stderr"
        },
        {
          "output_type": "stream",
          "text": [
            "(512, 768, 3)\n",
            "(856, 1280, 3)\n"
          ],
          "name": "stdout"
        },
        {
          "output_type": "stream",
          "text": [
            "WARNING:root:Lossy conversion from float64 to uint8. Range [0, 1]. Convert image to uint8 prior to saving to suppress this warning.\n"
          ],
          "name": "stderr"
        },
        {
          "output_type": "stream",
          "text": [
            "\b\b\b\b\b\b\b\b\b\b\b\b\b\b\b\b\b\b\b\b\b\b\b\b\b\b\b\b\b\b\b\b\b\b\b\b\b\b\b\b\b\b\b\b\b\b\b\b\b\b\b\b\b\b\b\b\b\b\b\b\b\b\b\b\b\b\b\b\b\b\b\b\b\b\b\b\b\b\b\b\b\b\r31/31 [==============================] - 36s 1s/step - loss: 0.0029 - accuracy: 0.8247 - val_loss: 181.9350 - val_accuracy: 0.5160\n",
            "Epoch 802/1000\n",
            "31/31 [==============================] - 23s 739ms/step - loss: 0.0030 - accuracy: 0.8265 - val_loss: 184.9169 - val_accuracy: 0.4072\n",
            "Epoch 803/1000\n",
            "31/31 [==============================] - 23s 727ms/step - loss: 0.0029 - accuracy: 0.8250 - val_loss: 182.5496 - val_accuracy: 0.5219\n",
            "Epoch 804/1000\n",
            "31/31 [==============================] - 22s 725ms/step - loss: 0.0028 - accuracy: 0.8299 - val_loss: 183.6877 - val_accuracy: 0.4392\n",
            "Epoch 805/1000\n",
            "31/31 [==============================] - 23s 729ms/step - loss: 0.0029 - accuracy: 0.8255 - val_loss: 182.3688 - val_accuracy: 0.4945\n",
            "Epoch 806/1000\n",
            "31/31 [==============================] - 22s 724ms/step - loss: 0.0028 - accuracy: 0.8247 - val_loss: 183.6404 - val_accuracy: 0.4370\n",
            "Epoch 807/1000\n",
            "31/31 [==============================] - 23s 729ms/step - loss: 0.0033 - accuracy: 0.8197 - val_loss: 182.4661 - val_accuracy: 0.5111\n",
            "Epoch 808/1000\n",
            "31/31 [==============================] - 22s 726ms/step - loss: 0.0028 - accuracy: 0.8311 - val_loss: 183.6898 - val_accuracy: 0.4312\n",
            "Epoch 809/1000\n",
            "31/31 [==============================] - 22s 725ms/step - loss: 0.0030 - accuracy: 0.8245 - val_loss: 183.2797 - val_accuracy: 0.4423\n",
            "Epoch 810/1000\n",
            "31/31 [==============================] - 22s 725ms/step - loss: 0.0029 - accuracy: 0.8308 - val_loss: 181.8652 - val_accuracy: 0.4895\n",
            "Epoch 811/1000\n",
            "31/31 [==============================] - ETA: 0s - loss: 0.0030 - accuracy: 0.8243(512, 768, 3)\n"
          ],
          "name": "stdout"
        },
        {
          "output_type": "stream",
          "text": [
            "/usr/local/lib/python3.6/dist-packages/skimage/color/colorconv.py:1068: UserWarning: Color data out of range: Z < 0 in 85 pixels\n",
            "  return xyz2rgb(lab2xyz(lab, illuminant, observer))\n",
            "WARNING:root:Lossy conversion from float64 to uint8. Range [0, 1]. Convert image to uint8 prior to saving to suppress this warning.\n"
          ],
          "name": "stderr"
        },
        {
          "output_type": "stream",
          "text": [
            "(800, 1088, 3)\n"
          ],
          "name": "stdout"
        },
        {
          "output_type": "stream",
          "text": [
            "WARNING:root:Lossy conversion from float64 to uint8. Range [0, 1]. Convert image to uint8 prior to saving to suppress this warning.\n"
          ],
          "name": "stderr"
        },
        {
          "output_type": "stream",
          "text": [
            "(856, 1280, 3)\n"
          ],
          "name": "stdout"
        },
        {
          "output_type": "stream",
          "text": [
            "WARNING:root:Lossy conversion from float64 to uint8. Range [0, 1]. Convert image to uint8 prior to saving to suppress this warning.\n",
            "WARNING:root:Lossy conversion from float64 to uint8. Range [0, 1]. Convert image to uint8 prior to saving to suppress this warning.\n"
          ],
          "name": "stderr"
        },
        {
          "output_type": "stream",
          "text": [
            "(528, 736, 3)\n",
            "(856, 1280, 3)\n"
          ],
          "name": "stdout"
        },
        {
          "output_type": "stream",
          "text": [
            "WARNING:root:Lossy conversion from float64 to uint8. Range [0, 1]. Convert image to uint8 prior to saving to suppress this warning.\n"
          ],
          "name": "stderr"
        },
        {
          "output_type": "stream",
          "text": [
            "(1400, 1400, 3)\n"
          ],
          "name": "stdout"
        },
        {
          "output_type": "stream",
          "text": [
            "WARNING:root:Lossy conversion from float64 to uint8. Range [0, 1]. Convert image to uint8 prior to saving to suppress this warning.\n"
          ],
          "name": "stderr"
        },
        {
          "output_type": "stream",
          "text": [
            "(664, 1024, 3)\n"
          ],
          "name": "stdout"
        },
        {
          "output_type": "stream",
          "text": [
            "WARNING:root:Lossy conversion from float64 to uint8. Range [0, 1]. Convert image to uint8 prior to saving to suppress this warning.\n"
          ],
          "name": "stderr"
        },
        {
          "output_type": "stream",
          "text": [
            "(776, 1024, 3)\n"
          ],
          "name": "stdout"
        },
        {
          "output_type": "stream",
          "text": [
            "WARNING:root:Lossy conversion from float64 to uint8. Range [0, 1]. Convert image to uint8 prior to saving to suppress this warning.\n"
          ],
          "name": "stderr"
        },
        {
          "output_type": "stream",
          "text": [
            "(856, 1280, 3)\n"
          ],
          "name": "stdout"
        },
        {
          "output_type": "stream",
          "text": [
            "WARNING:root:Lossy conversion from float64 to uint8. Range [0, 1]. Convert image to uint8 prior to saving to suppress this warning.\n",
            "WARNING:root:Lossy conversion from float64 to uint8. Range [0, 1]. Convert image to uint8 prior to saving to suppress this warning.\n"
          ],
          "name": "stderr"
        },
        {
          "output_type": "stream",
          "text": [
            "(424, 640, 3)\n",
            "(984, 1176, 3)\n"
          ],
          "name": "stdout"
        },
        {
          "output_type": "stream",
          "text": [
            "WARNING:root:Lossy conversion from float64 to uint8. Range [0, 1]. Convert image to uint8 prior to saving to suppress this warning.\n",
            "WARNING:root:Lossy conversion from float64 to uint8. Range [0, 1]. Convert image to uint8 prior to saving to suppress this warning.\n"
          ],
          "name": "stderr"
        },
        {
          "output_type": "stream",
          "text": [
            "(512, 768, 3)\n",
            "(856, 1280, 3)\n"
          ],
          "name": "stdout"
        },
        {
          "output_type": "stream",
          "text": [
            "WARNING:root:Lossy conversion from float64 to uint8. Range [0, 1]. Convert image to uint8 prior to saving to suppress this warning.\n"
          ],
          "name": "stderr"
        },
        {
          "output_type": "stream",
          "text": [
            "\b\b\b\b\b\b\b\b\b\b\b\b\b\b\b\b\b\b\b\b\b\b\b\b\b\b\b\b\b\b\b\b\b\b\b\b\b\b\b\b\b\b\b\b\b\b\b\b\b\b\b\b\b\b\b\b\b\b\b\b\b\b\b\b\b\b\b\b\b\b\b\b\b\b\b\b\b\b\b\b\b\b\r31/31 [==============================] - 36s 1s/step - loss: 0.0030 - accuracy: 0.8243 - val_loss: 185.5654 - val_accuracy: 0.3903\n",
            "Epoch 812/1000\n",
            "31/31 [==============================] - 22s 725ms/step - loss: 0.0028 - accuracy: 0.8301 - val_loss: 183.1370 - val_accuracy: 0.4677\n",
            "Epoch 813/1000\n",
            "31/31 [==============================] - 23s 729ms/step - loss: 0.0029 - accuracy: 0.8269 - val_loss: 181.2135 - val_accuracy: 0.5082\n",
            "Epoch 814/1000\n",
            "31/31 [==============================] - 22s 725ms/step - loss: 0.0029 - accuracy: 0.8266 - val_loss: 181.5575 - val_accuracy: 0.4971\n",
            "Epoch 815/1000\n",
            "31/31 [==============================] - 23s 730ms/step - loss: 0.0030 - accuracy: 0.8244 - val_loss: 182.4012 - val_accuracy: 0.4532\n",
            "Epoch 816/1000\n",
            "31/31 [==============================] - 22s 722ms/step - loss: 0.0028 - accuracy: 0.8294 - val_loss: 182.9679 - val_accuracy: 0.4635\n",
            "Epoch 817/1000\n",
            "31/31 [==============================] - 22s 721ms/step - loss: 0.0029 - accuracy: 0.8269 - val_loss: 182.7170 - val_accuracy: 0.4886\n",
            "Epoch 818/1000\n",
            "31/31 [==============================] - 23s 729ms/step - loss: 0.0029 - accuracy: 0.8266 - val_loss: 182.4835 - val_accuracy: 0.4200\n",
            "Epoch 819/1000\n",
            "31/31 [==============================] - 23s 727ms/step - loss: 0.0030 - accuracy: 0.8237 - val_loss: 183.0215 - val_accuracy: 0.4410\n",
            "Epoch 820/1000\n",
            "31/31 [==============================] - 23s 729ms/step - loss: 0.0029 - accuracy: 0.8218 - val_loss: 183.1521 - val_accuracy: 0.4167\n",
            "Epoch 821/1000\n",
            "31/31 [==============================] - ETA: 0s - loss: 0.0028 - accuracy: 0.8288(512, 768, 3)\n"
          ],
          "name": "stdout"
        },
        {
          "output_type": "stream",
          "text": [
            "/usr/local/lib/python3.6/dist-packages/skimage/color/colorconv.py:1068: UserWarning: Color data out of range: Z < 0 in 117 pixels\n",
            "  return xyz2rgb(lab2xyz(lab, illuminant, observer))\n",
            "WARNING:root:Lossy conversion from float64 to uint8. Range [0, 1]. Convert image to uint8 prior to saving to suppress this warning.\n"
          ],
          "name": "stderr"
        },
        {
          "output_type": "stream",
          "text": [
            "(800, 1088, 3)\n"
          ],
          "name": "stdout"
        },
        {
          "output_type": "stream",
          "text": [
            "WARNING:root:Lossy conversion from float64 to uint8. Range [0, 1]. Convert image to uint8 prior to saving to suppress this warning.\n"
          ],
          "name": "stderr"
        },
        {
          "output_type": "stream",
          "text": [
            "(856, 1280, 3)\n"
          ],
          "name": "stdout"
        },
        {
          "output_type": "stream",
          "text": [
            "WARNING:root:Lossy conversion from float64 to uint8. Range [0, 1]. Convert image to uint8 prior to saving to suppress this warning.\n",
            "WARNING:root:Lossy conversion from float64 to uint8. Range [0, 1]. Convert image to uint8 prior to saving to suppress this warning.\n"
          ],
          "name": "stderr"
        },
        {
          "output_type": "stream",
          "text": [
            "(528, 736, 3)\n",
            "(856, 1280, 3)\n"
          ],
          "name": "stdout"
        },
        {
          "output_type": "stream",
          "text": [
            "WARNING:root:Lossy conversion from float64 to uint8. Range [0, 1]. Convert image to uint8 prior to saving to suppress this warning.\n"
          ],
          "name": "stderr"
        },
        {
          "output_type": "stream",
          "text": [
            "(1400, 1400, 3)\n"
          ],
          "name": "stdout"
        },
        {
          "output_type": "stream",
          "text": [
            "WARNING:root:Lossy conversion from float64 to uint8. Range [0, 1]. Convert image to uint8 prior to saving to suppress this warning.\n"
          ],
          "name": "stderr"
        },
        {
          "output_type": "stream",
          "text": [
            "(664, 1024, 3)\n"
          ],
          "name": "stdout"
        },
        {
          "output_type": "stream",
          "text": [
            "WARNING:root:Lossy conversion from float64 to uint8. Range [0, 1]. Convert image to uint8 prior to saving to suppress this warning.\n"
          ],
          "name": "stderr"
        },
        {
          "output_type": "stream",
          "text": [
            "(776, 1024, 3)\n"
          ],
          "name": "stdout"
        },
        {
          "output_type": "stream",
          "text": [
            "WARNING:root:Lossy conversion from float64 to uint8. Range [0, 1]. Convert image to uint8 prior to saving to suppress this warning.\n"
          ],
          "name": "stderr"
        },
        {
          "output_type": "stream",
          "text": [
            "(856, 1280, 3)\n"
          ],
          "name": "stdout"
        },
        {
          "output_type": "stream",
          "text": [
            "WARNING:root:Lossy conversion from float64 to uint8. Range [0, 1]. Convert image to uint8 prior to saving to suppress this warning.\n",
            "WARNING:root:Lossy conversion from float64 to uint8. Range [0, 1]. Convert image to uint8 prior to saving to suppress this warning.\n"
          ],
          "name": "stderr"
        },
        {
          "output_type": "stream",
          "text": [
            "(424, 640, 3)\n",
            "(984, 1176, 3)\n"
          ],
          "name": "stdout"
        },
        {
          "output_type": "stream",
          "text": [
            "WARNING:root:Lossy conversion from float64 to uint8. Range [0, 1]. Convert image to uint8 prior to saving to suppress this warning.\n",
            "WARNING:root:Lossy conversion from float64 to uint8. Range [0, 1]. Convert image to uint8 prior to saving to suppress this warning.\n"
          ],
          "name": "stderr"
        },
        {
          "output_type": "stream",
          "text": [
            "(512, 768, 3)\n",
            "(856, 1280, 3)\n"
          ],
          "name": "stdout"
        },
        {
          "output_type": "stream",
          "text": [
            "WARNING:root:Lossy conversion from float64 to uint8. Range [0, 1]. Convert image to uint8 prior to saving to suppress this warning.\n"
          ],
          "name": "stderr"
        },
        {
          "output_type": "stream",
          "text": [
            "\b\b\b\b\b\b\b\b\b\b\b\b\b\b\b\b\b\b\b\b\b\b\b\b\b\b\b\b\b\b\b\b\b\b\b\b\b\b\b\b\b\b\b\b\b\b\b\b\b\b\b\b\b\b\b\b\b\b\b\b\b\b\b\b\b\b\b\b\b\b\b\b\b\b\b\b\b\b\b\b\b\b\r31/31 [==============================] - 36s 1s/step - loss: 0.0028 - accuracy: 0.8288 - val_loss: 181.8137 - val_accuracy: 0.4999\n",
            "Epoch 822/1000\n",
            "31/31 [==============================] - 22s 725ms/step - loss: 0.0029 - accuracy: 0.8260 - val_loss: 182.0078 - val_accuracy: 0.4866\n",
            "Epoch 823/1000\n",
            "31/31 [==============================] - 22s 724ms/step - loss: 0.0029 - accuracy: 0.8272 - val_loss: 183.0425 - val_accuracy: 0.4907\n",
            "Epoch 824/1000\n",
            "31/31 [==============================] - 22s 723ms/step - loss: 0.0028 - accuracy: 0.8278 - val_loss: 181.8004 - val_accuracy: 0.4917\n",
            "Epoch 825/1000\n",
            "31/31 [==============================] - 23s 733ms/step - loss: 0.0031 - accuracy: 0.8243 - val_loss: 181.4315 - val_accuracy: 0.5646\n",
            "Epoch 826/1000\n",
            "31/31 [==============================] - 23s 726ms/step - loss: 0.0027 - accuracy: 0.8315 - val_loss: 182.3392 - val_accuracy: 0.4497\n",
            "Epoch 827/1000\n",
            "31/31 [==============================] - 22s 724ms/step - loss: 0.0029 - accuracy: 0.8268 - val_loss: 181.5819 - val_accuracy: 0.4950\n",
            "Epoch 828/1000\n",
            "31/31 [==============================] - 23s 728ms/step - loss: 0.0028 - accuracy: 0.8231 - val_loss: 182.4768 - val_accuracy: 0.4910\n",
            "Epoch 829/1000\n",
            "31/31 [==============================] - 22s 722ms/step - loss: 0.0029 - accuracy: 0.8296 - val_loss: 181.9487 - val_accuracy: 0.5667\n",
            "Epoch 830/1000\n",
            "31/31 [==============================] - 22s 722ms/step - loss: 0.0029 - accuracy: 0.8244 - val_loss: 182.7570 - val_accuracy: 0.4651\n",
            "Epoch 831/1000\n",
            "31/31 [==============================] - ETA: 0s - loss: 0.0029 - accuracy: 0.8294(512, 768, 3)\n"
          ],
          "name": "stdout"
        },
        {
          "output_type": "stream",
          "text": [
            "/usr/local/lib/python3.6/dist-packages/skimage/color/colorconv.py:1068: UserWarning: Color data out of range: Z < 0 in 129 pixels\n",
            "  return xyz2rgb(lab2xyz(lab, illuminant, observer))\n",
            "WARNING:root:Lossy conversion from float64 to uint8. Range [0, 1]. Convert image to uint8 prior to saving to suppress this warning.\n"
          ],
          "name": "stderr"
        },
        {
          "output_type": "stream",
          "text": [
            "(800, 1088, 3)\n"
          ],
          "name": "stdout"
        },
        {
          "output_type": "stream",
          "text": [
            "WARNING:root:Lossy conversion from float64 to uint8. Range [0, 1]. Convert image to uint8 prior to saving to suppress this warning.\n"
          ],
          "name": "stderr"
        },
        {
          "output_type": "stream",
          "text": [
            "(856, 1280, 3)\n"
          ],
          "name": "stdout"
        },
        {
          "output_type": "stream",
          "text": [
            "WARNING:root:Lossy conversion from float64 to uint8. Range [0, 1]. Convert image to uint8 prior to saving to suppress this warning.\n",
            "WARNING:root:Lossy conversion from float64 to uint8. Range [0, 1]. Convert image to uint8 prior to saving to suppress this warning.\n"
          ],
          "name": "stderr"
        },
        {
          "output_type": "stream",
          "text": [
            "(528, 736, 3)\n",
            "(856, 1280, 3)\n"
          ],
          "name": "stdout"
        },
        {
          "output_type": "stream",
          "text": [
            "WARNING:root:Lossy conversion from float64 to uint8. Range [0, 1]. Convert image to uint8 prior to saving to suppress this warning.\n"
          ],
          "name": "stderr"
        },
        {
          "output_type": "stream",
          "text": [
            "(1400, 1400, 3)\n"
          ],
          "name": "stdout"
        },
        {
          "output_type": "stream",
          "text": [
            "WARNING:root:Lossy conversion from float64 to uint8. Range [0, 1]. Convert image to uint8 prior to saving to suppress this warning.\n"
          ],
          "name": "stderr"
        },
        {
          "output_type": "stream",
          "text": [
            "(664, 1024, 3)\n"
          ],
          "name": "stdout"
        },
        {
          "output_type": "stream",
          "text": [
            "WARNING:root:Lossy conversion from float64 to uint8. Range [0, 1]. Convert image to uint8 prior to saving to suppress this warning.\n"
          ],
          "name": "stderr"
        },
        {
          "output_type": "stream",
          "text": [
            "(776, 1024, 3)\n"
          ],
          "name": "stdout"
        },
        {
          "output_type": "stream",
          "text": [
            "WARNING:root:Lossy conversion from float64 to uint8. Range [0, 1]. Convert image to uint8 prior to saving to suppress this warning.\n"
          ],
          "name": "stderr"
        },
        {
          "output_type": "stream",
          "text": [
            "(856, 1280, 3)\n"
          ],
          "name": "stdout"
        },
        {
          "output_type": "stream",
          "text": [
            "WARNING:root:Lossy conversion from float64 to uint8. Range [0, 1]. Convert image to uint8 prior to saving to suppress this warning.\n",
            "WARNING:root:Lossy conversion from float64 to uint8. Range [0, 1]. Convert image to uint8 prior to saving to suppress this warning.\n"
          ],
          "name": "stderr"
        },
        {
          "output_type": "stream",
          "text": [
            "(424, 640, 3)\n",
            "(984, 1176, 3)\n"
          ],
          "name": "stdout"
        },
        {
          "output_type": "stream",
          "text": [
            "WARNING:root:Lossy conversion from float64 to uint8. Range [0, 1]. Convert image to uint8 prior to saving to suppress this warning.\n",
            "WARNING:root:Lossy conversion from float64 to uint8. Range [0, 1]. Convert image to uint8 prior to saving to suppress this warning.\n"
          ],
          "name": "stderr"
        },
        {
          "output_type": "stream",
          "text": [
            "(512, 768, 3)\n",
            "(856, 1280, 3)\n"
          ],
          "name": "stdout"
        },
        {
          "output_type": "stream",
          "text": [
            "WARNING:root:Lossy conversion from float64 to uint8. Range [0, 1]. Convert image to uint8 prior to saving to suppress this warning.\n"
          ],
          "name": "stderr"
        },
        {
          "output_type": "stream",
          "text": [
            "\b\b\b\b\b\b\b\b\b\b\b\b\b\b\b\b\b\b\b\b\b\b\b\b\b\b\b\b\b\b\b\b\b\b\b\b\b\b\b\b\b\b\b\b\b\b\b\b\b\b\b\b\b\b\b\b\b\b\b\b\b\b\b\b\b\b\b\b\b\b\b\b\b\b\b\b\b\b\b\b\b\b\r31/31 [==============================] - 36s 1s/step - loss: 0.0029 - accuracy: 0.8294 - val_loss: 183.3548 - val_accuracy: 0.4789\n",
            "Epoch 832/1000\n",
            "31/31 [==============================] - 23s 733ms/step - loss: 0.0029 - accuracy: 0.8271 - val_loss: 183.5461 - val_accuracy: 0.4296\n",
            "Epoch 833/1000\n",
            "31/31 [==============================] - 23s 734ms/step - loss: 0.0029 - accuracy: 0.8276 - val_loss: 182.7835 - val_accuracy: 0.4417\n",
            "Epoch 834/1000\n",
            "31/31 [==============================] - 23s 736ms/step - loss: 0.0028 - accuracy: 0.8270 - val_loss: 183.0114 - val_accuracy: 0.4515\n",
            "Epoch 835/1000\n",
            "31/31 [==============================] - 23s 727ms/step - loss: 0.0029 - accuracy: 0.8272 - val_loss: 182.7722 - val_accuracy: 0.4647\n",
            "Epoch 836/1000\n",
            "31/31 [==============================] - 22s 724ms/step - loss: 0.0029 - accuracy: 0.8237 - val_loss: 182.3409 - val_accuracy: 0.4824\n",
            "Epoch 837/1000\n",
            "31/31 [==============================] - 23s 728ms/step - loss: 0.0028 - accuracy: 0.8297 - val_loss: 182.1505 - val_accuracy: 0.4771\n",
            "Epoch 838/1000\n",
            "31/31 [==============================] - 23s 729ms/step - loss: 0.0029 - accuracy: 0.8278 - val_loss: 182.3322 - val_accuracy: 0.4860\n",
            "Epoch 839/1000\n",
            "31/31 [==============================] - 23s 726ms/step - loss: 0.0028 - accuracy: 0.8288 - val_loss: 182.3270 - val_accuracy: 0.5139\n",
            "Epoch 840/1000\n",
            "31/31 [==============================] - 22s 723ms/step - loss: 0.0028 - accuracy: 0.8283 - val_loss: 182.2044 - val_accuracy: 0.5094\n",
            "Epoch 841/1000\n",
            "31/31 [==============================] - ETA: 0s - loss: 0.0030 - accuracy: 0.8276(512, 768, 3)\n"
          ],
          "name": "stdout"
        },
        {
          "output_type": "stream",
          "text": [
            "WARNING:root:Lossy conversion from float64 to uint8. Range [0, 1]. Convert image to uint8 prior to saving to suppress this warning.\n"
          ],
          "name": "stderr"
        },
        {
          "output_type": "stream",
          "text": [
            "(800, 1088, 3)\n"
          ],
          "name": "stdout"
        },
        {
          "output_type": "stream",
          "text": [
            "WARNING:root:Lossy conversion from float64 to uint8. Range [0, 1]. Convert image to uint8 prior to saving to suppress this warning.\n"
          ],
          "name": "stderr"
        },
        {
          "output_type": "stream",
          "text": [
            "(856, 1280, 3)\n"
          ],
          "name": "stdout"
        },
        {
          "output_type": "stream",
          "text": [
            "WARNING:root:Lossy conversion from float64 to uint8. Range [0, 1]. Convert image to uint8 prior to saving to suppress this warning.\n",
            "WARNING:root:Lossy conversion from float64 to uint8. Range [0, 1]. Convert image to uint8 prior to saving to suppress this warning.\n"
          ],
          "name": "stderr"
        },
        {
          "output_type": "stream",
          "text": [
            "(528, 736, 3)\n",
            "(856, 1280, 3)\n"
          ],
          "name": "stdout"
        },
        {
          "output_type": "stream",
          "text": [
            "WARNING:root:Lossy conversion from float64 to uint8. Range [0, 1]. Convert image to uint8 prior to saving to suppress this warning.\n"
          ],
          "name": "stderr"
        },
        {
          "output_type": "stream",
          "text": [
            "(1400, 1400, 3)\n"
          ],
          "name": "stdout"
        },
        {
          "output_type": "stream",
          "text": [
            "WARNING:root:Lossy conversion from float64 to uint8. Range [0, 1]. Convert image to uint8 prior to saving to suppress this warning.\n"
          ],
          "name": "stderr"
        },
        {
          "output_type": "stream",
          "text": [
            "(664, 1024, 3)\n"
          ],
          "name": "stdout"
        },
        {
          "output_type": "stream",
          "text": [
            "WARNING:root:Lossy conversion from float64 to uint8. Range [0, 1]. Convert image to uint8 prior to saving to suppress this warning.\n"
          ],
          "name": "stderr"
        },
        {
          "output_type": "stream",
          "text": [
            "(776, 1024, 3)\n"
          ],
          "name": "stdout"
        },
        {
          "output_type": "stream",
          "text": [
            "WARNING:root:Lossy conversion from float64 to uint8. Range [0, 1]. Convert image to uint8 prior to saving to suppress this warning.\n"
          ],
          "name": "stderr"
        },
        {
          "output_type": "stream",
          "text": [
            "(856, 1280, 3)\n"
          ],
          "name": "stdout"
        },
        {
          "output_type": "stream",
          "text": [
            "WARNING:root:Lossy conversion from float64 to uint8. Range [0, 1]. Convert image to uint8 prior to saving to suppress this warning.\n",
            "WARNING:root:Lossy conversion from float64 to uint8. Range [0, 1]. Convert image to uint8 prior to saving to suppress this warning.\n"
          ],
          "name": "stderr"
        },
        {
          "output_type": "stream",
          "text": [
            "(424, 640, 3)\n",
            "(984, 1176, 3)\n"
          ],
          "name": "stdout"
        },
        {
          "output_type": "stream",
          "text": [
            "WARNING:root:Lossy conversion from float64 to uint8. Range [0, 1]. Convert image to uint8 prior to saving to suppress this warning.\n",
            "WARNING:root:Lossy conversion from float64 to uint8. Range [0, 1]. Convert image to uint8 prior to saving to suppress this warning.\n"
          ],
          "name": "stderr"
        },
        {
          "output_type": "stream",
          "text": [
            "(512, 768, 3)\n",
            "(856, 1280, 3)\n"
          ],
          "name": "stdout"
        },
        {
          "output_type": "stream",
          "text": [
            "WARNING:root:Lossy conversion from float64 to uint8. Range [0, 1]. Convert image to uint8 prior to saving to suppress this warning.\n"
          ],
          "name": "stderr"
        },
        {
          "output_type": "stream",
          "text": [
            "\b\b\b\b\b\b\b\b\b\b\b\b\b\b\b\b\b\b\b\b\b\b\b\b\b\b\b\b\b\b\b\b\b\b\b\b\b\b\b\b\b\b\b\b\b\b\b\b\b\b\b\b\b\b\b\b\b\b\b\b\b\b\b\b\b\b\b\b\b\b\b\b\b\b\b\b\b\b\b\b\b\b\r31/31 [==============================] - 36s 1s/step - loss: 0.0030 - accuracy: 0.8276 - val_loss: 182.1795 - val_accuracy: 0.4297\n",
            "Epoch 842/1000\n",
            "31/31 [==============================] - 22s 724ms/step - loss: 0.0028 - accuracy: 0.8258 - val_loss: 183.5815 - val_accuracy: 0.4339\n",
            "Epoch 843/1000\n",
            "31/31 [==============================] - 22s 722ms/step - loss: 0.0030 - accuracy: 0.8258 - val_loss: 182.9523 - val_accuracy: 0.4787\n",
            "Epoch 844/1000\n",
            "31/31 [==============================] - 23s 728ms/step - loss: 0.0028 - accuracy: 0.8300 - val_loss: 181.7062 - val_accuracy: 0.5424\n",
            "Epoch 845/1000\n",
            "31/31 [==============================] - 23s 726ms/step - loss: 0.0028 - accuracy: 0.8285 - val_loss: 181.7338 - val_accuracy: 0.5517\n",
            "Epoch 846/1000\n",
            "31/31 [==============================] - 22s 722ms/step - loss: 0.0028 - accuracy: 0.8270 - val_loss: 182.7872 - val_accuracy: 0.4906\n",
            "Epoch 847/1000\n",
            "31/31 [==============================] - 22s 724ms/step - loss: 0.0030 - accuracy: 0.8263 - val_loss: 181.2649 - val_accuracy: 0.5402\n",
            "Epoch 848/1000\n",
            "31/31 [==============================] - 22s 725ms/step - loss: 0.0029 - accuracy: 0.8274 - val_loss: 181.8702 - val_accuracy: 0.5106\n",
            "Epoch 849/1000\n",
            "31/31 [==============================] - 22s 721ms/step - loss: 0.0028 - accuracy: 0.8276 - val_loss: 184.2896 - val_accuracy: 0.3955\n",
            "Epoch 850/1000\n",
            "31/31 [==============================] - 23s 729ms/step - loss: 0.0029 - accuracy: 0.8278 - val_loss: 181.7446 - val_accuracy: 0.4757\n",
            "Epoch 851/1000\n",
            "31/31 [==============================] - ETA: 0s - loss: 0.0029 - accuracy: 0.8297(512, 768, 3)\n"
          ],
          "name": "stdout"
        },
        {
          "output_type": "stream",
          "text": [
            "WARNING:root:Lossy conversion from float64 to uint8. Range [0, 1]. Convert image to uint8 prior to saving to suppress this warning.\n"
          ],
          "name": "stderr"
        },
        {
          "output_type": "stream",
          "text": [
            "(800, 1088, 3)\n"
          ],
          "name": "stdout"
        },
        {
          "output_type": "stream",
          "text": [
            "WARNING:root:Lossy conversion from float64 to uint8. Range [0, 1]. Convert image to uint8 prior to saving to suppress this warning.\n"
          ],
          "name": "stderr"
        },
        {
          "output_type": "stream",
          "text": [
            "(856, 1280, 3)\n"
          ],
          "name": "stdout"
        },
        {
          "output_type": "stream",
          "text": [
            "WARNING:root:Lossy conversion from float64 to uint8. Range [0, 1]. Convert image to uint8 prior to saving to suppress this warning.\n",
            "WARNING:root:Lossy conversion from float64 to uint8. Range [0, 1]. Convert image to uint8 prior to saving to suppress this warning.\n"
          ],
          "name": "stderr"
        },
        {
          "output_type": "stream",
          "text": [
            "(528, 736, 3)\n",
            "(856, 1280, 3)\n"
          ],
          "name": "stdout"
        },
        {
          "output_type": "stream",
          "text": [
            "WARNING:root:Lossy conversion from float64 to uint8. Range [0, 1]. Convert image to uint8 prior to saving to suppress this warning.\n"
          ],
          "name": "stderr"
        },
        {
          "output_type": "stream",
          "text": [
            "(1400, 1400, 3)\n"
          ],
          "name": "stdout"
        },
        {
          "output_type": "stream",
          "text": [
            "WARNING:root:Lossy conversion from float64 to uint8. Range [0, 1]. Convert image to uint8 prior to saving to suppress this warning.\n"
          ],
          "name": "stderr"
        },
        {
          "output_type": "stream",
          "text": [
            "(664, 1024, 3)\n"
          ],
          "name": "stdout"
        },
        {
          "output_type": "stream",
          "text": [
            "WARNING:root:Lossy conversion from float64 to uint8. Range [0, 1]. Convert image to uint8 prior to saving to suppress this warning.\n"
          ],
          "name": "stderr"
        },
        {
          "output_type": "stream",
          "text": [
            "(776, 1024, 3)\n"
          ],
          "name": "stdout"
        },
        {
          "output_type": "stream",
          "text": [
            "WARNING:root:Lossy conversion from float64 to uint8. Range [0, 1]. Convert image to uint8 prior to saving to suppress this warning.\n"
          ],
          "name": "stderr"
        },
        {
          "output_type": "stream",
          "text": [
            "(856, 1280, 3)\n"
          ],
          "name": "stdout"
        },
        {
          "output_type": "stream",
          "text": [
            "WARNING:root:Lossy conversion from float64 to uint8. Range [0, 1]. Convert image to uint8 prior to saving to suppress this warning.\n",
            "WARNING:root:Lossy conversion from float64 to uint8. Range [0, 1]. Convert image to uint8 prior to saving to suppress this warning.\n"
          ],
          "name": "stderr"
        },
        {
          "output_type": "stream",
          "text": [
            "(424, 640, 3)\n",
            "(984, 1176, 3)\n"
          ],
          "name": "stdout"
        },
        {
          "output_type": "stream",
          "text": [
            "WARNING:root:Lossy conversion from float64 to uint8. Range [0, 1]. Convert image to uint8 prior to saving to suppress this warning.\n",
            "/usr/local/lib/python3.6/dist-packages/skimage/color/colorconv.py:1068: UserWarning: Color data out of range: Z < 0 in 26 pixels\n",
            "  return xyz2rgb(lab2xyz(lab, illuminant, observer))\n",
            "WARNING:root:Lossy conversion from float64 to uint8. Range [0, 1]. Convert image to uint8 prior to saving to suppress this warning.\n"
          ],
          "name": "stderr"
        },
        {
          "output_type": "stream",
          "text": [
            "(512, 768, 3)\n",
            "(856, 1280, 3)\n"
          ],
          "name": "stdout"
        },
        {
          "output_type": "stream",
          "text": [
            "WARNING:root:Lossy conversion from float64 to uint8. Range [0, 1]. Convert image to uint8 prior to saving to suppress this warning.\n"
          ],
          "name": "stderr"
        },
        {
          "output_type": "stream",
          "text": [
            "\b\b\b\b\b\b\b\b\b\b\b\b\b\b\b\b\b\b\b\b\b\b\b\b\b\b\b\b\b\b\b\b\b\b\b\b\b\b\b\b\b\b\b\b\b\b\b\b\b\b\b\b\b\b\b\b\b\b\b\b\b\b\b\b\b\b\b\b\b\b\b\b\b\b\b\b\b\b\b\b\b\b\r31/31 [==============================] - 36s 1s/step - loss: 0.0029 - accuracy: 0.8297 - val_loss: 182.0461 - val_accuracy: 0.5117\n",
            "Epoch 852/1000\n",
            "31/31 [==============================] - 22s 724ms/step - loss: 0.0028 - accuracy: 0.8321 - val_loss: 182.4207 - val_accuracy: 0.4685\n",
            "Epoch 853/1000\n",
            "31/31 [==============================] - 22s 720ms/step - loss: 0.0028 - accuracy: 0.8298 - val_loss: 182.3132 - val_accuracy: 0.5141\n",
            "Epoch 854/1000\n",
            "31/31 [==============================] - 23s 726ms/step - loss: 0.0029 - accuracy: 0.8236 - val_loss: 184.9232 - val_accuracy: 0.4196\n",
            "Epoch 855/1000\n",
            "31/31 [==============================] - 22s 720ms/step - loss: 0.0028 - accuracy: 0.8300 - val_loss: 182.8342 - val_accuracy: 0.4434\n",
            "Epoch 856/1000\n",
            "31/31 [==============================] - 22s 721ms/step - loss: 0.0029 - accuracy: 0.8230 - val_loss: 182.8885 - val_accuracy: 0.4755\n",
            "Epoch 857/1000\n",
            "31/31 [==============================] - 23s 728ms/step - loss: 0.0027 - accuracy: 0.8284 - val_loss: 183.1689 - val_accuracy: 0.4210\n",
            "Epoch 858/1000\n",
            "31/31 [==============================] - 23s 728ms/step - loss: 0.0029 - accuracy: 0.8264 - val_loss: 182.2177 - val_accuracy: 0.4170\n",
            "Epoch 859/1000\n",
            "31/31 [==============================] - 22s 722ms/step - loss: 0.0029 - accuracy: 0.8304 - val_loss: 183.0196 - val_accuracy: 0.4426\n",
            "Epoch 860/1000\n",
            "31/31 [==============================] - 22s 725ms/step - loss: 0.0028 - accuracy: 0.8304 - val_loss: 181.8078 - val_accuracy: 0.5143\n",
            "Epoch 861/1000\n",
            "31/31 [==============================] - ETA: 0s - loss: 0.0028 - accuracy: 0.8277(512, 768, 3)\n"
          ],
          "name": "stdout"
        },
        {
          "output_type": "stream",
          "text": [
            "WARNING:root:Lossy conversion from float64 to uint8. Range [0, 1]. Convert image to uint8 prior to saving to suppress this warning.\n"
          ],
          "name": "stderr"
        },
        {
          "output_type": "stream",
          "text": [
            "(800, 1088, 3)\n"
          ],
          "name": "stdout"
        },
        {
          "output_type": "stream",
          "text": [
            "WARNING:root:Lossy conversion from float64 to uint8. Range [0, 1]. Convert image to uint8 prior to saving to suppress this warning.\n"
          ],
          "name": "stderr"
        },
        {
          "output_type": "stream",
          "text": [
            "(856, 1280, 3)\n"
          ],
          "name": "stdout"
        },
        {
          "output_type": "stream",
          "text": [
            "WARNING:root:Lossy conversion from float64 to uint8. Range [0, 1]. Convert image to uint8 prior to saving to suppress this warning.\n",
            "WARNING:root:Lossy conversion from float64 to uint8. Range [0, 1]. Convert image to uint8 prior to saving to suppress this warning.\n"
          ],
          "name": "stderr"
        },
        {
          "output_type": "stream",
          "text": [
            "(528, 736, 3)\n",
            "(856, 1280, 3)\n"
          ],
          "name": "stdout"
        },
        {
          "output_type": "stream",
          "text": [
            "WARNING:root:Lossy conversion from float64 to uint8. Range [0, 1]. Convert image to uint8 prior to saving to suppress this warning.\n"
          ],
          "name": "stderr"
        },
        {
          "output_type": "stream",
          "text": [
            "(1400, 1400, 3)\n"
          ],
          "name": "stdout"
        },
        {
          "output_type": "stream",
          "text": [
            "WARNING:root:Lossy conversion from float64 to uint8. Range [0, 1]. Convert image to uint8 prior to saving to suppress this warning.\n"
          ],
          "name": "stderr"
        },
        {
          "output_type": "stream",
          "text": [
            "(664, 1024, 3)\n"
          ],
          "name": "stdout"
        },
        {
          "output_type": "stream",
          "text": [
            "WARNING:root:Lossy conversion from float64 to uint8. Range [0, 1]. Convert image to uint8 prior to saving to suppress this warning.\n"
          ],
          "name": "stderr"
        },
        {
          "output_type": "stream",
          "text": [
            "(776, 1024, 3)\n"
          ],
          "name": "stdout"
        },
        {
          "output_type": "stream",
          "text": [
            "WARNING:root:Lossy conversion from float64 to uint8. Range [0, 1]. Convert image to uint8 prior to saving to suppress this warning.\n"
          ],
          "name": "stderr"
        },
        {
          "output_type": "stream",
          "text": [
            "(856, 1280, 3)\n"
          ],
          "name": "stdout"
        },
        {
          "output_type": "stream",
          "text": [
            "WARNING:root:Lossy conversion from float64 to uint8. Range [0, 1]. Convert image to uint8 prior to saving to suppress this warning.\n",
            "WARNING:root:Lossy conversion from float64 to uint8. Range [0, 1]. Convert image to uint8 prior to saving to suppress this warning.\n"
          ],
          "name": "stderr"
        },
        {
          "output_type": "stream",
          "text": [
            "(424, 640, 3)\n",
            "(984, 1176, 3)\n"
          ],
          "name": "stdout"
        },
        {
          "output_type": "stream",
          "text": [
            "WARNING:root:Lossy conversion from float64 to uint8. Range [0, 1]. Convert image to uint8 prior to saving to suppress this warning.\n"
          ],
          "name": "stderr"
        },
        {
          "output_type": "stream",
          "text": [
            "(512, 768, 3)\n"
          ],
          "name": "stdout"
        },
        {
          "output_type": "stream",
          "text": [
            "WARNING:root:Lossy conversion from float64 to uint8. Range [0, 1]. Convert image to uint8 prior to saving to suppress this warning.\n"
          ],
          "name": "stderr"
        },
        {
          "output_type": "stream",
          "text": [
            "(856, 1280, 3)\n"
          ],
          "name": "stdout"
        },
        {
          "output_type": "stream",
          "text": [
            "WARNING:root:Lossy conversion from float64 to uint8. Range [0, 1]. Convert image to uint8 prior to saving to suppress this warning.\n"
          ],
          "name": "stderr"
        },
        {
          "output_type": "stream",
          "text": [
            "\b\b\b\b\b\b\b\b\b\b\b\b\b\b\b\b\b\b\b\b\b\b\b\b\b\b\b\b\b\b\b\b\b\b\b\b\b\b\b\b\b\b\b\b\b\b\b\b\b\b\b\b\b\b\b\b\b\b\b\b\b\b\b\b\b\b\b\b\b\b\b\b\b\b\b\b\b\b\b\b\b\b\r31/31 [==============================] - 36s 1s/step - loss: 0.0028 - accuracy: 0.8277 - val_loss: 181.1694 - val_accuracy: 0.5531\n",
            "Epoch 862/1000\n",
            "31/31 [==============================] - 22s 725ms/step - loss: 0.0028 - accuracy: 0.8322 - val_loss: 183.0873 - val_accuracy: 0.4092\n",
            "Epoch 863/1000\n",
            "31/31 [==============================] - 22s 723ms/step - loss: 0.0029 - accuracy: 0.8258 - val_loss: 182.6444 - val_accuracy: 0.4778\n",
            "Epoch 864/1000\n",
            "31/31 [==============================] - 23s 728ms/step - loss: 0.0028 - accuracy: 0.8294 - val_loss: 182.6227 - val_accuracy: 0.4574\n",
            "Epoch 865/1000\n",
            "31/31 [==============================] - 23s 732ms/step - loss: 0.0028 - accuracy: 0.8282 - val_loss: 182.2172 - val_accuracy: 0.4102\n",
            "Epoch 866/1000\n",
            "31/31 [==============================] - 23s 734ms/step - loss: 0.0028 - accuracy: 0.8294 - val_loss: 182.1192 - val_accuracy: 0.4578\n",
            "Epoch 867/1000\n",
            "31/31 [==============================] - 22s 724ms/step - loss: 0.0028 - accuracy: 0.8290 - val_loss: 183.2232 - val_accuracy: 0.4433\n",
            "Epoch 868/1000\n",
            "31/31 [==============================] - 22s 724ms/step - loss: 0.0029 - accuracy: 0.8258 - val_loss: 181.5872 - val_accuracy: 0.5007\n",
            "Epoch 869/1000\n",
            "31/31 [==============================] - 22s 723ms/step - loss: 0.0029 - accuracy: 0.8297 - val_loss: 183.0182 - val_accuracy: 0.4549\n",
            "Epoch 870/1000\n",
            "31/31 [==============================] - 23s 727ms/step - loss: 0.0028 - accuracy: 0.8291 - val_loss: 183.3576 - val_accuracy: 0.4861\n",
            "Epoch 871/1000\n",
            "31/31 [==============================] - ETA: 0s - loss: 0.0028 - accuracy: 0.8301(512, 768, 3)\n"
          ],
          "name": "stdout"
        },
        {
          "output_type": "stream",
          "text": [
            "WARNING:root:Lossy conversion from float64 to uint8. Range [0, 1]. Convert image to uint8 prior to saving to suppress this warning.\n"
          ],
          "name": "stderr"
        },
        {
          "output_type": "stream",
          "text": [
            "(800, 1088, 3)\n"
          ],
          "name": "stdout"
        },
        {
          "output_type": "stream",
          "text": [
            "WARNING:root:Lossy conversion from float64 to uint8. Range [0, 1]. Convert image to uint8 prior to saving to suppress this warning.\n"
          ],
          "name": "stderr"
        },
        {
          "output_type": "stream",
          "text": [
            "(856, 1280, 3)\n"
          ],
          "name": "stdout"
        },
        {
          "output_type": "stream",
          "text": [
            "WARNING:root:Lossy conversion from float64 to uint8. Range [0, 1]. Convert image to uint8 prior to saving to suppress this warning.\n",
            "WARNING:root:Lossy conversion from float64 to uint8. Range [0, 1]. Convert image to uint8 prior to saving to suppress this warning.\n"
          ],
          "name": "stderr"
        },
        {
          "output_type": "stream",
          "text": [
            "(528, 736, 3)\n",
            "(856, 1280, 3)\n"
          ],
          "name": "stdout"
        },
        {
          "output_type": "stream",
          "text": [
            "WARNING:root:Lossy conversion from float64 to uint8. Range [0, 1]. Convert image to uint8 prior to saving to suppress this warning.\n"
          ],
          "name": "stderr"
        },
        {
          "output_type": "stream",
          "text": [
            "(1400, 1400, 3)\n"
          ],
          "name": "stdout"
        },
        {
          "output_type": "stream",
          "text": [
            "WARNING:root:Lossy conversion from float64 to uint8. Range [0, 1]. Convert image to uint8 prior to saving to suppress this warning.\n"
          ],
          "name": "stderr"
        },
        {
          "output_type": "stream",
          "text": [
            "(664, 1024, 3)\n"
          ],
          "name": "stdout"
        },
        {
          "output_type": "stream",
          "text": [
            "WARNING:root:Lossy conversion from float64 to uint8. Range [0, 1]. Convert image to uint8 prior to saving to suppress this warning.\n"
          ],
          "name": "stderr"
        },
        {
          "output_type": "stream",
          "text": [
            "(776, 1024, 3)\n"
          ],
          "name": "stdout"
        },
        {
          "output_type": "stream",
          "text": [
            "WARNING:root:Lossy conversion from float64 to uint8. Range [0, 1]. Convert image to uint8 prior to saving to suppress this warning.\n"
          ],
          "name": "stderr"
        },
        {
          "output_type": "stream",
          "text": [
            "(856, 1280, 3)\n"
          ],
          "name": "stdout"
        },
        {
          "output_type": "stream",
          "text": [
            "WARNING:root:Lossy conversion from float64 to uint8. Range [0, 1]. Convert image to uint8 prior to saving to suppress this warning.\n",
            "WARNING:root:Lossy conversion from float64 to uint8. Range [0, 1]. Convert image to uint8 prior to saving to suppress this warning.\n"
          ],
          "name": "stderr"
        },
        {
          "output_type": "stream",
          "text": [
            "(424, 640, 3)\n",
            "(984, 1176, 3)\n"
          ],
          "name": "stdout"
        },
        {
          "output_type": "stream",
          "text": [
            "WARNING:root:Lossy conversion from float64 to uint8. Range [0, 1]. Convert image to uint8 prior to saving to suppress this warning.\n",
            "WARNING:root:Lossy conversion from float64 to uint8. Range [0, 1]. Convert image to uint8 prior to saving to suppress this warning.\n"
          ],
          "name": "stderr"
        },
        {
          "output_type": "stream",
          "text": [
            "(512, 768, 3)\n",
            "(856, 1280, 3)\n"
          ],
          "name": "stdout"
        },
        {
          "output_type": "stream",
          "text": [
            "WARNING:root:Lossy conversion from float64 to uint8. Range [0, 1]. Convert image to uint8 prior to saving to suppress this warning.\n"
          ],
          "name": "stderr"
        },
        {
          "output_type": "stream",
          "text": [
            "\b\b\b\b\b\b\b\b\b\b\b\b\b\b\b\b\b\b\b\b\b\b\b\b\b\b\b\b\b\b\b\b\b\b\b\b\b\b\b\b\b\b\b\b\b\b\b\b\b\b\b\b\b\b\b\b\b\b\b\b\b\b\b\b\b\b\b\b\b\b\b\b\b\b\b\b\b\b\b\b\b\b\r31/31 [==============================] - 36s 1s/step - loss: 0.0028 - accuracy: 0.8301 - val_loss: 182.9487 - val_accuracy: 0.4041\n",
            "Epoch 872/1000\n",
            "31/31 [==============================] - 23s 726ms/step - loss: 0.0028 - accuracy: 0.8286 - val_loss: 184.2357 - val_accuracy: 0.4316\n",
            "Epoch 873/1000\n",
            "31/31 [==============================] - 23s 726ms/step - loss: 0.0028 - accuracy: 0.8283 - val_loss: 182.7106 - val_accuracy: 0.4719\n",
            "Epoch 874/1000\n",
            "31/31 [==============================] - 23s 735ms/step - loss: 0.0029 - accuracy: 0.8290 - val_loss: 181.3189 - val_accuracy: 0.4862\n",
            "Epoch 875/1000\n",
            "31/31 [==============================] - 22s 725ms/step - loss: 0.0028 - accuracy: 0.8289 - val_loss: 181.5152 - val_accuracy: 0.5133\n",
            "Epoch 876/1000\n",
            "31/31 [==============================] - 23s 726ms/step - loss: 0.0028 - accuracy: 0.8294 - val_loss: 181.9407 - val_accuracy: 0.4656\n",
            "Epoch 877/1000\n",
            "31/31 [==============================] - 23s 728ms/step - loss: 0.0029 - accuracy: 0.8262 - val_loss: 182.5024 - val_accuracy: 0.4797\n",
            "Epoch 878/1000\n",
            "31/31 [==============================] - 23s 726ms/step - loss: 0.0028 - accuracy: 0.8274 - val_loss: 182.0599 - val_accuracy: 0.5280\n",
            "Epoch 879/1000\n",
            "31/31 [==============================] - 22s 725ms/step - loss: 0.0028 - accuracy: 0.8304 - val_loss: 181.2713 - val_accuracy: 0.5470\n",
            "Epoch 880/1000\n",
            "31/31 [==============================] - 23s 727ms/step - loss: 0.0030 - accuracy: 0.8252 - val_loss: 183.2984 - val_accuracy: 0.4713\n",
            "Epoch 881/1000\n",
            "31/31 [==============================] - ETA: 0s - loss: 0.0027 - accuracy: 0.8312(512, 768, 3)\n"
          ],
          "name": "stdout"
        },
        {
          "output_type": "stream",
          "text": [
            "WARNING:root:Lossy conversion from float64 to uint8. Range [0, 1]. Convert image to uint8 prior to saving to suppress this warning.\n"
          ],
          "name": "stderr"
        },
        {
          "output_type": "stream",
          "text": [
            "(800, 1088, 3)\n"
          ],
          "name": "stdout"
        },
        {
          "output_type": "stream",
          "text": [
            "WARNING:root:Lossy conversion from float64 to uint8. Range [0, 1]. Convert image to uint8 prior to saving to suppress this warning.\n"
          ],
          "name": "stderr"
        },
        {
          "output_type": "stream",
          "text": [
            "(856, 1280, 3)\n"
          ],
          "name": "stdout"
        },
        {
          "output_type": "stream",
          "text": [
            "WARNING:root:Lossy conversion from float64 to uint8. Range [0, 1]. Convert image to uint8 prior to saving to suppress this warning.\n",
            "WARNING:root:Lossy conversion from float64 to uint8. Range [0, 1]. Convert image to uint8 prior to saving to suppress this warning.\n"
          ],
          "name": "stderr"
        },
        {
          "output_type": "stream",
          "text": [
            "(528, 736, 3)\n",
            "(856, 1280, 3)\n"
          ],
          "name": "stdout"
        },
        {
          "output_type": "stream",
          "text": [
            "WARNING:root:Lossy conversion from float64 to uint8. Range [0, 1]. Convert image to uint8 prior to saving to suppress this warning.\n"
          ],
          "name": "stderr"
        },
        {
          "output_type": "stream",
          "text": [
            "(1400, 1400, 3)\n"
          ],
          "name": "stdout"
        },
        {
          "output_type": "stream",
          "text": [
            "WARNING:root:Lossy conversion from float64 to uint8. Range [0, 1]. Convert image to uint8 prior to saving to suppress this warning.\n"
          ],
          "name": "stderr"
        },
        {
          "output_type": "stream",
          "text": [
            "(664, 1024, 3)\n"
          ],
          "name": "stdout"
        },
        {
          "output_type": "stream",
          "text": [
            "WARNING:root:Lossy conversion from float64 to uint8. Range [0, 1]. Convert image to uint8 prior to saving to suppress this warning.\n"
          ],
          "name": "stderr"
        },
        {
          "output_type": "stream",
          "text": [
            "(776, 1024, 3)\n"
          ],
          "name": "stdout"
        },
        {
          "output_type": "stream",
          "text": [
            "WARNING:root:Lossy conversion from float64 to uint8. Range [0, 1]. Convert image to uint8 prior to saving to suppress this warning.\n"
          ],
          "name": "stderr"
        },
        {
          "output_type": "stream",
          "text": [
            "(856, 1280, 3)\n"
          ],
          "name": "stdout"
        },
        {
          "output_type": "stream",
          "text": [
            "WARNING:root:Lossy conversion from float64 to uint8. Range [0, 1]. Convert image to uint8 prior to saving to suppress this warning.\n",
            "WARNING:root:Lossy conversion from float64 to uint8. Range [0, 1]. Convert image to uint8 prior to saving to suppress this warning.\n"
          ],
          "name": "stderr"
        },
        {
          "output_type": "stream",
          "text": [
            "(424, 640, 3)\n",
            "(984, 1176, 3)\n"
          ],
          "name": "stdout"
        },
        {
          "output_type": "stream",
          "text": [
            "WARNING:root:Lossy conversion from float64 to uint8. Range [0, 1]. Convert image to uint8 prior to saving to suppress this warning.\n",
            "WARNING:root:Lossy conversion from float64 to uint8. Range [0, 1]. Convert image to uint8 prior to saving to suppress this warning.\n"
          ],
          "name": "stderr"
        },
        {
          "output_type": "stream",
          "text": [
            "(512, 768, 3)\n",
            "(856, 1280, 3)\n"
          ],
          "name": "stdout"
        },
        {
          "output_type": "stream",
          "text": [
            "WARNING:root:Lossy conversion from float64 to uint8. Range [0, 1]. Convert image to uint8 prior to saving to suppress this warning.\n"
          ],
          "name": "stderr"
        },
        {
          "output_type": "stream",
          "text": [
            "\b\b\b\b\b\b\b\b\b\b\b\b\b\b\b\b\b\b\b\b\b\b\b\b\b\b\b\b\b\b\b\b\b\b\b\b\b\b\b\b\b\b\b\b\b\b\b\b\b\b\b\b\b\b\b\b\b\b\b\b\b\b\b\b\b\b\b\b\b\b\b\b\b\b\b\b\b\b\b\b\b\b\r31/31 [==============================] - 36s 1s/step - loss: 0.0027 - accuracy: 0.8312 - val_loss: 182.7361 - val_accuracy: 0.4844\n",
            "Epoch 882/1000\n",
            "31/31 [==============================] - 22s 725ms/step - loss: 0.0030 - accuracy: 0.8231 - val_loss: 182.2409 - val_accuracy: 0.5305\n",
            "Epoch 883/1000\n",
            "31/31 [==============================] - 23s 728ms/step - loss: 0.0027 - accuracy: 0.8380 - val_loss: 182.6662 - val_accuracy: 0.4620\n",
            "Epoch 884/1000\n",
            "31/31 [==============================] - 22s 724ms/step - loss: 0.0028 - accuracy: 0.8261 - val_loss: 181.8271 - val_accuracy: 0.4459\n",
            "Epoch 885/1000\n",
            "31/31 [==============================] - 22s 720ms/step - loss: 0.0028 - accuracy: 0.8297 - val_loss: 182.9390 - val_accuracy: 0.4234\n",
            "Epoch 886/1000\n",
            "31/31 [==============================] - 22s 724ms/step - loss: 0.0028 - accuracy: 0.8309 - val_loss: 181.2555 - val_accuracy: 0.5238\n",
            "Epoch 887/1000\n",
            "31/31 [==============================] - 23s 727ms/step - loss: 0.0029 - accuracy: 0.8308 - val_loss: 182.0150 - val_accuracy: 0.4105\n",
            "Epoch 888/1000\n",
            "31/31 [==============================] - 22s 721ms/step - loss: 0.0028 - accuracy: 0.8288 - val_loss: 181.7065 - val_accuracy: 0.4608\n",
            "Epoch 889/1000\n",
            "31/31 [==============================] - 22s 725ms/step - loss: 0.0028 - accuracy: 0.8285 - val_loss: 181.8323 - val_accuracy: 0.5279\n",
            "Epoch 890/1000\n",
            "31/31 [==============================] - 22s 722ms/step - loss: 0.0029 - accuracy: 0.8282 - val_loss: 181.2943 - val_accuracy: 0.4844\n",
            "Epoch 891/1000\n",
            "31/31 [==============================] - ETA: 0s - loss: 0.0028 - accuracy: 0.8298(512, 768, 3)\n"
          ],
          "name": "stdout"
        },
        {
          "output_type": "stream",
          "text": [
            "WARNING:root:Lossy conversion from float64 to uint8. Range [0, 1]. Convert image to uint8 prior to saving to suppress this warning.\n"
          ],
          "name": "stderr"
        },
        {
          "output_type": "stream",
          "text": [
            "(800, 1088, 3)\n"
          ],
          "name": "stdout"
        },
        {
          "output_type": "stream",
          "text": [
            "WARNING:root:Lossy conversion from float64 to uint8. Range [0, 1]. Convert image to uint8 prior to saving to suppress this warning.\n"
          ],
          "name": "stderr"
        },
        {
          "output_type": "stream",
          "text": [
            "(856, 1280, 3)\n"
          ],
          "name": "stdout"
        },
        {
          "output_type": "stream",
          "text": [
            "WARNING:root:Lossy conversion from float64 to uint8. Range [0, 1]. Convert image to uint8 prior to saving to suppress this warning.\n",
            "WARNING:root:Lossy conversion from float64 to uint8. Range [0, 1]. Convert image to uint8 prior to saving to suppress this warning.\n"
          ],
          "name": "stderr"
        },
        {
          "output_type": "stream",
          "text": [
            "(528, 736, 3)\n",
            "(856, 1280, 3)\n"
          ],
          "name": "stdout"
        },
        {
          "output_type": "stream",
          "text": [
            "WARNING:root:Lossy conversion from float64 to uint8. Range [0, 1]. Convert image to uint8 prior to saving to suppress this warning.\n"
          ],
          "name": "stderr"
        },
        {
          "output_type": "stream",
          "text": [
            "(1400, 1400, 3)\n"
          ],
          "name": "stdout"
        },
        {
          "output_type": "stream",
          "text": [
            "WARNING:root:Lossy conversion from float64 to uint8. Range [0, 1]. Convert image to uint8 prior to saving to suppress this warning.\n"
          ],
          "name": "stderr"
        },
        {
          "output_type": "stream",
          "text": [
            "(664, 1024, 3)\n"
          ],
          "name": "stdout"
        },
        {
          "output_type": "stream",
          "text": [
            "WARNING:root:Lossy conversion from float64 to uint8. Range [0, 1]. Convert image to uint8 prior to saving to suppress this warning.\n"
          ],
          "name": "stderr"
        },
        {
          "output_type": "stream",
          "text": [
            "(776, 1024, 3)\n"
          ],
          "name": "stdout"
        },
        {
          "output_type": "stream",
          "text": [
            "WARNING:root:Lossy conversion from float64 to uint8. Range [0, 1]. Convert image to uint8 prior to saving to suppress this warning.\n"
          ],
          "name": "stderr"
        },
        {
          "output_type": "stream",
          "text": [
            "(856, 1280, 3)\n"
          ],
          "name": "stdout"
        },
        {
          "output_type": "stream",
          "text": [
            "WARNING:root:Lossy conversion from float64 to uint8. Range [0, 1]. Convert image to uint8 prior to saving to suppress this warning.\n",
            "WARNING:root:Lossy conversion from float64 to uint8. Range [0, 1]. Convert image to uint8 prior to saving to suppress this warning.\n"
          ],
          "name": "stderr"
        },
        {
          "output_type": "stream",
          "text": [
            "(424, 640, 3)\n",
            "(984, 1176, 3)\n"
          ],
          "name": "stdout"
        },
        {
          "output_type": "stream",
          "text": [
            "WARNING:root:Lossy conversion from float64 to uint8. Range [0, 1]. Convert image to uint8 prior to saving to suppress this warning.\n",
            "WARNING:root:Lossy conversion from float64 to uint8. Range [0, 1]. Convert image to uint8 prior to saving to suppress this warning.\n"
          ],
          "name": "stderr"
        },
        {
          "output_type": "stream",
          "text": [
            "(512, 768, 3)\n",
            "(856, 1280, 3)\n"
          ],
          "name": "stdout"
        },
        {
          "output_type": "stream",
          "text": [
            "WARNING:root:Lossy conversion from float64 to uint8. Range [0, 1]. Convert image to uint8 prior to saving to suppress this warning.\n"
          ],
          "name": "stderr"
        },
        {
          "output_type": "stream",
          "text": [
            "\b\b\b\b\b\b\b\b\b\b\b\b\b\b\b\b\b\b\b\b\b\b\b\b\b\b\b\b\b\b\b\b\b\b\b\b\b\b\b\b\b\b\b\b\b\b\b\b\b\b\b\b\b\b\b\b\b\b\b\b\b\b\b\b\b\b\b\b\b\b\b\b\b\b\b\b\b\b\b\b\b\b\r31/31 [==============================] - 36s 1s/step - loss: 0.0028 - accuracy: 0.8298 - val_loss: 183.2966 - val_accuracy: 0.4101\n",
            "Epoch 892/1000\n",
            "31/31 [==============================] - 22s 723ms/step - loss: 0.0028 - accuracy: 0.8300 - val_loss: 181.9585 - val_accuracy: 0.5029\n",
            "Epoch 893/1000\n",
            "31/31 [==============================] - 23s 733ms/step - loss: 0.0028 - accuracy: 0.8306 - val_loss: 182.2982 - val_accuracy: 0.5069\n",
            "Epoch 894/1000\n",
            "31/31 [==============================] - 23s 738ms/step - loss: 0.0029 - accuracy: 0.8259 - val_loss: 181.2612 - val_accuracy: 0.5765\n",
            "Epoch 895/1000\n",
            "31/31 [==============================] - 23s 730ms/step - loss: 0.0028 - accuracy: 0.8314 - val_loss: 183.0220 - val_accuracy: 0.4360\n",
            "Epoch 896/1000\n",
            "31/31 [==============================] - 22s 725ms/step - loss: 0.0029 - accuracy: 0.8286 - val_loss: 182.9877 - val_accuracy: 0.4000\n",
            "Epoch 897/1000\n",
            "31/31 [==============================] - 23s 737ms/step - loss: 0.0028 - accuracy: 0.8291 - val_loss: 183.1781 - val_accuracy: 0.4481\n",
            "Epoch 898/1000\n",
            "31/31 [==============================] - 23s 733ms/step - loss: 0.0029 - accuracy: 0.8294 - val_loss: 182.6672 - val_accuracy: 0.4380\n",
            "Epoch 899/1000\n",
            "31/31 [==============================] - 23s 729ms/step - loss: 0.0028 - accuracy: 0.8317 - val_loss: 182.1998 - val_accuracy: 0.4761\n",
            "Epoch 900/1000\n",
            "31/31 [==============================] - 23s 731ms/step - loss: 0.0029 - accuracy: 0.8285 - val_loss: 181.1774 - val_accuracy: 0.5282\n",
            "Epoch 901/1000\n",
            "31/31 [==============================] - ETA: 0s - loss: 0.0027 - accuracy: 0.8317(512, 768, 3)\n"
          ],
          "name": "stdout"
        },
        {
          "output_type": "stream",
          "text": [
            "WARNING:root:Lossy conversion from float64 to uint8. Range [0, 1]. Convert image to uint8 prior to saving to suppress this warning.\n"
          ],
          "name": "stderr"
        },
        {
          "output_type": "stream",
          "text": [
            "(800, 1088, 3)\n"
          ],
          "name": "stdout"
        },
        {
          "output_type": "stream",
          "text": [
            "WARNING:root:Lossy conversion from float64 to uint8. Range [0, 1]. Convert image to uint8 prior to saving to suppress this warning.\n"
          ],
          "name": "stderr"
        },
        {
          "output_type": "stream",
          "text": [
            "(856, 1280, 3)\n"
          ],
          "name": "stdout"
        },
        {
          "output_type": "stream",
          "text": [
            "WARNING:root:Lossy conversion from float64 to uint8. Range [0, 1]. Convert image to uint8 prior to saving to suppress this warning.\n",
            "WARNING:root:Lossy conversion from float64 to uint8. Range [0, 1]. Convert image to uint8 prior to saving to suppress this warning.\n"
          ],
          "name": "stderr"
        },
        {
          "output_type": "stream",
          "text": [
            "(528, 736, 3)\n",
            "(856, 1280, 3)\n"
          ],
          "name": "stdout"
        },
        {
          "output_type": "stream",
          "text": [
            "WARNING:root:Lossy conversion from float64 to uint8. Range [0, 1]. Convert image to uint8 prior to saving to suppress this warning.\n"
          ],
          "name": "stderr"
        },
        {
          "output_type": "stream",
          "text": [
            "(1400, 1400, 3)\n"
          ],
          "name": "stdout"
        },
        {
          "output_type": "stream",
          "text": [
            "WARNING:root:Lossy conversion from float64 to uint8. Range [0, 1]. Convert image to uint8 prior to saving to suppress this warning.\n"
          ],
          "name": "stderr"
        },
        {
          "output_type": "stream",
          "text": [
            "(664, 1024, 3)\n"
          ],
          "name": "stdout"
        },
        {
          "output_type": "stream",
          "text": [
            "WARNING:root:Lossy conversion from float64 to uint8. Range [0, 1]. Convert image to uint8 prior to saving to suppress this warning.\n"
          ],
          "name": "stderr"
        },
        {
          "output_type": "stream",
          "text": [
            "(776, 1024, 3)\n"
          ],
          "name": "stdout"
        },
        {
          "output_type": "stream",
          "text": [
            "WARNING:root:Lossy conversion from float64 to uint8. Range [0, 1]. Convert image to uint8 prior to saving to suppress this warning.\n"
          ],
          "name": "stderr"
        },
        {
          "output_type": "stream",
          "text": [
            "(856, 1280, 3)\n"
          ],
          "name": "stdout"
        },
        {
          "output_type": "stream",
          "text": [
            "WARNING:root:Lossy conversion from float64 to uint8. Range [0, 1]. Convert image to uint8 prior to saving to suppress this warning.\n",
            "WARNING:root:Lossy conversion from float64 to uint8. Range [0, 1]. Convert image to uint8 prior to saving to suppress this warning.\n"
          ],
          "name": "stderr"
        },
        {
          "output_type": "stream",
          "text": [
            "(424, 640, 3)\n",
            "(984, 1176, 3)\n"
          ],
          "name": "stdout"
        },
        {
          "output_type": "stream",
          "text": [
            "WARNING:root:Lossy conversion from float64 to uint8. Range [0, 1]. Convert image to uint8 prior to saving to suppress this warning.\n",
            "WARNING:root:Lossy conversion from float64 to uint8. Range [0, 1]. Convert image to uint8 prior to saving to suppress this warning.\n"
          ],
          "name": "stderr"
        },
        {
          "output_type": "stream",
          "text": [
            "(512, 768, 3)\n",
            "(856, 1280, 3)\n"
          ],
          "name": "stdout"
        },
        {
          "output_type": "stream",
          "text": [
            "WARNING:root:Lossy conversion from float64 to uint8. Range [0, 1]. Convert image to uint8 prior to saving to suppress this warning.\n"
          ],
          "name": "stderr"
        },
        {
          "output_type": "stream",
          "text": [
            "\b\b\b\b\b\b\b\b\b\b\b\b\b\b\b\b\b\b\b\b\b\b\b\b\b\b\b\b\b\b\b\b\b\b\b\b\b\b\b\b\b\b\b\b\b\b\b\b\b\b\b\b\b\b\b\b\b\b\b\b\b\b\b\b\b\b\b\b\b\b\b\b\b\b\b\b\b\b\b\b\b\b\r31/31 [==============================] - 37s 1s/step - loss: 0.0027 - accuracy: 0.8317 - val_loss: 182.5795 - val_accuracy: 0.4435\n",
            "Epoch 902/1000\n",
            "31/31 [==============================] - 23s 732ms/step - loss: 0.0028 - accuracy: 0.8287 - val_loss: 182.9818 - val_accuracy: 0.4571\n",
            "Epoch 903/1000\n",
            "31/31 [==============================] - 23s 734ms/step - loss: 0.0027 - accuracy: 0.8324 - val_loss: 182.0596 - val_accuracy: 0.3949\n",
            "Epoch 904/1000\n",
            "31/31 [==============================] - 23s 730ms/step - loss: 0.0028 - accuracy: 0.8281 - val_loss: 181.7402 - val_accuracy: 0.5091\n",
            "Epoch 905/1000\n",
            "31/31 [==============================] - 23s 727ms/step - loss: 0.0028 - accuracy: 0.8313 - val_loss: 182.3900 - val_accuracy: 0.4520\n",
            "Epoch 906/1000\n",
            "31/31 [==============================] - 22s 721ms/step - loss: 0.0029 - accuracy: 0.8272 - val_loss: 181.1495 - val_accuracy: 0.5320\n",
            "Epoch 907/1000\n",
            "31/31 [==============================] - 22s 723ms/step - loss: 0.0027 - accuracy: 0.8356 - val_loss: 181.9468 - val_accuracy: 0.4590\n",
            "Epoch 908/1000\n",
            "31/31 [==============================] - 23s 727ms/step - loss: 0.0028 - accuracy: 0.8297 - val_loss: 181.8569 - val_accuracy: 0.5265\n",
            "Epoch 909/1000\n",
            "31/31 [==============================] - 22s 719ms/step - loss: 0.0028 - accuracy: 0.8298 - val_loss: 181.4592 - val_accuracy: 0.5080\n",
            "Epoch 910/1000\n",
            "31/31 [==============================] - 22s 720ms/step - loss: 0.0029 - accuracy: 0.8265 - val_loss: 182.1906 - val_accuracy: 0.4485\n",
            "Epoch 911/1000\n",
            "31/31 [==============================] - ETA: 0s - loss: 0.0028 - accuracy: 0.8345"
          ],
          "name": "stdout"
        },
        {
          "output_type": "stream",
          "text": [
            "WARNING:root:Lossy conversion from float64 to uint8. Range [0, 1]. Convert image to uint8 prior to saving to suppress this warning.\n"
          ],
          "name": "stderr"
        },
        {
          "output_type": "stream",
          "text": [
            "(512, 768, 3)\n",
            "(800, 1088, 3)\n"
          ],
          "name": "stdout"
        },
        {
          "output_type": "stream",
          "text": [
            "WARNING:root:Lossy conversion from float64 to uint8. Range [0, 1]. Convert image to uint8 prior to saving to suppress this warning.\n"
          ],
          "name": "stderr"
        },
        {
          "output_type": "stream",
          "text": [
            "(856, 1280, 3)\n"
          ],
          "name": "stdout"
        },
        {
          "output_type": "stream",
          "text": [
            "WARNING:root:Lossy conversion from float64 to uint8. Range [0, 1]. Convert image to uint8 prior to saving to suppress this warning.\n",
            "WARNING:root:Lossy conversion from float64 to uint8. Range [0, 1]. Convert image to uint8 prior to saving to suppress this warning.\n"
          ],
          "name": "stderr"
        },
        {
          "output_type": "stream",
          "text": [
            "(528, 736, 3)\n",
            "(856, 1280, 3)\n"
          ],
          "name": "stdout"
        },
        {
          "output_type": "stream",
          "text": [
            "WARNING:root:Lossy conversion from float64 to uint8. Range [0, 1]. Convert image to uint8 prior to saving to suppress this warning.\n"
          ],
          "name": "stderr"
        },
        {
          "output_type": "stream",
          "text": [
            "(1400, 1400, 3)\n"
          ],
          "name": "stdout"
        },
        {
          "output_type": "stream",
          "text": [
            "WARNING:root:Lossy conversion from float64 to uint8. Range [0, 1]. Convert image to uint8 prior to saving to suppress this warning.\n"
          ],
          "name": "stderr"
        },
        {
          "output_type": "stream",
          "text": [
            "(664, 1024, 3)\n"
          ],
          "name": "stdout"
        },
        {
          "output_type": "stream",
          "text": [
            "WARNING:root:Lossy conversion from float64 to uint8. Range [0, 1]. Convert image to uint8 prior to saving to suppress this warning.\n"
          ],
          "name": "stderr"
        },
        {
          "output_type": "stream",
          "text": [
            "(776, 1024, 3)\n"
          ],
          "name": "stdout"
        },
        {
          "output_type": "stream",
          "text": [
            "WARNING:root:Lossy conversion from float64 to uint8. Range [0, 1]. Convert image to uint8 prior to saving to suppress this warning.\n"
          ],
          "name": "stderr"
        },
        {
          "output_type": "stream",
          "text": [
            "(856, 1280, 3)\n"
          ],
          "name": "stdout"
        },
        {
          "output_type": "stream",
          "text": [
            "WARNING:root:Lossy conversion from float64 to uint8. Range [0, 1]. Convert image to uint8 prior to saving to suppress this warning.\n",
            "WARNING:root:Lossy conversion from float64 to uint8. Range [0, 1]. Convert image to uint8 prior to saving to suppress this warning.\n"
          ],
          "name": "stderr"
        },
        {
          "output_type": "stream",
          "text": [
            "(424, 640, 3)\n",
            "(984, 1176, 3)\n"
          ],
          "name": "stdout"
        },
        {
          "output_type": "stream",
          "text": [
            "WARNING:root:Lossy conversion from float64 to uint8. Range [0, 1]. Convert image to uint8 prior to saving to suppress this warning.\n",
            "WARNING:root:Lossy conversion from float64 to uint8. Range [0, 1]. Convert image to uint8 prior to saving to suppress this warning.\n"
          ],
          "name": "stderr"
        },
        {
          "output_type": "stream",
          "text": [
            "(512, 768, 3)\n",
            "(856, 1280, 3)\n"
          ],
          "name": "stdout"
        },
        {
          "output_type": "stream",
          "text": [
            "WARNING:root:Lossy conversion from float64 to uint8. Range [0, 1]. Convert image to uint8 prior to saving to suppress this warning.\n"
          ],
          "name": "stderr"
        },
        {
          "output_type": "stream",
          "text": [
            "\b\b\b\b\b\b\b\b\b\b\b\b\b\b\b\b\b\b\b\b\b\b\b\b\b\b\b\b\b\b\b\b\b\b\b\b\b\b\b\b\b\b\b\b\b\b\b\b\b\b\b\b\b\b\b\b\b\b\b\b\b\b\b\b\b\b\b\b\b\b\b\b\b\b\b\b\b\b\b\b\b\b\r31/31 [==============================] - 36s 1s/step - loss: 0.0028 - accuracy: 0.8345 - val_loss: 180.4797 - val_accuracy: 0.5654\n",
            "Epoch 912/1000\n",
            "31/31 [==============================] - 22s 719ms/step - loss: 0.0027 - accuracy: 0.8298 - val_loss: 181.2964 - val_accuracy: 0.5765\n",
            "Epoch 913/1000\n",
            "31/31 [==============================] - 22s 725ms/step - loss: 0.0027 - accuracy: 0.8313 - val_loss: 182.6067 - val_accuracy: 0.4517\n",
            "Epoch 914/1000\n",
            "31/31 [==============================] - 22s 720ms/step - loss: 0.0029 - accuracy: 0.8331 - val_loss: 182.3501 - val_accuracy: 0.4561\n",
            "Epoch 915/1000\n",
            "31/31 [==============================] - 22s 717ms/step - loss: 0.0027 - accuracy: 0.8269 - val_loss: 180.9941 - val_accuracy: 0.5299\n",
            "Epoch 916/1000\n",
            "31/31 [==============================] - 22s 722ms/step - loss: 0.0028 - accuracy: 0.8311 - val_loss: 183.4200 - val_accuracy: 0.4830\n",
            "Epoch 917/1000\n",
            "31/31 [==============================] - 22s 721ms/step - loss: 0.0029 - accuracy: 0.8270 - val_loss: 181.8751 - val_accuracy: 0.5255\n",
            "Epoch 918/1000\n",
            "31/31 [==============================] - 22s 720ms/step - loss: 0.0028 - accuracy: 0.8288 - val_loss: 181.9344 - val_accuracy: 0.4996\n",
            "Epoch 919/1000\n",
            "31/31 [==============================] - 22s 719ms/step - loss: 0.0028 - accuracy: 0.8286 - val_loss: 180.5410 - val_accuracy: 0.5917\n",
            "Epoch 920/1000\n",
            "31/31 [==============================] - 22s 721ms/step - loss: 0.0028 - accuracy: 0.8287 - val_loss: 183.0352 - val_accuracy: 0.4903\n",
            "Epoch 921/1000\n",
            "31/31 [==============================] - ETA: 0s - loss: 0.0028 - accuracy: 0.8344(512, 768, 3)\n"
          ],
          "name": "stdout"
        },
        {
          "output_type": "stream",
          "text": [
            "WARNING:root:Lossy conversion from float64 to uint8. Range [0, 1]. Convert image to uint8 prior to saving to suppress this warning.\n"
          ],
          "name": "stderr"
        },
        {
          "output_type": "stream",
          "text": [
            "(800, 1088, 3)\n"
          ],
          "name": "stdout"
        },
        {
          "output_type": "stream",
          "text": [
            "WARNING:root:Lossy conversion from float64 to uint8. Range [0, 1]. Convert image to uint8 prior to saving to suppress this warning.\n"
          ],
          "name": "stderr"
        },
        {
          "output_type": "stream",
          "text": [
            "(856, 1280, 3)\n"
          ],
          "name": "stdout"
        },
        {
          "output_type": "stream",
          "text": [
            "WARNING:root:Lossy conversion from float64 to uint8. Range [0, 1]. Convert image to uint8 prior to saving to suppress this warning.\n",
            "WARNING:root:Lossy conversion from float64 to uint8. Range [0, 1]. Convert image to uint8 prior to saving to suppress this warning.\n"
          ],
          "name": "stderr"
        },
        {
          "output_type": "stream",
          "text": [
            "(528, 736, 3)\n",
            "(856, 1280, 3)\n"
          ],
          "name": "stdout"
        },
        {
          "output_type": "stream",
          "text": [
            "WARNING:root:Lossy conversion from float64 to uint8. Range [0, 1]. Convert image to uint8 prior to saving to suppress this warning.\n"
          ],
          "name": "stderr"
        },
        {
          "output_type": "stream",
          "text": [
            "(1400, 1400, 3)\n"
          ],
          "name": "stdout"
        },
        {
          "output_type": "stream",
          "text": [
            "WARNING:root:Lossy conversion from float64 to uint8. Range [0, 1]. Convert image to uint8 prior to saving to suppress this warning.\n"
          ],
          "name": "stderr"
        },
        {
          "output_type": "stream",
          "text": [
            "(664, 1024, 3)\n"
          ],
          "name": "stdout"
        },
        {
          "output_type": "stream",
          "text": [
            "WARNING:root:Lossy conversion from float64 to uint8. Range [0, 1]. Convert image to uint8 prior to saving to suppress this warning.\n"
          ],
          "name": "stderr"
        },
        {
          "output_type": "stream",
          "text": [
            "(776, 1024, 3)\n"
          ],
          "name": "stdout"
        },
        {
          "output_type": "stream",
          "text": [
            "WARNING:root:Lossy conversion from float64 to uint8. Range [0, 1]. Convert image to uint8 prior to saving to suppress this warning.\n"
          ],
          "name": "stderr"
        },
        {
          "output_type": "stream",
          "text": [
            "(856, 1280, 3)\n"
          ],
          "name": "stdout"
        },
        {
          "output_type": "stream",
          "text": [
            "WARNING:root:Lossy conversion from float64 to uint8. Range [0, 1]. Convert image to uint8 prior to saving to suppress this warning.\n",
            "WARNING:root:Lossy conversion from float64 to uint8. Range [0, 1]. Convert image to uint8 prior to saving to suppress this warning.\n"
          ],
          "name": "stderr"
        },
        {
          "output_type": "stream",
          "text": [
            "(424, 640, 3)\n",
            "(984, 1176, 3)\n"
          ],
          "name": "stdout"
        },
        {
          "output_type": "stream",
          "text": [
            "WARNING:root:Lossy conversion from float64 to uint8. Range [0, 1]. Convert image to uint8 prior to saving to suppress this warning.\n",
            "WARNING:root:Lossy conversion from float64 to uint8. Range [0, 1]. Convert image to uint8 prior to saving to suppress this warning.\n"
          ],
          "name": "stderr"
        },
        {
          "output_type": "stream",
          "text": [
            "(512, 768, 3)\n",
            "(856, 1280, 3)\n"
          ],
          "name": "stdout"
        },
        {
          "output_type": "stream",
          "text": [
            "WARNING:root:Lossy conversion from float64 to uint8. Range [0, 1]. Convert image to uint8 prior to saving to suppress this warning.\n"
          ],
          "name": "stderr"
        },
        {
          "output_type": "stream",
          "text": [
            "\b\b\b\b\b\b\b\b\b\b\b\b\b\b\b\b\b\b\b\b\b\b\b\b\b\b\b\b\b\b\b\b\b\b\b\b\b\b\b\b\b\b\b\b\b\b\b\b\b\b\b\b\b\b\b\b\b\b\b\b\b\b\b\b\b\b\b\b\b\b\b\b\b\b\b\b\b\b\b\b\b\b\r31/31 [==============================] - 36s 1s/step - loss: 0.0028 - accuracy: 0.8344 - val_loss: 180.3593 - val_accuracy: 0.6120\n",
            "Epoch 922/1000\n",
            "31/31 [==============================] - 22s 720ms/step - loss: 0.0028 - accuracy: 0.8295 - val_loss: 180.4323 - val_accuracy: 0.6193\n",
            "Epoch 923/1000\n",
            "31/31 [==============================] - 23s 728ms/step - loss: 0.0027 - accuracy: 0.8275 - val_loss: 181.3114 - val_accuracy: 0.5522\n",
            "Epoch 924/1000\n",
            "31/31 [==============================] - 22s 718ms/step - loss: 0.0028 - accuracy: 0.8319 - val_loss: 182.0658 - val_accuracy: 0.5086\n",
            "Epoch 925/1000\n",
            "31/31 [==============================] - 22s 718ms/step - loss: 0.0028 - accuracy: 0.8290 - val_loss: 182.8044 - val_accuracy: 0.5179\n",
            "Epoch 926/1000\n",
            "31/31 [==============================] - 22s 722ms/step - loss: 0.0028 - accuracy: 0.8341 - val_loss: 182.1371 - val_accuracy: 0.5032\n",
            "Epoch 927/1000\n",
            "31/31 [==============================] - 22s 720ms/step - loss: 0.0027 - accuracy: 0.8318 - val_loss: 182.9137 - val_accuracy: 0.4851\n",
            "Epoch 928/1000\n",
            "31/31 [==============================] - 22s 717ms/step - loss: 0.0028 - accuracy: 0.8285 - val_loss: 181.5275 - val_accuracy: 0.5086\n",
            "Epoch 929/1000\n",
            "31/31 [==============================] - 23s 728ms/step - loss: 0.0027 - accuracy: 0.8279 - val_loss: 182.1294 - val_accuracy: 0.4949\n",
            "Epoch 930/1000\n",
            "31/31 [==============================] - 23s 734ms/step - loss: 0.0029 - accuracy: 0.8309 - val_loss: 181.5380 - val_accuracy: 0.5681\n",
            "Epoch 931/1000\n",
            "31/31 [==============================] - ETA: 0s - loss: 0.0027 - accuracy: 0.8335(512, 768, 3)\n"
          ],
          "name": "stdout"
        },
        {
          "output_type": "stream",
          "text": [
            "WARNING:root:Lossy conversion from float64 to uint8. Range [0, 1]. Convert image to uint8 prior to saving to suppress this warning.\n"
          ],
          "name": "stderr"
        },
        {
          "output_type": "stream",
          "text": [
            "(800, 1088, 3)\n"
          ],
          "name": "stdout"
        },
        {
          "output_type": "stream",
          "text": [
            "WARNING:root:Lossy conversion from float64 to uint8. Range [0, 1]. Convert image to uint8 prior to saving to suppress this warning.\n"
          ],
          "name": "stderr"
        },
        {
          "output_type": "stream",
          "text": [
            "(856, 1280, 3)\n"
          ],
          "name": "stdout"
        },
        {
          "output_type": "stream",
          "text": [
            "WARNING:root:Lossy conversion from float64 to uint8. Range [0, 1]. Convert image to uint8 prior to saving to suppress this warning.\n",
            "WARNING:root:Lossy conversion from float64 to uint8. Range [0, 1]. Convert image to uint8 prior to saving to suppress this warning.\n"
          ],
          "name": "stderr"
        },
        {
          "output_type": "stream",
          "text": [
            "(528, 736, 3)\n",
            "(856, 1280, 3)\n"
          ],
          "name": "stdout"
        },
        {
          "output_type": "stream",
          "text": [
            "WARNING:root:Lossy conversion from float64 to uint8. Range [0, 1]. Convert image to uint8 prior to saving to suppress this warning.\n"
          ],
          "name": "stderr"
        },
        {
          "output_type": "stream",
          "text": [
            "(1400, 1400, 3)\n"
          ],
          "name": "stdout"
        },
        {
          "output_type": "stream",
          "text": [
            "WARNING:root:Lossy conversion from float64 to uint8. Range [0, 1]. Convert image to uint8 prior to saving to suppress this warning.\n"
          ],
          "name": "stderr"
        },
        {
          "output_type": "stream",
          "text": [
            "(664, 1024, 3)\n"
          ],
          "name": "stdout"
        },
        {
          "output_type": "stream",
          "text": [
            "WARNING:root:Lossy conversion from float64 to uint8. Range [0, 1]. Convert image to uint8 prior to saving to suppress this warning.\n"
          ],
          "name": "stderr"
        },
        {
          "output_type": "stream",
          "text": [
            "(776, 1024, 3)\n"
          ],
          "name": "stdout"
        },
        {
          "output_type": "stream",
          "text": [
            "WARNING:root:Lossy conversion from float64 to uint8. Range [0, 1]. Convert image to uint8 prior to saving to suppress this warning.\n"
          ],
          "name": "stderr"
        },
        {
          "output_type": "stream",
          "text": [
            "(856, 1280, 3)\n"
          ],
          "name": "stdout"
        },
        {
          "output_type": "stream",
          "text": [
            "WARNING:root:Lossy conversion from float64 to uint8. Range [0, 1]. Convert image to uint8 prior to saving to suppress this warning.\n",
            "WARNING:root:Lossy conversion from float64 to uint8. Range [0, 1]. Convert image to uint8 prior to saving to suppress this warning.\n"
          ],
          "name": "stderr"
        },
        {
          "output_type": "stream",
          "text": [
            "(424, 640, 3)\n",
            "(984, 1176, 3)\n"
          ],
          "name": "stdout"
        },
        {
          "output_type": "stream",
          "text": [
            "WARNING:root:Lossy conversion from float64 to uint8. Range [0, 1]. Convert image to uint8 prior to saving to suppress this warning.\n",
            "WARNING:root:Lossy conversion from float64 to uint8. Range [0, 1]. Convert image to uint8 prior to saving to suppress this warning.\n"
          ],
          "name": "stderr"
        },
        {
          "output_type": "stream",
          "text": [
            "(512, 768, 3)\n",
            "(856, 1280, 3)\n"
          ],
          "name": "stdout"
        },
        {
          "output_type": "stream",
          "text": [
            "WARNING:root:Lossy conversion from float64 to uint8. Range [0, 1]. Convert image to uint8 prior to saving to suppress this warning.\n"
          ],
          "name": "stderr"
        },
        {
          "output_type": "stream",
          "text": [
            "\b\b\b\b\b\b\b\b\b\b\b\b\b\b\b\b\b\b\b\b\b\b\b\b\b\b\b\b\b\b\b\b\b\b\b\b\b\b\b\b\b\b\b\b\b\b\b\b\b\b\b\b\b\b\b\b\b\b\b\b\b\b\b\b\b\b\b\b\b\b\b\b\b\b\b\b\b\b\b\b\b\b\r31/31 [==============================] - 36s 1s/step - loss: 0.0027 - accuracy: 0.8335 - val_loss: 181.2454 - val_accuracy: 0.4946\n",
            "Epoch 932/1000\n",
            "31/31 [==============================] - 22s 720ms/step - loss: 0.0028 - accuracy: 0.8314 - val_loss: 182.3298 - val_accuracy: 0.5022\n",
            "Epoch 933/1000\n",
            "31/31 [==============================] - 23s 726ms/step - loss: 0.0029 - accuracy: 0.8272 - val_loss: 182.4951 - val_accuracy: 0.4903\n",
            "Epoch 934/1000\n",
            "31/31 [==============================] - 22s 721ms/step - loss: 0.0027 - accuracy: 0.8335 - val_loss: 181.2628 - val_accuracy: 0.5293\n",
            "Epoch 935/1000\n",
            "31/31 [==============================] - 22s 719ms/step - loss: 0.0028 - accuracy: 0.8304 - val_loss: 181.0883 - val_accuracy: 0.5586\n",
            "Epoch 936/1000\n",
            "31/31 [==============================] - 22s 722ms/step - loss: 0.0027 - accuracy: 0.8282 - val_loss: 180.1703 - val_accuracy: 0.5916\n",
            "Epoch 937/1000\n",
            "31/31 [==============================] - 22s 720ms/step - loss: 0.0028 - accuracy: 0.8328 - val_loss: 182.3343 - val_accuracy: 0.4603\n",
            "Epoch 938/1000\n",
            "31/31 [==============================] - 22s 718ms/step - loss: 0.0028 - accuracy: 0.8309 - val_loss: 182.3453 - val_accuracy: 0.5032\n",
            "Epoch 939/1000\n",
            "31/31 [==============================] - 22s 721ms/step - loss: 0.0027 - accuracy: 0.8288 - val_loss: 181.8466 - val_accuracy: 0.5136\n",
            "Epoch 940/1000\n",
            "31/31 [==============================] - 23s 726ms/step - loss: 0.0029 - accuracy: 0.8330 - val_loss: 182.3374 - val_accuracy: 0.4008\n",
            "Epoch 941/1000\n",
            "31/31 [==============================] - ETA: 0s - loss: 0.0028 - accuracy: 0.8277(512, 768, 3)\n"
          ],
          "name": "stdout"
        },
        {
          "output_type": "stream",
          "text": [
            "WARNING:root:Lossy conversion from float64 to uint8. Range [0, 1]. Convert image to uint8 prior to saving to suppress this warning.\n"
          ],
          "name": "stderr"
        },
        {
          "output_type": "stream",
          "text": [
            "(800, 1088, 3)\n"
          ],
          "name": "stdout"
        },
        {
          "output_type": "stream",
          "text": [
            "WARNING:root:Lossy conversion from float64 to uint8. Range [0, 1]. Convert image to uint8 prior to saving to suppress this warning.\n"
          ],
          "name": "stderr"
        },
        {
          "output_type": "stream",
          "text": [
            "(856, 1280, 3)\n"
          ],
          "name": "stdout"
        },
        {
          "output_type": "stream",
          "text": [
            "WARNING:root:Lossy conversion from float64 to uint8. Range [0, 1]. Convert image to uint8 prior to saving to suppress this warning.\n",
            "WARNING:root:Lossy conversion from float64 to uint8. Range [0, 1]. Convert image to uint8 prior to saving to suppress this warning.\n"
          ],
          "name": "stderr"
        },
        {
          "output_type": "stream",
          "text": [
            "(528, 736, 3)\n",
            "(856, 1280, 3)\n"
          ],
          "name": "stdout"
        },
        {
          "output_type": "stream",
          "text": [
            "WARNING:root:Lossy conversion from float64 to uint8. Range [0, 1]. Convert image to uint8 prior to saving to suppress this warning.\n"
          ],
          "name": "stderr"
        },
        {
          "output_type": "stream",
          "text": [
            "(1400, 1400, 3)\n"
          ],
          "name": "stdout"
        },
        {
          "output_type": "stream",
          "text": [
            "WARNING:root:Lossy conversion from float64 to uint8. Range [0, 1]. Convert image to uint8 prior to saving to suppress this warning.\n"
          ],
          "name": "stderr"
        },
        {
          "output_type": "stream",
          "text": [
            "(664, 1024, 3)\n"
          ],
          "name": "stdout"
        },
        {
          "output_type": "stream",
          "text": [
            "WARNING:root:Lossy conversion from float64 to uint8. Range [0, 1]. Convert image to uint8 prior to saving to suppress this warning.\n"
          ],
          "name": "stderr"
        },
        {
          "output_type": "stream",
          "text": [
            "(776, 1024, 3)\n"
          ],
          "name": "stdout"
        },
        {
          "output_type": "stream",
          "text": [
            "WARNING:root:Lossy conversion from float64 to uint8. Range [0, 1]. Convert image to uint8 prior to saving to suppress this warning.\n"
          ],
          "name": "stderr"
        },
        {
          "output_type": "stream",
          "text": [
            "(856, 1280, 3)\n"
          ],
          "name": "stdout"
        },
        {
          "output_type": "stream",
          "text": [
            "WARNING:root:Lossy conversion from float64 to uint8. Range [0, 1]. Convert image to uint8 prior to saving to suppress this warning.\n",
            "WARNING:root:Lossy conversion from float64 to uint8. Range [0, 1]. Convert image to uint8 prior to saving to suppress this warning.\n"
          ],
          "name": "stderr"
        },
        {
          "output_type": "stream",
          "text": [
            "(424, 640, 3)\n",
            "(984, 1176, 3)\n"
          ],
          "name": "stdout"
        },
        {
          "output_type": "stream",
          "text": [
            "WARNING:root:Lossy conversion from float64 to uint8. Range [0, 1]. Convert image to uint8 prior to saving to suppress this warning.\n",
            "WARNING:root:Lossy conversion from float64 to uint8. Range [0, 1]. Convert image to uint8 prior to saving to suppress this warning.\n"
          ],
          "name": "stderr"
        },
        {
          "output_type": "stream",
          "text": [
            "(512, 768, 3)\n",
            "(856, 1280, 3)\n"
          ],
          "name": "stdout"
        },
        {
          "output_type": "stream",
          "text": [
            "WARNING:root:Lossy conversion from float64 to uint8. Range [0, 1]. Convert image to uint8 prior to saving to suppress this warning.\n"
          ],
          "name": "stderr"
        },
        {
          "output_type": "stream",
          "text": [
            "\b\b\b\b\b\b\b\b\b\b\b\b\b\b\b\b\b\b\b\b\b\b\b\b\b\b\b\b\b\b\b\b\b\b\b\b\b\b\b\b\b\b\b\b\b\b\b\b\b\b\b\b\b\b\b\b\b\b\b\b\b\b\b\b\b\b\b\b\b\b\b\b\b\b\b\b\b\b\b\b\b\b\r31/31 [==============================] - 36s 1s/step - loss: 0.0028 - accuracy: 0.8277 - val_loss: 181.8261 - val_accuracy: 0.5024\n",
            "Epoch 942/1000\n",
            "31/31 [==============================] - 22s 723ms/step - loss: 0.0027 - accuracy: 0.8284 - val_loss: 180.9457 - val_accuracy: 0.5573\n",
            "Epoch 943/1000\n",
            "31/31 [==============================] - 23s 728ms/step - loss: 0.0028 - accuracy: 0.8326 - val_loss: 181.8980 - val_accuracy: 0.4699\n",
            "Epoch 944/1000\n",
            "31/31 [==============================] - 22s 723ms/step - loss: 0.0028 - accuracy: 0.8330 - val_loss: 181.6294 - val_accuracy: 0.5571\n",
            "Epoch 945/1000\n",
            "31/31 [==============================] - 22s 724ms/step - loss: 0.0027 - accuracy: 0.8329 - val_loss: 182.6570 - val_accuracy: 0.4790\n",
            "Epoch 946/1000\n",
            "31/31 [==============================] - 23s 728ms/step - loss: 0.0027 - accuracy: 0.8292 - val_loss: 182.0802 - val_accuracy: 0.5183\n",
            "Epoch 947/1000\n",
            "31/31 [==============================] - 23s 728ms/step - loss: 0.0029 - accuracy: 0.8315 - val_loss: 181.0634 - val_accuracy: 0.5290\n",
            "Epoch 948/1000\n",
            "31/31 [==============================] - 23s 728ms/step - loss: 0.0028 - accuracy: 0.8318 - val_loss: 180.6660 - val_accuracy: 0.5697\n",
            "Epoch 949/1000\n",
            "31/31 [==============================] - 22s 726ms/step - loss: 0.0028 - accuracy: 0.8309 - val_loss: 180.7427 - val_accuracy: 0.5154\n",
            "Epoch 950/1000\n",
            "31/31 [==============================] - 23s 730ms/step - loss: 0.0027 - accuracy: 0.8320 - val_loss: 181.0430 - val_accuracy: 0.4980\n",
            "Epoch 951/1000\n",
            "31/31 [==============================] - ETA: 0s - loss: 0.0028 - accuracy: 0.8330(512, 768, 3)\n"
          ],
          "name": "stdout"
        },
        {
          "output_type": "stream",
          "text": [
            "WARNING:root:Lossy conversion from float64 to uint8. Range [0, 1]. Convert image to uint8 prior to saving to suppress this warning.\n"
          ],
          "name": "stderr"
        },
        {
          "output_type": "stream",
          "text": [
            "(800, 1088, 3)\n"
          ],
          "name": "stdout"
        },
        {
          "output_type": "stream",
          "text": [
            "WARNING:root:Lossy conversion from float64 to uint8. Range [0, 1]. Convert image to uint8 prior to saving to suppress this warning.\n"
          ],
          "name": "stderr"
        },
        {
          "output_type": "stream",
          "text": [
            "(856, 1280, 3)\n"
          ],
          "name": "stdout"
        },
        {
          "output_type": "stream",
          "text": [
            "WARNING:root:Lossy conversion from float64 to uint8. Range [0, 1]. Convert image to uint8 prior to saving to suppress this warning.\n",
            "WARNING:root:Lossy conversion from float64 to uint8. Range [0, 1]. Convert image to uint8 prior to saving to suppress this warning.\n"
          ],
          "name": "stderr"
        },
        {
          "output_type": "stream",
          "text": [
            "(528, 736, 3)\n",
            "(856, 1280, 3)\n"
          ],
          "name": "stdout"
        },
        {
          "output_type": "stream",
          "text": [
            "WARNING:root:Lossy conversion from float64 to uint8. Range [0, 1]. Convert image to uint8 prior to saving to suppress this warning.\n"
          ],
          "name": "stderr"
        },
        {
          "output_type": "stream",
          "text": [
            "(1400, 1400, 3)\n"
          ],
          "name": "stdout"
        },
        {
          "output_type": "stream",
          "text": [
            "WARNING:root:Lossy conversion from float64 to uint8. Range [0, 1]. Convert image to uint8 prior to saving to suppress this warning.\n"
          ],
          "name": "stderr"
        },
        {
          "output_type": "stream",
          "text": [
            "(664, 1024, 3)\n"
          ],
          "name": "stdout"
        },
        {
          "output_type": "stream",
          "text": [
            "WARNING:root:Lossy conversion from float64 to uint8. Range [0, 1]. Convert image to uint8 prior to saving to suppress this warning.\n"
          ],
          "name": "stderr"
        },
        {
          "output_type": "stream",
          "text": [
            "(776, 1024, 3)\n"
          ],
          "name": "stdout"
        },
        {
          "output_type": "stream",
          "text": [
            "WARNING:root:Lossy conversion from float64 to uint8. Range [0, 1]. Convert image to uint8 prior to saving to suppress this warning.\n"
          ],
          "name": "stderr"
        },
        {
          "output_type": "stream",
          "text": [
            "(856, 1280, 3)\n"
          ],
          "name": "stdout"
        },
        {
          "output_type": "stream",
          "text": [
            "WARNING:root:Lossy conversion from float64 to uint8. Range [0, 1]. Convert image to uint8 prior to saving to suppress this warning.\n",
            "WARNING:root:Lossy conversion from float64 to uint8. Range [0, 1]. Convert image to uint8 prior to saving to suppress this warning.\n"
          ],
          "name": "stderr"
        },
        {
          "output_type": "stream",
          "text": [
            "(424, 640, 3)\n",
            "(984, 1176, 3)\n"
          ],
          "name": "stdout"
        },
        {
          "output_type": "stream",
          "text": [
            "WARNING:root:Lossy conversion from float64 to uint8. Range [0, 1]. Convert image to uint8 prior to saving to suppress this warning.\n"
          ],
          "name": "stderr"
        },
        {
          "output_type": "stream",
          "text": [
            "(512, 768, 3)\n"
          ],
          "name": "stdout"
        },
        {
          "output_type": "stream",
          "text": [
            "WARNING:root:Lossy conversion from float64 to uint8. Range [0, 1]. Convert image to uint8 prior to saving to suppress this warning.\n"
          ],
          "name": "stderr"
        },
        {
          "output_type": "stream",
          "text": [
            "(856, 1280, 3)\n"
          ],
          "name": "stdout"
        },
        {
          "output_type": "stream",
          "text": [
            "WARNING:root:Lossy conversion from float64 to uint8. Range [0, 1]. Convert image to uint8 prior to saving to suppress this warning.\n"
          ],
          "name": "stderr"
        },
        {
          "output_type": "stream",
          "text": [
            "\b\b\b\b\b\b\b\b\b\b\b\b\b\b\b\b\b\b\b\b\b\b\b\b\b\b\b\b\b\b\b\b\b\b\b\b\b\b\b\b\b\b\b\b\b\b\b\b\b\b\b\b\b\b\b\b\b\b\b\b\b\b\b\b\b\b\b\b\b\b\b\b\b\b\b\b\b\b\b\b\b\b\r31/31 [==============================] - 36s 1s/step - loss: 0.0028 - accuracy: 0.8330 - val_loss: 181.4228 - val_accuracy: 0.5481\n",
            "Epoch 952/1000\n",
            "31/31 [==============================] - 23s 729ms/step - loss: 0.0027 - accuracy: 0.8317 - val_loss: 183.4093 - val_accuracy: 0.4631\n",
            "Epoch 953/1000\n",
            "31/31 [==============================] - 23s 731ms/step - loss: 0.0028 - accuracy: 0.8348 - val_loss: 181.7913 - val_accuracy: 0.4633\n",
            "Epoch 954/1000\n",
            "31/31 [==============================] - 23s 729ms/step - loss: 0.0028 - accuracy: 0.8291 - val_loss: 182.0753 - val_accuracy: 0.4903\n",
            "Epoch 955/1000\n",
            "31/31 [==============================] - 23s 733ms/step - loss: 0.0028 - accuracy: 0.8300 - val_loss: 181.7181 - val_accuracy: 0.5639\n",
            "Epoch 956/1000\n",
            "31/31 [==============================] - 23s 736ms/step - loss: 0.0026 - accuracy: 0.8345 - val_loss: 181.1185 - val_accuracy: 0.5889\n",
            "Epoch 957/1000\n",
            "31/31 [==============================] - 23s 731ms/step - loss: 0.0030 - accuracy: 0.8290 - val_loss: 180.8102 - val_accuracy: 0.5767\n",
            "Epoch 958/1000\n",
            "31/31 [==============================] - 23s 733ms/step - loss: 0.0028 - accuracy: 0.8330 - val_loss: 181.3255 - val_accuracy: 0.5420\n",
            "Epoch 959/1000\n",
            "31/31 [==============================] - 23s 738ms/step - loss: 0.0027 - accuracy: 0.8318 - val_loss: 180.9602 - val_accuracy: 0.5559\n",
            "Epoch 960/1000\n",
            "31/31 [==============================] - 23s 738ms/step - loss: 0.0027 - accuracy: 0.8331 - val_loss: 180.6488 - val_accuracy: 0.5993\n",
            "Epoch 961/1000\n",
            "31/31 [==============================] - ETA: 0s - loss: 0.0027 - accuracy: 0.8324"
          ],
          "name": "stdout"
        },
        {
          "output_type": "stream",
          "text": [
            "WARNING:root:Lossy conversion from float64 to uint8. Range [0, 1]. Convert image to uint8 prior to saving to suppress this warning.\n"
          ],
          "name": "stderr"
        },
        {
          "output_type": "stream",
          "text": [
            "(512, 768, 3)\n",
            "(800, 1088, 3)\n"
          ],
          "name": "stdout"
        },
        {
          "output_type": "stream",
          "text": [
            "WARNING:root:Lossy conversion from float64 to uint8. Range [0, 1]. Convert image to uint8 prior to saving to suppress this warning.\n"
          ],
          "name": "stderr"
        },
        {
          "output_type": "stream",
          "text": [
            "(856, 1280, 3)\n"
          ],
          "name": "stdout"
        },
        {
          "output_type": "stream",
          "text": [
            "WARNING:root:Lossy conversion from float64 to uint8. Range [0, 1]. Convert image to uint8 prior to saving to suppress this warning.\n",
            "WARNING:root:Lossy conversion from float64 to uint8. Range [0, 1]. Convert image to uint8 prior to saving to suppress this warning.\n"
          ],
          "name": "stderr"
        },
        {
          "output_type": "stream",
          "text": [
            "(528, 736, 3)\n",
            "(856, 1280, 3)\n"
          ],
          "name": "stdout"
        },
        {
          "output_type": "stream",
          "text": [
            "WARNING:root:Lossy conversion from float64 to uint8. Range [0, 1]. Convert image to uint8 prior to saving to suppress this warning.\n"
          ],
          "name": "stderr"
        },
        {
          "output_type": "stream",
          "text": [
            "(1400, 1400, 3)\n"
          ],
          "name": "stdout"
        },
        {
          "output_type": "stream",
          "text": [
            "WARNING:root:Lossy conversion from float64 to uint8. Range [0, 1]. Convert image to uint8 prior to saving to suppress this warning.\n"
          ],
          "name": "stderr"
        },
        {
          "output_type": "stream",
          "text": [
            "(664, 1024, 3)\n"
          ],
          "name": "stdout"
        },
        {
          "output_type": "stream",
          "text": [
            "WARNING:root:Lossy conversion from float64 to uint8. Range [0, 1]. Convert image to uint8 prior to saving to suppress this warning.\n"
          ],
          "name": "stderr"
        },
        {
          "output_type": "stream",
          "text": [
            "(776, 1024, 3)\n"
          ],
          "name": "stdout"
        },
        {
          "output_type": "stream",
          "text": [
            "WARNING:root:Lossy conversion from float64 to uint8. Range [0, 1]. Convert image to uint8 prior to saving to suppress this warning.\n"
          ],
          "name": "stderr"
        },
        {
          "output_type": "stream",
          "text": [
            "(856, 1280, 3)\n"
          ],
          "name": "stdout"
        },
        {
          "output_type": "stream",
          "text": [
            "WARNING:root:Lossy conversion from float64 to uint8. Range [0, 1]. Convert image to uint8 prior to saving to suppress this warning.\n",
            "WARNING:root:Lossy conversion from float64 to uint8. Range [0, 1]. Convert image to uint8 prior to saving to suppress this warning.\n"
          ],
          "name": "stderr"
        },
        {
          "output_type": "stream",
          "text": [
            "(424, 640, 3)\n",
            "(984, 1176, 3)\n"
          ],
          "name": "stdout"
        },
        {
          "output_type": "stream",
          "text": [
            "WARNING:root:Lossy conversion from float64 to uint8. Range [0, 1]. Convert image to uint8 prior to saving to suppress this warning.\n",
            "WARNING:root:Lossy conversion from float64 to uint8. Range [0, 1]. Convert image to uint8 prior to saving to suppress this warning.\n"
          ],
          "name": "stderr"
        },
        {
          "output_type": "stream",
          "text": [
            "(512, 768, 3)\n",
            "(856, 1280, 3)\n"
          ],
          "name": "stdout"
        },
        {
          "output_type": "stream",
          "text": [
            "WARNING:root:Lossy conversion from float64 to uint8. Range [0, 1]. Convert image to uint8 prior to saving to suppress this warning.\n"
          ],
          "name": "stderr"
        },
        {
          "output_type": "stream",
          "text": [
            "\b\b\b\b\b\b\b\b\b\b\b\b\b\b\b\b\b\b\b\b\b\b\b\b\b\b\b\b\b\b\b\b\b\b\b\b\b\b\b\b\b\b\b\b\b\b\b\b\b\b\b\b\b\b\b\b\b\b\b\b\b\b\b\b\b\b\b\b\b\b\b\b\b\b\b\b\b\b\b\b\b\b\r31/31 [==============================] - 36s 1s/step - loss: 0.0027 - accuracy: 0.8324 - val_loss: 179.6586 - val_accuracy: 0.5978\n",
            "Epoch 962/1000\n",
            "31/31 [==============================] - 23s 747ms/step - loss: 0.0027 - accuracy: 0.8318 - val_loss: 182.1537 - val_accuracy: 0.4988\n",
            "Epoch 963/1000\n",
            "31/31 [==============================] - 23s 738ms/step - loss: 0.0028 - accuracy: 0.8319 - val_loss: 181.0396 - val_accuracy: 0.5328\n",
            "Epoch 964/1000\n",
            "31/31 [==============================] - 23s 729ms/step - loss: 0.0028 - accuracy: 0.8297 - val_loss: 182.3521 - val_accuracy: 0.4657\n",
            "Epoch 965/1000\n",
            "31/31 [==============================] - 23s 737ms/step - loss: 0.0027 - accuracy: 0.8327 - val_loss: 180.9160 - val_accuracy: 0.5888\n",
            "Epoch 966/1000\n",
            "31/31 [==============================] - 23s 738ms/step - loss: 0.0028 - accuracy: 0.8294 - val_loss: 182.2123 - val_accuracy: 0.5061\n",
            "Epoch 967/1000\n",
            "31/31 [==============================] - 23s 735ms/step - loss: 0.0028 - accuracy: 0.8340 - val_loss: 181.0973 - val_accuracy: 0.5213\n",
            "Epoch 968/1000\n",
            "31/31 [==============================] - 23s 733ms/step - loss: 0.0028 - accuracy: 0.8280 - val_loss: 181.4940 - val_accuracy: 0.5474\n",
            "Epoch 969/1000\n",
            "31/31 [==============================] - 23s 737ms/step - loss: 0.0027 - accuracy: 0.8280 - val_loss: 181.3076 - val_accuracy: 0.5393\n",
            "Epoch 970/1000\n",
            "31/31 [==============================] - 23s 741ms/step - loss: 0.0028 - accuracy: 0.8307 - val_loss: 181.8007 - val_accuracy: 0.4884\n",
            "Epoch 971/1000\n",
            "31/31 [==============================] - ETA: 0s - loss: 0.0027 - accuracy: 0.8326(512, 768, 3)\n"
          ],
          "name": "stdout"
        },
        {
          "output_type": "stream",
          "text": [
            "WARNING:root:Lossy conversion from float64 to uint8. Range [0, 1]. Convert image to uint8 prior to saving to suppress this warning.\n"
          ],
          "name": "stderr"
        },
        {
          "output_type": "stream",
          "text": [
            "(800, 1088, 3)\n"
          ],
          "name": "stdout"
        },
        {
          "output_type": "stream",
          "text": [
            "WARNING:root:Lossy conversion from float64 to uint8. Range [0, 1]. Convert image to uint8 prior to saving to suppress this warning.\n"
          ],
          "name": "stderr"
        },
        {
          "output_type": "stream",
          "text": [
            "(856, 1280, 3)\n"
          ],
          "name": "stdout"
        },
        {
          "output_type": "stream",
          "text": [
            "WARNING:root:Lossy conversion from float64 to uint8. Range [0, 1]. Convert image to uint8 prior to saving to suppress this warning.\n"
          ],
          "name": "stderr"
        },
        {
          "output_type": "stream",
          "text": [
            "(528, 736, 3)\n"
          ],
          "name": "stdout"
        },
        {
          "output_type": "stream",
          "text": [
            "WARNING:root:Lossy conversion from float64 to uint8. Range [0, 1]. Convert image to uint8 prior to saving to suppress this warning.\n"
          ],
          "name": "stderr"
        },
        {
          "output_type": "stream",
          "text": [
            "(856, 1280, 3)\n"
          ],
          "name": "stdout"
        },
        {
          "output_type": "stream",
          "text": [
            "WARNING:root:Lossy conversion from float64 to uint8. Range [0, 1]. Convert image to uint8 prior to saving to suppress this warning.\n"
          ],
          "name": "stderr"
        },
        {
          "output_type": "stream",
          "text": [
            "(1400, 1400, 3)\n"
          ],
          "name": "stdout"
        },
        {
          "output_type": "stream",
          "text": [
            "WARNING:root:Lossy conversion from float64 to uint8. Range [0, 1]. Convert image to uint8 prior to saving to suppress this warning.\n"
          ],
          "name": "stderr"
        },
        {
          "output_type": "stream",
          "text": [
            "(664, 1024, 3)\n"
          ],
          "name": "stdout"
        },
        {
          "output_type": "stream",
          "text": [
            "WARNING:root:Lossy conversion from float64 to uint8. Range [0, 1]. Convert image to uint8 prior to saving to suppress this warning.\n"
          ],
          "name": "stderr"
        },
        {
          "output_type": "stream",
          "text": [
            "(776, 1024, 3)\n"
          ],
          "name": "stdout"
        },
        {
          "output_type": "stream",
          "text": [
            "WARNING:root:Lossy conversion from float64 to uint8. Range [0, 1]. Convert image to uint8 prior to saving to suppress this warning.\n"
          ],
          "name": "stderr"
        },
        {
          "output_type": "stream",
          "text": [
            "(856, 1280, 3)\n"
          ],
          "name": "stdout"
        },
        {
          "output_type": "stream",
          "text": [
            "WARNING:root:Lossy conversion from float64 to uint8. Range [0, 1]. Convert image to uint8 prior to saving to suppress this warning.\n",
            "WARNING:root:Lossy conversion from float64 to uint8. Range [0, 1]. Convert image to uint8 prior to saving to suppress this warning.\n"
          ],
          "name": "stderr"
        },
        {
          "output_type": "stream",
          "text": [
            "(424, 640, 3)\n",
            "(984, 1176, 3)\n"
          ],
          "name": "stdout"
        },
        {
          "output_type": "stream",
          "text": [
            "WARNING:root:Lossy conversion from float64 to uint8. Range [0, 1]. Convert image to uint8 prior to saving to suppress this warning.\n",
            "WARNING:root:Lossy conversion from float64 to uint8. Range [0, 1]. Convert image to uint8 prior to saving to suppress this warning.\n"
          ],
          "name": "stderr"
        },
        {
          "output_type": "stream",
          "text": [
            "(512, 768, 3)\n",
            "(856, 1280, 3)\n"
          ],
          "name": "stdout"
        },
        {
          "output_type": "stream",
          "text": [
            "WARNING:root:Lossy conversion from float64 to uint8. Range [0, 1]. Convert image to uint8 prior to saving to suppress this warning.\n"
          ],
          "name": "stderr"
        },
        {
          "output_type": "stream",
          "text": [
            "\b\b\b\b\b\b\b\b\b\b\b\b\b\b\b\b\b\b\b\b\b\b\b\b\b\b\b\b\b\b\b\b\b\b\b\b\b\b\b\b\b\b\b\b\b\b\b\b\b\b\b\b\b\b\b\b\b\b\b\b\b\b\b\b\b\b\b\b\b\b\b\b\b\b\b\b\b\b\b\b\b\b\r31/31 [==============================] - 37s 1s/step - loss: 0.0027 - accuracy: 0.8326 - val_loss: 182.4995 - val_accuracy: 0.5348\n",
            "Epoch 972/1000\n",
            "31/31 [==============================] - 23s 749ms/step - loss: 0.0027 - accuracy: 0.8332 - val_loss: 181.6897 - val_accuracy: 0.5525\n",
            "Epoch 973/1000\n",
            "31/31 [==============================] - 23s 738ms/step - loss: 0.0028 - accuracy: 0.8321 - val_loss: 181.7268 - val_accuracy: 0.5599\n",
            "Epoch 974/1000\n",
            "31/31 [==============================] - 23s 735ms/step - loss: 0.0031 - accuracy: 0.8287 - val_loss: 181.2318 - val_accuracy: 0.5553\n",
            "Epoch 975/1000\n",
            "31/31 [==============================] - 23s 739ms/step - loss: 0.0026 - accuracy: 0.8383 - val_loss: 182.0220 - val_accuracy: 0.4852\n",
            "Epoch 976/1000\n",
            "31/31 [==============================] - 23s 741ms/step - loss: 0.0028 - accuracy: 0.8247 - val_loss: 181.2230 - val_accuracy: 0.4966\n",
            "Epoch 977/1000\n",
            "31/31 [==============================] - 23s 739ms/step - loss: 0.0026 - accuracy: 0.8373 - val_loss: 180.5788 - val_accuracy: 0.5105\n",
            "Epoch 978/1000\n",
            "31/31 [==============================] - 23s 736ms/step - loss: 0.0027 - accuracy: 0.8318 - val_loss: 182.0974 - val_accuracy: 0.4928\n",
            "Epoch 979/1000\n",
            "31/31 [==============================] - 23s 747ms/step - loss: 0.0028 - accuracy: 0.8269 - val_loss: 181.5775 - val_accuracy: 0.5645\n",
            "Epoch 980/1000\n",
            "31/31 [==============================] - 23s 745ms/step - loss: 0.0028 - accuracy: 0.8349 - val_loss: 180.8933 - val_accuracy: 0.5865\n",
            "Epoch 981/1000\n",
            "31/31 [==============================] - ETA: 0s - loss: 0.0028 - accuracy: 0.8328(512, 768, 3)\n"
          ],
          "name": "stdout"
        },
        {
          "output_type": "stream",
          "text": [
            "WARNING:root:Lossy conversion from float64 to uint8. Range [0, 1]. Convert image to uint8 prior to saving to suppress this warning.\n"
          ],
          "name": "stderr"
        },
        {
          "output_type": "stream",
          "text": [
            "(800, 1088, 3)\n"
          ],
          "name": "stdout"
        },
        {
          "output_type": "stream",
          "text": [
            "WARNING:root:Lossy conversion from float64 to uint8. Range [0, 1]. Convert image to uint8 prior to saving to suppress this warning.\n"
          ],
          "name": "stderr"
        },
        {
          "output_type": "stream",
          "text": [
            "(856, 1280, 3)\n"
          ],
          "name": "stdout"
        },
        {
          "output_type": "stream",
          "text": [
            "WARNING:root:Lossy conversion from float64 to uint8. Range [0, 1]. Convert image to uint8 prior to saving to suppress this warning.\n",
            "WARNING:root:Lossy conversion from float64 to uint8. Range [0, 1]. Convert image to uint8 prior to saving to suppress this warning.\n"
          ],
          "name": "stderr"
        },
        {
          "output_type": "stream",
          "text": [
            "(528, 736, 3)\n",
            "(856, 1280, 3)\n"
          ],
          "name": "stdout"
        },
        {
          "output_type": "stream",
          "text": [
            "WARNING:root:Lossy conversion from float64 to uint8. Range [0, 1]. Convert image to uint8 prior to saving to suppress this warning.\n"
          ],
          "name": "stderr"
        },
        {
          "output_type": "stream",
          "text": [
            "(1400, 1400, 3)\n"
          ],
          "name": "stdout"
        },
        {
          "output_type": "stream",
          "text": [
            "WARNING:root:Lossy conversion from float64 to uint8. Range [0, 1]. Convert image to uint8 prior to saving to suppress this warning.\n"
          ],
          "name": "stderr"
        },
        {
          "output_type": "stream",
          "text": [
            "(664, 1024, 3)\n"
          ],
          "name": "stdout"
        },
        {
          "output_type": "stream",
          "text": [
            "WARNING:root:Lossy conversion from float64 to uint8. Range [0, 1]. Convert image to uint8 prior to saving to suppress this warning.\n"
          ],
          "name": "stderr"
        },
        {
          "output_type": "stream",
          "text": [
            "(776, 1024, 3)\n"
          ],
          "name": "stdout"
        },
        {
          "output_type": "stream",
          "text": [
            "WARNING:root:Lossy conversion from float64 to uint8. Range [0, 1]. Convert image to uint8 prior to saving to suppress this warning.\n"
          ],
          "name": "stderr"
        },
        {
          "output_type": "stream",
          "text": [
            "(856, 1280, 3)\n"
          ],
          "name": "stdout"
        },
        {
          "output_type": "stream",
          "text": [
            "WARNING:root:Lossy conversion from float64 to uint8. Range [0, 1]. Convert image to uint8 prior to saving to suppress this warning.\n",
            "WARNING:root:Lossy conversion from float64 to uint8. Range [0, 1]. Convert image to uint8 prior to saving to suppress this warning.\n"
          ],
          "name": "stderr"
        },
        {
          "output_type": "stream",
          "text": [
            "(424, 640, 3)\n",
            "(984, 1176, 3)\n"
          ],
          "name": "stdout"
        },
        {
          "output_type": "stream",
          "text": [
            "WARNING:root:Lossy conversion from float64 to uint8. Range [0, 1]. Convert image to uint8 prior to saving to suppress this warning.\n",
            "WARNING:root:Lossy conversion from float64 to uint8. Range [0, 1]. Convert image to uint8 prior to saving to suppress this warning.\n"
          ],
          "name": "stderr"
        },
        {
          "output_type": "stream",
          "text": [
            "(512, 768, 3)\n",
            "(856, 1280, 3)\n"
          ],
          "name": "stdout"
        },
        {
          "output_type": "stream",
          "text": [
            "WARNING:root:Lossy conversion from float64 to uint8. Range [0, 1]. Convert image to uint8 prior to saving to suppress this warning.\n"
          ],
          "name": "stderr"
        },
        {
          "output_type": "stream",
          "text": [
            "\b\b\b\b\b\b\b\b\b\b\b\b\b\b\b\b\b\b\b\b\b\b\b\b\b\b\b\b\b\b\b\b\b\b\b\b\b\b\b\b\b\b\b\b\b\b\b\b\b\b\b\b\b\b\b\b\b\b\b\b\b\b\b\b\b\b\b\b\b\b\b\b\b\b\b\b\b\b\b\b\b\b\r31/31 [==============================] - 37s 1s/step - loss: 0.0028 - accuracy: 0.8328 - val_loss: 181.9240 - val_accuracy: 0.5398\n",
            "Epoch 982/1000\n",
            "31/31 [==============================] - 23s 740ms/step - loss: 0.0027 - accuracy: 0.8320 - val_loss: 181.7783 - val_accuracy: 0.5451\n",
            "Epoch 983/1000\n",
            "31/31 [==============================] - 23s 735ms/step - loss: 0.0028 - accuracy: 0.8313 - val_loss: 182.0179 - val_accuracy: 0.5505\n",
            "Epoch 984/1000\n",
            "31/31 [==============================] - 23s 745ms/step - loss: 0.0027 - accuracy: 0.8360 - val_loss: 182.3100 - val_accuracy: 0.5453\n",
            "Epoch 985/1000\n",
            "31/31 [==============================] - 23s 742ms/step - loss: 0.0027 - accuracy: 0.8340 - val_loss: 181.1246 - val_accuracy: 0.5286\n",
            "Epoch 986/1000\n",
            "31/31 [==============================] - 23s 738ms/step - loss: 0.0027 - accuracy: 0.8293 - val_loss: 182.2143 - val_accuracy: 0.5248\n",
            "Epoch 987/1000\n",
            "31/31 [==============================] - 23s 735ms/step - loss: 0.0027 - accuracy: 0.8356 - val_loss: 181.2304 - val_accuracy: 0.5533\n",
            "Epoch 988/1000\n",
            "31/31 [==============================] - 23s 737ms/step - loss: 0.0028 - accuracy: 0.8305 - val_loss: 181.7430 - val_accuracy: 0.5167\n",
            "Epoch 989/1000\n",
            "31/31 [==============================] - 23s 742ms/step - loss: 0.0028 - accuracy: 0.8290 - val_loss: 180.4537 - val_accuracy: 0.6035\n",
            "Epoch 990/1000\n",
            "31/31 [==============================] - 23s 742ms/step - loss: 0.0026 - accuracy: 0.8334 - val_loss: 181.9873 - val_accuracy: 0.5256\n",
            "Epoch 991/1000\n",
            "31/31 [==============================] - ETA: 0s - loss: 0.0027 - accuracy: 0.8305(512, 768, 3)\n"
          ],
          "name": "stdout"
        },
        {
          "output_type": "stream",
          "text": [
            "/usr/local/lib/python3.6/dist-packages/skimage/color/colorconv.py:1068: UserWarning: Color data out of range: Z < 0 in 11 pixels\n",
            "  return xyz2rgb(lab2xyz(lab, illuminant, observer))\n",
            "WARNING:root:Lossy conversion from float64 to uint8. Range [0, 1]. Convert image to uint8 prior to saving to suppress this warning.\n"
          ],
          "name": "stderr"
        },
        {
          "output_type": "stream",
          "text": [
            "(800, 1088, 3)\n"
          ],
          "name": "stdout"
        },
        {
          "output_type": "stream",
          "text": [
            "WARNING:root:Lossy conversion from float64 to uint8. Range [0, 1]. Convert image to uint8 prior to saving to suppress this warning.\n"
          ],
          "name": "stderr"
        },
        {
          "output_type": "stream",
          "text": [
            "(856, 1280, 3)\n"
          ],
          "name": "stdout"
        },
        {
          "output_type": "stream",
          "text": [
            "WARNING:root:Lossy conversion from float64 to uint8. Range [0, 1]. Convert image to uint8 prior to saving to suppress this warning.\n",
            "WARNING:root:Lossy conversion from float64 to uint8. Range [0, 1]. Convert image to uint8 prior to saving to suppress this warning.\n"
          ],
          "name": "stderr"
        },
        {
          "output_type": "stream",
          "text": [
            "(528, 736, 3)\n",
            "(856, 1280, 3)\n"
          ],
          "name": "stdout"
        },
        {
          "output_type": "stream",
          "text": [
            "WARNING:root:Lossy conversion from float64 to uint8. Range [0, 1]. Convert image to uint8 prior to saving to suppress this warning.\n"
          ],
          "name": "stderr"
        },
        {
          "output_type": "stream",
          "text": [
            "(1400, 1400, 3)\n"
          ],
          "name": "stdout"
        },
        {
          "output_type": "stream",
          "text": [
            "WARNING:root:Lossy conversion from float64 to uint8. Range [0, 1]. Convert image to uint8 prior to saving to suppress this warning.\n"
          ],
          "name": "stderr"
        },
        {
          "output_type": "stream",
          "text": [
            "(664, 1024, 3)\n"
          ],
          "name": "stdout"
        },
        {
          "output_type": "stream",
          "text": [
            "WARNING:root:Lossy conversion from float64 to uint8. Range [0, 1]. Convert image to uint8 prior to saving to suppress this warning.\n"
          ],
          "name": "stderr"
        },
        {
          "output_type": "stream",
          "text": [
            "(776, 1024, 3)\n"
          ],
          "name": "stdout"
        },
        {
          "output_type": "stream",
          "text": [
            "WARNING:root:Lossy conversion from float64 to uint8. Range [0, 1]. Convert image to uint8 prior to saving to suppress this warning.\n"
          ],
          "name": "stderr"
        },
        {
          "output_type": "stream",
          "text": [
            "(856, 1280, 3)\n"
          ],
          "name": "stdout"
        },
        {
          "output_type": "stream",
          "text": [
            "WARNING:root:Lossy conversion from float64 to uint8. Range [0, 1]. Convert image to uint8 prior to saving to suppress this warning.\n",
            "WARNING:root:Lossy conversion from float64 to uint8. Range [0, 1]. Convert image to uint8 prior to saving to suppress this warning.\n"
          ],
          "name": "stderr"
        },
        {
          "output_type": "stream",
          "text": [
            "(424, 640, 3)\n",
            "(984, 1176, 3)\n"
          ],
          "name": "stdout"
        },
        {
          "output_type": "stream",
          "text": [
            "WARNING:root:Lossy conversion from float64 to uint8. Range [0, 1]. Convert image to uint8 prior to saving to suppress this warning.\n",
            "WARNING:root:Lossy conversion from float64 to uint8. Range [0, 1]. Convert image to uint8 prior to saving to suppress this warning.\n"
          ],
          "name": "stderr"
        },
        {
          "output_type": "stream",
          "text": [
            "(512, 768, 3)\n",
            "(856, 1280, 3)\n"
          ],
          "name": "stdout"
        },
        {
          "output_type": "stream",
          "text": [
            "WARNING:root:Lossy conversion from float64 to uint8. Range [0, 1]. Convert image to uint8 prior to saving to suppress this warning.\n"
          ],
          "name": "stderr"
        },
        {
          "output_type": "stream",
          "text": [
            "\b\b\b\b\b\b\b\b\b\b\b\b\b\b\b\b\b\b\b\b\b\b\b\b\b\b\b\b\b\b\b\b\b\b\b\b\b\b\b\b\b\b\b\b\b\b\b\b\b\b\b\b\b\b\b\b\b\b\b\b\b\b\b\b\b\b\b\b\b\b\b\b\b\b\b\b\b\b\b\b\b\b\r31/31 [==============================] - 37s 1s/step - loss: 0.0027 - accuracy: 0.8305 - val_loss: 182.2307 - val_accuracy: 0.5430\n",
            "Epoch 992/1000\n",
            "31/31 [==============================] - 23s 741ms/step - loss: 0.0027 - accuracy: 0.8311 - val_loss: 181.9913 - val_accuracy: 0.5123\n",
            "Epoch 993/1000\n",
            "31/31 [==============================] - 23s 753ms/step - loss: 0.0027 - accuracy: 0.8317 - val_loss: 181.7572 - val_accuracy: 0.5663\n",
            "Epoch 994/1000\n",
            "31/31 [==============================] - 23s 750ms/step - loss: 0.0032 - accuracy: 0.8245 - val_loss: 180.3407 - val_accuracy: 0.5955\n",
            "Epoch 995/1000\n",
            "31/31 [==============================] - 23s 744ms/step - loss: 0.0026 - accuracy: 0.8349 - val_loss: 181.1897 - val_accuracy: 0.5791\n",
            "Epoch 996/1000\n",
            "31/31 [==============================] - 23s 749ms/step - loss: 0.0027 - accuracy: 0.8325 - val_loss: 180.6030 - val_accuracy: 0.5653\n",
            "Epoch 997/1000\n",
            "31/31 [==============================] - 23s 744ms/step - loss: 0.0027 - accuracy: 0.8332 - val_loss: 181.3376 - val_accuracy: 0.5388\n",
            "Epoch 998/1000\n",
            "31/31 [==============================] - 23s 741ms/step - loss: 0.0029 - accuracy: 0.8321 - val_loss: 182.0481 - val_accuracy: 0.5248\n",
            "Epoch 999/1000\n",
            "31/31 [==============================] - 23s 739ms/step - loss: 0.0027 - accuracy: 0.8283 - val_loss: 181.4448 - val_accuracy: 0.5383\n",
            "Epoch 1000/1000\n",
            "31/31 [==============================] - 23s 741ms/step - loss: 0.0027 - accuracy: 0.8353 - val_loss: 182.3492 - val_accuracy: 0.5216\n"
          ],
          "name": "stdout"
        },
        {
          "output_type": "execute_result",
          "data": {
            "text/plain": [
              "<tensorflow.python.keras.callbacks.History at 0x7f4a43e8b198>"
            ]
          },
          "metadata": {
            "tags": []
          },
          "execution_count": 9
        }
      ]
    },
    {
      "cell_type": "code",
      "metadata": {
        "id": "XGoRuvmS66Ab",
        "colab": {
          "base_uri": "https://localhost:8080/",
          "height": 391
        },
        "outputId": "3e747cb4-0358-4113-eeba-85bfeddb9dd6"
      },
      "source": [
        "plt.figure(figsize=(14,6))\n",
        "sns.lineplot(data = {'accuracy':history.history['accuracy'], 'val_accuracy' : history.history['val_accuracy']})\n"
      ],
      "execution_count": null,
      "outputs": [
        {
          "output_type": "execute_result",
          "data": {
            "text/plain": [
              "<matplotlib.axes._subplots.AxesSubplot at 0x7f499a3f8d68>"
            ]
          },
          "metadata": {
            "tags": []
          },
          "execution_count": 23
        },
        {
          "output_type": "display_data",
          "data": {
            "image/png": "[encoded data removed]",
            "text/plain": [
              "<Figure size 1008x432 with 1 Axes>"
            ]
          },
          "metadata": {
            "tags": [],
            "needs_background": "light"
          }
        }
      ]
    },
    {
      "cell_type": "code",
      "metadata": {
        "colab": {
          "base_uri": "https://localhost:8080/",
          "height": 391
        },
        "id": "USzUNsV3RqOD",
        "outputId": "5009961e-d184-42c7-98e7-8f084e90cafb"
      },
      "source": [
        "plt.figure(figsize=(14,6))\r\n",
        "sns.lineplot(data = {'loss':history.history['loss']})\r\n",
        "sns.lineplot(data = {'val_loss' : history.history['val_loss']})"
      ],
      "execution_count": null,
      "outputs": [
        {
          "output_type": "execute_result",
          "data": {
            "text/plain": [
              "<matplotlib.axes._subplots.AxesSubplot at 0x7f499a3aa6a0>"
            ]
          },
          "metadata": {
            "tags": []
          },
          "execution_count": 20
        },
        {
          "output_type": "display_data",
          "data": {
            "image/png": "[encoded data removed]",
            "text/plain": [
              "<Figure size 1008x432 with 1 Axes>"
            ]
          },
          "metadata": {
            "tags": [],
            "needs_background": "light"
          }
        }
      ]
    },
    {
      "cell_type": "code",
      "metadata": {
        "id": "DrIfhZUl-_bh",
        "colab": {
          "base_uri": "https://localhost:8080/"
        },
        "outputId": "dcbc02e1-4f96-4d84-a349-93260ac6d8bf"
      },
      "source": [
        "\n",
        "testHistory = model.evaluate(Xtest, Ytest, batch_size=batch_size)\n",
        "print(testHistory)"
      ],
      "execution_count": null,
      "outputs": [
        {
          "output_type": "stream",
          "text": [
            "2/2 [==============================] - 1s 407ms/step - loss: 182.3492 - accuracy: 0.5216\n",
            "[182.34918212890625, 0.5216119289398193]\n"
          ],
          "name": "stdout"
        }
      ]
    },
    {
      "cell_type": "code",
      "metadata": {
        "id": "DZW75pMUbz7q"
      },
      "source": [
        "#/content/drive/MyDrive/300epch/\n",
        "model_json = model.to_json()\n",
        "with open(\"/content/model.json\", \"w\") as json_file:\n",
        "    json_file.write(model_json)\n",
        "model.save_weights(\"/content/model.h5\")"
      ],
      "execution_count": null,
      "outputs": []
    },
    {
      "cell_type": "code",
      "metadata": {
        "id": "kx9X8MeHZTLo",
        "colab": {
          "base_uri": "https://localhost:8080/",
          "height": 52
        },
        "outputId": "01474941-b0e5-45ba-bd0f-3e98ad98ae8d"
      },
      "source": [
        "'''model_json = model.to_json()\n",
        "with open(\"/content/drive/MyDrive/best_model/model.json\", \"w\") as json_file:\n",
        "    json_file.write(model_json)\n",
        "model.save_weights(\"/content/drive/MyDrive/best_model/model.h5\")'''"
      ],
      "execution_count": null,
      "outputs": [
        {
          "output_type": "execute_result",
          "data": {
            "application/vnd.google.colaboratory.intrinsic+json": {
              "type": "string"
            },
            "text/plain": [
              "'model_json = model.to_json()\\nwith open(\"/content/drive/MyDrive/best_model/model.json\", \"w\") as json_file:\\n    json_file.write(model_json)\\nmodel.save_weights(\"/content/drive/MyDrive/best_model/model.h5\")'"
            ]
          },
          "metadata": {
            "tags": []
          },
          "execution_count": 13
        }
      ]
    },
    {
      "cell_type": "code",
      "metadata": {
        "id": "xWgcmSv1h5lA",
        "colab": {
          "base_uri": "https://localhost:8080/"
        },
        "outputId": "ee8f23df-15a3-4834-9c18-f11b37dfa81f"
      },
      "source": [
        "if not os.path.exists(\"result\"):\n",
        "   os.mkdir(\"result\")\n",
        "for name in os.listdir('/content/input/test/'):\n",
        "    if name == \"385838b7.jpg\" or name == \"323360-Palmy-u-dvortsa-Ordzhonikidze.jpg\":\n",
        "      colorizeImage('/content/input/test/' + name, shape = (512,768))\n",
        "      continue\n",
        "    colorizeImage('/content/input/test/' + name)"
      ],
      "execution_count": null,
      "outputs": [
        {
          "output_type": "stream",
          "text": [
            "WARNING:root:Lossy conversion from float64 to uint8. Range [0, 1]. Convert image to uint8 prior to saving to suppress this warning.\n"
          ],
          "name": "stderr"
        },
        {
          "output_type": "stream",
          "text": [
            "(512, 768, 3)\n",
            "(800, 1088, 3)\n"
          ],
          "name": "stdout"
        },
        {
          "output_type": "stream",
          "text": [
            "WARNING:root:Lossy conversion from float64 to uint8. Range [0, 1]. Convert image to uint8 prior to saving to suppress this warning.\n"
          ],
          "name": "stderr"
        },
        {
          "output_type": "stream",
          "text": [
            "(856, 1280, 3)\n"
          ],
          "name": "stdout"
        },
        {
          "output_type": "stream",
          "text": [
            "WARNING:root:Lossy conversion from float64 to uint8. Range [0, 1]. Convert image to uint8 prior to saving to suppress this warning.\n",
            "WARNING:root:Lossy conversion from float64 to uint8. Range [0, 1]. Convert image to uint8 prior to saving to suppress this warning.\n"
          ],
          "name": "stderr"
        },
        {
          "output_type": "stream",
          "text": [
            "(528, 736, 3)\n",
            "(856, 1280, 3)\n"
          ],
          "name": "stdout"
        },
        {
          "output_type": "stream",
          "text": [
            "WARNING:root:Lossy conversion from float64 to uint8. Range [0, 1]. Convert image to uint8 prior to saving to suppress this warning.\n"
          ],
          "name": "stderr"
        },
        {
          "output_type": "stream",
          "text": [
            "(1400, 1400, 3)\n"
          ],
          "name": "stdout"
        },
        {
          "output_type": "stream",
          "text": [
            "WARNING:root:Lossy conversion from float64 to uint8. Range [0, 1]. Convert image to uint8 prior to saving to suppress this warning.\n"
          ],
          "name": "stderr"
        },
        {
          "output_type": "stream",
          "text": [
            "(664, 1024, 3)\n"
          ],
          "name": "stdout"
        },
        {
          "output_type": "stream",
          "text": [
            "WARNING:root:Lossy conversion from float64 to uint8. Range [0, 1]. Convert image to uint8 prior to saving to suppress this warning.\n"
          ],
          "name": "stderr"
        },
        {
          "output_type": "stream",
          "text": [
            "(776, 1024, 3)\n"
          ],
          "name": "stdout"
        },
        {
          "output_type": "stream",
          "text": [
            "WARNING:root:Lossy conversion from float64 to uint8. Range [0, 1]. Convert image to uint8 prior to saving to suppress this warning.\n"
          ],
          "name": "stderr"
        },
        {
          "output_type": "stream",
          "text": [
            "(856, 1280, 3)\n"
          ],
          "name": "stdout"
        },
        {
          "output_type": "stream",
          "text": [
            "WARNING:root:Lossy conversion from float64 to uint8. Range [0, 1]. Convert image to uint8 prior to saving to suppress this warning.\n",
            "WARNING:root:Lossy conversion from float64 to uint8. Range [0, 1]. Convert image to uint8 prior to saving to suppress this warning.\n"
          ],
          "name": "stderr"
        },
        {
          "output_type": "stream",
          "text": [
            "(424, 640, 3)\n",
            "(984, 1176, 3)\n"
          ],
          "name": "stdout"
        },
        {
          "output_type": "stream",
          "text": [
            "WARNING:root:Lossy conversion from float64 to uint8. Range [0, 1]. Convert image to uint8 prior to saving to suppress this warning.\n",
            "/usr/local/lib/python3.6/dist-packages/skimage/color/colorconv.py:1068: UserWarning: Color data out of range: Z < 0 in 2 pixels\n",
            "  return xyz2rgb(lab2xyz(lab, illuminant, observer))\n",
            "WARNING:root:Lossy conversion from float64 to uint8. Range [0, 1]. Convert image to uint8 prior to saving to suppress this warning.\n"
          ],
          "name": "stderr"
        },
        {
          "output_type": "stream",
          "text": [
            "(512, 768, 3)\n",
            "(856, 1280, 3)\n"
          ],
          "name": "stdout"
        },
        {
          "output_type": "stream",
          "text": [
            "WARNING:root:Lossy conversion from float64 to uint8. Range [0, 1]. Convert image to uint8 prior to saving to suppress this warning.\n"
          ],
          "name": "stderr"
        }
      ]
    },
    {
      "cell_type": "code",
      "metadata": {
        "id": "AActZTi_bskM"
      },
      "source": [
        ""
      ],
      "execution_count": null,
      "outputs": []
    }
  ]
}